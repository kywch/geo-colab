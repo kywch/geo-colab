{
  "nbformat": 4,
  "nbformat_minor": 0,
  "metadata": {
    "kernelspec": {
      "display_name": "Python 3",
      "language": "python",
      "name": "python3"
    },
    "language_info": {
      "codemirror_mode": {
        "name": "ipython",
        "version": 3
      },
      "file_extension": ".py",
      "mimetype": "text/x-python",
      "name": "python",
      "nbconvert_exporter": "python",
      "pygments_lexer": "ipython3",
      "version": "3.6.8"
    },
    "colab": {
      "name": "SafeGraph-social-distancing-process_one_day.ipynb",
      "provenance": [],
      "toc_visible": true,
      "include_colab_link": true
    }
  },
  "cells": [
    {
      "cell_type": "markdown",
      "metadata": {
        "id": "view-in-github",
        "colab_type": "text"
      },
      "source": [
        "<a href=\"https://colab.research.google.com/github/kywch/geo-colab/blob/master/SafeGraph-visit-trend-by-category.ipynb\" target=\"_parent\"><img src=\"https://colab.research.google.com/assets/colab-badge.svg\" alt=\"Open In Colab\"/></a>"
      ]
    },
    {
      "cell_type": "code",
      "metadata": {
        "id": "KuRSKxAC-lNE",
        "colab_type": "code",
        "colab": {}
      },
      "source": [
        "import pandas as pd\n",
        "import numpy as np\n",
        "import gzip as gz\n",
        "import os\n",
        "from pathlib import Path\n",
        "import json\n",
        "import matplotlib.pyplot as plt\n",
        "\n",
        "from glob import glob\n",
        "import time\n",
        "\n",
        "import os\n",
        "from shutil import copyfile, copytree"
      ],
      "execution_count": 1,
      "outputs": []
    },
    {
      "cell_type": "markdown",
      "metadata": {
        "id": "XwcjIi7T-xxK",
        "colab_type": "text"
      },
      "source": [
        "## Load the SafeGraph data from Google Drive\n",
        "Load visit patterns from march-june 2019 for the desired place types, keep places that have data for entire march-june range\n",
        "* places\n",
        "* cbg_pop\n",
        "* patterns_2019"
      ]
    },
    {
      "cell_type": "code",
      "metadata": {
        "id": "CeQM_zpb_KSB",
        "colab_type": "code",
        "colab": {
          "base_uri": "https://localhost:8080/",
          "height": 34
        },
        "outputId": "e787e47f-0958-4a47-d45b-6c3077a8a09a"
      },
      "source": [
        "from google.colab import drive\n",
        "drive.mount('/content/drive')"
      ],
      "execution_count": 2,
      "outputs": [
        {
          "output_type": "stream",
          "text": [
            "Mounted at /content/drive\n"
          ],
          "name": "stdout"
        }
      ]
    },
    {
      "cell_type": "code",
      "metadata": {
        "id": "WeE8xloE_Xdz",
        "colab_type": "code",
        "colab": {
          "base_uri": "https://localhost:8080/",
          "height": 105
        },
        "outputId": "5896959c-ec7a-4356-d1ac-aaf0f6ab7d46"
      },
      "source": [
        "!ls drive/My\\ Drive/SafeGraph"
      ],
      "execution_count": 22,
      "outputs": [
        {
          "output_type": "stream",
          "text": [
            " census_vs_safegraph_IL.csv    places\t\t\t weekly\n",
            "'Data Science Resources.url'  'Places Schema.url'\t'Weekly Patterns.url'\n",
            " historic\t\t       places_v3_safegraph.csv\t weekly_v2\n",
            " monthly\t\t       social-distancing\n",
            " Patterns_NE-IL_2019.csv       vis_2020\n"
          ],
          "name": "stdout"
        }
      ]
    },
    {
      "cell_type": "code",
      "metadata": {
        "id": "vRYOsFTK_oJi",
        "colab_type": "code",
        "colab": {
          "base_uri": "https://localhost:8080/",
          "height": 54
        },
        "outputId": "5fbc6598-9538-4fa1-f037-3eb8deae2f97"
      },
      "source": [
        "# grab the SafeGraph core places\n",
        "files = glob(\"drive/My Drive/SafeGraph/*.csv*\")\n",
        "print(files)"
      ],
      "execution_count": 72,
      "outputs": [
        {
          "output_type": "stream",
          "text": [
            "['drive/My Drive/SafeGraph/places_v3_safegraph.csv', 'drive/My Drive/SafeGraph/census_vs_safegraph_IL.csv', 'drive/My Drive/SafeGraph/Patterns_NE-IL_2019.csv.gz']\n"
          ],
          "name": "stdout"
        }
      ]
    },
    {
      "cell_type": "code",
      "metadata": {
        "id": "-lBWKPABS92a",
        "colab_type": "code",
        "colab": {}
      },
      "source": [
        "if not os.path.exists('sg_data'):\n",
        "  os.mkdir('sg_data')"
      ],
      "execution_count": 73,
      "outputs": []
    },
    {
      "cell_type": "code",
      "metadata": {
        "id": "fZhhoKKWU3FY",
        "colab_type": "code",
        "colab": {
          "base_uri": "https://localhost:8080/",
          "height": 70
        },
        "outputId": "dbb0a541-5b01-4694-e87a-7d967cc81793"
      },
      "source": [
        "# copy these files from Google Drive to colab disk\n",
        "for f in files:\n",
        "  print(f)\n",
        "  copyfile(f, 'sg_data/' + os.path.basename(f))"
      ],
      "execution_count": 74,
      "outputs": [
        {
          "output_type": "stream",
          "text": [
            "drive/My Drive/SafeGraph/places_v3_safegraph.csv\n",
            "drive/My Drive/SafeGraph/census_vs_safegraph_IL.csv\n",
            "drive/My Drive/SafeGraph/Patterns_NE-IL_2019.csv.gz\n"
          ],
          "name": "stdout"
        }
      ]
    },
    {
      "cell_type": "code",
      "metadata": {
        "id": "KpI1kIskCa-H",
        "colab_type": "code",
        "colab": {
          "base_uri": "https://localhost:8080/",
          "height": 34
        },
        "outputId": "6b95163f-5e52-4bd8-ab5f-f298ebf711b9"
      },
      "source": [
        "#!ls sg_data\n",
        "local_files = glob(\"sg_data/*.csv*\")\n",
        "print(local_files)"
      ],
      "execution_count": 77,
      "outputs": [
        {
          "output_type": "stream",
          "text": [
            "['sg_data/places_v3_safegraph.csv', 'sg_data/Patterns_NE-IL_2019.csv.gz', 'sg_data/census_vs_safegraph_IL.csv']\n"
          ],
          "name": "stdout"
        }
      ]
    },
    {
      "cell_type": "code",
      "metadata": {
        "id": "uEu_2xy5AIU4",
        "colab_type": "code",
        "colab": {
          "base_uri": "https://localhost:8080/",
          "height": 318
        },
        "outputId": "4dd92404-fdd3-4225-8a67-6d08abb50ec5"
      },
      "source": [
        "place_df = pd.read_csv(local_files[0])\n",
        "place_df.info()"
      ],
      "execution_count": 78,
      "outputs": [
        {
          "output_type": "stream",
          "text": [
            "<class 'pandas.core.frame.DataFrame'>\n",
            "RangeIndex: 74782 entries, 0 to 74781\n",
            "Data columns (total 10 columns):\n",
            " #   Column              Non-Null Count  Dtype  \n",
            "---  ------              --------------  -----  \n",
            " 0   numeric_id          74782 non-null  int64  \n",
            " 1   place_id            74782 non-null  object \n",
            " 2   place_type          74782 non-null  object \n",
            " 3   latitude            74782 non-null  float64\n",
            " 4   longitude           74782 non-null  float64\n",
            " 5   name                74782 non-null  object \n",
            " 6   zipcode             74782 non-null  int64  \n",
            " 7   visits_IL           64394 non-null  float64\n",
            " 8   unique_visitors_IL  64394 non-null  float64\n",
            " 9   cbg                 74782 non-null  float64\n",
            "dtypes: float64(5), int64(2), object(3)\n",
            "memory usage: 5.7+ MB\n"
          ],
          "name": "stdout"
        }
      ]
    },
    {
      "cell_type": "code",
      "metadata": {
        "id": "3w5qQqZJ_-aU",
        "colab_type": "code",
        "colab": {
          "base_uri": "https://localhost:8080/",
          "height": 265
        },
        "outputId": "a8ede13f-08df-4f17-a030-2ce7cdd0a9b6"
      },
      "source": [
        "place_types = [key for key in place_df['place_type'].value_counts().keys()]\n",
        "place_types"
      ],
      "execution_count": 79,
      "outputs": [
        {
          "output_type": "execute_result",
          "data": {
            "text/plain": [
              "['restaurant',\n",
              " 'clinic',\n",
              " 'recreation',\n",
              " 'store',\n",
              " 'worship',\n",
              " 'pharmacy',\n",
              " 'daycare',\n",
              " 'supermarket',\n",
              " 'convenience store',\n",
              " 'long term care',\n",
              " 'library',\n",
              " 'bar',\n",
              " 'museum',\n",
              " 'hospital']"
            ]
          },
          "metadata": {
            "tags": []
          },
          "execution_count": 79
        }
      ]
    },
    {
      "cell_type": "code",
      "metadata": {
        "id": "msXJpYcKA8q8",
        "colab_type": "code",
        "colab": {}
      },
      "source": [
        "# Exrtact desired place types from v3 safegraph places file (7 county area)\n",
        "places = place_df[['place_id', 'place_type']]"
      ],
      "execution_count": 80,
      "outputs": []
    },
    {
      "cell_type": "code",
      "metadata": {
        "id": "6yCNOS_rBp8y",
        "colab_type": "code",
        "colab": {
          "base_uri": "https://localhost:8080/",
          "height": 34
        },
        "outputId": "ef51e07a-46d9-4d6e-f272-8565cac1bff7"
      },
      "source": [
        "# Load cbg population vs safegraph devices\n",
        "cbg_pop = pd.read_csv(local_files[2]) # https://anl.box.com/s/k2e7e833gfekqsihaachbj9pfsshhc2g\n",
        "cbg_pop = cbg_pop[cbg_pop['state'] == 'IL'] # base table has a few non-IL cbgs\n",
        "print(\"Number of IL cbgs (should be 9691): {}\".format(len(cbg_pop)))"
      ],
      "execution_count": 81,
      "outputs": [
        {
          "output_type": "stream",
          "text": [
            "Number of IL cbgs (should be 9691): 9691\n"
          ],
          "name": "stdout"
        }
      ]
    },
    {
      "cell_type": "code",
      "metadata": {
        "id": "MItw_WvPBx6s",
        "colab_type": "code",
        "colab": {}
      },
      "source": [
        "# load 2019 patterns\n",
        "patterns_2019 = pd.read_csv(local_files[1]) # https://anl.box.com/s/zf3xt1cbd6vjs40e9njw91jm1jgkxj83"
      ],
      "execution_count": 88,
      "outputs": []
    },
    {
      "cell_type": "code",
      "metadata": {
        "id": "J1rY2PGaRkDc",
        "colab_type": "code",
        "colab": {
          "base_uri": "https://localhost:8080/",
          "height": 34
        },
        "outputId": "36542270-9e7b-4178-8482-61cbe97ddff2"
      },
      "source": [
        "len(patterns_2019)"
      ],
      "execution_count": 89,
      "outputs": [
        {
          "output_type": "execute_result",
          "data": {
            "text/plain": [
              "1233810"
            ]
          },
          "metadata": {
            "tags": []
          },
          "execution_count": 89
        }
      ]
    },
    {
      "cell_type": "code",
      "metadata": {
        "id": "uhCvRXCaCE_U",
        "colab_type": "code",
        "colab": {}
      },
      "source": [
        "# keep patterns for the selected place types only\n",
        "patterns_2019 = patterns_2019.merge(places, left_on = 'safegraph_place_id', right_on = 'place_id')"
      ],
      "execution_count": 90,
      "outputs": []
    },
    {
      "cell_type": "code",
      "metadata": {
        "id": "T8icNZvjB7NK",
        "colab_type": "code",
        "colab": {}
      },
      "source": [
        "months = [3, 4, 5, 6, 7, 8] # march-august\n",
        "\n",
        "# extract month from safegraph date range \n",
        "def get_month(date):\n",
        "    ymd = date.split('-')\n",
        "    day = int(ymd[2].split('T')[0])\n",
        "    if day != 1:\n",
        "        print('date range not starting with 1st of month')\n",
        "    return int(ymd[1]) # month"
      ],
      "execution_count": 91,
      "outputs": []
    },
    {
      "cell_type": "code",
      "metadata": {
        "id": "kPFFLSsKB7UQ",
        "colab_type": "code",
        "colab": {}
      },
      "source": [
        "patterns_2019['month'] = patterns_2019['date_range_start'].apply(get_month)\n",
        "# keep only march-june patterns\n",
        "patterns_2019 = patterns_2019[patterns_2019['month'].isin(months)]\n",
        "#keep only for places that have data for entire march-june period\n",
        "counts = patterns_2019.groupby('safegraph_place_id').count()\n",
        "counts = counts[counts['month'] == len(months)]\n",
        "patterns_2019_flt = patterns_2019[patterns_2019['safegraph_place_id'].isin(counts.index)]"
      ],
      "execution_count": 92,
      "outputs": []
    },
    {
      "cell_type": "code",
      "metadata": {
        "id": "ppyo6PBpB7Xd",
        "colab_type": "code",
        "colab": {
          "base_uri": "https://localhost:8080/",
          "height": 34
        },
        "outputId": "94dc8c65-ab7f-441c-db43-bc00d01a4862"
      },
      "source": [
        "len(patterns_2019_flt)"
      ],
      "execution_count": 93,
      "outputs": [
        {
          "output_type": "execute_result",
          "data": {
            "text/plain": [
              "349962"
            ]
          },
          "metadata": {
            "tags": []
          },
          "execution_count": 93
        }
      ]
    },
    {
      "cell_type": "markdown",
      "metadata": {
        "id": "ez-VK0pDCTwC",
        "colab_type": "text"
      },
      "source": [
        "# Do the same for march-june 2020 visit patterns"
      ]
    },
    {
      "cell_type": "code",
      "metadata": {
        "id": "5SrElS1LB7aO",
        "colab_type": "code",
        "colab": {
          "base_uri": "https://localhost:8080/",
          "height": 54
        },
        "outputId": "5acbabdc-cb1a-4544-ee0c-6de60b617c2b"
      },
      "source": [
        "# monthly patterns file in the Google drive\n",
        "print(glob(\"drive/My Drive/SafeGraph/vis_2020/*/*.csv.gz\"))"
      ],
      "execution_count": 96,
      "outputs": [
        {
          "output_type": "stream",
          "text": [
            "['drive/My Drive/SafeGraph/vis_2020/08/patterns-part1.csv.gz', 'drive/My Drive/SafeGraph/vis_2020/08/patterns-part2.csv.gz', 'drive/My Drive/SafeGraph/vis_2020/08/patterns-part3.csv.gz', 'drive/My Drive/SafeGraph/vis_2020/08/patterns-part4.csv.gz', 'drive/My Drive/SafeGraph/vis_2020/07/patterns-part1.csv.gz', 'drive/My Drive/SafeGraph/vis_2020/07/patterns-part2.csv.gz', 'drive/My Drive/SafeGraph/vis_2020/07/patterns-part3.csv.gz', 'drive/My Drive/SafeGraph/vis_2020/07/patterns-part4.csv.gz', 'drive/My Drive/SafeGraph/vis_2020/06/patterns-part1.csv.gz', 'drive/My Drive/SafeGraph/vis_2020/06/patterns-part2.csv.gz', 'drive/My Drive/SafeGraph/vis_2020/06/patterns-part3.csv.gz', 'drive/My Drive/SafeGraph/vis_2020/06/patterns-part4.csv.gz', 'drive/My Drive/SafeGraph/vis_2020/05/patterns-part2.csv.gz', 'drive/My Drive/SafeGraph/vis_2020/05/patterns-part1.csv.gz', 'drive/My Drive/SafeGraph/vis_2020/05/patterns-part4.csv.gz', 'drive/My Drive/SafeGraph/vis_2020/05/patterns-part3.csv.gz', 'drive/My Drive/SafeGraph/vis_2020/04/patterns-part1.csv.gz', 'drive/My Drive/SafeGraph/vis_2020/04/patterns-part2.csv.gz', 'drive/My Drive/SafeGraph/vis_2020/04/patterns-part4.csv.gz', 'drive/My Drive/SafeGraph/vis_2020/04/patterns-part3.csv.gz', 'drive/My Drive/SafeGraph/vis_2020/03/patterns-part1.csv.gz', 'drive/My Drive/SafeGraph/vis_2020/03/patterns-part2.csv.gz', 'drive/My Drive/SafeGraph/vis_2020/03/patterns-part3.csv.gz', 'drive/My Drive/SafeGraph/vis_2020/03/patterns-part4.csv.gz']\n"
          ],
          "name": "stdout"
        }
      ]
    },
    {
      "cell_type": "code",
      "metadata": {
        "id": "6hGl_u9UB7c1",
        "colab_type": "code",
        "colab": {
          "base_uri": "https://localhost:8080/",
          "height": 35
        },
        "outputId": "8b1dd1a4-6788-431a-9e88-e8accfd24bbc"
      },
      "source": [
        "# copy these files from Google Drive to colab disk\n",
        "copytree(\"drive/My Drive/SafeGraph/vis_2020\", \"vis_2020\")"
      ],
      "execution_count": 34,
      "outputs": [
        {
          "output_type": "execute_result",
          "data": {
            "application/vnd.google.colaboratory.intrinsic+json": {
              "type": "string"
            },
            "text/plain": [
              "'vis_2020'"
            ]
          },
          "metadata": {
            "tags": []
          },
          "execution_count": 34
        }
      ]
    },
    {
      "cell_type": "code",
      "metadata": {
        "id": "Ib2f7JSfObsv",
        "colab_type": "code",
        "colab": {
          "base_uri": "https://localhost:8080/",
          "height": 34
        },
        "outputId": "d8468546-0643-4fa7-c4f7-30ad41eb5f6f"
      },
      "source": [
        "!ls"
      ],
      "execution_count": 95,
      "outputs": [
        {
          "output_type": "stream",
          "text": [
            "drive  sample_data  sg_data  vis_2020\n"
          ],
          "name": "stdout"
        }
      ]
    },
    {
      "cell_type": "code",
      "metadata": {
        "id": "Q4cMFt1FM0Nm",
        "colab_type": "code",
        "colab": {
          "base_uri": "https://localhost:8080/",
          "height": 54
        },
        "outputId": "794723be-0933-46c6-866d-6dec0164019c"
      },
      "source": [
        "# This code directly extracts data from raw .csv.gz patterns files, for the place types defined at the beginning\n",
        "# Download files from here- https://catalog.safegraph.io/app/browse\n",
        "#   From Monthly Patterns Jan 2018 - Apr 2020: download subfolders 2020/03 and 2020/04\n",
        "#   From Montnly Patterns May 2020- Present: download everything (confusing folder structure, couldn't isolate may and june)\n",
        "# Dump all the files in one folder and set the path accordingly on the line below\n",
        "rootdir = Path('vis_2020')\n",
        "# Return a list of regular files only, not directories\n",
        "file_list = [f for f in rootdir.glob('**/*.csv.gz') if f.is_file()]\n",
        "print(file_list)"
      ],
      "execution_count": 106,
      "outputs": [
        {
          "output_type": "stream",
          "text": [
            "[PosixPath('vis_2020/07/patterns-part2.csv.gz'), PosixPath('vis_2020/07/patterns-part3.csv.gz'), PosixPath('vis_2020/07/patterns-part1.csv.gz'), PosixPath('vis_2020/07/patterns-part4.csv.gz'), PosixPath('vis_2020/05/patterns-part2.csv.gz'), PosixPath('vis_2020/05/patterns-part3.csv.gz'), PosixPath('vis_2020/05/patterns-part1.csv.gz'), PosixPath('vis_2020/05/patterns-part4.csv.gz'), PosixPath('vis_2020/06/patterns-part2.csv.gz'), PosixPath('vis_2020/06/patterns-part3.csv.gz'), PosixPath('vis_2020/06/patterns-part1.csv.gz'), PosixPath('vis_2020/06/patterns-part4.csv.gz'), PosixPath('vis_2020/04/patterns-part2.csv.gz'), PosixPath('vis_2020/04/patterns-part3.csv.gz'), PosixPath('vis_2020/04/patterns-part1.csv.gz'), PosixPath('vis_2020/04/patterns-part4.csv.gz'), PosixPath('vis_2020/03/patterns-part2.csv.gz'), PosixPath('vis_2020/03/patterns-part3.csv.gz'), PosixPath('vis_2020/03/patterns-part1.csv.gz'), PosixPath('vis_2020/03/patterns-part4.csv.gz'), PosixPath('vis_2020/08/patterns-part2.csv.gz'), PosixPath('vis_2020/08/patterns-part3.csv.gz'), PosixPath('vis_2020/08/patterns-part1.csv.gz'), PosixPath('vis_2020/08/patterns-part4.csv.gz')]\n"
          ],
          "name": "stdout"
        }
      ]
    },
    {
      "cell_type": "code",
      "metadata": {
        "id": "BVcPOvQzM0Q0",
        "colab_type": "code",
        "colab": {
          "base_uri": "https://localhost:8080/",
          "height": 443
        },
        "outputId": "e80a207f-0782-401f-8fce-ad20870379c7"
      },
      "source": [
        "patterns_2020 = pd.DataFrame()\n",
        "\n",
        "for fl in file_list:\n",
        "    print(fl)\n",
        "    part = pd.read_csv(fl)\n",
        "    \n",
        "    # keep patterns for the selected place types only\n",
        "    part = part.merge(places, left_on = 'safegraph_place_id', right_on = 'place_id')\n",
        "    part['month'] = part['date_range_start'].apply(get_month)\n",
        "    # keep only march-june patterns\n",
        "    part = part[part['month'].isin(months)]\n",
        "\n",
        "    patterns_2020 = patterns_2020.append(part)"
      ],
      "execution_count": 107,
      "outputs": [
        {
          "output_type": "stream",
          "text": [
            "vis_2020/07/patterns-part2.csv.gz\n",
            "vis_2020/07/patterns-part3.csv.gz\n",
            "vis_2020/07/patterns-part1.csv.gz\n",
            "vis_2020/07/patterns-part4.csv.gz\n",
            "vis_2020/05/patterns-part2.csv.gz\n",
            "vis_2020/05/patterns-part3.csv.gz\n",
            "vis_2020/05/patterns-part1.csv.gz\n",
            "vis_2020/05/patterns-part4.csv.gz\n",
            "vis_2020/06/patterns-part2.csv.gz\n",
            "vis_2020/06/patterns-part3.csv.gz\n",
            "vis_2020/06/patterns-part1.csv.gz\n",
            "vis_2020/06/patterns-part4.csv.gz\n",
            "vis_2020/04/patterns-part2.csv.gz\n",
            "vis_2020/04/patterns-part3.csv.gz\n",
            "vis_2020/04/patterns-part1.csv.gz\n",
            "vis_2020/04/patterns-part4.csv.gz\n",
            "vis_2020/03/patterns-part2.csv.gz\n",
            "vis_2020/03/patterns-part3.csv.gz\n",
            "vis_2020/03/patterns-part1.csv.gz\n",
            "vis_2020/03/patterns-part4.csv.gz\n",
            "vis_2020/08/patterns-part2.csv.gz\n",
            "vis_2020/08/patterns-part3.csv.gz\n",
            "vis_2020/08/patterns-part1.csv.gz\n",
            "vis_2020/08/patterns-part4.csv.gz\n"
          ],
          "name": "stdout"
        }
      ]
    },
    {
      "cell_type": "code",
      "metadata": {
        "id": "HLlPbS7-QNsR",
        "colab_type": "code",
        "colab": {}
      },
      "source": [
        "#keep only for places that have data for entire march-june period\n",
        "counts = patterns_2020.groupby('safegraph_place_id').count()\n",
        "counts = counts[counts['month'] == len(months)]\n",
        "patterns_2020_flt = patterns_2020[patterns_2020['safegraph_place_id'].isin(counts.index)]\n",
        "patterns_2020_flt.to_csv('patterns_covid.csv.gz', compression='gzip')"
      ],
      "execution_count": 109,
      "outputs": []
    },
    {
      "cell_type": "code",
      "metadata": {
        "id": "POvmeHMoQNyL",
        "colab_type": "code",
        "colab": {
          "base_uri": "https://localhost:8080/",
          "height": 34
        },
        "outputId": "09cd6aed-db35-41fa-a0a4-09ba7f0fd0fc"
      },
      "source": [
        "len(patterns_2020_flt)"
      ],
      "execution_count": 110,
      "outputs": [
        {
          "output_type": "execute_result",
          "data": {
            "text/plain": [
              "323298"
            ]
          },
          "metadata": {
            "tags": []
          },
          "execution_count": 110
        }
      ]
    },
    {
      "cell_type": "code",
      "metadata": {
        "id": "a1G_j97EQN1S",
        "colab_type": "code",
        "colab": {
          "base_uri": "https://localhost:8080/",
          "height": 35
        },
        "outputId": "1009c877-2f09-485c-8c48-74ea893308e1"
      },
      "source": [
        "copyfile('patterns_covid.csv.gz', 'drive/My Drive/SafeGraph/patterns_covid.csv.gz')"
      ],
      "execution_count": 111,
      "outputs": [
        {
          "output_type": "execute_result",
          "data": {
            "application/vnd.google.colaboratory.intrinsic+json": {
              "type": "string"
            },
            "text/plain": [
              "'drive/My Drive/SafeGraph/patterns_covid.csv.gz'"
            ]
          },
          "metadata": {
            "tags": []
          },
          "execution_count": 111
        }
      ]
    },
    {
      "cell_type": "code",
      "metadata": {
        "id": "5D2usBPaQNvX",
        "colab_type": "code",
        "colab": {}
      },
      "source": [
        ""
      ],
      "execution_count": null,
      "outputs": []
    },
    {
      "cell_type": "code",
      "metadata": {
        "id": "xDLfXfE3M0WS",
        "colab_type": "code",
        "colab": {}
      },
      "source": [
        ""
      ],
      "execution_count": null,
      "outputs": []
    },
    {
      "cell_type": "code",
      "metadata": {
        "id": "iJcSTak_D7cn",
        "colab_type": "code",
        "colab": {
          "base_uri": "https://localhost:8080/",
          "height": 446
        },
        "outputId": "0c387dcc-a031-4b97-c1f4-9e7f4b683424"
      },
      "source": [
        "place_types = ['restaurant', 'recreation', 'supermarket'] # place types for which to compare visit patterns\n",
        "months = [3, 4, 5, 6] # march-june"
      ],
      "execution_count": null,
      "outputs": [
        {
          "output_type": "stream",
          "text": [
            "<class 'pandas.core.frame.DataFrame'>\n",
            "RangeIndex: 5284986 entries, 0 to 5284985\n",
            "Data columns (total 18 columns):\n",
            " #   Column                     Dtype  \n",
            "---  ------                     -----  \n",
            " 0   safegraph_place_id         object \n",
            " 1   parent_safegraph_place_id  object \n",
            " 2   location_name              object \n",
            " 3   safegraph_brand_ids        object \n",
            " 4   brands                     object \n",
            " 5   top_category               object \n",
            " 6   sub_category               object \n",
            " 7   naics_code                 float64\n",
            " 8   latitude                   float64\n",
            " 9   longitude                  float64\n",
            " 10  street_address             object \n",
            " 11  city                       object \n",
            " 12  region                     object \n",
            " 13  postal_code                int64  \n",
            " 14  iso_country_code           object \n",
            " 15  phone_number               float64\n",
            " 16  open_hours                 object \n",
            " 17  category_tags              object \n",
            "dtypes: float64(4), int64(1), object(13)\n",
            "memory usage: 725.8+ MB\n"
          ],
          "name": "stdout"
        }
      ]
    },
    {
      "cell_type": "code",
      "metadata": {
        "id": "GGhEbbjTD7im",
        "colab_type": "code",
        "colab": {
          "base_uri": "https://localhost:8080/",
          "height": 463
        },
        "outputId": "69e14f7f-c3b0-46dd-88aa-62528fdd1f95"
      },
      "source": [
        "place_df.head()"
      ],
      "execution_count": null,
      "outputs": [
        {
          "output_type": "execute_result",
          "data": {
            "text/html": [
              "<div>\n",
              "<style scoped>\n",
              "    .dataframe tbody tr th:only-of-type {\n",
              "        vertical-align: middle;\n",
              "    }\n",
              "\n",
              "    .dataframe tbody tr th {\n",
              "        vertical-align: top;\n",
              "    }\n",
              "\n",
              "    .dataframe thead th {\n",
              "        text-align: right;\n",
              "    }\n",
              "</style>\n",
              "<table border=\"1\" class=\"dataframe\">\n",
              "  <thead>\n",
              "    <tr style=\"text-align: right;\">\n",
              "      <th></th>\n",
              "      <th>safegraph_place_id</th>\n",
              "      <th>parent_safegraph_place_id</th>\n",
              "      <th>location_name</th>\n",
              "      <th>safegraph_brand_ids</th>\n",
              "      <th>brands</th>\n",
              "      <th>top_category</th>\n",
              "      <th>sub_category</th>\n",
              "      <th>naics_code</th>\n",
              "      <th>latitude</th>\n",
              "      <th>longitude</th>\n",
              "      <th>street_address</th>\n",
              "      <th>city</th>\n",
              "      <th>region</th>\n",
              "      <th>postal_code</th>\n",
              "      <th>iso_country_code</th>\n",
              "      <th>phone_number</th>\n",
              "      <th>open_hours</th>\n",
              "      <th>category_tags</th>\n",
              "    </tr>\n",
              "  </thead>\n",
              "  <tbody>\n",
              "    <tr>\n",
              "      <th>0</th>\n",
              "      <td>sg:00201f75b90b47d3be813562f946d97f</td>\n",
              "      <td>NaN</td>\n",
              "      <td>First Presbyterian Church of Stamford</td>\n",
              "      <td>NaN</td>\n",
              "      <td>NaN</td>\n",
              "      <td>Religious Organizations</td>\n",
              "      <td>Religious Organizations</td>\n",
              "      <td>813110.0</td>\n",
              "      <td>41.062975</td>\n",
              "      <td>-73.538788</td>\n",
              "      <td>1101 Bedford St</td>\n",
              "      <td>Stamford</td>\n",
              "      <td>CT</td>\n",
              "      <td>6905</td>\n",
              "      <td>US</td>\n",
              "      <td>1.203325e+10</td>\n",
              "      <td>{ \"Mon\": [[\"9:00\", \"17:00\"]], \"Tue\": [[\"9:00\",...</td>\n",
              "      <td>NaN</td>\n",
              "    </tr>\n",
              "    <tr>\n",
              "      <th>1</th>\n",
              "      <td>sg:002b991d388c42a3a64db6066f8c4c0e</td>\n",
              "      <td>NaN</td>\n",
              "      <td>El Gran Sabor</td>\n",
              "      <td>NaN</td>\n",
              "      <td>NaN</td>\n",
              "      <td>Restaurants and Other Eating Places</td>\n",
              "      <td>Full-Service Restaurants</td>\n",
              "      <td>722511.0</td>\n",
              "      <td>38.926747</td>\n",
              "      <td>-79.848400</td>\n",
              "      <td>413 Kerens Ave</td>\n",
              "      <td>Elkins</td>\n",
              "      <td>WV</td>\n",
              "      <td>26241</td>\n",
              "      <td>US</td>\n",
              "      <td>1.304637e+10</td>\n",
              "      <td>NaN</td>\n",
              "      <td>Late Night,Latin American Food</td>\n",
              "    </tr>\n",
              "    <tr>\n",
              "      <th>2</th>\n",
              "      <td>sg:002e6e7d2a0642a197e51a44bfce7a3e</td>\n",
              "      <td>NaN</td>\n",
              "      <td>Public Storage</td>\n",
              "      <td>SG_BRAND_1a2e7806afb9c1c7d60fd00219204dde</td>\n",
              "      <td>Public Storage</td>\n",
              "      <td>Lessors of Real Estate</td>\n",
              "      <td>Lessors of Miniwarehouses and Self-Storage Units</td>\n",
              "      <td>531130.0</td>\n",
              "      <td>33.035779</td>\n",
              "      <td>-96.699591</td>\n",
              "      <td>2801 Avenue K</td>\n",
              "      <td>Plano</td>\n",
              "      <td>TX</td>\n",
              "      <td>75074</td>\n",
              "      <td>US</td>\n",
              "      <td>NaN</td>\n",
              "      <td>NaN</td>\n",
              "      <td>NaN</td>\n",
              "    </tr>\n",
              "    <tr>\n",
              "      <th>3</th>\n",
              "      <td>sg:0045ce84ae2847a08abe59b4139f871e</td>\n",
              "      <td>NaN</td>\n",
              "      <td>TravelCenters of America</td>\n",
              "      <td>SG_BRAND_27a15966382ba3e78015b40d2e1fa976</td>\n",
              "      <td>TravelCenters of America</td>\n",
              "      <td>Gasoline Stations</td>\n",
              "      <td>Gasoline Stations with Convenience Stores</td>\n",
              "      <td>447110.0</td>\n",
              "      <td>38.428077</td>\n",
              "      <td>-95.726311</td>\n",
              "      <td>2775 US Highway 75</td>\n",
              "      <td>Lebo</td>\n",
              "      <td>KS</td>\n",
              "      <td>66856</td>\n",
              "      <td>US</td>\n",
              "      <td>NaN</td>\n",
              "      <td>NaN</td>\n",
              "      <td>NaN</td>\n",
              "    </tr>\n",
              "    <tr>\n",
              "      <th>4</th>\n",
              "      <td>sg:00a3a6674d95443c80e481bdf68e84d2</td>\n",
              "      <td>sg:6449a1a66fcc451abc993849f61445f0</td>\n",
              "      <td>Great American Cookie Company</td>\n",
              "      <td>NaN</td>\n",
              "      <td>NaN</td>\n",
              "      <td>Bakeries and Tortilla Manufacturing</td>\n",
              "      <td>Retail Bakeries</td>\n",
              "      <td>311811.0</td>\n",
              "      <td>30.257337</td>\n",
              "      <td>-97.807172</td>\n",
              "      <td>Barton Creek Mall</td>\n",
              "      <td>Austin</td>\n",
              "      <td>TX</td>\n",
              "      <td>78701</td>\n",
              "      <td>US</td>\n",
              "      <td>1.512328e+10</td>\n",
              "      <td>NaN</td>\n",
              "      <td>NaN</td>\n",
              "    </tr>\n",
              "  </tbody>\n",
              "</table>\n",
              "</div>"
            ],
            "text/plain": [
              "                    safegraph_place_id  ...                   category_tags\n",
              "0  sg:00201f75b90b47d3be813562f946d97f  ...                             NaN\n",
              "1  sg:002b991d388c42a3a64db6066f8c4c0e  ...  Late Night,Latin American Food\n",
              "2  sg:002e6e7d2a0642a197e51a44bfce7a3e  ...                             NaN\n",
              "3  sg:0045ce84ae2847a08abe59b4139f871e  ...                             NaN\n",
              "4  sg:00a3a6674d95443c80e481bdf68e84d2  ...                             NaN\n",
              "\n",
              "[5 rows x 18 columns]"
            ]
          },
          "metadata": {
            "tags": []
          },
          "execution_count": 11
        }
      ]
    },
    {
      "cell_type": "code",
      "metadata": {
        "id": "9g6IZQLOD7mc",
        "colab_type": "code",
        "colab": {}
      },
      "source": [
        "# translate latitude and longitude to geopandas\n",
        "place_gdf = gpd.GeoDataFrame(\n",
        "    place_df, geometry = gpd.points_from_xy(place_df.longitude, place_df.latitude),\n",
        "    crs = \"epsg:4326\" # https://geopandas.readthedocs.io/en/v0.6.0/projections.html#coordinate-reference-systems\n",
        ").to_crs(epsg=3528) # https://spatialreference.org/ref/epsg/3528/"
      ],
      "execution_count": null,
      "outputs": []
    },
    {
      "cell_type": "code",
      "metadata": {
        "id": "_-hPA_mED7pf",
        "colab_type": "code",
        "colab": {
          "base_uri": "https://localhost:8080/",
          "height": 463
        },
        "outputId": "061a387d-bc45-4474-9f0b-6a352237524d"
      },
      "source": [
        "place_gdf.info()"
      ],
      "execution_count": null,
      "outputs": [
        {
          "output_type": "stream",
          "text": [
            "<class 'geopandas.geodataframe.GeoDataFrame'>\n",
            "RangeIndex: 5284986 entries, 0 to 5284985\n",
            "Data columns (total 19 columns):\n",
            " #   Column                     Dtype   \n",
            "---  ------                     -----   \n",
            " 0   safegraph_place_id         object  \n",
            " 1   parent_safegraph_place_id  object  \n",
            " 2   location_name              object  \n",
            " 3   safegraph_brand_ids        object  \n",
            " 4   brands                     object  \n",
            " 5   top_category               object  \n",
            " 6   sub_category               object  \n",
            " 7   naics_code                 float64 \n",
            " 8   latitude                   float64 \n",
            " 9   longitude                  float64 \n",
            " 10  street_address             object  \n",
            " 11  city                       object  \n",
            " 12  region                     object  \n",
            " 13  postal_code                int64   \n",
            " 14  iso_country_code           object  \n",
            " 15  phone_number               float64 \n",
            " 16  open_hours                 object  \n",
            " 17  category_tags              object  \n",
            " 18  geometry                   geometry\n",
            "dtypes: float64(4), geometry(1), int64(1), object(13)\n",
            "memory usage: 766.1+ MB\n"
          ],
          "name": "stdout"
        }
      ]
    },
    {
      "cell_type": "code",
      "metadata": {
        "id": "uLz-gq97H1XZ",
        "colab_type": "code",
        "colab": {
          "base_uri": "https://localhost:8080/",
          "height": 463
        },
        "outputId": "b28519ea-552b-4240-fc73-cf2a2343f6a5"
      },
      "source": [
        "# limit to Illinois (5.3M --> 200K places)\n",
        "place_gdf_IL = place_gdf[place_gdf.region == 'IL']\n",
        "place_gdf_IL.info()"
      ],
      "execution_count": null,
      "outputs": [
        {
          "output_type": "stream",
          "text": [
            "<class 'geopandas.geodataframe.GeoDataFrame'>\n",
            "Int64Index: 200614 entries, 5 to 5284973\n",
            "Data columns (total 19 columns):\n",
            " #   Column                     Non-Null Count   Dtype   \n",
            "---  ------                     --------------   -----   \n",
            " 0   safegraph_place_id         200614 non-null  object  \n",
            " 1   parent_safegraph_place_id  24590 non-null   object  \n",
            " 2   location_name              200614 non-null  object  \n",
            " 3   safegraph_brand_ids        47267 non-null   object  \n",
            " 4   brands                     47267 non-null   object  \n",
            " 5   top_category               198532 non-null  object  \n",
            " 6   sub_category               198532 non-null  object  \n",
            " 7   naics_code                 198532 non-null  float64 \n",
            " 8   latitude                   200614 non-null  float64 \n",
            " 9   longitude                  200614 non-null  float64 \n",
            " 10  street_address             200614 non-null  object  \n",
            " 11  city                       200614 non-null  object  \n",
            " 12  region                     200614 non-null  object  \n",
            " 13  postal_code                200614 non-null  int64   \n",
            " 14  iso_country_code           200614 non-null  object  \n",
            " 15  phone_number               154280 non-null  float64 \n",
            " 16  open_hours                 95217 non-null   object  \n",
            " 17  category_tags              28196 non-null   object  \n",
            " 18  geometry                   200614 non-null  geometry\n",
            "dtypes: float64(4), geometry(1), int64(1), object(13)\n",
            "memory usage: 30.6+ MB\n"
          ],
          "name": "stdout"
        }
      ]
    },
    {
      "cell_type": "code",
      "metadata": {
        "id": "PIVZvSasLgvY",
        "colab_type": "code",
        "colab": {
          "base_uri": "https://localhost:8080/",
          "height": 257
        },
        "outputId": "644fddc9-c9b3-44e4-cdec-9ebbce29c675"
      },
      "source": [
        "place_gdf_IL.crs"
      ],
      "execution_count": null,
      "outputs": [
        {
          "output_type": "execute_result",
          "data": {
            "text/plain": [
              "<Projected CRS: EPSG:3528>\n",
              "Name: NAD83(NSRS2007) / Illinois East\n",
              "Axis Info [cartesian]:\n",
              "- X[east]: Easting (metre)\n",
              "- Y[north]: Northing (metre)\n",
              "Area of Use:\n",
              "- name: USA - Illinois - SPCS - E\n",
              "- bounds: (-89.28, 37.06, -87.02, 42.5)\n",
              "Coordinate Operation:\n",
              "- name: SPCS83 Illinois East zone (meters)\n",
              "- method: Transverse Mercator\n",
              "Datum: NAD83 (National Spatial Reference System 2007)\n",
              "- Ellipsoid: GRS 1980\n",
              "- Prime Meridian: Greenwich"
            ]
          },
          "metadata": {
            "tags": []
          },
          "execution_count": 15
        }
      ]
    },
    {
      "cell_type": "markdown",
      "metadata": {
        "id": "oaWOQG1IS4uX",
        "colab_type": "text"
      },
      "source": [
        "## Get the census block groups of NE Illinois\n",
        "\n",
        "FIPS code for the counties\n",
        "* Cook: 031\n",
        "* Dupage: 043\n",
        "* Grundy: 063\n",
        "* Kane: 089\n",
        "* Kankakee: 091\n",
        "* Kendall: 093\n",
        "* Lake: 097\n",
        "* McHenry: 111\n",
        "* Will: 197"
      ]
    },
    {
      "cell_type": "code",
      "metadata": {
        "id": "wUAOULSSJjDK",
        "colab_type": "code",
        "colab": {}
      },
      "source": [
        "illinois_cbg = gpd.read_file('https://raw.githubusercontent.com/loganpowell/census-geojson/master/GeoJSON/500k/2019/17/block-group.json', \n",
        "                   crs = from_epsg(2163)).to_crs(epsg = 3528)"
      ],
      "execution_count": null,
      "outputs": []
    },
    {
      "cell_type": "code",
      "metadata": {
        "id": "l0UHsVVrS4uY",
        "colab_type": "code",
        "colab": {
          "base_uri": "https://localhost:8080/",
          "height": 177
        },
        "outputId": "f6172c67-a18a-4b8a-a48a-35d1ff514d3c"
      },
      "source": [
        "# limit to 9 counties mentioned above\n",
        "target_cbg = illinois_cbg[illinois_cbg.COUNTYFP.isin(['031', '043', '063', '089', '091', '093', '097', '111', '197'])]\n",
        "target_cbg = target_cbg[['GEOID', 'geometry']]\n",
        "target_cbg.info()"
      ],
      "execution_count": null,
      "outputs": [
        {
          "output_type": "stream",
          "text": [
            "<class 'geopandas.geodataframe.GeoDataFrame'>\n",
            "Int64Index: 5998 entries, 0 to 9688\n",
            "Data columns (total 2 columns):\n",
            " #   Column    Non-Null Count  Dtype   \n",
            "---  ------    --------------  -----   \n",
            " 0   GEOID     5998 non-null   object  \n",
            " 1   geometry  5998 non-null   geometry\n",
            "dtypes: geometry(1), object(1)\n",
            "memory usage: 140.6+ KB\n"
          ],
          "name": "stdout"
        }
      ]
    },
    {
      "cell_type": "code",
      "metadata": {
        "id": "Z1nbScYZMAq1",
        "colab_type": "code",
        "colab": {
          "base_uri": "https://localhost:8080/",
          "height": 53
        },
        "outputId": "562f4e91-30c8-48c0-e730-99a8158fb2d3"
      },
      "source": [
        "print(target_cbg.crs)\n",
        "#target_cbg.head()\n",
        "print(place_gdf_IL.crs)"
      ],
      "execution_count": null,
      "outputs": [
        {
          "output_type": "stream",
          "text": [
            "epsg:3528\n",
            "epsg:3528\n"
          ],
          "name": "stdout"
        }
      ]
    },
    {
      "cell_type": "code",
      "metadata": {
        "id": "L8HDMr3rS4uf",
        "colab_type": "code",
        "colab": {
          "base_uri": "https://localhost:8080/",
          "height": 497
        },
        "outputId": "0bee1b67-f8ed-4163-8c46-90860decb86e"
      },
      "source": [
        "place_gdf_target = gpd.sjoin(place_gdf_IL, target_cbg, how=\"inner\", op=\"within\").drop(\"index_right\", axis = 1)\n",
        "place_gdf_target.info()"
      ],
      "execution_count": null,
      "outputs": [
        {
          "output_type": "stream",
          "text": [
            "<class 'geopandas.geodataframe.GeoDataFrame'>\n",
            "Int64Index: 132091 entries, 43 to 5230499\n",
            "Data columns (total 20 columns):\n",
            " #   Column                     Non-Null Count   Dtype   \n",
            "---  ------                     --------------   -----   \n",
            " 0   safegraph_place_id         132091 non-null  object  \n",
            " 1   parent_safegraph_place_id  18968 non-null   object  \n",
            " 2   location_name              132091 non-null  object  \n",
            " 3   safegraph_brand_ids        30605 non-null   object  \n",
            " 4   brands                     30605 non-null   object  \n",
            " 5   top_category               130284 non-null  object  \n",
            " 6   sub_category               130284 non-null  object  \n",
            " 7   naics_code                 130284 non-null  float64 \n",
            " 8   latitude                   132091 non-null  float64 \n",
            " 9   longitude                  132091 non-null  float64 \n",
            " 10  street_address             132091 non-null  object  \n",
            " 11  city                       132091 non-null  object  \n",
            " 12  region                     132091 non-null  object  \n",
            " 13  postal_code                132091 non-null  int64   \n",
            " 14  iso_country_code           132091 non-null  object  \n",
            " 15  phone_number               101471 non-null  float64 \n",
            " 16  open_hours                 69805 non-null   object  \n",
            " 17  category_tags              19974 non-null   object  \n",
            " 18  geometry                   132091 non-null  geometry\n",
            " 19  GEOID                      132091 non-null  object  \n",
            "dtypes: float64(4), geometry(1), int64(1), object(14)\n",
            "memory usage: 21.2+ MB\n"
          ],
          "name": "stdout"
        }
      ]
    },
    {
      "cell_type": "code",
      "metadata": {
        "id": "18egmCyTDCXa",
        "colab_type": "code",
        "colab": {
          "base_uri": "https://localhost:8080/",
          "height": 515
        },
        "outputId": "1435c188-b0ba-4db9-ae86-a6c3e6bfcb53"
      },
      "source": [
        "place_gdf_target['naics_2digit'] = place_gdf_target['naics_2digit'].fillna(0.0).astype(int)\n",
        "place_gdf_target.info()"
      ],
      "execution_count": null,
      "outputs": [
        {
          "output_type": "stream",
          "text": [
            "<class 'geopandas.geodataframe.GeoDataFrame'>\n",
            "Int64Index: 132091 entries, 43 to 5230499\n",
            "Data columns (total 21 columns):\n",
            " #   Column                     Non-Null Count   Dtype   \n",
            "---  ------                     --------------   -----   \n",
            " 0   safegraph_place_id         132091 non-null  object  \n",
            " 1   parent_safegraph_place_id  18968 non-null   object  \n",
            " 2   location_name              132091 non-null  object  \n",
            " 3   safegraph_brand_ids        30605 non-null   object  \n",
            " 4   brands                     30605 non-null   object  \n",
            " 5   top_category               130284 non-null  object  \n",
            " 6   sub_category               130284 non-null  object  \n",
            " 7   naics_code                 130284 non-null  float64 \n",
            " 8   latitude                   132091 non-null  float64 \n",
            " 9   longitude                  132091 non-null  float64 \n",
            " 10  street_address             132091 non-null  object  \n",
            " 11  city                       132091 non-null  object  \n",
            " 12  region                     132091 non-null  object  \n",
            " 13  postal_code                132091 non-null  int64   \n",
            " 14  iso_country_code           132091 non-null  object  \n",
            " 15  phone_number               101471 non-null  float64 \n",
            " 16  open_hours                 69805 non-null   object  \n",
            " 17  category_tags              19974 non-null   object  \n",
            " 18  geometry                   132091 non-null  geometry\n",
            " 19  GEOID                      132091 non-null  object  \n",
            " 20  naics_2digit               132091 non-null  int64   \n",
            "dtypes: float64(4), geometry(1), int64(2), object(14)\n",
            "memory usage: 27.2+ MB\n"
          ],
          "name": "stdout"
        }
      ]
    },
    {
      "cell_type": "code",
      "metadata": {
        "id": "HiQ-U065UjFD",
        "colab_type": "code",
        "colab": {
          "base_uri": "https://localhost:8080/",
          "height": 390
        },
        "outputId": "9edfc82e-16c1-4fc4-981c-eecd421bad24"
      },
      "source": [
        "naics_summary = place_gdf_target.naics_code.value_counts()\n",
        "naics_summary.head(20)"
      ],
      "execution_count": null,
      "outputs": [
        {
          "output_type": "execute_result",
          "data": {
            "text/plain": [
              "722511.0    13331\n",
              "621111.0     6470\n",
              "812112.0     5309\n",
              "621210.0     4653\n",
              "813110.0     4193\n",
              "722513.0     3958\n",
              "712190.0     3918\n",
              "524210.0     3847\n",
              "713940.0     3787\n",
              "611110.0     3428\n",
              "722515.0     3415\n",
              "522110.0     3215\n",
              "811111.0     2834\n",
              "624410.0     2694\n",
              "447110.0     2415\n",
              "445110.0     2232\n",
              "621330.0     2016\n",
              "812199.0     1939\n",
              "812113.0     1706\n",
              "621310.0     1557\n",
              "Name: naics_code, dtype: int64"
            ]
          },
          "metadata": {
            "tags": []
          },
          "execution_count": 47
        }
      ]
    },
    {
      "cell_type": "code",
      "metadata": {
        "id": "9wYhQxOwCnDW",
        "colab_type": "code",
        "colab": {
          "base_uri": "https://localhost:8080/",
          "height": 461
        },
        "outputId": "f4a41a96-5778-4976-c7eb-88a7eddd35cb"
      },
      "source": [
        "naics_2digit_summary = place_gdf_target.naics_2digit.value_counts()\n",
        "naics_2digit_summary"
      ],
      "execution_count": null,
      "outputs": [
        {
          "output_type": "execute_result",
          "data": {
            "text/plain": [
              "72    21924\n",
              "44    21850\n",
              "62    21568\n",
              "81    20696\n",
              "52     9647\n",
              "71     9014\n",
              "45     8074\n",
              "61     4885\n",
              "53     2871\n",
              "54     2180\n",
              "51     2122\n",
              "0      1807\n",
              "56     1043\n",
              "92      940\n",
              "31      853\n",
              "49      791\n",
              "48      665\n",
              "42      535\n",
              "33      237\n",
              "23      169\n",
              "32      153\n",
              "22       59\n",
              "11        6\n",
              "6         2\n",
              "Name: naics_2digit, dtype: int64"
            ]
          },
          "metadata": {
            "tags": []
          },
          "execution_count": 50
        }
      ]
    },
    {
      "cell_type": "code",
      "metadata": {
        "id": "ii3JS1hmVLYh",
        "colab_type": "code",
        "colab": {
          "base_uri": "https://localhost:8080/",
          "height": 390
        },
        "outputId": "7d907c87-0137-4542-93ce-569e48de4ed7"
      },
      "source": [
        "cbg_summary = place_gdf_target.GEOID.value_counts()\n",
        "cbg_summary.head(20)"
      ],
      "execution_count": null,
      "outputs": [
        {
          "output_type": "execute_result",
          "data": {
            "text/plain": [
              "170318391001    1237\n",
              "170318046033     709\n",
              "170313204001     505\n",
              "170313201002     393\n",
              "170313201001     381\n",
              "170318015001     358\n",
              "170438446011     322\n",
              "170938901011     285\n",
              "170318069001     284\n",
              "170898526013     272\n",
              "170310817002     264\n",
              "170318330001     264\n",
              "170318422001     260\n",
              "170318391002     258\n",
              "171118713064     256\n",
              "170317707001     253\n",
              "170310814011     251\n",
              "170438465042     243\n",
              "170318016011     237\n",
              "170438465192     236\n",
              "Name: GEOID, dtype: int64"
            ]
          },
          "metadata": {
            "tags": []
          },
          "execution_count": 21
        }
      ]
    },
    {
      "cell_type": "markdown",
      "metadata": {
        "id": "MTsj8sgUVvPr",
        "colab_type": "text"
      },
      "source": [
        "## Generate the IL places file"
      ]
    },
    {
      "cell_type": "code",
      "metadata": {
        "id": "zHZhPfraVzts",
        "colab_type": "code",
        "colab": {}
      },
      "source": [
        "file_name = 'core_places_IL'\n",
        "place_gdf_target.to_file(file_name + '.geojson', driver='GeoJSON')"
      ],
      "execution_count": null,
      "outputs": []
    },
    {
      "cell_type": "code",
      "metadata": {
        "id": "ktqvyVK0XE-r",
        "colab_type": "code",
        "colab": {}
      },
      "source": [
        "# also to a plain csv file\n",
        "pd.DataFrame(place_gdf_target.drop(columns='geometry')).to_csv(file_name + '.csv')"
      ],
      "execution_count": null,
      "outputs": []
    },
    {
      "cell_type": "code",
      "metadata": {
        "id": "LtVjEscpWL-v",
        "colab_type": "code",
        "colab": {
          "base_uri": "https://localhost:8080/",
          "height": 35
        },
        "outputId": "5d1f6820-d50a-43ca-a4fa-9b98daf79165"
      },
      "source": [
        "# copy to google Drive\n",
        "copyfile(file_name + '.geojson', \"drive/My Drive/SafeGraph/places/\" + file_name + '.geojson')\n",
        "copyfile(file_name + '.csv', \"drive/My Drive/SafeGraph/places/\" + file_name + '.csv')"
      ],
      "execution_count": null,
      "outputs": [
        {
          "output_type": "execute_result",
          "data": {
            "application/vnd.google.colaboratory.intrinsic+json": {
              "type": "string"
            },
            "text/plain": [
              "'drive/My Drive/SafeGraph/places/core_places_IL.csv'"
            ]
          },
          "metadata": {
            "tags": []
          },
          "execution_count": 90
        }
      ]
    },
    {
      "cell_type": "code",
      "metadata": {
        "id": "uAKx_029S4uu",
        "colab_type": "code",
        "colab": {}
      },
      "source": [
        ""
      ],
      "execution_count": null,
      "outputs": []
    }
  ]
}