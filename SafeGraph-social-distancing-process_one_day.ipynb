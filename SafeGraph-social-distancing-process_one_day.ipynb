{
 "cells": [
  {
   "cell_type": "code",
   "execution_count": 1,
   "metadata": {},
   "outputs": [],
   "source": [
    "import pandas as pd\n",
    "import geopandas as gpd\n",
    "import numpy as np\n",
    "import ast\n",
    "from glob import glob\n",
    "\n",
    "from fiona.crs import from_epsg\n",
    "from shapely.geometry import Point\n",
    "\n",
    "import pytz"
   ]
  },
  {
   "cell_type": "markdown",
   "metadata": {},
   "source": [
    "### Get the census block groups of Chicago"
   ]
  },
  {
   "cell_type": "code",
   "execution_count": 2,
   "metadata": {},
   "outputs": [
    {
     "name": "stdout",
     "output_type": "stream",
     "text": [
      "<class 'geopandas.geodataframe.GeoDataFrame'>\n",
      "Int64Index: 3992 entries, 0 to 9688\n",
      "Data columns (total 2 columns):\n",
      "GEOID       3992 non-null object\n",
      "geometry    3992 non-null object\n",
      "dtypes: object(2)\n",
      "memory usage: 93.6+ KB\n"
     ]
    }
   ],
   "source": [
    "cook_cbg = gpd.read_file('https://raw.githubusercontent.com/loganpowell/census-geojson/master/GeoJSON/500k/2019/17/block-group.json', \n",
    "                   crs = from_epsg(2163)).to_crs(epsg = 3528)\n",
    "# select Cook county\n",
    "cook_cbg = cook_cbg[cook_cbg.COUNTYFP == '031']\n",
    "cook_cbg = cook_cbg[['GEOID', 'geometry']]\n",
    "cook_cbg.info()"
   ]
  },
  {
   "cell_type": "code",
   "execution_count": 3,
   "metadata": {},
   "outputs": [],
   "source": [
    "chi_bound = gpd.read_file('https://data.cityofchicago.org/api/geospatial/ewy2-6yfk?method=export&format=GeoJSON', \n",
    "                   crs = from_epsg(2163)).to_crs(epsg = 3528)"
   ]
  },
  {
   "cell_type": "code",
   "execution_count": 4,
   "metadata": {},
   "outputs": [
    {
     "name": "stdout",
     "output_type": "stream",
     "text": [
      "<class 'geopandas.geodataframe.GeoDataFrame'>\n",
      "Int64Index: 2325 entries, 0 to 9685\n",
      "Data columns (total 6 columns):\n",
      "GEOID         2325 non-null object\n",
      "geometry      2325 non-null object\n",
      "name          2325 non-null object\n",
      "objectid      2325 non-null object\n",
      "shape_area    2325 non-null object\n",
      "shape_len     2325 non-null object\n",
      "dtypes: object(6)\n",
      "memory usage: 127.1+ KB\n"
     ]
    }
   ],
   "source": [
    "chi_cbg = gpd.sjoin(cook_cbg, chi_bound,\n",
    "                    op='intersects').drop(\"index_right\", axis = 1)\n",
    "chi_cbg.info()"
   ]
  },
  {
   "cell_type": "markdown",
   "metadata": {},
   "source": [
    "### Turning device counts into the probabilities\n",
    "\n",
    "I just use one file here, `2020-04-30-social-distancing.csv.gz`, to describe what I did.\n",
    "\n",
    "For social distancing metrics, I focused on the `buckted_percentage_time_home` and `completely_home_device_count`.\n",
    "\n",
    "These variables are explained in [the SafeGraph page](https://docs.safegraph.com/docs/social-distancing-metrics).\n",
    "* `completely_home_device_count`: Out of the device_count, the number of devices which did not leave the geohash-7 in which their home is located during the time period.\n",
    "* `buckted_percentage_time_home`: Key is range of minutes and value is device count of devices that dwelled at geohash-7 of home for the given time period, `{\"<60\": 0, \"61-360\": 0, \"361-720\": 10, \"721-1080\": 40, \">1081\": 50}`. For each device, we summed the observed minutes at home across the day (whether or not these were contiguous) to get the total minutes for each device this day. Then we count how many devices are in each bucket. Beginning in v2, we include the portion of any stop within the time range regardless of whether the stop start time was in the time period.\n"
   ]
  },
  {
   "cell_type": "code",
   "execution_count": 5,
   "metadata": {},
   "outputs": [],
   "source": [
    "to_lit = lambda x : ast.literal_eval(x) if x is not np.nan else {}\n",
    "\n",
    "def get_prob(input_df):\n",
    "\n",
    "    # process the date and also get weekday\n",
    "    for d in [\"date_range_start\", \"date_range_end\"]:\n",
    "        input_df[d] = pd.to_datetime(input_df[d])\n",
    "\n",
    "    input_df[\"date\"] = pd.to_datetime(input_df[\"date_range_start\"], utc = True)\\\n",
    "                   .dt.tz_convert(pytz.timezone('US/Central')).dt.date\n",
    "    input_df[\"weekday\"] = input_df[\"date\"].apply(lambda x: x.weekday())\n",
    "    \n",
    "    # I focused on `buckted_percentage_time_home`, along with `completely_home_device_count`\n",
    "    input_df[\"bucketed_percentage_time_home\"] = input_df[\"bucketed_percentage_time_home\"].apply(to_lit)\n",
    "    input_df[\"cnt_lt_6h_out\"] = input_df.bucketed_percentage_time_home.apply(lambda x : x[\"76-100\"] if \"76-100\" in x else 0)\n",
    "    input_df[\"cnt_6h_12h_out\"] = input_df.bucketed_percentage_time_home.apply(lambda x : x[\"51-75\"] if \"51-75\" in x else 0)\n",
    "    input_df[\"cnt_12h_18h_out\"] = input_df.bucketed_percentage_time_home.apply(lambda x : x[\"26-50\"] if \"26-50\" in x else 0)\n",
    "    input_df[\"cnt_ht_18h_out\"] = input_df.bucketed_percentage_time_home.apply(lambda x : x[\"0-25\"] if \"0-25\" in x else 0)\n",
    "\n",
    "    # device counts were turned into these probabilities\n",
    "    input_df[\"p_completely_home\"] = input_df.completely_home_device_count / input_df.device_count\n",
    "    input_df[\"p_lt_6h_out\"] = input_df[\"cnt_lt_6h_out\"] / (input_df[\"cnt_lt_6h_out\"] + input_df[\"cnt_6h_12h_out\"] + input_df[\"cnt_12h_18h_out\"] + input_df[\"cnt_ht_18h_out\"])\n",
    "    input_df[\"p_6h_12h_out\"] = input_df[\"cnt_6h_12h_out\"] / (input_df[\"cnt_lt_6h_out\"] + input_df[\"cnt_6h_12h_out\"] + input_df[\"cnt_12h_18h_out\"] + input_df[\"cnt_ht_18h_out\"])\n",
    "    input_df[\"p_ht_12h_out\"] = 1 - (input_df[\"p_lt_6h_out\"] + input_df[\"p_6h_12h_out\"])\n",
    "\n",
    "    input_df[\"p_part_time_work\"] = input_df.part_time_work_behavior_devices / input_df.device_count\n",
    "    input_df[\"p_full_time_work\"] = input_df.full_time_work_behavior_devices / input_df.device_count\n",
    "    input_df[\"p_delivery\"] = input_df.delivery_behavior_devices / input_df.device_count\n",
    "    \n",
    "    select_columns = ['origin_census_block_group', 'date', 'device_count', 'distance_traveled_from_home', \n",
    "                      'p_completely_home', 'p_lt_6h_out', 'p_6h_12h_out', 'p_ht_12h_out', \n",
    "                      'p_part_time_work', 'p_full_time_work', 'p_delivery']\n",
    "\n",
    "    output_df = input_df[select_columns]\n",
    "    \n",
    "    return output_df\n",
    "    "
   ]
  },
  {
   "cell_type": "code",
   "execution_count": 6,
   "metadata": {},
   "outputs": [
    {
     "name": "stdout",
     "output_type": "stream",
     "text": [
      "<class 'pandas.core.frame.DataFrame'>\n",
      "RangeIndex: 219343 entries, 0 to 219342\n",
      "Data columns (total 20 columns):\n",
      "origin_census_block_group                     219343 non-null int64\n",
      "date_range_start                              219343 non-null object\n",
      "date_range_end                                219343 non-null object\n",
      "device_count                                  219343 non-null int64\n",
      "distance_traveled_from_home                   219324 non-null float64\n",
      "bucketed_distance_traveled                    219343 non-null object\n",
      "median_dwell_at_bucketed_distance_traveled    219324 non-null object\n",
      "completely_home_device_count                  219343 non-null int64\n",
      "median_home_dwell_time                        219343 non-null int64\n",
      "bucketed_home_dwell_time                      219343 non-null object\n",
      "at_home_by_each_hour                          219343 non-null object\n",
      "part_time_work_behavior_devices               219343 non-null int64\n",
      "full_time_work_behavior_devices               219343 non-null int64\n",
      "destination_cbgs                              219343 non-null object\n",
      "delivery_behavior_devices                     219343 non-null int64\n",
      "median_non_home_dwell_time                    219343 non-null int64\n",
      "candidate_device_count                        219343 non-null int64\n",
      "bucketed_away_from_home_time                  219343 non-null object\n",
      "median_percentage_time_home                   219343 non-null int64\n",
      "bucketed_percentage_time_home                 219343 non-null object\n",
      "dtypes: float64(1), int64(10), object(9)\n",
      "memory usage: 33.5+ MB\n"
     ]
    }
   ],
   "source": [
    "oneday_df = pd.read_csv('./2020-04-30-social-distancing.csv.gz')\n",
    "oneday_df.info()"
   ]
  },
  {
   "cell_type": "code",
   "execution_count": 7,
   "metadata": {},
   "outputs": [
    {
     "name": "stdout",
     "output_type": "stream",
     "text": [
      "<class 'geopandas.geodataframe.GeoDataFrame'>\n",
      "Int64Index: 2315 entries, 0 to 2314\n",
      "Data columns (total 26 columns):\n",
      "GEOID                                         2315 non-null object\n",
      "geometry                                      2315 non-null object\n",
      "name                                          2315 non-null object\n",
      "objectid                                      2315 non-null object\n",
      "shape_area                                    2315 non-null object\n",
      "shape_len                                     2315 non-null object\n",
      "origin_census_block_group                     2315 non-null int64\n",
      "date_range_start                              2315 non-null object\n",
      "date_range_end                                2315 non-null object\n",
      "device_count                                  2315 non-null int64\n",
      "distance_traveled_from_home                   2314 non-null float64\n",
      "bucketed_distance_traveled                    2315 non-null object\n",
      "median_dwell_at_bucketed_distance_traveled    2314 non-null object\n",
      "completely_home_device_count                  2315 non-null int64\n",
      "median_home_dwell_time                        2315 non-null int64\n",
      "bucketed_home_dwell_time                      2315 non-null object\n",
      "at_home_by_each_hour                          2315 non-null object\n",
      "part_time_work_behavior_devices               2315 non-null int64\n",
      "full_time_work_behavior_devices               2315 non-null int64\n",
      "destination_cbgs                              2315 non-null object\n",
      "delivery_behavior_devices                     2315 non-null int64\n",
      "median_non_home_dwell_time                    2315 non-null int64\n",
      "candidate_device_count                        2315 non-null int64\n",
      "bucketed_away_from_home_time                  2315 non-null object\n",
      "median_percentage_time_home                   2315 non-null int64\n",
      "bucketed_percentage_time_home                 2315 non-null object\n",
      "dtypes: float64(1), int64(10), object(15)\n",
      "memory usage: 488.3+ KB\n"
     ]
    }
   ],
   "source": [
    "# select Cook county\n",
    "oneday_df = oneday_df[oneday_df.origin_census_block_group // 10000000 == 17031]\n",
    "oneday_df['GEOID'] = oneday_df.origin_census_block_group.astype('str')\n",
    "\n",
    "# filter only Chicago CBGs\n",
    "oneday_df = pd.merge(chi_cbg, oneday_df,\n",
    "                  left_on = 'GEOID', right_on = 'GEOID', how = 'inner')\n",
    "oneday_df.info()"
   ]
  },
  {
   "cell_type": "code",
   "execution_count": 8,
   "metadata": {},
   "outputs": [
    {
     "name": "stdout",
     "output_type": "stream",
     "text": [
      "<class 'pandas.core.frame.DataFrame'>\n",
      "Int64Index: 2315 entries, 0 to 2314\n",
      "Data columns (total 11 columns):\n",
      "origin_census_block_group      2315 non-null int64\n",
      "date                           2315 non-null object\n",
      "device_count                   2315 non-null int64\n",
      "distance_traveled_from_home    2314 non-null float64\n",
      "p_completely_home              2315 non-null float64\n",
      "p_lt_6h_out                    2315 non-null float64\n",
      "p_6h_12h_out                   2315 non-null float64\n",
      "p_ht_12h_out                   2315 non-null float64\n",
      "p_part_time_work               2315 non-null float64\n",
      "p_full_time_work               2315 non-null float64\n",
      "p_delivery                     2315 non-null float64\n",
      "dtypes: float64(8), int64(2), object(1)\n",
      "memory usage: 217.0+ KB\n"
     ]
    }
   ],
   "source": [
    "import warnings; warnings.simplefilter('ignore')\n",
    "\n",
    "oneday_df2 = get_prob(oneday_df)\n",
    "oneday_df2.info()"
   ]
  },
  {
   "cell_type": "markdown",
   "metadata": {},
   "source": [
    "### These columns are saved into social_distancing_17031.csv from 2019-01-01 to 2020-05-26"
   ]
  },
  {
   "cell_type": "code",
   "execution_count": null,
   "metadata": {},
   "outputs": [],
   "source": []
  }
 ],
 "metadata": {
  "kernelspec": {
   "display_name": "Python 3",
   "language": "python",
   "name": "python3"
  },
  "language_info": {
   "codemirror_mode": {
    "name": "ipython",
    "version": 3
   },
   "file_extension": ".py",
   "mimetype": "text/x-python",
   "name": "python",
   "nbconvert_exporter": "python",
   "pygments_lexer": "ipython3",
   "version": "3.6.8"
  }
 },
 "nbformat": 4,
 "nbformat_minor": 2
}
