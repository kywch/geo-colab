{
  "nbformat": 4,
  "nbformat_minor": 0,
  "metadata": {
    "colab": {
      "name": "Generate_Chicago_Traces.ipynb",
      "provenance": [],
      "toc_visible": true,
      "authorship_tag": "ABX9TyOjVMhhTJ4DenfGxHCMBtfV",
      "include_colab_link": true
    },
    "kernelspec": {
      "name": "python3",
      "display_name": "Python 3"
    }
  },
  "cells": [
    {
      "cell_type": "markdown",
      "metadata": {
        "id": "view-in-github",
        "colab_type": "text"
      },
      "source": [
        "<a href=\"https://colab.research.google.com/github/kywch/geo-colab/blob/master/Generate_Chicago_Traces.ipynb\" target=\"_parent\"><img src=\"https://colab.research.google.com/assets/colab-badge.svg\" alt=\"Open In Colab\"/></a>"
      ]
    },
    {
      "cell_type": "code",
      "metadata": {
        "id": "fX1_LrXXvQ2-",
        "outputId": "31fa610d-2a61-434f-f118-c25fb6c93597",
        "colab": {
          "base_uri": "https://localhost:8080/",
          "height": 318
        }
      },
      "source": [
        "!pip install rasterio"
      ],
      "execution_count": 1,
      "outputs": [
        {
          "output_type": "stream",
          "text": [
            "Collecting rasterio\n",
            "\u001b[?25l  Downloading https://files.pythonhosted.org/packages/cc/1c/0f36885ac5864b8ad75f167ca1d403666a5f0c3b2ea8ad3366c98a628e99/rasterio-1.1.7-cp36-cp36m-manylinux1_x86_64.whl (18.1MB)\n",
            "\u001b[K     |████████████████████████████████| 18.1MB 1.5MB/s \n",
            "\u001b[?25hRequirement already satisfied: click<8,>=4.0 in /usr/local/lib/python3.6/dist-packages (from rasterio) (7.1.2)\n",
            "Collecting snuggs>=1.4.1\n",
            "  Downloading https://files.pythonhosted.org/packages/cc/0e/d27d6e806d6c0d1a2cfdc5d1f088e42339a0a54a09c3343f7f81ec8947ea/snuggs-1.4.7-py3-none-any.whl\n",
            "Collecting cligj>=0.5\n",
            "  Downloading https://files.pythonhosted.org/packages/2d/0a/004ba68cd29bde809847c5f7e5990699d7a1ff3fe71a5703adc60b464e5f/cligj-0.6.0-py3-none-any.whl\n",
            "Collecting affine\n",
            "  Downloading https://files.pythonhosted.org/packages/ac/a6/1a39a1ede71210e3ddaf623982b06ecfc5c5c03741ae659073159184cd3e/affine-2.3.0-py2.py3-none-any.whl\n",
            "Requirement already satisfied: numpy in /usr/local/lib/python3.6/dist-packages (from rasterio) (1.18.5)\n",
            "Collecting click-plugins\n",
            "  Downloading https://files.pythonhosted.org/packages/e9/da/824b92d9942f4e472702488857914bdd50f73021efea15b4cad9aca8ecef/click_plugins-1.1.1-py2.py3-none-any.whl\n",
            "Requirement already satisfied: attrs in /usr/local/lib/python3.6/dist-packages (from rasterio) (20.2.0)\n",
            "Requirement already satisfied: pyparsing>=2.1.6 in /usr/local/lib/python3.6/dist-packages (from snuggs>=1.4.1->rasterio) (2.4.7)\n",
            "Installing collected packages: snuggs, cligj, affine, click-plugins, rasterio\n",
            "Successfully installed affine-2.3.0 click-plugins-1.1.1 cligj-0.6.0 rasterio-1.1.7 snuggs-1.4.7\n"
          ],
          "name": "stdout"
        }
      ]
    },
    {
      "cell_type": "code",
      "metadata": {
        "id": "fm-2TO7D6xmS"
      },
      "source": [
        "# Import necessary packages\n",
        "import os, os.path\n",
        "from glob import glob\n",
        "from shutil import copyfile\n",
        "import pickle\n",
        "\n",
        "import pandas as pd\n",
        "import numpy as np\n",
        "\n",
        "from secrets import choice\n",
        "\n",
        "import matplotlib.pyplot as plt\n",
        "from scipy.interpolate import griddata"
      ],
      "execution_count": 39,
      "outputs": []
    },
    {
      "cell_type": "code",
      "metadata": {
        "id": "SqbMd97Z69xp",
        "outputId": "b2c71c64-074c-43bc-8315-18713f413ee8",
        "colab": {
          "base_uri": "https://localhost:8080/",
          "height": 34
        }
      },
      "source": [
        "from google.colab import drive\n",
        "drive.mount('/content/drive')"
      ],
      "execution_count": 4,
      "outputs": [
        {
          "output_type": "stream",
          "text": [
            "Mounted at /content/drive\n"
          ],
          "name": "stdout"
        }
      ]
    },
    {
      "cell_type": "markdown",
      "metadata": {
        "id": "AWFCsLHvql1F"
      },
      "source": [
        "# Loading SynthPop data\n",
        "\n",
        "These files contain people's simulated movements across 24 hr. "
      ]
    },
    {
      "cell_type": "code",
      "metadata": {
        "id": "rzLl1Ce77G_P",
        "outputId": "ff37a53f-f73c-4981-9355-e75b7b6acf43",
        "colab": {
          "base_uri": "https://localhost:8080/",
          "height": 54
        }
      },
      "source": [
        "files = glob(\"drive/My Drive/SatTemp/chicago_synthpop_V2/*.csv.gz\")\n",
        "print(files)"
      ],
      "execution_count": 5,
      "outputs": [
        {
          "output_type": "stream",
          "text": [
            "['drive/My Drive/SatTemp/chicago_synthpop_V2/persons_v2.csv.gz', 'drive/My Drive/SatTemp/chicago_synthpop_V2/places_v2_256p_lb_v2.csv.gz', 'drive/My Drive/SatTemp/chicago_synthpop_V2/activities_v2.csv.gz', 'drive/My Drive/SatTemp/chicago_synthpop_V2/places_v2.csv.gz', 'drive/My Drive/SatTemp/chicago_synthpop_V2/places_60615.csv.gz', 'drive/My Drive/SatTemp/chicago_synthpop_V2/persons_60615.csv.gz', 'drive/My Drive/SatTemp/chicago_synthpop_V2/sampled_persons.csv.gz']\n"
          ],
          "name": "stdout"
        }
      ]
    },
    {
      "cell_type": "code",
      "metadata": {
        "id": "HIzruTZi7Zpe"
      },
      "source": [
        "!rm -rf synthpop\n",
        "if not os.path.exists('synthpop'):\n",
        "  os.mkdir('synthpop')"
      ],
      "execution_count": 6,
      "outputs": []
    },
    {
      "cell_type": "code",
      "metadata": {
        "id": "O_hx42gW8-C_",
        "outputId": "435ffb09-cf11-4c62-de14-80504ef9a564",
        "colab": {
          "base_uri": "https://localhost:8080/",
          "height": 141
        }
      },
      "source": [
        "# copy these files from Google Drive to colab disk\n",
        "for f in files:\n",
        "  print(f)\n",
        "  copyfile(f, 'synthpop/' + os.path.basename(f))"
      ],
      "execution_count": 7,
      "outputs": [
        {
          "output_type": "stream",
          "text": [
            "drive/My Drive/SatTemp/chicago_synthpop_V2/persons_v2.csv.gz\n",
            "drive/My Drive/SatTemp/chicago_synthpop_V2/places_v2_256p_lb_v2.csv.gz\n",
            "drive/My Drive/SatTemp/chicago_synthpop_V2/activities_v2.csv.gz\n",
            "drive/My Drive/SatTemp/chicago_synthpop_V2/places_v2.csv.gz\n",
            "drive/My Drive/SatTemp/chicago_synthpop_V2/places_60615.csv.gz\n",
            "drive/My Drive/SatTemp/chicago_synthpop_V2/persons_60615.csv.gz\n",
            "drive/My Drive/SatTemp/chicago_synthpop_V2/sampled_persons.csv.gz\n"
          ],
          "name": "stdout"
        }
      ]
    },
    {
      "cell_type": "code",
      "metadata": {
        "id": "wI5A60Nz9A1f",
        "outputId": "ae9d1111-ce10-4af5-ee61-0e278af66bf9",
        "colab": {
          "base_uri": "https://localhost:8080/",
          "height": 70
        }
      },
      "source": [
        "# look at people\n",
        "persons_df = pd.read_csv('synthpop/persons_v2.csv.gz')\n",
        "print(len(persons_df))\n",
        "#persons_df.info()"
      ],
      "execution_count": 8,
      "outputs": [
        {
          "output_type": "stream",
          "text": [
            "/usr/local/lib/python3.6/dist-packages/IPython/core/interactiveshell.py:2718: DtypeWarning: Columns (1) have mixed types.Specify dtype option on import or set low_memory=False.\n",
            "  interactivity=interactivity, compiler=compiler, result=result)\n"
          ],
          "name": "stderr"
        },
        {
          "output_type": "stream",
          "text": [
            "2927761\n"
          ],
          "name": "stdout"
        }
      ]
    },
    {
      "cell_type": "code",
      "metadata": {
        "id": "ACdaeVcK9N9P",
        "outputId": "fc8a7e13-6649-444c-d17d-c902b1b8f35d",
        "colab": {
          "base_uri": "https://localhost:8080/",
          "height": 52
        }
      },
      "source": [
        "# places\n",
        "places_df = pd.read_csv('synthpop/places_v2.csv.gz')\n",
        "places_df['numeric_id'] = places_df['numeric_id'].astype('int64')\n",
        "#places_df.info()"
      ],
      "execution_count": 9,
      "outputs": [
        {
          "output_type": "stream",
          "text": [
            "/usr/local/lib/python3.6/dist-packages/IPython/core/interactiveshell.py:2718: DtypeWarning: Columns (1) have mixed types.Specify dtype option on import or set low_memory=False.\n",
            "  interactivity=interactivity, compiler=compiler, result=result)\n"
          ],
          "name": "stderr"
        }
      ]
    },
    {
      "cell_type": "code",
      "metadata": {
        "id": "vwEuZpfKsxef"
      },
      "source": [
        "# make it faster to look-up\n",
        "plidx_df = places_df.set_index('numeric_id')\n",
        "#plidx_df.info()"
      ],
      "execution_count": 10,
      "outputs": []
    },
    {
      "cell_type": "code",
      "metadata": {
        "id": "VENwX3zn9_zK"
      },
      "source": [
        "# activities\n",
        "activity_df = pd.read_csv('synthpop/activities_v2.csv.gz')\n",
        "#activity_df.info()"
      ],
      "execution_count": 11,
      "outputs": []
    },
    {
      "cell_type": "code",
      "metadata": {
        "id": "ErXiFkNO9er-"
      },
      "source": [
        "# check the number of unique persons\n",
        "#print(len(persons_df.person_id), len(persons_df.person_id.unique()))\n",
        "#persons_df.head()"
      ],
      "execution_count": 12,
      "outputs": []
    },
    {
      "cell_type": "markdown",
      "metadata": {
        "id": "I894aqfBB4zp"
      },
      "source": [
        "# Things to do\n",
        "* join zip code to person -- sample 1000 each?\n",
        "* for each person\n",
        "  * grab the activity schedule\n",
        "  * link place coordinates\n",
        "  * make a row for each hour: 24 rows with coordinates\n",
        "  * the coordinates for 24 hours will be used to query temperature (or heat stress)\n",
        "\n",
        "\n",
        "  "
      ]
    },
    {
      "cell_type": "code",
      "metadata": {
        "id": "FFnjxiq497JH",
        "outputId": "604ddfe8-1ef3-4940-c33e-b8e583c69ad7",
        "colab": {
          "base_uri": "https://localhost:8080/",
          "height": 443
        }
      },
      "source": [
        "person_row = next(persons_df.iterrows())[1]\n",
        "print(person_row)"
      ],
      "execution_count": 13,
      "outputs": [
        {
          "output_type": "stream",
          "text": [
            "numeric_id                                                                  1\n",
            "person_id                                                             1595930\n",
            "hh_id                                                             1.18152e+06\n",
            "relate                                                                      1\n",
            "sex                                                                         2\n",
            "age                                                                        82\n",
            "gq_id                                                                     NaN\n",
            "school_id                                                                 NaN\n",
            "work_id                                                                   NaN\n",
            "daycare_id                                                             579139\n",
            "gym_id                                                            1.18126e+06\n",
            "hospital_id                                                                70\n",
            "jail                                                                2.297e-06\n",
            "jail_id                                                               1194221\n",
            "rank                                                                      100\n",
            "weekday_schedule_id_list    5969|5974|5983|5911|5963|5943|5953|5898|5930|5971\n",
            "weekend_schedule_id_list    12237|12229|12172|12145|12178|12207|12203|1216...\n",
            "otherhh_id                                                                NaN\n",
            "home_restaurant_id                    1197516|1200938|1195562|1196781|1195562\n",
            "recreation_id                         1205986|1206926|1206147|1207623|1207411\n",
            "grocery_id                                            1210303|1210303|1210303\n",
            "worship_id                                                        1.20852e+06\n",
            "work_restaurant_id                    1196871|1195562|1200643|1200938|1195361\n",
            "Name: 0, dtype: object\n"
          ],
          "name": "stdout"
        }
      ]
    },
    {
      "cell_type": "code",
      "metadata": {
        "id": "eN3tZGwbELfi"
      },
      "source": [
        "# %timeit places_df[places_df['numeric_id'] == 1210303]\n",
        "# %timeit places_df.query('numeric_id == 1210303')\n",
        "# %timeit plidx_df.loc[1210303]"
      ],
      "execution_count": 14,
      "outputs": []
    },
    {
      "cell_type": "code",
      "metadata": {
        "id": "TVuM4d2Jj7Az"
      },
      "source": [
        "# %timeit plidx_df.loc[[1197516,1200938,1195562,1196781,1195562]]\n",
        "# %timeit [plidx_df.loc[1197516], plidx_df.loc[1200938], plidx_df.loc[1195562], plidx_df.loc[1196781], plidx_df.loc[1195562]]\n",
        "# %timeit plidx_df.iat[1197517, 4]"
      ],
      "execution_count": 15,
      "outputs": []
    },
    {
      "cell_type": "code",
      "metadata": {
        "id": "I9lQV_NZq0M8",
        "outputId": "7d38f09b-84ad-4388-e543-c2c3a03a8d3a",
        "colab": {
          "base_uri": "https://localhost:8080/",
          "height": 52
        }
      },
      "source": [
        "def match_activity_with_coord(person_row, activity_df, sch_type='weekday'):\n",
        "\n",
        "  # retrieve a schedule\n",
        "  curr_activity = activity_df[activity_df['schedule_id'] == int(choice(person_row[sch_type+'_schedule_id_list'].split('|')))].reset_index(drop=True)\n",
        "\n",
        "  place_list = curr_activity['Social_Act_Loc'].to_list()\n",
        "  place_info = []\n",
        "  prev_place = ''\n",
        "\n",
        "  item_to_key = {\n",
        "    'Household': 'hh_id', \n",
        "    'Work Restaurant': 'work_restaurant_id',\n",
        "    'Other': 'hh_id', \n",
        "    'Other Household': 'otherhh_id',\n",
        "    'Place of worship': 'worship_id', \n",
        "    'Home Restaurant': 'home_restaurant_id', \n",
        "    'Recreation': 'recreation_id',\n",
        "    'Grocery store': 'grocery_id', \n",
        "    'School': 'school_id', \n",
        "    'Workplace': 'work_id', \n",
        "    'Gym': 'gym_id', \n",
        "    'Prison': 'jail_id'\n",
        "  }\n",
        "\n",
        "  for item in place_list:\n",
        "    if item == prev_place:\n",
        "      curr_info = place_info[-1]\n",
        "    else:\n",
        "      if item in item_to_key:\n",
        "        try:\n",
        "          if type(person_row[item_to_key[item]]) is str:\n",
        "            idx = int(choice(person_row[item_to_key[item]].split('|')))\n",
        "          else:\n",
        "            idx = int(person_row[item_to_key[item]])\n",
        "          curr_info = [item, idx, plidx_df.iat[idx, 4], plidx_df.iat[idx, 5]]\n",
        "        except:\n",
        "          # if no place was found, force assign household\n",
        "          idx = int(person_row['hh_id'])\n",
        "          curr_info = ['FORCE_HH', idx, plidx_df.iat[idx, 4], plidx_df.iat[idx, 5]]\n",
        "      else:\n",
        "        curr_info = ['FORCE_HH', idx, plidx_df.iat[idx, 4], plidx_df.iat[idx, 5]]\n",
        "\n",
        "    #print(curr_info)\n",
        "    place_info.append(curr_info)\n",
        "    prev_place = item\n",
        "\n",
        "  # return the horizontally-concated dataframe\n",
        "  return(pd.concat([curr_activity, \n",
        "                    pd.DataFrame(place_info, columns=['item', 'place_numeric', 'lat', 'lng'])], \n",
        "                    axis=1))\n",
        "\n",
        "%timeit match_activity_with_coord(person_row, activity_df)\n",
        "#print(place_info)  "
      ],
      "execution_count": 16,
      "outputs": [
        {
          "output_type": "stream",
          "text": [
            "The slowest run took 43.63 times longer than the fastest. This could mean that an intermediate result is being cached.\n",
            "100 loops, best of 3: 2.88 ms per loop\n"
          ],
          "name": "stdout"
        }
      ]
    },
    {
      "cell_type": "code",
      "metadata": {
        "id": "Sy6zkkVWEvRO"
      },
      "source": [
        "# hour, weight, social_act_loc, coordinates (lat/lng)\n",
        "# using iat (instead of iloc) give ~10x speed improvement\n",
        "\n",
        "def generate_hourly_activity(act_df):\n",
        "\n",
        "  schedule = []\n",
        "  for ii in range(act_df.shape[0]):\n",
        "    curr_hour = act_df.iat[ii,1] // 60 #.iloc[ii].start_time // 60 \n",
        "    proc_time = act_df.iat[ii,1] #.start_time\n",
        "\n",
        "    # take care of the short activity\n",
        "    if 60*(curr_hour+1) < act_df.iat[ii,2]: #iloc[ii].stop_time:\n",
        "        schedule.append([curr_hour, \n",
        "                        (60*(curr_hour+1) - act_df.iat[ii,1])/60, \n",
        "                        act_df.iat[ii,3], act_df.iat[ii,7], act_df.iat[ii,8]]) #.iloc[ii].Social_Act_Loc])\n",
        "        curr_hour += 1\n",
        "        proc_time = 60*curr_hour\n",
        "\n",
        "    # take care of the remaining long activity\n",
        "    while proc_time < act_df.iat[ii,2]: #iloc[ii].stop_time:\n",
        "      if (proc_time + 60) < act_df.iat[ii,2]: #iloc[ii].stop_time:\n",
        "        schedule.append([curr_hour, 1, act_df.iat[ii,3], act_df.iat[ii,7], act_df.iat[ii,8]])\n",
        "        proc_time += 60\n",
        "        curr_hour += 1\n",
        "      else:\n",
        "        res_act = act_df.iat[ii,2] - proc_time\n",
        "        schedule.append([curr_hour, res_act/60, act_df.iat[ii,3], act_df.iat[ii,7], act_df.iat[ii,8]])\n",
        "        proc_time = act_df.iat[ii,2]\n",
        "    \n",
        "  # make the schedule compact\n",
        "  compact_schedule = []\n",
        "  compact_schedule.append(schedule.copy()[0])\n",
        "  for item in schedule[1:]:\n",
        "    # if the hour and activity are the same, just merge the time\n",
        "    if (item[0] == compact_schedule[-1][0]) & (item[2] == compact_schedule[-1][2]):\n",
        "      compact_schedule[-1][1] += item[1]\n",
        "    else:\n",
        "      compact_schedule.append(item)  \n",
        "\n",
        "  # done\n",
        "  return compact_schedule\n"
      ],
      "execution_count": 17,
      "outputs": []
    },
    {
      "cell_type": "code",
      "metadata": {
        "id": "9ZvCLwCA5ggb",
        "outputId": "a40b483a-c6cd-4b9a-c7a4-6a12aed631b5",
        "colab": {
          "base_uri": "https://localhost:8080/",
          "height": 52
        }
      },
      "source": [
        "row = persons_df.sample().iloc[0]\n",
        "%timeit match_activity_with_coord(row, activity_df)\n",
        "\n",
        "test = match_activity_with_coord(row, activity_df)\n",
        "%timeit generate_hourly_activity(test)"
      ],
      "execution_count": 18,
      "outputs": [
        {
          "output_type": "stream",
          "text": [
            "100 loops, best of 3: 2.94 ms per loop\n",
            "100 loops, best of 3: 7.2 ms per loop\n"
          ],
          "name": "stdout"
        }
      ]
    },
    {
      "cell_type": "markdown",
      "metadata": {
        "id": "cFZ3zQyL89wa"
      },
      "source": [
        "## join zip code to person -- sample 1000 each?"
      ]
    },
    {
      "cell_type": "code",
      "metadata": {
        "id": "6SRFLYFvx9c1",
        "outputId": "27b3dc3e-9066-480f-e4ea-b25a43e9559b",
        "colab": {
          "base_uri": "https://localhost:8080/",
          "height": 34
        }
      },
      "source": [
        "generate_new_sample = False\n",
        "num_sample_zip = 100\n",
        "\n",
        "if generate_new_sample:\n",
        "  \n",
        "  # link people and zipcode\n",
        "  print('Linking people and zipcode')\n",
        "  pp_loc_df = persons_df.merge(plidx_df['zipcode'], left_on='hh_id', right_index=True)\n",
        "  pp_loc_df.info()\n",
        "\n",
        "  # get zipcode that has more than 1000 people in it\n",
        "  tmp_zip = pp_loc_df.zipcode.value_counts()\n",
        "  zipcode = list(tmp_zip[tmp_zip > 1000].index)\n",
        "  print('The number of zip codes to sample: ', len(zipcode))\n",
        "\n",
        "  # sampling \n",
        "  print('Sampling ', num_sample_zip, ' from each zip code')\n",
        "  sample = pd.DataFrame()\n",
        "  for zip in zipcode:\n",
        "    sample = sample.append(pp_loc_df[pp_loc_df['zipcode'] == zip].sample(num_sample_zip))\n",
        "  \n",
        "  # save the sample\n",
        "  sample.to_csv('drive/My Drive/SatTemp/chicago_synthpop_V2/sampled_persons.csv.gz')\n",
        "\n",
        "else:\n",
        "  sample = pd.read_csv('synthpop/sampled_persons.csv.gz')\n",
        "\n",
        "len(sample)"
      ],
      "execution_count": 25,
      "outputs": [
        {
          "output_type": "execute_result",
          "data": {
            "text/plain": [
              "5300"
            ]
          },
          "metadata": {
            "tags": []
          },
          "execution_count": 25
        }
      ]
    },
    {
      "cell_type": "code",
      "metadata": {
        "id": "GaPk-YQY07TX"
      },
      "source": [
        "#sample.info()"
      ],
      "execution_count": 23,
      "outputs": []
    },
    {
      "cell_type": "code",
      "metadata": {
        "id": "bDPKScsS1Gbb"
      },
      "source": [
        "def test():\n",
        "  for index, person_row in sample.iterrows():\n",
        "    generate_hourly_activity(\n",
        "        match_activity_with_coord(person_row, activity_df)\n",
        "    )\n",
        "\n",
        "# %timeit test()"
      ],
      "execution_count": 24,
      "outputs": []
    },
    {
      "cell_type": "markdown",
      "metadata": {
        "id": "mMs3tAwptO4D"
      },
      "source": [
        "# Load the raster data"
      ]
    },
    {
      "cell_type": "code",
      "metadata": {
        "id": "RKysIDQS2uH0",
        "outputId": "dbce77e1-d65f-402c-b9ee-a6d8fdcca58a",
        "colab": {
          "base_uri": "https://localhost:8080/",
          "height": 35
        }
      },
      "source": [
        "copyfile(\"drive/My Drive/SatTemp/SatTemp_Glynn_SELECT/processed.pkl\", 'processed_raster.pkl')"
      ],
      "execution_count": 26,
      "outputs": [
        {
          "output_type": "execute_result",
          "data": {
            "application/vnd.google.colaboratory.intrinsic+json": {
              "type": "string"
            },
            "text/plain": [
              "'processed_raster.pkl'"
            ]
          },
          "metadata": {
            "tags": []
          },
          "execution_count": 26
        }
      ]
    },
    {
      "cell_type": "code",
      "metadata": {
        "id": "JfHnXGNptODt"
      },
      "source": [
        "# !ls"
      ],
      "execution_count": 28,
      "outputs": []
    },
    {
      "cell_type": "code",
      "metadata": {
        "id": "jtEoO8ZPtOHC"
      },
      "source": [
        "with open('processed_raster.pkl', 'rb') as file:\n",
        "  geo_data = pickle.load(file)\n",
        "\n",
        "geo_data.keys()\n",
        "\n",
        "# using the same name\n",
        "masked_raster = geo_data['lst_raster']\n",
        "raster_shape = masked_raster[0].shape \n",
        "raster_bound = geo_data['boundary']['l00']"
      ],
      "execution_count": 29,
      "outputs": []
    },
    {
      "cell_type": "code",
      "metadata": {
        "id": "szZn0N2dtOKR",
        "outputId": "772edc8d-e507-4f21-a478-afcfa4411b05",
        "colab": {
          "base_uri": "https://localhost:8080/",
          "height": 141
        }
      },
      "source": [
        "# convert lat/lng to raster xx, yy\n",
        "\n",
        "uchicago_loc = [41.7886, -87.5987] # lat, lng\n",
        "\n",
        "def coord_to_raster(coord, bound, shape, verbose=False):\n",
        "  slope_lat = (bound[3] - bound[1]) / shape[0]\n",
        "  slope_lng = (bound[2] - bound[0]) / shape[1]\n",
        "  rst_lat = int(round((bound[3] - coord[0]) / slope_lat)) # lat\n",
        "  rst_lng = int(round((coord[1] - bound[0]) / slope_lng)) # lng\n",
        "  if verbose:\n",
        "    print(coord, ' : (', rst_lat, ',', rst_lng, ')')\n",
        "  return (rst_lat, rst_lng)\n",
        "\n",
        "coord_to_raster([raster_bound[1],raster_bound[0]], raster_bound, raster_shape, verbose=True)\n",
        "coord_to_raster([raster_bound[1],raster_bound[2]], raster_bound, raster_shape, verbose=True)\n",
        "coord_to_raster([raster_bound[3],raster_bound[0]], raster_bound, raster_shape, verbose=True)\n",
        "coord_to_raster([raster_bound[3],raster_bound[2]], raster_bound, raster_shape, verbose=True)\n",
        "coord_to_raster(uchicago_loc, raster_bound, raster_shape, verbose=True)\n",
        "\n",
        "%timeit coord_to_raster(uchicago_loc, raster_bound, raster_shape)"
      ],
      "execution_count": 30,
      "outputs": [
        {
          "output_type": "stream",
          "text": [
            "[41.46612652341049, -88.26368408376308]  : ( 685 , 0 )\n",
            "[41.46612652341049, -87.31312550993508]  : ( 685 , 952 )\n",
            "[42.14968408376307, -88.26368408376308]  : ( 0 , 0 )\n",
            "[42.14968408376307, -87.31312550993508]  : ( 0 , 952 )\n",
            "[41.7886, -87.5987]  : ( 362 , 666 )\n",
            "The slowest run took 8.07 times longer than the fastest. This could mean that an intermediate result is being cached.\n",
            "1000000 loops, best of 3: 1.14 µs per loop\n"
          ],
          "name": "stdout"
        }
      ]
    },
    {
      "cell_type": "code",
      "metadata": {
        "id": "Tb5FvrFQtONN",
        "outputId": "95d5d754-914f-47f1-98ef-db3b1458eedf",
        "colab": {
          "base_uri": "https://localhost:8080/",
          "height": 70
        }
      },
      "source": [
        "# convert temperature to heat stress\n",
        "# no stress below 20 degress, linearly-increasing stress above 20\n",
        "\n",
        "crit_temp = 20 # degress C\n",
        "\n",
        "stress_raster = np.where((masked_raster-crit_temp) < 0, 0, (masked_raster-crit_temp))\n",
        "\n",
        "stress_raster.shape"
      ],
      "execution_count": 31,
      "outputs": [
        {
          "output_type": "stream",
          "text": [
            "/usr/local/lib/python3.6/dist-packages/ipykernel_launcher.py:6: RuntimeWarning: invalid value encountered in less\n",
            "  \n"
          ],
          "name": "stderr"
        },
        {
          "output_type": "execute_result",
          "data": {
            "text/plain": [
              "(24, 685, 952)"
            ]
          },
          "metadata": {
            "tags": []
          },
          "execution_count": 31
        }
      ]
    },
    {
      "cell_type": "code",
      "metadata": {
        "id": "j8VToJIi2PpR",
        "outputId": "66059e5f-79fb-4bd4-e114-925d5653dc16",
        "colab": {
          "base_uri": "https://localhost:8080/",
          "height": 54
        }
      },
      "source": [
        "person_row = sample.iloc[0]\n",
        "tmp = generate_hourly_activity(\n",
        "        match_activity_with_coord(person_row, activity_df)\n",
        "      )\n",
        "print(tmp)"
      ],
      "execution_count": 32,
      "outputs": [
        {
          "output_type": "stream",
          "text": [
            "[[0, 1.0, 'Household', 41.7819731103871, -87.73442549545759], [1, 1, 'Household', 41.7819731103871, -87.73442549545759], [2, 1, 'Household', 41.7819731103871, -87.73442549545759], [3, 1, 'Household', 41.7819731103871, -87.73442549545759], [4, 1, 'Household', 41.7819731103871, -87.73442549545759], [5, 1, 'Household', 41.7819731103871, -87.73442549545759], [6, 1.0, 'Household', 41.7819731103871, -87.73442549545759], [7, 1.0, 'Workplace', 41.844707, -87.671752], [8, 1.0, 'Workplace', 41.844707, -87.671752], [9, 1, 'Workplace', 41.844707, -87.671752], [10, 1, 'Workplace', 41.844707, -87.671752], [11, 1.0, 'Workplace', 41.844707, -87.671752], [12, 1.0, 'Workplace', 41.844707, -87.671752], [13, 1.0, 'Workplace', 41.844707, -87.671752], [14, 1, 'Workplace', 41.844707, -87.671752], [15, 1, 'Workplace', 41.844707, -87.671752], [16, 1.0, 'Workplace', 41.844707, -87.671752], [17, 0.5, 'Workplace', 41.844707, -87.671752], [17, 0.5, 'Other', 41.7819731103871, -87.73442549545759], [18, 0.5833333333333334, 'Other', 41.7819731103871, -87.73442549545759], [18, 0.4166666666666667, 'Household', 41.7819731103871, -87.73442549545759], [19, 1.0, 'Household', 41.7819731103871, -87.73442549545759], [20, 1.0, 'Household', 41.7819731103871, -87.73442549545759], [21, 1.0, 'Household', 41.7819731103871, -87.73442549545759], [22, 1.0, 'Household', 41.7819731103871, -87.73442549545759], [23, 1.0, 'Household', 41.7819731103871, -87.73442549545759]]\n"
          ],
          "name": "stdout"
        }
      ]
    },
    {
      "cell_type": "code",
      "metadata": {
        "id": "oC2g-CwIwvkw",
        "outputId": "0a547b30-0951-4c9e-ae49-c02eb03e4f9b",
        "colab": {
          "base_uri": "https://localhost:8080/",
          "height": 70
        }
      },
      "source": [
        "def get_stress(row, stress_raster, raster_bound, raster_shape):\n",
        "  (xx,yy) = coord_to_raster(row[3:5], raster_bound, raster_shape)\n",
        "  try:\n",
        "    return stress_raster[row[0], xx, yy] * row[1]\n",
        "  except:\n",
        "    return np.nan\n",
        "\n",
        "print(get_stress(tmp[0], stress_raster, raster_bound, raster_shape))\n",
        "\n",
        "%timeit get_stress(tmp[0], stress_raster, raster_bound, raster_shape)"
      ],
      "execution_count": 33,
      "outputs": [
        {
          "output_type": "stream",
          "text": [
            "0.42862081643829697\n",
            "The slowest run took 6.33 times longer than the fastest. This could mean that an intermediate result is being cached.\n",
            "100000 loops, best of 3: 5.27 µs per loop\n"
          ],
          "name": "stdout"
        }
      ]
    },
    {
      "cell_type": "code",
      "metadata": {
        "id": "uchIYwBGCGrE",
        "outputId": "a32845a3-8a0d-4862-d1e6-80bec7e714c4",
        "colab": {
          "base_uri": "https://localhost:8080/",
          "height": 34
        }
      },
      "source": [
        "#%timeit [get_stress(row, stress_raster, raster_bound, raster_shape) for row in tmp]\n",
        "\n",
        "def get_stress_person(person_row, activity_df, stress_raster, raster_bound, raster_shape):\n",
        "  #print(person_row)  \n",
        "  def nan_helper(vct):\n",
        "    return np.isnan(vct), lambda z: z.nonzero()[0]\n",
        "\n",
        "  stress_vct = [ \n",
        "                get_stress(row, stress_raster, raster_bound, raster_shape) \n",
        "                for row in generate_hourly_activity(\n",
        "                    match_activity_with_coord(person_row, activity_df)\n",
        "                )]\n",
        "  \n",
        "  check, xx = nan_helper(stress_vct)\n",
        "  if np.isnan(sum(check)):\n",
        "    stress_vct[check] = np.interp(xx(check), xx(~check), stress_vct(~check))\n",
        "\n",
        "  return sum(stress_vct)\n",
        "\n",
        "%timeit get_stress_person(person_row, activity_df, stress_raster, raster_bound, raster_shape)"
      ],
      "execution_count": 71,
      "outputs": [
        {
          "output_type": "stream",
          "text": [
            "100 loops, best of 3: 8.04 ms per loop\n"
          ],
          "name": "stdout"
        }
      ]
    },
    {
      "cell_type": "code",
      "metadata": {
        "id": "ob-UTjfnwvtI",
        "outputId": "10d03290-111f-4f1a-cc9e-a4910dd9ddf3",
        "colab": {
          "base_uri": "https://localhost:8080/",
          "height": 336
        }
      },
      "source": [
        "def calculate_stress_score(sample, verbose=False):\n",
        "  \n",
        "  stress_score = []\n",
        "\n",
        "  for index, person_row in sample.iterrows():\n",
        "    if verbose & (index % 300 == 299):\n",
        "      print('Processing ', index)\n",
        "      \n",
        "    try:\n",
        "      stress_score.append(\n",
        "          get_stress_person(person_row, activity_df, stress_raster, raster_bound, raster_shape)\n",
        "      )\n",
        "    except:\n",
        "      stress_score.append(np.nan)\n",
        "  \n",
        "  if verbose:\n",
        "    print('Done.')\n",
        "  return stress_score\n",
        "\n",
        "#%timeit calculate_stress_score(sample)\n",
        "\n",
        "stress_score = calculate_stress_score(sample, verbose=True)\n",
        "print('Number of NaN values: ', sum(np.isnan(stress_score)))"
      ],
      "execution_count": 73,
      "outputs": [
        {
          "output_type": "stream",
          "text": [
            "Processing  299\n",
            "Processing  599\n",
            "Processing  899\n",
            "Processing  1199\n",
            "Processing  1499\n",
            "Processing  1799\n",
            "Processing  2099\n",
            "Processing  2399\n",
            "Processing  2699\n",
            "Processing  2999\n",
            "Processing  3299\n",
            "Processing  3599\n",
            "Processing  3899\n",
            "Processing  4199\n",
            "Processing  4499\n",
            "Processing  4799\n",
            "Processing  5099\n",
            "Done.\n"
          ],
          "name": "stdout"
        }
      ]
    },
    {
      "cell_type": "code",
      "metadata": {
        "id": "rTE8sr8bDyHx"
      },
      "source": [
        "stress_df = sample[['person_id', 'sex', 'age', 'zipcode']].merge(\n",
        "    pd.DataFrame(stress_score, columns=['stress_score']), \n",
        "    left_index=True, right_index=True)"
      ],
      "execution_count": 80,
      "outputs": []
    },
    {
      "cell_type": "code",
      "metadata": {
        "id": "aKA5Wx92FXuj",
        "outputId": "c66fdf5c-f80a-4439-caa8-712e6bd88c85",
        "colab": {
          "base_uri": "https://localhost:8080/",
          "height": 227
        }
      },
      "source": [
        "agg_by_zip = stress_df.groupby('zipcode').agg({\n",
        "    'sex': lambda x: (x==1).mean(), \n",
        "    'age': np.nanmean, \n",
        "    'stress_score': [np.nanmean, lambda x: x.isnull().mean()]\n",
        "}).reset_index('zipcode')\n",
        "\n",
        "agg_by_zip.head()"
      ],
      "execution_count": 101,
      "outputs": [
        {
          "output_type": "execute_result",
          "data": {
            "text/html": [
              "<div>\n",
              "<style scoped>\n",
              "    .dataframe tbody tr th:only-of-type {\n",
              "        vertical-align: middle;\n",
              "    }\n",
              "\n",
              "    .dataframe tbody tr th {\n",
              "        vertical-align: top;\n",
              "    }\n",
              "\n",
              "    .dataframe thead tr th {\n",
              "        text-align: left;\n",
              "    }\n",
              "</style>\n",
              "<table border=\"1\" class=\"dataframe\">\n",
              "  <thead>\n",
              "    <tr>\n",
              "      <th></th>\n",
              "      <th>zipcode</th>\n",
              "      <th>sex</th>\n",
              "      <th>age</th>\n",
              "      <th colspan=\"2\" halign=\"left\">stress_score</th>\n",
              "    </tr>\n",
              "    <tr>\n",
              "      <th></th>\n",
              "      <th></th>\n",
              "      <th>&lt;lambda&gt;</th>\n",
              "      <th>nanmean</th>\n",
              "      <th>nanmean</th>\n",
              "      <th>&lt;lambda_0&gt;</th>\n",
              "    </tr>\n",
              "  </thead>\n",
              "  <tbody>\n",
              "    <tr>\n",
              "      <th>0</th>\n",
              "      <td>60601.0</td>\n",
              "      <td>0.42</td>\n",
              "      <td>44.23</td>\n",
              "      <td>5.634215</td>\n",
              "      <td>0.00</td>\n",
              "    </tr>\n",
              "    <tr>\n",
              "      <th>1</th>\n",
              "      <td>60605.0</td>\n",
              "      <td>0.39</td>\n",
              "      <td>38.74</td>\n",
              "      <td>17.769965</td>\n",
              "      <td>0.00</td>\n",
              "    </tr>\n",
              "    <tr>\n",
              "      <th>2</th>\n",
              "      <td>60606.0</td>\n",
              "      <td>0.60</td>\n",
              "      <td>35.18</td>\n",
              "      <td>47.209015</td>\n",
              "      <td>0.01</td>\n",
              "    </tr>\n",
              "    <tr>\n",
              "      <th>3</th>\n",
              "      <td>60607.0</td>\n",
              "      <td>0.47</td>\n",
              "      <td>36.12</td>\n",
              "      <td>87.737735</td>\n",
              "      <td>0.01</td>\n",
              "    </tr>\n",
              "    <tr>\n",
              "      <th>4</th>\n",
              "      <td>60608.0</td>\n",
              "      <td>0.46</td>\n",
              "      <td>25.81</td>\n",
              "      <td>98.960949</td>\n",
              "      <td>0.00</td>\n",
              "    </tr>\n",
              "  </tbody>\n",
              "</table>\n",
              "</div>"
            ],
            "text/plain": [
              "   zipcode      sex     age stress_score           \n",
              "           <lambda> nanmean      nanmean <lambda_0>\n",
              "0  60601.0     0.42   44.23     5.634215       0.00\n",
              "1  60605.0     0.39   38.74    17.769965       0.00\n",
              "2  60606.0     0.60   35.18    47.209015       0.01\n",
              "3  60607.0     0.47   36.12    87.737735       0.01\n",
              "4  60608.0     0.46   25.81    98.960949       0.00"
            ]
          },
          "metadata": {
            "tags": []
          },
          "execution_count": 101
        }
      ]
    },
    {
      "cell_type": "code",
      "metadata": {
        "id": "QwuVBbdfAHo2",
        "outputId": "e1cb3bd0-cdcb-44b2-daf0-6a38176b2171",
        "colab": {
          "base_uri": "https://localhost:8080/",
          "height": 197
        }
      },
      "source": [
        "agg_by_zip.columns = ['zipcode', 'gender_ratio', 'mean_age', 'stress_score', 'nan_ratio']\n",
        "\n",
        "agg_by_zip.head()"
      ],
      "execution_count": 104,
      "outputs": [
        {
          "output_type": "execute_result",
          "data": {
            "text/html": [
              "<div>\n",
              "<style scoped>\n",
              "    .dataframe tbody tr th:only-of-type {\n",
              "        vertical-align: middle;\n",
              "    }\n",
              "\n",
              "    .dataframe tbody tr th {\n",
              "        vertical-align: top;\n",
              "    }\n",
              "\n",
              "    .dataframe thead th {\n",
              "        text-align: right;\n",
              "    }\n",
              "</style>\n",
              "<table border=\"1\" class=\"dataframe\">\n",
              "  <thead>\n",
              "    <tr style=\"text-align: right;\">\n",
              "      <th></th>\n",
              "      <th>zipcode</th>\n",
              "      <th>gender_ratio</th>\n",
              "      <th>mean_age</th>\n",
              "      <th>stress_score</th>\n",
              "      <th>nan_ratio</th>\n",
              "    </tr>\n",
              "  </thead>\n",
              "  <tbody>\n",
              "    <tr>\n",
              "      <th>0</th>\n",
              "      <td>60601.0</td>\n",
              "      <td>0.42</td>\n",
              "      <td>44.23</td>\n",
              "      <td>5.634215</td>\n",
              "      <td>0.00</td>\n",
              "    </tr>\n",
              "    <tr>\n",
              "      <th>1</th>\n",
              "      <td>60605.0</td>\n",
              "      <td>0.39</td>\n",
              "      <td>38.74</td>\n",
              "      <td>17.769965</td>\n",
              "      <td>0.00</td>\n",
              "    </tr>\n",
              "    <tr>\n",
              "      <th>2</th>\n",
              "      <td>60606.0</td>\n",
              "      <td>0.60</td>\n",
              "      <td>35.18</td>\n",
              "      <td>47.209015</td>\n",
              "      <td>0.01</td>\n",
              "    </tr>\n",
              "    <tr>\n",
              "      <th>3</th>\n",
              "      <td>60607.0</td>\n",
              "      <td>0.47</td>\n",
              "      <td>36.12</td>\n",
              "      <td>87.737735</td>\n",
              "      <td>0.01</td>\n",
              "    </tr>\n",
              "    <tr>\n",
              "      <th>4</th>\n",
              "      <td>60608.0</td>\n",
              "      <td>0.46</td>\n",
              "      <td>25.81</td>\n",
              "      <td>98.960949</td>\n",
              "      <td>0.00</td>\n",
              "    </tr>\n",
              "  </tbody>\n",
              "</table>\n",
              "</div>"
            ],
            "text/plain": [
              "   zipcode  gender_ratio  mean_age  stress_score  nan_ratio\n",
              "0  60601.0          0.42     44.23      5.634215       0.00\n",
              "1  60605.0          0.39     38.74     17.769965       0.00\n",
              "2  60606.0          0.60     35.18     47.209015       0.01\n",
              "3  60607.0          0.47     36.12     87.737735       0.01\n",
              "4  60608.0          0.46     25.81     98.960949       0.00"
            ]
          },
          "metadata": {
            "tags": []
          },
          "execution_count": 104
        }
      ]
    },
    {
      "cell_type": "code",
      "metadata": {
        "id": "o9Xi78yFY8Vj"
      },
      "source": [
        "agg_by_zip['zip'] = agg_by_zip['zipcode'].astype('int').astype('str')"
      ],
      "execution_count": 114,
      "outputs": []
    },
    {
      "cell_type": "markdown",
      "metadata": {
        "id": "VkZjBrpYXkC8"
      },
      "source": [
        "# Visulaize!"
      ]
    },
    {
      "cell_type": "code",
      "metadata": {
        "id": "XMuCeI5BE9wV",
        "outputId": "f0ddeec1-fd8d-44f2-bcd3-59a3378a9c5d",
        "colab": {
          "base_uri": "https://localhost:8080/",
          "height": 1000
        }
      },
      "source": [
        "!apt install python-rtree=0.8.3+ds-1\n",
        "!pip install geopandas==0.7.0"
      ],
      "execution_count": 105,
      "outputs": [
        {
          "output_type": "stream",
          "text": [
            "Reading package lists... Done\n",
            "Building dependency tree       \n",
            "Reading state information... Done\n",
            "The following additional packages will be installed:\n",
            "  javascript-common libjs-jquery libjs-underscore libspatialindex-c4v5\n",
            "  libspatialindex-dev libspatialindex4v5 python-pkg-resources\n",
            "Suggested packages:\n",
            "  apache2 | lighttpd | httpd python-setuptools\n",
            "The following NEW packages will be installed:\n",
            "  javascript-common libjs-jquery libjs-underscore libspatialindex-c4v5\n",
            "  libspatialindex-dev libspatialindex4v5 python-pkg-resources python-rtree\n",
            "0 upgraded, 8 newly installed, 0 to remove and 21 not upgraded.\n",
            "Need to get 959 kB of archives.\n",
            "After this operation, 5,144 kB of additional disk space will be used.\n",
            "Get:1 http://archive.ubuntu.com/ubuntu bionic/main amd64 javascript-common all 11 [6,066 B]\n",
            "Get:2 http://archive.ubuntu.com/ubuntu bionic/main amd64 libjs-jquery all 3.2.1-1 [152 kB]\n",
            "Get:3 http://archive.ubuntu.com/ubuntu bionic/main amd64 libjs-underscore all 1.8.3~dfsg-1 [59.9 kB]\n",
            "Get:4 http://archive.ubuntu.com/ubuntu bionic/universe amd64 libspatialindex4v5 amd64 1.8.5-5 [219 kB]\n",
            "Get:5 http://archive.ubuntu.com/ubuntu bionic/universe amd64 libspatialindex-c4v5 amd64 1.8.5-5 [51.7 kB]\n",
            "Get:6 http://archive.ubuntu.com/ubuntu bionic/main amd64 python-pkg-resources all 39.0.1-2 [128 kB]\n",
            "Get:7 http://archive.ubuntu.com/ubuntu bionic/universe amd64 libspatialindex-dev amd64 1.8.5-5 [285 kB]\n",
            "Get:8 http://archive.ubuntu.com/ubuntu bionic/universe amd64 python-rtree all 0.8.3+ds-1 [58.0 kB]\n",
            "Fetched 959 kB in 1s (1,225 kB/s)\n",
            "Selecting previously unselected package javascript-common.\n",
            "(Reading database ... 144611 files and directories currently installed.)\n",
            "Preparing to unpack .../0-javascript-common_11_all.deb ...\n",
            "Unpacking javascript-common (11) ...\n",
            "Selecting previously unselected package libjs-jquery.\n",
            "Preparing to unpack .../1-libjs-jquery_3.2.1-1_all.deb ...\n",
            "Unpacking libjs-jquery (3.2.1-1) ...\n",
            "Selecting previously unselected package libjs-underscore.\n",
            "Preparing to unpack .../2-libjs-underscore_1.8.3~dfsg-1_all.deb ...\n",
            "Unpacking libjs-underscore (1.8.3~dfsg-1) ...\n",
            "Selecting previously unselected package libspatialindex4v5:amd64.\n",
            "Preparing to unpack .../3-libspatialindex4v5_1.8.5-5_amd64.deb ...\n",
            "Unpacking libspatialindex4v5:amd64 (1.8.5-5) ...\n",
            "Selecting previously unselected package libspatialindex-c4v5:amd64.\n",
            "Preparing to unpack .../4-libspatialindex-c4v5_1.8.5-5_amd64.deb ...\n",
            "Unpacking libspatialindex-c4v5:amd64 (1.8.5-5) ...\n",
            "Selecting previously unselected package python-pkg-resources.\n",
            "Preparing to unpack .../5-python-pkg-resources_39.0.1-2_all.deb ...\n",
            "Unpacking python-pkg-resources (39.0.1-2) ...\n",
            "Selecting previously unselected package libspatialindex-dev:amd64.\n",
            "Preparing to unpack .../6-libspatialindex-dev_1.8.5-5_amd64.deb ...\n",
            "Unpacking libspatialindex-dev:amd64 (1.8.5-5) ...\n",
            "Selecting previously unselected package python-rtree.\n",
            "Preparing to unpack .../7-python-rtree_0.8.3+ds-1_all.deb ...\n",
            "Unpacking python-rtree (0.8.3+ds-1) ...\n",
            "Setting up libjs-jquery (3.2.1-1) ...\n",
            "Setting up libspatialindex4v5:amd64 (1.8.5-5) ...\n",
            "Setting up libjs-underscore (1.8.3~dfsg-1) ...\n",
            "Setting up python-pkg-resources (39.0.1-2) ...\n",
            "Setting up libspatialindex-c4v5:amd64 (1.8.5-5) ...\n",
            "Setting up javascript-common (11) ...\n",
            "Setting up libspatialindex-dev:amd64 (1.8.5-5) ...\n",
            "Setting up python-rtree (0.8.3+ds-1) ...\n",
            "Processing triggers for libc-bin (2.27-3ubuntu1.2) ...\n",
            "/sbin/ldconfig.real: /usr/local/lib/python3.6/dist-packages/ideep4py/lib/libmkldnn.so.0 is not a symbolic link\n",
            "\n",
            "Collecting geopandas==0.7.0\n",
            "\u001b[?25l  Downloading https://files.pythonhosted.org/packages/83/c5/3cf9cdc39a6f2552922f79915f36b45a95b71fd343cfc51170a5b6ddb6e8/geopandas-0.7.0-py2.py3-none-any.whl (928kB)\n",
            "\u001b[K     |████████████████████████████████| 931kB 2.8MB/s \n",
            "\u001b[?25hCollecting pyproj>=2.2.0\n",
            "\u001b[?25l  Downloading https://files.pythonhosted.org/packages/e5/c3/071e080230ac4b6c64f1a2e2f9161c9737a2bc7b683d2c90b024825000c0/pyproj-2.6.1.post1-cp36-cp36m-manylinux2010_x86_64.whl (10.9MB)\n",
            "\u001b[K     |████████████████████████████████| 10.9MB 7.4MB/s \n",
            "\u001b[?25hCollecting fiona\n",
            "\u001b[?25l  Downloading https://files.pythonhosted.org/packages/36/8b/e8b2c11bed5373c8e98edb85ce891b09aa1f4210fd451d0fb3696b7695a2/Fiona-1.8.17-cp36-cp36m-manylinux1_x86_64.whl (14.8MB)\n",
            "\u001b[K     |████████████████████████████████| 14.8MB 304kB/s \n",
            "\u001b[?25hRequirement already satisfied: shapely in /usr/local/lib/python3.6/dist-packages (from geopandas==0.7.0) (1.7.1)\n",
            "Requirement already satisfied: pandas>=0.23.0 in /usr/local/lib/python3.6/dist-packages (from geopandas==0.7.0) (1.1.2)\n",
            "Requirement already satisfied: attrs>=17 in /usr/local/lib/python3.6/dist-packages (from fiona->geopandas==0.7.0) (20.2.0)\n",
            "Requirement already satisfied: six>=1.7 in /usr/local/lib/python3.6/dist-packages (from fiona->geopandas==0.7.0) (1.15.0)\n",
            "Requirement already satisfied: click<8,>=4.0 in /usr/local/lib/python3.6/dist-packages (from fiona->geopandas==0.7.0) (7.1.2)\n",
            "Collecting munch\n",
            "  Downloading https://files.pythonhosted.org/packages/cc/ab/85d8da5c9a45e072301beb37ad7f833cd344e04c817d97e0cc75681d248f/munch-2.5.0-py2.py3-none-any.whl\n",
            "Requirement already satisfied: cligj>=0.5 in /usr/local/lib/python3.6/dist-packages (from fiona->geopandas==0.7.0) (0.6.0)\n",
            "Requirement already satisfied: click-plugins>=1.0 in /usr/local/lib/python3.6/dist-packages (from fiona->geopandas==0.7.0) (1.1.1)\n",
            "Requirement already satisfied: pytz>=2017.2 in /usr/local/lib/python3.6/dist-packages (from pandas>=0.23.0->geopandas==0.7.0) (2018.9)\n",
            "Requirement already satisfied: numpy>=1.15.4 in /usr/local/lib/python3.6/dist-packages (from pandas>=0.23.0->geopandas==0.7.0) (1.18.5)\n",
            "Requirement already satisfied: python-dateutil>=2.7.3 in /usr/local/lib/python3.6/dist-packages (from pandas>=0.23.0->geopandas==0.7.0) (2.8.1)\n",
            "Installing collected packages: pyproj, munch, fiona, geopandas\n",
            "Successfully installed fiona-1.8.17 geopandas-0.7.0 munch-2.5.0 pyproj-2.6.1.post1\n"
          ],
          "name": "stdout"
        }
      ]
    },
    {
      "cell_type": "code",
      "metadata": {
        "id": "edMjR7jEYXWE"
      },
      "source": [
        "import geopandas as gpd\n",
        "from fiona.crs import from_epsg\n"
      ],
      "execution_count": 109,
      "outputs": []
    },
    {
      "cell_type": "code",
      "metadata": {
        "id": "FAdeDkG_YJHU",
        "outputId": "74ed4493-f9b6-408a-d4db-9e78986b6ca9",
        "colab": {
          "base_uri": "https://localhost:8080/",
          "height": 230
        }
      },
      "source": [
        "chi_zipcode = gpd.read_file('https://data.cityofchicago.org/api/geospatial/gdcf-axmw?method=export&format=GeoJSON', # zipcode\n",
        "                            crs = from_epsg(2163)).to_crs(epsg = 3528)"
      ],
      "execution_count": 110,
      "outputs": [
        {
          "output_type": "stream",
          "text": [
            "<class 'geopandas.geodataframe.GeoDataFrame'>\n",
            "RangeIndex: 61 entries, 0 to 60\n",
            "Data columns (total 5 columns):\n",
            " #   Column      Non-Null Count  Dtype   \n",
            "---  ------      --------------  -----   \n",
            " 0   objectid    61 non-null     object  \n",
            " 1   shape_area  61 non-null     object  \n",
            " 2   shape_len   61 non-null     object  \n",
            " 3   zip         61 non-null     object  \n",
            " 4   geometry    61 non-null     geometry\n",
            "dtypes: geometry(1), object(4)\n",
            "memory usage: 2.5+ KB\n"
          ],
          "name": "stdout"
        }
      ]
    },
    {
      "cell_type": "code",
      "metadata": {
        "id": "k08BJ-WAY32i",
        "outputId": "49cebba0-f2e3-4d87-bdd4-20e2e930c450",
        "colab": {
          "base_uri": "https://localhost:8080/",
          "height": 197
        }
      },
      "source": [
        "chi_zipcode.head()"
      ],
      "execution_count": 112,
      "outputs": [
        {
          "output_type": "execute_result",
          "data": {
            "text/html": [
              "<div>\n",
              "<style scoped>\n",
              "    .dataframe tbody tr th:only-of-type {\n",
              "        vertical-align: middle;\n",
              "    }\n",
              "\n",
              "    .dataframe tbody tr th {\n",
              "        vertical-align: top;\n",
              "    }\n",
              "\n",
              "    .dataframe thead th {\n",
              "        text-align: right;\n",
              "    }\n",
              "</style>\n",
              "<table border=\"1\" class=\"dataframe\">\n",
              "  <thead>\n",
              "    <tr style=\"text-align: right;\">\n",
              "      <th></th>\n",
              "      <th>objectid</th>\n",
              "      <th>shape_area</th>\n",
              "      <th>shape_len</th>\n",
              "      <th>zip</th>\n",
              "      <th>geometry</th>\n",
              "    </tr>\n",
              "  </thead>\n",
              "  <tbody>\n",
              "    <tr>\n",
              "      <th>0</th>\n",
              "      <td>33</td>\n",
              "      <td>106052287.488</td>\n",
              "      <td>42720.0444058</td>\n",
              "      <td>60647</td>\n",
              "      <td>MULTIPOLYGON (((354394.891 583175.936, 354396....</td>\n",
              "    </tr>\n",
              "    <tr>\n",
              "      <th>1</th>\n",
              "      <td>34</td>\n",
              "      <td>127476050.762</td>\n",
              "      <td>48103.7827213</td>\n",
              "      <td>60639</td>\n",
              "      <td>MULTIPOLYGON (((350308.709 583688.854, 350300....</td>\n",
              "    </tr>\n",
              "    <tr>\n",
              "      <th>2</th>\n",
              "      <td>35</td>\n",
              "      <td>45069038.4783</td>\n",
              "      <td>27288.6096123</td>\n",
              "      <td>60707</td>\n",
              "      <td>MULTIPOLYGON (((345493.140 582157.103, 345467....</td>\n",
              "    </tr>\n",
              "    <tr>\n",
              "      <th>3</th>\n",
              "      <td>36</td>\n",
              "      <td>70853834.3797</td>\n",
              "      <td>42527.9896789</td>\n",
              "      <td>60622</td>\n",
              "      <td>MULTIPOLYGON (((355295.245 579972.119, 355295....</td>\n",
              "    </tr>\n",
              "    <tr>\n",
              "      <th>4</th>\n",
              "      <td>37</td>\n",
              "      <td>99039621.2518</td>\n",
              "      <td>47970.1401531</td>\n",
              "      <td>60651</td>\n",
              "      <td>MULTIPOLYGON (((352012.599 580691.759, 351998....</td>\n",
              "    </tr>\n",
              "  </tbody>\n",
              "</table>\n",
              "</div>"
            ],
            "text/plain": [
              "  objectid  ...                                           geometry\n",
              "0       33  ...  MULTIPOLYGON (((354394.891 583175.936, 354396....\n",
              "1       34  ...  MULTIPOLYGON (((350308.709 583688.854, 350300....\n",
              "2       35  ...  MULTIPOLYGON (((345493.140 582157.103, 345467....\n",
              "3       36  ...  MULTIPOLYGON (((355295.245 579972.119, 355295....\n",
              "4       37  ...  MULTIPOLYGON (((352012.599 580691.759, 351998....\n",
              "\n",
              "[5 rows x 5 columns]"
            ]
          },
          "metadata": {
            "tags": []
          },
          "execution_count": 112
        }
      ]
    },
    {
      "cell_type": "code",
      "metadata": {
        "id": "0H9wp3GAYUy4"
      },
      "source": [
        "# merge heat stress with zipcode\n",
        "stress_gdf = pd.merge(chi_zipcode, agg_by_zip, how='left', left_on='zip', right_on='zip')"
      ],
      "execution_count": 115,
      "outputs": []
    },
    {
      "cell_type": "code",
      "metadata": {
        "id": "stToXfAIY0ju",
        "outputId": "bcd89cb3-b52f-4e7e-9ec1-1e9154f61eab",
        "colab": {
          "base_uri": "https://localhost:8080/",
          "height": 592
        }
      },
      "source": [
        "ax = stress_gdf.plot(column='stress_score',\n",
        "                     cmap = \"coolwarm\",\n",
        "                     legend = True,\n",
        "                     figsize=(12,10))"
      ],
      "execution_count": 120,
      "outputs": [
        {
          "output_type": "display_data",
          "data": {
            "image/png": "[encoded data removed]",
            "text/plain": [
              "<Figure size 864x720 with 2 Axes>"
            ]
          },
          "metadata": {
            "tags": [],
            "needs_background": "light"
          }
        }
      ]
    },
    {
      "cell_type": "markdown",
      "metadata": {
        "id": "x8kLcwf9bCDC"
      },
      "source": [
        "### Compare with Ashish's heat vulnerability index figure\n",
        "https://iopscience.iop.org/article/10.1088/1748-9326/aad93c\n",
        "\n",
        "Note that the above figure should look like the Roof Temp panel because the current heat stress score is entirely determined by the Land Surface Temperature.\n",
        "\n",
        "![picture](https://cdn.iopscience.com/images/1748-9326/13/9/094011/Full/erlaad93cf3_lr.jpg)"
      ]
    }
  ]
}