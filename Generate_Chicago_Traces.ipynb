{
  "nbformat": 4,
  "nbformat_minor": 0,
  "metadata": {
    "colab": {
      "name": "Generate_Chicago_Traces.ipynb",
      "provenance": [],
      "authorship_tag": "ABX9TyOlAWSvRnHj5DvDpCdNO/Kv",
      "include_colab_link": true
    },
    "kernelspec": {
      "name": "python3",
      "display_name": "Python 3"
    }
  },
  "cells": [
    {
      "cell_type": "markdown",
      "metadata": {
        "id": "view-in-github",
        "colab_type": "text"
      },
      "source": [
        "<a href=\"https://colab.research.google.com/github/kywch/geo-colab/blob/master/Generate_Chicago_Traces.ipynb\" target=\"_parent\"><img src=\"https://colab.research.google.com/assets/colab-badge.svg\" alt=\"Open In Colab\"/></a>"
      ]
    },
    {
      "cell_type": "code",
      "metadata": {
        "id": "fm-2TO7D6xmS"
      },
      "source": [
        "# Import necessary packages\n",
        "import os, os.path\n",
        "from glob import glob\n",
        "from shutil import copyfile\n",
        "\n",
        "import pandas as pd"
      ],
      "execution_count": 1,
      "outputs": []
    },
    {
      "cell_type": "code",
      "metadata": {
        "id": "SqbMd97Z69xp",
        "outputId": "b86db2a5-bb27-4122-f5b1-aa31c20d7049",
        "colab": {
          "base_uri": "https://localhost:8080/",
          "height": 34
        }
      },
      "source": [
        "from google.colab import drive\n",
        "drive.mount('/content/drive')"
      ],
      "execution_count": 2,
      "outputs": [
        {
          "output_type": "stream",
          "text": [
            "Mounted at /content/drive\n"
          ],
          "name": "stdout"
        }
      ]
    },
    {
      "cell_type": "code",
      "metadata": {
        "id": "rzLl1Ce77G_P",
        "outputId": "35329bda-e610-4e5b-8ea8-2d116e2d1399",
        "colab": {
          "base_uri": "https://localhost:8080/",
          "height": 54
        }
      },
      "source": [
        "files = glob(\"drive/My Drive/SatTemp/chicago_synthpop_V2/*.csv.gz\")\n",
        "print(files)"
      ],
      "execution_count": 3,
      "outputs": [
        {
          "output_type": "stream",
          "text": [
            "['drive/My Drive/SatTemp/chicago_synthpop_V2/persons_v2.csv.gz', 'drive/My Drive/SatTemp/chicago_synthpop_V2/places_v2_256p_lb_v2.csv.gz', 'drive/My Drive/SatTemp/chicago_synthpop_V2/activities_v2.csv.gz', 'drive/My Drive/SatTemp/chicago_synthpop_V2/places_v2.csv.gz', 'drive/My Drive/SatTemp/chicago_synthpop_V2/places_60615.csv.gz', 'drive/My Drive/SatTemp/chicago_synthpop_V2/persons_60615.csv.gz']\n"
          ],
          "name": "stdout"
        }
      ]
    },
    {
      "cell_type": "code",
      "metadata": {
        "id": "HIzruTZi7Zpe"
      },
      "source": [
        "!rm -rf synthpop\n",
        "if not os.path.exists('synthpop'):\n",
        "  os.mkdir('synthpop')"
      ],
      "execution_count": 4,
      "outputs": []
    },
    {
      "cell_type": "code",
      "metadata": {
        "id": "O_hx42gW8-C_",
        "outputId": "b4e41ae8-aece-49fa-c821-87e47ce2af01",
        "colab": {
          "base_uri": "https://localhost:8080/",
          "height": 123
        }
      },
      "source": [
        "# copy these files from Google Drive to colab disk\n",
        "for f in files:\n",
        "  print(f)\n",
        "  copyfile(f, 'synthpop/' + os.path.basename(f))"
      ],
      "execution_count": 5,
      "outputs": [
        {
          "output_type": "stream",
          "text": [
            "drive/My Drive/SatTemp/chicago_synthpop_V2/persons_v2.csv.gz\n",
            "drive/My Drive/SatTemp/chicago_synthpop_V2/places_v2_256p_lb_v2.csv.gz\n",
            "drive/My Drive/SatTemp/chicago_synthpop_V2/activities_v2.csv.gz\n",
            "drive/My Drive/SatTemp/chicago_synthpop_V2/places_v2.csv.gz\n",
            "drive/My Drive/SatTemp/chicago_synthpop_V2/places_60615.csv.gz\n",
            "drive/My Drive/SatTemp/chicago_synthpop_V2/persons_60615.csv.gz\n"
          ],
          "name": "stdout"
        }
      ]
    },
    {
      "cell_type": "code",
      "metadata": {
        "id": "wI5A60Nz9A1f",
        "outputId": "50354c7c-b497-4976-9c50-2064040f4445",
        "colab": {
          "base_uri": "https://localhost:8080/",
          "height": 585
        }
      },
      "source": [
        "# look at people\n",
        "persons_df = pd.read_csv('synthpop/persons_v2.csv.gz')\n",
        "persons_df.info()"
      ],
      "execution_count": 6,
      "outputs": [
        {
          "output_type": "stream",
          "text": [
            "/usr/local/lib/python3.6/dist-packages/IPython/core/interactiveshell.py:2718: DtypeWarning: Columns (1) have mixed types.Specify dtype option on import or set low_memory=False.\n",
            "  interactivity=interactivity, compiler=compiler, result=result)\n"
          ],
          "name": "stderr"
        },
        {
          "output_type": "stream",
          "text": [
            "<class 'pandas.core.frame.DataFrame'>\n",
            "RangeIndex: 2927761 entries, 0 to 2927760\n",
            "Data columns (total 23 columns):\n",
            " #   Column                    Dtype  \n",
            "---  ------                    -----  \n",
            " 0   numeric_id                int64  \n",
            " 1   person_id                 object \n",
            " 2   hh_id                     float64\n",
            " 3   relate                    float64\n",
            " 4   sex                       int64  \n",
            " 5   age                       int64  \n",
            " 6   gq_id                     float64\n",
            " 7   school_id                 float64\n",
            " 8   work_id                   float64\n",
            " 9   daycare_id                float64\n",
            " 10  gym_id                    float64\n",
            " 11  hospital_id               float64\n",
            " 12  jail                      float64\n",
            " 13  jail_id                   int64  \n",
            " 14  rank                      int64  \n",
            " 15  weekday_schedule_id_list  object \n",
            " 16  weekend_schedule_id_list  object \n",
            " 17  otherhh_id                object \n",
            " 18  home_restaurant_id        object \n",
            " 19  recreation_id             object \n",
            " 20  grocery_id                object \n",
            " 21  worship_id                float64\n",
            " 22  work_restaurant_id        object \n",
            "dtypes: float64(10), int64(5), object(8)\n",
            "memory usage: 513.8+ MB\n"
          ],
          "name": "stdout"
        }
      ]
    },
    {
      "cell_type": "code",
      "metadata": {
        "id": "ACdaeVcK9N9P",
        "outputId": "fd50232b-73d0-4bd4-9e89-b478e7c34565",
        "colab": {
          "base_uri": "https://localhost:8080/",
          "height": 354
        }
      },
      "source": [
        "# places\n",
        "places_df = pd.read_csv('synthpop/places_v2.csv.gz')\n",
        "places_df.info()"
      ],
      "execution_count": 7,
      "outputs": [
        {
          "output_type": "stream",
          "text": [
            "/usr/local/lib/python3.6/dist-packages/IPython/core/interactiveshell.py:2718: DtypeWarning: Columns (1) have mixed types.Specify dtype option on import or set low_memory=False.\n",
            "  interactivity=interactivity, compiler=compiler, result=result)\n"
          ],
          "name": "stderr"
        },
        {
          "output_type": "stream",
          "text": [
            "<class 'pandas.core.frame.DataFrame'>\n",
            "RangeIndex: 1210722 entries, 0 to 1210721\n",
            "Data columns (total 10 columns):\n",
            " #   Column      Non-Null Count    Dtype  \n",
            "---  ------      --------------    -----  \n",
            " 0   numeric_id  1210722 non-null  float64\n",
            " 1   place_id    1210722 non-null  object \n",
            " 2   place_type  1210722 non-null  object \n",
            " 3   name        1093276 non-null  object \n",
            " 4   persons     1077336 non-null  float64\n",
            " 5   latitude    1210668 non-null  float64\n",
            " 6   longitude   1210668 non-null  float64\n",
            " 7   zipcode     1204493 non-null  float64\n",
            " 8   zip_grp     1194456 non-null  float64\n",
            " 9   rank        1210722 non-null  int64  \n",
            "dtypes: float64(6), int64(1), object(3)\n",
            "memory usage: 92.4+ MB\n"
          ],
          "name": "stdout"
        }
      ]
    },
    {
      "cell_type": "code",
      "metadata": {
        "id": "VENwX3zn9_zK",
        "outputId": "3c7b64c7-d200-4f1d-b37f-79c63cb6a36e",
        "colab": {
          "base_uri": "https://localhost:8080/",
          "height": 230
        }
      },
      "source": [
        "# activities\n",
        "activity_df = pd.read_csv('synthpop/activities_v2.csv.gz')\n",
        "activity_df.info()"
      ],
      "execution_count": 8,
      "outputs": [
        {
          "output_type": "stream",
          "text": [
            "<class 'pandas.core.frame.DataFrame'>\n",
            "RangeIndex: 239781 entries, 0 to 239780\n",
            "Data columns (total 5 columns):\n",
            " #   Column          Non-Null Count   Dtype \n",
            "---  ------          --------------   ----- \n",
            " 0   Act_SlNo        239781 non-null  int64 \n",
            " 1   start_time      239781 non-null  int64 \n",
            " 2   stop_time       239781 non-null  int64 \n",
            " 3   Social_Act_Loc  239781 non-null  object\n",
            " 4   schedule_id     239781 non-null  int64 \n",
            "dtypes: int64(4), object(1)\n",
            "memory usage: 9.1+ MB\n"
          ],
          "name": "stdout"
        }
      ]
    },
    {
      "cell_type": "code",
      "metadata": {
        "id": "ErXiFkNO9er-",
        "outputId": "6d72f6e4-0aa5-48a1-ee61-b7651f2b04ba",
        "colab": {
          "base_uri": "https://localhost:8080/",
          "height": 235
        }
      },
      "source": [
        "# check the number of unique persons\n",
        "print(len(persons_df.person_id), len(persons_df.person_id.unique()))\n",
        "persons_df.head()"
      ],
      "execution_count": 13,
      "outputs": [
        {
          "output_type": "stream",
          "text": [
            "2927761 2927761\n"
          ],
          "name": "stdout"
        },
        {
          "output_type": "execute_result",
          "data": {
            "text/html": [
              "<div>\n",
              "<style scoped>\n",
              "    .dataframe tbody tr th:only-of-type {\n",
              "        vertical-align: middle;\n",
              "    }\n",
              "\n",
              "    .dataframe tbody tr th {\n",
              "        vertical-align: top;\n",
              "    }\n",
              "\n",
              "    .dataframe thead th {\n",
              "        text-align: right;\n",
              "    }\n",
              "</style>\n",
              "<table border=\"1\" class=\"dataframe\">\n",
              "  <thead>\n",
              "    <tr style=\"text-align: right;\">\n",
              "      <th></th>\n",
              "      <th>numeric_id</th>\n",
              "      <th>person_id</th>\n",
              "      <th>hh_id</th>\n",
              "      <th>relate</th>\n",
              "      <th>sex</th>\n",
              "      <th>age</th>\n",
              "      <th>gq_id</th>\n",
              "      <th>school_id</th>\n",
              "      <th>work_id</th>\n",
              "      <th>daycare_id</th>\n",
              "      <th>gym_id</th>\n",
              "      <th>hospital_id</th>\n",
              "      <th>jail</th>\n",
              "      <th>jail_id</th>\n",
              "      <th>rank</th>\n",
              "      <th>weekday_schedule_id_list</th>\n",
              "      <th>weekend_schedule_id_list</th>\n",
              "      <th>otherhh_id</th>\n",
              "      <th>home_restaurant_id</th>\n",
              "      <th>recreation_id</th>\n",
              "      <th>grocery_id</th>\n",
              "      <th>worship_id</th>\n",
              "      <th>work_restaurant_id</th>\n",
              "    </tr>\n",
              "  </thead>\n",
              "  <tbody>\n",
              "    <tr>\n",
              "      <th>0</th>\n",
              "      <td>1</td>\n",
              "      <td>1595930</td>\n",
              "      <td>1181524.0</td>\n",
              "      <td>1.0</td>\n",
              "      <td>2</td>\n",
              "      <td>82</td>\n",
              "      <td>NaN</td>\n",
              "      <td>NaN</td>\n",
              "      <td>NaN</td>\n",
              "      <td>579139.0</td>\n",
              "      <td>1181263.0</td>\n",
              "      <td>70.0</td>\n",
              "      <td>0.000002</td>\n",
              "      <td>1194221</td>\n",
              "      <td>100</td>\n",
              "      <td>5969|5974|5983|5911|5963|5943|5953|5898|5930|5971</td>\n",
              "      <td>12237|12229|12172|12145|12178|12207|12203|1216...</td>\n",
              "      <td>NaN</td>\n",
              "      <td>1197516|1200938|1195562|1196781|1195562</td>\n",
              "      <td>1205986|1206926|1206147|1207623|1207411</td>\n",
              "      <td>1210303|1210303|1210303</td>\n",
              "      <td>1208521.0</td>\n",
              "      <td>1196871|1195562|1200643|1200938|1195361</td>\n",
              "    </tr>\n",
              "    <tr>\n",
              "      <th>1</th>\n",
              "      <td>28</td>\n",
              "      <td>1597745</td>\n",
              "      <td>1181535.0</td>\n",
              "      <td>1.0</td>\n",
              "      <td>2</td>\n",
              "      <td>82</td>\n",
              "      <td>NaN</td>\n",
              "      <td>NaN</td>\n",
              "      <td>NaN</td>\n",
              "      <td>598594.0</td>\n",
              "      <td>1181263.0</td>\n",
              "      <td>70.0</td>\n",
              "      <td>0.000002</td>\n",
              "      <td>1194221</td>\n",
              "      <td>135</td>\n",
              "      <td>5914|5905|5908|5903|5921|5911|5930|5985|5965|5924</td>\n",
              "      <td>12207|12158|12180|12219|12172|12168|12216|1215...</td>\n",
              "      <td>NaN</td>\n",
              "      <td>1198007|1202973|1201510|1202764|1201711</td>\n",
              "      <td>1204187|1204188|1207623|1204185|1205247</td>\n",
              "      <td>1210303|1210303|1210271</td>\n",
              "      <td>1208491.0</td>\n",
              "      <td>1199052|1201611|1196871|1201222|1200938</td>\n",
              "    </tr>\n",
              "    <tr>\n",
              "      <th>2</th>\n",
              "      <td>335</td>\n",
              "      <td>1830168</td>\n",
              "      <td>1181651.0</td>\n",
              "      <td>2.0</td>\n",
              "      <td>2</td>\n",
              "      <td>80</td>\n",
              "      <td>NaN</td>\n",
              "      <td>NaN</td>\n",
              "      <td>NaN</td>\n",
              "      <td>579512.0</td>\n",
              "      <td>1181504.0</td>\n",
              "      <td>67.0</td>\n",
              "      <td>0.000075</td>\n",
              "      <td>1194221</td>\n",
              "      <td>194</td>\n",
              "      <td>5904|5963|5898|5921|5933|5902|5962|5965|5960|5903</td>\n",
              "      <td>12179|12200|12180|12152|12214|12216|12186|1214...</td>\n",
              "      <td>1106212</td>\n",
              "      <td>1198239|1199738|1201342|1195604|1203026</td>\n",
              "      <td>1206581|1204593|1208218|1204610|1206073</td>\n",
              "      <td>1210268|1210416|1210263</td>\n",
              "      <td>1209887.0</td>\n",
              "      <td>1195893|1203057|1200382|1195061|1199562</td>\n",
              "    </tr>\n",
              "    <tr>\n",
              "      <th>3</th>\n",
              "      <td>462</td>\n",
              "      <td>1833607</td>\n",
              "      <td>1181696.0</td>\n",
              "      <td>7.0</td>\n",
              "      <td>2</td>\n",
              "      <td>82</td>\n",
              "      <td>NaN</td>\n",
              "      <td>NaN</td>\n",
              "      <td>NaN</td>\n",
              "      <td>579254.0</td>\n",
              "      <td>1181263.0</td>\n",
              "      <td>70.0</td>\n",
              "      <td>0.000002</td>\n",
              "      <td>1194221</td>\n",
              "      <td>242</td>\n",
              "      <td>5941|5914|5902|5957|5931|5898|5985|5920|5981|5963</td>\n",
              "      <td>12229|12232|12191|12186|12226|12200|12152|1214...</td>\n",
              "      <td>NaN</td>\n",
              "      <td>1199128|1200185|1195781|1196368|1199809</td>\n",
              "      <td>1204184|1206557|1206926|1204185|1205727</td>\n",
              "      <td>1210303|1210271|1210303</td>\n",
              "      <td>1209989.0</td>\n",
              "      <td>1201510|1196631|1194644|1201711|1201711</td>\n",
              "    </tr>\n",
              "    <tr>\n",
              "      <th>4</th>\n",
              "      <td>656</td>\n",
              "      <td>1907903</td>\n",
              "      <td>1181820.0</td>\n",
              "      <td>1.0</td>\n",
              "      <td>2</td>\n",
              "      <td>80</td>\n",
              "      <td>NaN</td>\n",
              "      <td>NaN</td>\n",
              "      <td>NaN</td>\n",
              "      <td>598172.0</td>\n",
              "      <td>1181374.0</td>\n",
              "      <td>26.0</td>\n",
              "      <td>0.066281</td>\n",
              "      <td>1194221</td>\n",
              "      <td>84</td>\n",
              "      <td>5898|5929|5930|5913|5982|5924|5915|5903|5916|5900</td>\n",
              "      <td>12185|12193|12189|12178|12144|12152|12206|1216...</td>\n",
              "      <td>NaN</td>\n",
              "      <td>1202359|1198950|1202748|1197743|1194509</td>\n",
              "      <td>1206868|1203252|1206596|1206316|1205545</td>\n",
              "      <td>1210457|1210489|1210268</td>\n",
              "      <td>1208383.0</td>\n",
              "      <td>1201032|1195967|1198994|1199567|1202452</td>\n",
              "    </tr>\n",
              "  </tbody>\n",
              "</table>\n",
              "</div>"
            ],
            "text/plain": [
              "   numeric_id person_id  ...  worship_id                       work_restaurant_id\n",
              "0           1   1595930  ...   1208521.0  1196871|1195562|1200643|1200938|1195361\n",
              "1          28   1597745  ...   1208491.0  1199052|1201611|1196871|1201222|1200938\n",
              "2         335   1830168  ...   1209887.0  1195893|1203057|1200382|1195061|1199562\n",
              "3         462   1833607  ...   1209989.0  1201510|1196631|1194644|1201711|1201711\n",
              "4         656   1907903  ...   1208383.0  1201032|1195967|1198994|1199567|1202452\n",
              "\n",
              "[5 rows x 23 columns]"
            ]
          },
          "metadata": {
            "tags": []
          },
          "execution_count": 13
        }
      ]
    },
    {
      "cell_type": "markdown",
      "metadata": {
        "id": "I894aqfBB4zp"
      },
      "source": [
        "# Things to do\n",
        "* join zip code to person -- sample 1000 each?\n",
        "* for each person\n",
        "  * grab the activity schedule\n",
        "  * link place coordinates\n",
        "  * make a row for each hour: 24 rows with coordinates\n",
        "  * the coordinates for 24 hours will be used to query temperature (or heat stress)\n",
        "\n",
        "\n",
        "  "
      ]
    },
    {
      "cell_type": "code",
      "metadata": {
        "id": "FFnjxiq497JH",
        "outputId": "5789970f-3834-4c0e-c30d-b2478c9ae8b5",
        "colab": {
          "base_uri": "https://localhost:8080/",
          "height": 443
        }
      },
      "source": [
        "row = next(persons_df.iterrows())[1]\n",
        "print(row)"
      ],
      "execution_count": 20,
      "outputs": [
        {
          "output_type": "stream",
          "text": [
            "numeric_id                                                                  1\n",
            "person_id                                                             1595930\n",
            "hh_id                                                             1.18152e+06\n",
            "relate                                                                      1\n",
            "sex                                                                         2\n",
            "age                                                                        82\n",
            "gq_id                                                                     NaN\n",
            "school_id                                                                 NaN\n",
            "work_id                                                                   NaN\n",
            "daycare_id                                                             579139\n",
            "gym_id                                                            1.18126e+06\n",
            "hospital_id                                                                70\n",
            "jail                                                                2.297e-06\n",
            "jail_id                                                               1194221\n",
            "rank                                                                      100\n",
            "weekday_schedule_id_list    5969|5974|5983|5911|5963|5943|5953|5898|5930|5971\n",
            "weekend_schedule_id_list    12237|12229|12172|12145|12178|12207|12203|1216...\n",
            "otherhh_id                                                                NaN\n",
            "home_restaurant_id                    1197516|1200938|1195562|1196781|1195562\n",
            "recreation_id                         1205986|1206926|1206147|1207623|1207411\n",
            "grocery_id                                            1210303|1210303|1210303\n",
            "worship_id                                                        1.20852e+06\n",
            "work_restaurant_id                    1196871|1195562|1200643|1200938|1195361\n",
            "Name: 0, dtype: object\n"
          ],
          "name": "stdout"
        }
      ]
    },
    {
      "cell_type": "code",
      "metadata": {
        "id": "VmWtu3iFBq9d",
        "outputId": "7f7bb8f0-e35a-40af-efca-5e20b5cb16fa",
        "colab": {
          "base_uri": "https://localhost:8080/",
          "height": 34
        }
      },
      "source": [
        "row.hh_id"
      ],
      "execution_count": 23,
      "outputs": [
        {
          "output_type": "execute_result",
          "data": {
            "text/plain": [
              "1181524.0"
            ]
          },
          "metadata": {
            "tags": []
          },
          "execution_count": 23
        }
      ]
    },
    {
      "cell_type": "code",
      "metadata": {
        "id": "cuC3NYwEDHwh",
        "outputId": "38c63a1f-ec9c-4694-9d46-33fcb5a8ef51",
        "colab": {
          "base_uri": "https://localhost:8080/",
          "height": 77
        }
      },
      "source": [
        "places_df[places_df['numeric_id'] == row.hh_id]"
      ],
      "execution_count": 27,
      "outputs": [
        {
          "output_type": "execute_result",
          "data": {
            "text/html": [
              "<div>\n",
              "<style scoped>\n",
              "    .dataframe tbody tr th:only-of-type {\n",
              "        vertical-align: middle;\n",
              "    }\n",
              "\n",
              "    .dataframe tbody tr th {\n",
              "        vertical-align: top;\n",
              "    }\n",
              "\n",
              "    .dataframe thead th {\n",
              "        text-align: right;\n",
              "    }\n",
              "</style>\n",
              "<table border=\"1\" class=\"dataframe\">\n",
              "  <thead>\n",
              "    <tr style=\"text-align: right;\">\n",
              "      <th></th>\n",
              "      <th>numeric_id</th>\n",
              "      <th>place_id</th>\n",
              "      <th>place_type</th>\n",
              "      <th>name</th>\n",
              "      <th>persons</th>\n",
              "      <th>latitude</th>\n",
              "      <th>longitude</th>\n",
              "      <th>zipcode</th>\n",
              "      <th>zip_grp</th>\n",
              "      <th>rank</th>\n",
              "    </tr>\n",
              "  </thead>\n",
              "  <tbody>\n",
              "    <tr>\n",
              "      <th>1181523</th>\n",
              "      <td>1181524.0</td>\n",
              "      <td>592029</td>\n",
              "      <td>Household</td>\n",
              "      <td>hh592029</td>\n",
              "      <td>2.0</td>\n",
              "      <td>42.018917</td>\n",
              "      <td>-87.807619</td>\n",
              "      <td>60631.0</td>\n",
              "      <td>1.0</td>\n",
              "      <td>100</td>\n",
              "    </tr>\n",
              "  </tbody>\n",
              "</table>\n",
              "</div>"
            ],
            "text/plain": [
              "         numeric_id place_id place_type  ...  zipcode  zip_grp  rank\n",
              "1181523   1181524.0   592029  Household  ...  60631.0      1.0   100\n",
              "\n",
              "[1 rows x 10 columns]"
            ]
          },
          "metadata": {
            "tags": []
          },
          "execution_count": 27
        }
      ]
    },
    {
      "cell_type": "code",
      "metadata": {
        "id": "u23O7lTED6Lw",
        "outputId": "d3ae6132-b51a-4826-f16a-9b0a5b6cff17",
        "colab": {
          "base_uri": "https://localhost:8080/",
          "height": 77
        }
      },
      "source": [
        "places_df[places_df['numeric_id'] == row.daycare_id]"
      ],
      "execution_count": 28,
      "outputs": [
        {
          "output_type": "execute_result",
          "data": {
            "text/html": [
              "<div>\n",
              "<style scoped>\n",
              "    .dataframe tbody tr th:only-of-type {\n",
              "        vertical-align: middle;\n",
              "    }\n",
              "\n",
              "    .dataframe tbody tr th {\n",
              "        vertical-align: top;\n",
              "    }\n",
              "\n",
              "    .dataframe thead th {\n",
              "        text-align: right;\n",
              "    }\n",
              "</style>\n",
              "<table border=\"1\" class=\"dataframe\">\n",
              "  <thead>\n",
              "    <tr style=\"text-align: right;\">\n",
              "      <th></th>\n",
              "      <th>numeric_id</th>\n",
              "      <th>place_id</th>\n",
              "      <th>place_type</th>\n",
              "      <th>name</th>\n",
              "      <th>persons</th>\n",
              "      <th>latitude</th>\n",
              "      <th>longitude</th>\n",
              "      <th>zipcode</th>\n",
              "      <th>zip_grp</th>\n",
              "      <th>rank</th>\n",
              "    </tr>\n",
              "  </thead>\n",
              "  <tbody>\n",
              "    <tr>\n",
              "      <th>579138</th>\n",
              "      <td>579139.0</td>\n",
              "      <td>170319101317</td>\n",
              "      <td>School</td>\n",
              "      <td>Saint John Lutheran School</td>\n",
              "      <td>33.0</td>\n",
              "      <td>42.016015</td>\n",
              "      <td>-87.804885</td>\n",
              "      <td>60714.0</td>\n",
              "      <td>0.0</td>\n",
              "      <td>127</td>\n",
              "    </tr>\n",
              "  </tbody>\n",
              "</table>\n",
              "</div>"
            ],
            "text/plain": [
              "        numeric_id      place_id place_type  ...  zipcode  zip_grp  rank\n",
              "579138    579139.0  170319101317     School  ...  60714.0      0.0   127\n",
              "\n",
              "[1 rows x 10 columns]"
            ]
          },
          "metadata": {
            "tags": []
          },
          "execution_count": 28
        }
      ]
    },
    {
      "cell_type": "code",
      "metadata": {
        "id": "eN3tZGwbELfi",
        "outputId": "d07db59b-291f-4961-bab4-2c437bf390a2",
        "colab": {
          "base_uri": "https://localhost:8080/",
          "height": 77
        }
      },
      "source": [
        "places_df[places_df['numeric_id'] == 1210303]"
      ],
      "execution_count": 29,
      "outputs": [
        {
          "output_type": "execute_result",
          "data": {
            "text/html": [
              "<div>\n",
              "<style scoped>\n",
              "    .dataframe tbody tr th:only-of-type {\n",
              "        vertical-align: middle;\n",
              "    }\n",
              "\n",
              "    .dataframe tbody tr th {\n",
              "        vertical-align: top;\n",
              "    }\n",
              "\n",
              "    .dataframe thead th {\n",
              "        text-align: right;\n",
              "    }\n",
              "</style>\n",
              "<table border=\"1\" class=\"dataframe\">\n",
              "  <thead>\n",
              "    <tr style=\"text-align: right;\">\n",
              "      <th></th>\n",
              "      <th>numeric_id</th>\n",
              "      <th>place_id</th>\n",
              "      <th>place_type</th>\n",
              "      <th>name</th>\n",
              "      <th>persons</th>\n",
              "      <th>latitude</th>\n",
              "      <th>longitude</th>\n",
              "      <th>zipcode</th>\n",
              "      <th>zip_grp</th>\n",
              "      <th>rank</th>\n",
              "    </tr>\n",
              "  </thead>\n",
              "  <tbody>\n",
              "    <tr>\n",
              "      <th>1210303</th>\n",
              "      <td>1210303.0</td>\n",
              "      <td>967934</td>\n",
              "      <td>Supermarket</td>\n",
              "      <td>Happy Foods</td>\n",
              "      <td>NaN</td>\n",
              "      <td>42.004586</td>\n",
              "      <td>-87.818446</td>\n",
              "      <td>60631.0</td>\n",
              "      <td>NaN</td>\n",
              "      <td>0</td>\n",
              "    </tr>\n",
              "  </tbody>\n",
              "</table>\n",
              "</div>"
            ],
            "text/plain": [
              "         numeric_id place_id   place_type  ...  zipcode  zip_grp  rank\n",
              "1210303   1210303.0   967934  Supermarket  ...  60631.0      NaN     0\n",
              "\n",
              "[1 rows x 10 columns]"
            ]
          },
          "metadata": {
            "tags": []
          },
          "execution_count": 29
        }
      ]
    },
    {
      "cell_type": "code",
      "metadata": {
        "id": "HS-qhkjxEhQW",
        "outputId": "e5de8956-a64c-45cc-a80d-f6f5bd12b80d",
        "colab": {
          "base_uri": "https://localhost:8080/",
          "height": 710
        }
      },
      "source": [
        "test = activity_df[activity_df['schedule_id'] == 5963]\n",
        "print(test)"
      ],
      "execution_count": 33,
      "outputs": [
        {
          "output_type": "stream",
          "text": [
            "        Act_SlNo  start_time  stop_time    Social_Act_Loc  schedule_id\n",
            "132297         1           0        465         Household         5963\n",
            "132298         2         465        540         Household         5963\n",
            "132299         3         540        570         Household         5963\n",
            "132300         4         570        590         Household         5963\n",
            "132301         5         590        595         Household         5963\n",
            "132302         6         595        605             Other         5963\n",
            "132303         7         605        606             Other         5963\n",
            "132304         8         606        610     Grocery store         5963\n",
            "132305         9         610        612     Grocery store         5963\n",
            "132306        10         612        617     Grocery store         5963\n",
            "132307        11         617        632  Place of worship         5963\n",
            "132308        12         632        647  Place of worship         5963\n",
            "132309        13         647        662  Place of worship         5963\n",
            "132310        14         662        677  Place of worship         5963\n",
            "132311        15         677        679  Place of worship         5963\n",
            "132312        16         679        681  Place of worship         5963\n",
            "132313        17         681        683  Place of worship         5963\n",
            "132314        18         683        688   Other Household         5963\n",
            "132315        19         688        689   Other Household         5963\n",
            "132316        20         689        699         Household         5963\n",
            "132317        21         699        704         Household         5963\n",
            "132318        22         704        724             Other         5963\n",
            "132319        23         724        729             Other         5963\n",
            "132320        24         729        749         Household         5963\n",
            "132321        25         749        779         Household         5963\n",
            "132322        26         779        899         Household         5963\n",
            "132323        27         899        944         Household         5963\n",
            "132324        28         944        974         Household         5963\n",
            "132325        29         974        989         Household         5963\n",
            "132326        30         989       1019         Household         5963\n",
            "132327        31        1019       1031  Place of worship         5963\n",
            "132328        32        1031       1200  Place of worship         5963\n",
            "132329        33        1200       1270  Place of worship         5963\n",
            "132330        34        1270       1282         Household         5963\n",
            "132331        35        1282       1312         Household         5963\n",
            "132332        36        1312       1372         Household         5963\n",
            "132333        37        1372       1387         Household         5963\n",
            "132334        38        1387       1440         Household         5963\n"
          ],
          "name": "stdout"
        }
      ]
    },
    {
      "cell_type": "code",
      "metadata": {
        "id": "Sy6zkkVWEvRO",
        "outputId": "8dbb2d8f-5385-40ed-ef5e-f42cd718b10b",
        "colab": {
          "base_uri": "https://localhost:8080/",
          "height": 1000
        }
      },
      "source": [
        "# hour, weight, social_act_loc, coordinates (lat/lng)\n",
        "\n",
        "curr_hour = 0\n",
        "\n",
        "res_min = 0\n",
        "prev_activity = test.Social_Act_Loc.iloc[0]\n",
        "#print(curr_activity)\n",
        "\n",
        "schedule = []\n",
        "\n",
        "# assume that every activity starts at 0\n",
        "proc_time = 0\n",
        "\n",
        "for ii in range(test.shape[0]):\n",
        "  curr_hour = test.iloc[ii].start_time // 60 \n",
        "  proc_time = test.iloc[ii].start_time\n",
        "  #print('start: ', curr_hour, proc_time, ii)  \n",
        "\n",
        "  if 60*(curr_hour+1) < test.iloc[ii].stop_time:\n",
        "      schedule.append([curr_hour, \n",
        "                       (60*(curr_hour+1) - test.iloc[ii].start_time)/60, \n",
        "                       test.iloc[ii].Social_Act_Loc])\n",
        "      curr_hour += 1\n",
        "      proc_time = 60*curr_hour\n",
        "\n",
        "  while proc_time < test.iloc[ii].stop_time:\n",
        "    if (proc_time + 60) < test.iloc[ii].stop_time:\n",
        "      schedule.append([curr_hour, 1, test.iloc[ii].Social_Act_Loc])\n",
        "      proc_time += 60\n",
        "      curr_hour += 1\n",
        "    else:\n",
        "      res_act = test.iloc[ii].stop_time - proc_time\n",
        "      schedule.append([curr_hour, res_act/60, test.iloc[ii].Social_Act_Loc])\n",
        "      proc_time = test.iloc[ii].stop_time\n",
        "  \n",
        "  #print('end: ', curr_hour, proc_time, ii)      \n",
        "\n",
        "# cleaning   \n",
        "\n",
        "#print(schedule)\n",
        "\n",
        "\n",
        "\n"
      ],
      "execution_count": 56,
      "outputs": [
        {
          "output_type": "stream",
          "text": [
            "start:  0 0 0\n",
            "end:  7 465 0\n",
            "start:  7 465 1\n",
            "end:  8 540 1\n",
            "start:  9 540 2\n",
            "end:  9 570 2\n",
            "start:  9 570 3\n",
            "end:  9 590 3\n",
            "start:  9 590 4\n",
            "end:  9 595 4\n",
            "start:  9 595 5\n",
            "end:  10 605 5\n",
            "start:  10 605 6\n",
            "end:  10 606 6\n",
            "start:  10 606 7\n",
            "end:  10 610 7\n",
            "start:  10 610 8\n",
            "end:  10 612 8\n",
            "start:  10 612 9\n",
            "end:  10 617 9\n",
            "start:  10 617 10\n",
            "end:  10 632 10\n",
            "start:  10 632 11\n",
            "end:  10 647 11\n",
            "start:  10 647 12\n",
            "end:  11 662 12\n",
            "start:  11 662 13\n",
            "end:  11 677 13\n",
            "start:  11 677 14\n",
            "end:  11 679 14\n",
            "start:  11 679 15\n",
            "end:  11 681 15\n",
            "start:  11 681 16\n",
            "end:  11 683 16\n",
            "start:  11 683 17\n",
            "end:  11 688 17\n",
            "start:  11 688 18\n",
            "end:  11 689 18\n",
            "start:  11 689 19\n",
            "end:  11 699 19\n",
            "start:  11 699 20\n",
            "end:  11 704 20\n",
            "start:  11 704 21\n",
            "end:  12 724 21\n",
            "start:  12 724 22\n",
            "end:  12 729 22\n",
            "start:  12 729 23\n",
            "end:  12 749 23\n",
            "start:  12 749 24\n",
            "end:  12 779 24\n",
            "start:  12 779 25\n",
            "end:  14 899 25\n",
            "start:  14 899 26\n",
            "end:  15 944 26\n",
            "start:  15 944 27\n",
            "end:  16 974 27\n",
            "start:  16 974 28\n",
            "end:  16 989 28\n",
            "start:  16 989 29\n",
            "end:  16 1019 29\n",
            "start:  16 1019 30\n",
            "end:  17 1031 30\n",
            "start:  17 1031 31\n",
            "end:  19 1200 31\n",
            "start:  20 1200 32\n",
            "end:  21 1270 32\n",
            "start:  21 1270 33\n",
            "end:  21 1282 33\n",
            "start:  21 1282 34\n",
            "end:  21 1312 34\n",
            "start:  21 1312 35\n",
            "end:  22 1372 35\n",
            "start:  22 1372 36\n",
            "end:  23 1387 36\n",
            "start:  23 1387 37\n",
            "end:  23 1440 37\n"
          ],
          "name": "stdout"
        }
      ]
    },
    {
      "cell_type": "code",
      "metadata": {
        "id": "X1MlFTcyGdvq",
        "outputId": "81529a6b-295b-4390-8f8a-77027417b5fd",
        "colab": {
          "base_uri": "https://localhost:8080/",
          "height": 54
        }
      },
      "source": [
        "print(schedule)"
      ],
      "execution_count": 57,
      "outputs": [
        {
          "output_type": "stream",
          "text": [
            "[[0, 1.0, 'Household'], [1, 1, 'Household'], [2, 1, 'Household'], [3, 1, 'Household'], [4, 1, 'Household'], [5, 1, 'Household'], [6, 1, 'Household'], [7, 0.75, 'Household'], [7, 0.25, 'Household'], [8, 1.0, 'Household'], [9, 0.5, 'Household'], [9, 0.3333333333333333, 'Household'], [9, 0.08333333333333333, 'Household'], [9, 0.08333333333333333, 'Other'], [10, 0.08333333333333333, 'Other'], [10, 0.016666666666666666, 'Other'], [10, 0.06666666666666667, 'Grocery store'], [10, 0.03333333333333333, 'Grocery store'], [10, 0.08333333333333333, 'Grocery store'], [10, 0.25, 'Place of worship'], [10, 0.25, 'Place of worship'], [10, 0.21666666666666667, 'Place of worship'], [11, 0.03333333333333333, 'Place of worship'], [11, 0.25, 'Place of worship'], [11, 0.03333333333333333, 'Place of worship'], [11, 0.03333333333333333, 'Place of worship'], [11, 0.03333333333333333, 'Place of worship'], [11, 0.08333333333333333, 'Other Household'], [11, 0.016666666666666666, 'Other Household'], [11, 0.16666666666666666, 'Household'], [11, 0.08333333333333333, 'Household'], [11, 0.26666666666666666, 'Other'], [12, 0.06666666666666667, 'Other'], [12, 0.08333333333333333, 'Other'], [12, 0.3333333333333333, 'Household'], [12, 0.5, 'Household'], [12, 0.016666666666666666, 'Household'], [13, 1, 'Household'], [14, 0.9833333333333333, 'Household'], [14, 0.016666666666666666, 'Household'], [15, 0.7333333333333333, 'Household'], [15, 0.26666666666666666, 'Household'], [16, 0.23333333333333334, 'Household'], [16, 0.25, 'Household'], [16, 0.5, 'Household'], [16, 0.016666666666666666, 'Place of worship'], [17, 0.18333333333333332, 'Place of worship'], [17, 0.8166666666666667, 'Place of worship'], [18, 1, 'Place of worship'], [19, 1.0, 'Place of worship'], [20, 1.0, 'Place of worship'], [21, 0.16666666666666666, 'Place of worship'], [21, 0.2, 'Household'], [21, 0.5, 'Household'], [21, 0.13333333333333333, 'Household'], [22, 0.8666666666666667, 'Household'], [22, 0.13333333333333333, 'Household'], [23, 0.11666666666666667, 'Household'], [23, 0.8833333333333333, 'Household']]\n"
          ],
          "name": "stdout"
        }
      ]
    },
    {
      "cell_type": "code",
      "metadata": {
        "id": "YPrmF2FvG_mZ",
        "outputId": "419f4cc3-aa88-45f1-e75d-015e553e221d",
        "colab": {
          "base_uri": "https://localhost:8080/",
          "height": 34
        }
      },
      "source": [
        "test.shape[0]"
      ],
      "execution_count": 41,
      "outputs": [
        {
          "output_type": "execute_result",
          "data": {
            "text/plain": [
              "38"
            ]
          },
          "metadata": {
            "tags": []
          },
          "execution_count": 41
        }
      ]
    },
    {
      "cell_type": "code",
      "metadata": {
        "id": "1QiOudEGHBg5",
        "outputId": "998e175c-6799-496a-cb29-f84bfc748fc7",
        "colab": {
          "base_uri": "https://localhost:8080/",
          "height": 34
        }
      },
      "source": [
        "465 // 60"
      ],
      "execution_count": 51,
      "outputs": [
        {
          "output_type": "execute_result",
          "data": {
            "text/plain": [
              "7"
            ]
          },
          "metadata": {
            "tags": []
          },
          "execution_count": 51
        }
      ]
    },
    {
      "cell_type": "code",
      "metadata": {
        "id": "kW9bQN2SNYQz"
      },
      "source": [
        ""
      ],
      "execution_count": null,
      "outputs": []
    }
  ]
}