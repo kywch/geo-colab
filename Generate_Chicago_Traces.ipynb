{
  "nbformat": 4,
  "nbformat_minor": 0,
  "metadata": {
    "colab": {
      "name": "Generate_Chicago_Traces.ipynb",
      "provenance": [],
      "authorship_tag": "ABX9TyN+M03/pqYZvRRIxosDRUnd",
      "include_colab_link": true
    },
    "kernelspec": {
      "name": "python3",
      "display_name": "Python 3"
    }
  },
  "cells": [
    {
      "cell_type": "markdown",
      "metadata": {
        "id": "view-in-github",
        "colab_type": "text"
      },
      "source": [
        "<a href=\"https://colab.research.google.com/github/kywch/geo-colab/blob/master/Generate_Chicago_Traces.ipynb\" target=\"_parent\"><img src=\"https://colab.research.google.com/assets/colab-badge.svg\" alt=\"Open In Colab\"/></a>"
      ]
    },
    {
      "cell_type": "code",
      "metadata": {
        "id": "fm-2TO7D6xmS"
      },
      "source": [
        "# Import necessary packages\n",
        "import os, os.path\n",
        "from glob import glob\n",
        "from shutil import copyfile\n",
        "\n",
        "import pandas as pd\n",
        "\n",
        "from secrets import choice\n"
      ],
      "execution_count": 213,
      "outputs": []
    },
    {
      "cell_type": "code",
      "metadata": {
        "id": "SqbMd97Z69xp",
        "outputId": "b86db2a5-bb27-4122-f5b1-aa31c20d7049",
        "colab": {
          "base_uri": "https://localhost:8080/",
          "height": 34
        }
      },
      "source": [
        "from google.colab import drive\n",
        "drive.mount('/content/drive')"
      ],
      "execution_count": 2,
      "outputs": [
        {
          "output_type": "stream",
          "text": [
            "Mounted at /content/drive\n"
          ],
          "name": "stdout"
        }
      ]
    },
    {
      "cell_type": "code",
      "metadata": {
        "id": "rzLl1Ce77G_P",
        "outputId": "35329bda-e610-4e5b-8ea8-2d116e2d1399",
        "colab": {
          "base_uri": "https://localhost:8080/",
          "height": 54
        }
      },
      "source": [
        "files = glob(\"drive/My Drive/SatTemp/chicago_synthpop_V2/*.csv.gz\")\n",
        "print(files)"
      ],
      "execution_count": 3,
      "outputs": [
        {
          "output_type": "stream",
          "text": [
            "['drive/My Drive/SatTemp/chicago_synthpop_V2/persons_v2.csv.gz', 'drive/My Drive/SatTemp/chicago_synthpop_V2/places_v2_256p_lb_v2.csv.gz', 'drive/My Drive/SatTemp/chicago_synthpop_V2/activities_v2.csv.gz', 'drive/My Drive/SatTemp/chicago_synthpop_V2/places_v2.csv.gz', 'drive/My Drive/SatTemp/chicago_synthpop_V2/places_60615.csv.gz', 'drive/My Drive/SatTemp/chicago_synthpop_V2/persons_60615.csv.gz']\n"
          ],
          "name": "stdout"
        }
      ]
    },
    {
      "cell_type": "code",
      "metadata": {
        "id": "HIzruTZi7Zpe"
      },
      "source": [
        "!rm -rf synthpop\n",
        "if not os.path.exists('synthpop'):\n",
        "  os.mkdir('synthpop')"
      ],
      "execution_count": 4,
      "outputs": []
    },
    {
      "cell_type": "code",
      "metadata": {
        "id": "O_hx42gW8-C_",
        "outputId": "b4e41ae8-aece-49fa-c821-87e47ce2af01",
        "colab": {
          "base_uri": "https://localhost:8080/",
          "height": 123
        }
      },
      "source": [
        "# copy these files from Google Drive to colab disk\n",
        "for f in files:\n",
        "  print(f)\n",
        "  copyfile(f, 'synthpop/' + os.path.basename(f))"
      ],
      "execution_count": 5,
      "outputs": [
        {
          "output_type": "stream",
          "text": [
            "drive/My Drive/SatTemp/chicago_synthpop_V2/persons_v2.csv.gz\n",
            "drive/My Drive/SatTemp/chicago_synthpop_V2/places_v2_256p_lb_v2.csv.gz\n",
            "drive/My Drive/SatTemp/chicago_synthpop_V2/activities_v2.csv.gz\n",
            "drive/My Drive/SatTemp/chicago_synthpop_V2/places_v2.csv.gz\n",
            "drive/My Drive/SatTemp/chicago_synthpop_V2/places_60615.csv.gz\n",
            "drive/My Drive/SatTemp/chicago_synthpop_V2/persons_60615.csv.gz\n"
          ],
          "name": "stdout"
        }
      ]
    },
    {
      "cell_type": "code",
      "metadata": {
        "id": "wI5A60Nz9A1f",
        "outputId": "50354c7c-b497-4976-9c50-2064040f4445",
        "colab": {
          "base_uri": "https://localhost:8080/",
          "height": 585
        }
      },
      "source": [
        "# look at people\n",
        "persons_df = pd.read_csv('synthpop/persons_v2.csv.gz')\n",
        "persons_df.info()"
      ],
      "execution_count": 6,
      "outputs": [
        {
          "output_type": "stream",
          "text": [
            "/usr/local/lib/python3.6/dist-packages/IPython/core/interactiveshell.py:2718: DtypeWarning: Columns (1) have mixed types.Specify dtype option on import or set low_memory=False.\n",
            "  interactivity=interactivity, compiler=compiler, result=result)\n"
          ],
          "name": "stderr"
        },
        {
          "output_type": "stream",
          "text": [
            "<class 'pandas.core.frame.DataFrame'>\n",
            "RangeIndex: 2927761 entries, 0 to 2927760\n",
            "Data columns (total 23 columns):\n",
            " #   Column                    Dtype  \n",
            "---  ------                    -----  \n",
            " 0   numeric_id                int64  \n",
            " 1   person_id                 object \n",
            " 2   hh_id                     float64\n",
            " 3   relate                    float64\n",
            " 4   sex                       int64  \n",
            " 5   age                       int64  \n",
            " 6   gq_id                     float64\n",
            " 7   school_id                 float64\n",
            " 8   work_id                   float64\n",
            " 9   daycare_id                float64\n",
            " 10  gym_id                    float64\n",
            " 11  hospital_id               float64\n",
            " 12  jail                      float64\n",
            " 13  jail_id                   int64  \n",
            " 14  rank                      int64  \n",
            " 15  weekday_schedule_id_list  object \n",
            " 16  weekend_schedule_id_list  object \n",
            " 17  otherhh_id                object \n",
            " 18  home_restaurant_id        object \n",
            " 19  recreation_id             object \n",
            " 20  grocery_id                object \n",
            " 21  worship_id                float64\n",
            " 22  work_restaurant_id        object \n",
            "dtypes: float64(10), int64(5), object(8)\n",
            "memory usage: 513.8+ MB\n"
          ],
          "name": "stdout"
        }
      ]
    },
    {
      "cell_type": "code",
      "metadata": {
        "id": "ACdaeVcK9N9P",
        "outputId": "52043e9f-7b80-4287-8ff9-7f3066d2d306",
        "colab": {
          "base_uri": "https://localhost:8080/",
          "height": 354
        }
      },
      "source": [
        "# places\n",
        "places_df = pd.read_csv('synthpop/places_v2.csv.gz')\n",
        "places_df['numeric_id'] = places_df['numeric_id'].astype('int64')\n",
        "places_df.info()"
      ],
      "execution_count": 179,
      "outputs": [
        {
          "output_type": "stream",
          "text": [
            "/usr/local/lib/python3.6/dist-packages/IPython/core/interactiveshell.py:2718: DtypeWarning: Columns (1) have mixed types.Specify dtype option on import or set low_memory=False.\n",
            "  interactivity=interactivity, compiler=compiler, result=result)\n"
          ],
          "name": "stderr"
        },
        {
          "output_type": "stream",
          "text": [
            "<class 'pandas.core.frame.DataFrame'>\n",
            "RangeIndex: 1210722 entries, 0 to 1210721\n",
            "Data columns (total 10 columns):\n",
            " #   Column      Non-Null Count    Dtype  \n",
            "---  ------      --------------    -----  \n",
            " 0   numeric_id  1210722 non-null  int64  \n",
            " 1   place_id    1210722 non-null  object \n",
            " 2   place_type  1210722 non-null  object \n",
            " 3   name        1093276 non-null  object \n",
            " 4   persons     1077336 non-null  float64\n",
            " 5   latitude    1210668 non-null  float64\n",
            " 6   longitude   1210668 non-null  float64\n",
            " 7   zipcode     1204493 non-null  float64\n",
            " 8   zip_grp     1194456 non-null  float64\n",
            " 9   rank        1210722 non-null  int64  \n",
            "dtypes: float64(5), int64(2), object(3)\n",
            "memory usage: 92.4+ MB\n"
          ],
          "name": "stdout"
        }
      ]
    },
    {
      "cell_type": "code",
      "metadata": {
        "id": "vwEuZpfKsxef",
        "outputId": "127bffa4-8bf8-4769-be52-6471f6176e6c",
        "colab": {
          "base_uri": "https://localhost:8080/",
          "height": 301
        }
      },
      "source": [
        "# make it faster to look-up\n",
        "plidx_df = places_df.set_index('numeric_id')\n",
        "plidx_df.info()"
      ],
      "execution_count": 180,
      "outputs": [
        {
          "output_type": "stream",
          "text": [
            "<class 'pandas.core.frame.DataFrame'>\n",
            "Int64Index: 1210722 entries, 1 to 1210721\n",
            "Data columns (total 9 columns):\n",
            " #   Column      Non-Null Count    Dtype  \n",
            "---  ------      --------------    -----  \n",
            " 0   place_id    1210722 non-null  object \n",
            " 1   place_type  1210722 non-null  object \n",
            " 2   name        1093276 non-null  object \n",
            " 3   persons     1077336 non-null  float64\n",
            " 4   latitude    1210668 non-null  float64\n",
            " 5   longitude   1210668 non-null  float64\n",
            " 6   zipcode     1204493 non-null  float64\n",
            " 7   zip_grp     1194456 non-null  float64\n",
            " 8   rank        1210722 non-null  int64  \n",
            "dtypes: float64(5), int64(1), object(3)\n",
            "memory usage: 92.4+ MB\n"
          ],
          "name": "stdout"
        }
      ]
    },
    {
      "cell_type": "code",
      "metadata": {
        "id": "VENwX3zn9_zK",
        "outputId": "3c7b64c7-d200-4f1d-b37f-79c63cb6a36e",
        "colab": {
          "base_uri": "https://localhost:8080/",
          "height": 230
        }
      },
      "source": [
        "# activities\n",
        "activity_df = pd.read_csv('synthpop/activities_v2.csv.gz')\n",
        "activity_df.info()"
      ],
      "execution_count": 8,
      "outputs": [
        {
          "output_type": "stream",
          "text": [
            "<class 'pandas.core.frame.DataFrame'>\n",
            "RangeIndex: 239781 entries, 0 to 239780\n",
            "Data columns (total 5 columns):\n",
            " #   Column          Non-Null Count   Dtype \n",
            "---  ------          --------------   ----- \n",
            " 0   Act_SlNo        239781 non-null  int64 \n",
            " 1   start_time      239781 non-null  int64 \n",
            " 2   stop_time       239781 non-null  int64 \n",
            " 3   Social_Act_Loc  239781 non-null  object\n",
            " 4   schedule_id     239781 non-null  int64 \n",
            "dtypes: int64(4), object(1)\n",
            "memory usage: 9.1+ MB\n"
          ],
          "name": "stdout"
        }
      ]
    },
    {
      "cell_type": "code",
      "metadata": {
        "id": "ErXiFkNO9er-",
        "outputId": "6d72f6e4-0aa5-48a1-ee61-b7651f2b04ba",
        "colab": {
          "base_uri": "https://localhost:8080/",
          "height": 235
        }
      },
      "source": [
        "# check the number of unique persons\n",
        "print(len(persons_df.person_id), len(persons_df.person_id.unique()))\n",
        "persons_df.head()"
      ],
      "execution_count": 13,
      "outputs": [
        {
          "output_type": "stream",
          "text": [
            "2927761 2927761\n"
          ],
          "name": "stdout"
        },
        {
          "output_type": "execute_result",
          "data": {
            "text/html": [
              "<div>\n",
              "<style scoped>\n",
              "    .dataframe tbody tr th:only-of-type {\n",
              "        vertical-align: middle;\n",
              "    }\n",
              "\n",
              "    .dataframe tbody tr th {\n",
              "        vertical-align: top;\n",
              "    }\n",
              "\n",
              "    .dataframe thead th {\n",
              "        text-align: right;\n",
              "    }\n",
              "</style>\n",
              "<table border=\"1\" class=\"dataframe\">\n",
              "  <thead>\n",
              "    <tr style=\"text-align: right;\">\n",
              "      <th></th>\n",
              "      <th>numeric_id</th>\n",
              "      <th>person_id</th>\n",
              "      <th>hh_id</th>\n",
              "      <th>relate</th>\n",
              "      <th>sex</th>\n",
              "      <th>age</th>\n",
              "      <th>gq_id</th>\n",
              "      <th>school_id</th>\n",
              "      <th>work_id</th>\n",
              "      <th>daycare_id</th>\n",
              "      <th>gym_id</th>\n",
              "      <th>hospital_id</th>\n",
              "      <th>jail</th>\n",
              "      <th>jail_id</th>\n",
              "      <th>rank</th>\n",
              "      <th>weekday_schedule_id_list</th>\n",
              "      <th>weekend_schedule_id_list</th>\n",
              "      <th>otherhh_id</th>\n",
              "      <th>home_restaurant_id</th>\n",
              "      <th>recreation_id</th>\n",
              "      <th>grocery_id</th>\n",
              "      <th>worship_id</th>\n",
              "      <th>work_restaurant_id</th>\n",
              "    </tr>\n",
              "  </thead>\n",
              "  <tbody>\n",
              "    <tr>\n",
              "      <th>0</th>\n",
              "      <td>1</td>\n",
              "      <td>1595930</td>\n",
              "      <td>1181524.0</td>\n",
              "      <td>1.0</td>\n",
              "      <td>2</td>\n",
              "      <td>82</td>\n",
              "      <td>NaN</td>\n",
              "      <td>NaN</td>\n",
              "      <td>NaN</td>\n",
              "      <td>579139.0</td>\n",
              "      <td>1181263.0</td>\n",
              "      <td>70.0</td>\n",
              "      <td>0.000002</td>\n",
              "      <td>1194221</td>\n",
              "      <td>100</td>\n",
              "      <td>5969|5974|5983|5911|5963|5943|5953|5898|5930|5971</td>\n",
              "      <td>12237|12229|12172|12145|12178|12207|12203|1216...</td>\n",
              "      <td>NaN</td>\n",
              "      <td>1197516|1200938|1195562|1196781|1195562</td>\n",
              "      <td>1205986|1206926|1206147|1207623|1207411</td>\n",
              "      <td>1210303|1210303|1210303</td>\n",
              "      <td>1208521.0</td>\n",
              "      <td>1196871|1195562|1200643|1200938|1195361</td>\n",
              "    </tr>\n",
              "    <tr>\n",
              "      <th>1</th>\n",
              "      <td>28</td>\n",
              "      <td>1597745</td>\n",
              "      <td>1181535.0</td>\n",
              "      <td>1.0</td>\n",
              "      <td>2</td>\n",
              "      <td>82</td>\n",
              "      <td>NaN</td>\n",
              "      <td>NaN</td>\n",
              "      <td>NaN</td>\n",
              "      <td>598594.0</td>\n",
              "      <td>1181263.0</td>\n",
              "      <td>70.0</td>\n",
              "      <td>0.000002</td>\n",
              "      <td>1194221</td>\n",
              "      <td>135</td>\n",
              "      <td>5914|5905|5908|5903|5921|5911|5930|5985|5965|5924</td>\n",
              "      <td>12207|12158|12180|12219|12172|12168|12216|1215...</td>\n",
              "      <td>NaN</td>\n",
              "      <td>1198007|1202973|1201510|1202764|1201711</td>\n",
              "      <td>1204187|1204188|1207623|1204185|1205247</td>\n",
              "      <td>1210303|1210303|1210271</td>\n",
              "      <td>1208491.0</td>\n",
              "      <td>1199052|1201611|1196871|1201222|1200938</td>\n",
              "    </tr>\n",
              "    <tr>\n",
              "      <th>2</th>\n",
              "      <td>335</td>\n",
              "      <td>1830168</td>\n",
              "      <td>1181651.0</td>\n",
              "      <td>2.0</td>\n",
              "      <td>2</td>\n",
              "      <td>80</td>\n",
              "      <td>NaN</td>\n",
              "      <td>NaN</td>\n",
              "      <td>NaN</td>\n",
              "      <td>579512.0</td>\n",
              "      <td>1181504.0</td>\n",
              "      <td>67.0</td>\n",
              "      <td>0.000075</td>\n",
              "      <td>1194221</td>\n",
              "      <td>194</td>\n",
              "      <td>5904|5963|5898|5921|5933|5902|5962|5965|5960|5903</td>\n",
              "      <td>12179|12200|12180|12152|12214|12216|12186|1214...</td>\n",
              "      <td>1106212</td>\n",
              "      <td>1198239|1199738|1201342|1195604|1203026</td>\n",
              "      <td>1206581|1204593|1208218|1204610|1206073</td>\n",
              "      <td>1210268|1210416|1210263</td>\n",
              "      <td>1209887.0</td>\n",
              "      <td>1195893|1203057|1200382|1195061|1199562</td>\n",
              "    </tr>\n",
              "    <tr>\n",
              "      <th>3</th>\n",
              "      <td>462</td>\n",
              "      <td>1833607</td>\n",
              "      <td>1181696.0</td>\n",
              "      <td>7.0</td>\n",
              "      <td>2</td>\n",
              "      <td>82</td>\n",
              "      <td>NaN</td>\n",
              "      <td>NaN</td>\n",
              "      <td>NaN</td>\n",
              "      <td>579254.0</td>\n",
              "      <td>1181263.0</td>\n",
              "      <td>70.0</td>\n",
              "      <td>0.000002</td>\n",
              "      <td>1194221</td>\n",
              "      <td>242</td>\n",
              "      <td>5941|5914|5902|5957|5931|5898|5985|5920|5981|5963</td>\n",
              "      <td>12229|12232|12191|12186|12226|12200|12152|1214...</td>\n",
              "      <td>NaN</td>\n",
              "      <td>1199128|1200185|1195781|1196368|1199809</td>\n",
              "      <td>1204184|1206557|1206926|1204185|1205727</td>\n",
              "      <td>1210303|1210271|1210303</td>\n",
              "      <td>1209989.0</td>\n",
              "      <td>1201510|1196631|1194644|1201711|1201711</td>\n",
              "    </tr>\n",
              "    <tr>\n",
              "      <th>4</th>\n",
              "      <td>656</td>\n",
              "      <td>1907903</td>\n",
              "      <td>1181820.0</td>\n",
              "      <td>1.0</td>\n",
              "      <td>2</td>\n",
              "      <td>80</td>\n",
              "      <td>NaN</td>\n",
              "      <td>NaN</td>\n",
              "      <td>NaN</td>\n",
              "      <td>598172.0</td>\n",
              "      <td>1181374.0</td>\n",
              "      <td>26.0</td>\n",
              "      <td>0.066281</td>\n",
              "      <td>1194221</td>\n",
              "      <td>84</td>\n",
              "      <td>5898|5929|5930|5913|5982|5924|5915|5903|5916|5900</td>\n",
              "      <td>12185|12193|12189|12178|12144|12152|12206|1216...</td>\n",
              "      <td>NaN</td>\n",
              "      <td>1202359|1198950|1202748|1197743|1194509</td>\n",
              "      <td>1206868|1203252|1206596|1206316|1205545</td>\n",
              "      <td>1210457|1210489|1210268</td>\n",
              "      <td>1208383.0</td>\n",
              "      <td>1201032|1195967|1198994|1199567|1202452</td>\n",
              "    </tr>\n",
              "  </tbody>\n",
              "</table>\n",
              "</div>"
            ],
            "text/plain": [
              "   numeric_id person_id  ...  worship_id                       work_restaurant_id\n",
              "0           1   1595930  ...   1208521.0  1196871|1195562|1200643|1200938|1195361\n",
              "1          28   1597745  ...   1208491.0  1199052|1201611|1196871|1201222|1200938\n",
              "2         335   1830168  ...   1209887.0  1195893|1203057|1200382|1195061|1199562\n",
              "3         462   1833607  ...   1209989.0  1201510|1196631|1194644|1201711|1201711\n",
              "4         656   1907903  ...   1208383.0  1201032|1195967|1198994|1199567|1202452\n",
              "\n",
              "[5 rows x 23 columns]"
            ]
          },
          "metadata": {
            "tags": []
          },
          "execution_count": 13
        }
      ]
    },
    {
      "cell_type": "markdown",
      "metadata": {
        "id": "I894aqfBB4zp"
      },
      "source": [
        "# Things to do\n",
        "* join zip code to person -- sample 1000 each?\n",
        "* for each person\n",
        "  * grab the activity schedule\n",
        "  * link place coordinates\n",
        "  * make a row for each hour: 24 rows with coordinates\n",
        "  * the coordinates for 24 hours will be used to query temperature (or heat stress)\n",
        "\n",
        "\n",
        "  "
      ]
    },
    {
      "cell_type": "code",
      "metadata": {
        "id": "FFnjxiq497JH",
        "outputId": "74d0eb5c-8b00-43bd-9565-a78ceb218d8f",
        "colab": {
          "base_uri": "https://localhost:8080/",
          "height": 443
        }
      },
      "source": [
        "row = next(persons_df.iterrows())[1]\n",
        "print(row)"
      ],
      "execution_count": 127,
      "outputs": [
        {
          "output_type": "stream",
          "text": [
            "numeric_id                                                                  1\n",
            "person_id                                                             1595930\n",
            "hh_id                                                             1.18152e+06\n",
            "relate                                                                      1\n",
            "sex                                                                         2\n",
            "age                                                                        82\n",
            "gq_id                                                                     NaN\n",
            "school_id                                                                 NaN\n",
            "work_id                                                                   NaN\n",
            "daycare_id                                                             579139\n",
            "gym_id                                                            1.18126e+06\n",
            "hospital_id                                                                70\n",
            "jail                                                                2.297e-06\n",
            "jail_id                                                               1194221\n",
            "rank                                                                      100\n",
            "weekday_schedule_id_list    5969|5974|5983|5911|5963|5943|5953|5898|5930|5971\n",
            "weekend_schedule_id_list    12237|12229|12172|12145|12178|12207|12203|1216...\n",
            "otherhh_id                                                                NaN\n",
            "home_restaurant_id                    1197516|1200938|1195562|1196781|1195562\n",
            "recreation_id                         1205986|1206926|1206147|1207623|1207411\n",
            "grocery_id                                            1210303|1210303|1210303\n",
            "worship_id                                                        1.20852e+06\n",
            "work_restaurant_id                    1196871|1195562|1200643|1200938|1195361\n",
            "Name: 0, dtype: object\n"
          ],
          "name": "stdout"
        }
      ]
    },
    {
      "cell_type": "code",
      "metadata": {
        "id": "VmWtu3iFBq9d",
        "outputId": "7f7bb8f0-e35a-40af-efca-5e20b5cb16fa",
        "colab": {
          "base_uri": "https://localhost:8080/",
          "height": 34
        }
      },
      "source": [
        "row.hh_id"
      ],
      "execution_count": 23,
      "outputs": [
        {
          "output_type": "execute_result",
          "data": {
            "text/plain": [
              "1181524.0"
            ]
          },
          "metadata": {
            "tags": []
          },
          "execution_count": 23
        }
      ]
    },
    {
      "cell_type": "code",
      "metadata": {
        "id": "cuC3NYwEDHwh",
        "outputId": "38c63a1f-ec9c-4694-9d46-33fcb5a8ef51",
        "colab": {
          "base_uri": "https://localhost:8080/",
          "height": 77
        }
      },
      "source": [
        "places_df[places_df['numeric_id'] == row.hh_id]"
      ],
      "execution_count": 27,
      "outputs": [
        {
          "output_type": "execute_result",
          "data": {
            "text/html": [
              "<div>\n",
              "<style scoped>\n",
              "    .dataframe tbody tr th:only-of-type {\n",
              "        vertical-align: middle;\n",
              "    }\n",
              "\n",
              "    .dataframe tbody tr th {\n",
              "        vertical-align: top;\n",
              "    }\n",
              "\n",
              "    .dataframe thead th {\n",
              "        text-align: right;\n",
              "    }\n",
              "</style>\n",
              "<table border=\"1\" class=\"dataframe\">\n",
              "  <thead>\n",
              "    <tr style=\"text-align: right;\">\n",
              "      <th></th>\n",
              "      <th>numeric_id</th>\n",
              "      <th>place_id</th>\n",
              "      <th>place_type</th>\n",
              "      <th>name</th>\n",
              "      <th>persons</th>\n",
              "      <th>latitude</th>\n",
              "      <th>longitude</th>\n",
              "      <th>zipcode</th>\n",
              "      <th>zip_grp</th>\n",
              "      <th>rank</th>\n",
              "    </tr>\n",
              "  </thead>\n",
              "  <tbody>\n",
              "    <tr>\n",
              "      <th>1181523</th>\n",
              "      <td>1181524.0</td>\n",
              "      <td>592029</td>\n",
              "      <td>Household</td>\n",
              "      <td>hh592029</td>\n",
              "      <td>2.0</td>\n",
              "      <td>42.018917</td>\n",
              "      <td>-87.807619</td>\n",
              "      <td>60631.0</td>\n",
              "      <td>1.0</td>\n",
              "      <td>100</td>\n",
              "    </tr>\n",
              "  </tbody>\n",
              "</table>\n",
              "</div>"
            ],
            "text/plain": [
              "         numeric_id place_id place_type  ...  zipcode  zip_grp  rank\n",
              "1181523   1181524.0   592029  Household  ...  60631.0      1.0   100\n",
              "\n",
              "[1 rows x 10 columns]"
            ]
          },
          "metadata": {
            "tags": []
          },
          "execution_count": 27
        }
      ]
    },
    {
      "cell_type": "code",
      "metadata": {
        "id": "u23O7lTED6Lw",
        "outputId": "d3ae6132-b51a-4826-f16a-9b0a5b6cff17",
        "colab": {
          "base_uri": "https://localhost:8080/",
          "height": 77
        }
      },
      "source": [
        "places_df[places_df['numeric_id'] == row.daycare_id]"
      ],
      "execution_count": 28,
      "outputs": [
        {
          "output_type": "execute_result",
          "data": {
            "text/html": [
              "<div>\n",
              "<style scoped>\n",
              "    .dataframe tbody tr th:only-of-type {\n",
              "        vertical-align: middle;\n",
              "    }\n",
              "\n",
              "    .dataframe tbody tr th {\n",
              "        vertical-align: top;\n",
              "    }\n",
              "\n",
              "    .dataframe thead th {\n",
              "        text-align: right;\n",
              "    }\n",
              "</style>\n",
              "<table border=\"1\" class=\"dataframe\">\n",
              "  <thead>\n",
              "    <tr style=\"text-align: right;\">\n",
              "      <th></th>\n",
              "      <th>numeric_id</th>\n",
              "      <th>place_id</th>\n",
              "      <th>place_type</th>\n",
              "      <th>name</th>\n",
              "      <th>persons</th>\n",
              "      <th>latitude</th>\n",
              "      <th>longitude</th>\n",
              "      <th>zipcode</th>\n",
              "      <th>zip_grp</th>\n",
              "      <th>rank</th>\n",
              "    </tr>\n",
              "  </thead>\n",
              "  <tbody>\n",
              "    <tr>\n",
              "      <th>579138</th>\n",
              "      <td>579139.0</td>\n",
              "      <td>170319101317</td>\n",
              "      <td>School</td>\n",
              "      <td>Saint John Lutheran School</td>\n",
              "      <td>33.0</td>\n",
              "      <td>42.016015</td>\n",
              "      <td>-87.804885</td>\n",
              "      <td>60714.0</td>\n",
              "      <td>0.0</td>\n",
              "      <td>127</td>\n",
              "    </tr>\n",
              "  </tbody>\n",
              "</table>\n",
              "</div>"
            ],
            "text/plain": [
              "        numeric_id      place_id place_type  ...  zipcode  zip_grp  rank\n",
              "579138    579139.0  170319101317     School  ...  60714.0      0.0   127\n",
              "\n",
              "[1 rows x 10 columns]"
            ]
          },
          "metadata": {
            "tags": []
          },
          "execution_count": 28
        }
      ]
    },
    {
      "cell_type": "code",
      "metadata": {
        "id": "eN3tZGwbELfi",
        "outputId": "7f02e987-3240-4e3c-b4d0-8cd372368b62",
        "colab": {
          "base_uri": "https://localhost:8080/",
          "height": 70
        }
      },
      "source": [
        "places_df['numeric_id'] = places_df['numeric_id'].astype('int64')\n",
        "\n",
        "%timeit places_df[places_df['numeric_id'] == 1210303]\n",
        "%timeit places_df.query('numeric_id == 1210303')\n"
      ],
      "execution_count": 119,
      "outputs": [
        {
          "output_type": "stream",
          "text": [
            "The slowest run took 9.35 times longer than the fastest. This could mean that an intermediate result is being cached.\n",
            "100 loops, best of 3: 2.48 ms per loop\n",
            "100 loops, best of 3: 10.5 ms per loop\n"
          ],
          "name": "stdout"
        }
      ]
    },
    {
      "cell_type": "code",
      "metadata": {
        "id": "VWutDRpNjWNM",
        "outputId": "c59f90de-870a-4dd0-bedd-99dbf5c63497",
        "colab": {
          "base_uri": "https://localhost:8080/",
          "height": 301
        }
      },
      "source": [
        "plidx_df = places_df.set_index('numeric_id')\n",
        "plidx_df.info()"
      ],
      "execution_count": 120,
      "outputs": [
        {
          "output_type": "stream",
          "text": [
            "<class 'pandas.core.frame.DataFrame'>\n",
            "Int64Index: 1210722 entries, 1 to 1210721\n",
            "Data columns (total 9 columns):\n",
            " #   Column      Non-Null Count    Dtype  \n",
            "---  ------      --------------    -----  \n",
            " 0   place_id    1210722 non-null  object \n",
            " 1   place_type  1210722 non-null  object \n",
            " 2   name        1093276 non-null  object \n",
            " 3   persons     1077336 non-null  float64\n",
            " 4   latitude    1210668 non-null  float64\n",
            " 5   longitude   1210668 non-null  float64\n",
            " 6   zipcode     1204493 non-null  float64\n",
            " 7   zip_grp     1194456 non-null  float64\n",
            " 8   rank        1210722 non-null  int64  \n",
            "dtypes: float64(5), int64(1), object(3)\n",
            "memory usage: 92.4+ MB\n"
          ],
          "name": "stdout"
        }
      ]
    },
    {
      "cell_type": "code",
      "metadata": {
        "id": "usMQRG1cvuI8",
        "outputId": "badb8f41-90b3-4763-aab1-ce51acf1d54a",
        "colab": {
          "base_uri": "https://localhost:8080/",
          "height": 87
        }
      },
      "source": [
        "activity_df['Social_Act_Loc'].unique()"
      ],
      "execution_count": 196,
      "outputs": [
        {
          "output_type": "execute_result",
          "data": {
            "text/plain": [
              "array(['Household', 'Work Restaurant', 'Other', 'Other Household',\n",
              "       'Place of worship', 'Home Restaurant', 'Recreation',\n",
              "       'Grocery store', 'School', 'Workplace', 'Gym', 'Prison'],\n",
              "      dtype=object)"
            ]
          },
          "metadata": {
            "tags": []
          },
          "execution_count": 196
        }
      ]
    },
    {
      "cell_type": "code",
      "metadata": {
        "id": "TVuM4d2Jj7Az",
        "outputId": "bb13e59f-7bee-4781-f7a3-106ef7bd6474",
        "colab": {
          "base_uri": "https://localhost:8080/",
          "height": 52
        }
      },
      "source": [
        "%timeit plidx_df.loc[[1197516,1200938,1195562,1196781,1195562]]\n",
        "\n",
        "%timeit [plidx_df.loc[1197516], plidx_df.loc[1200938], plidx_df.loc[1195562], plidx_df.loc[1196781], plidx_df.loc[1195562]]"
      ],
      "execution_count": 126,
      "outputs": [
        {
          "output_type": "stream",
          "text": [
            "1000 loops, best of 3: 435 µs per loop\n",
            "1000 loops, best of 3: 698 µs per loop\n"
          ],
          "name": "stdout"
        }
      ]
    },
    {
      "cell_type": "code",
      "metadata": {
        "id": "Jqz0UP0PlfI8",
        "outputId": "341af089-6a44-412a-9bef-2c979106a351",
        "colab": {
          "base_uri": "https://localhost:8080/",
          "height": 34
        }
      },
      "source": [
        "#plidx_df.loc[[1197516,1200938,1195562,1196781,1195562]]\n",
        "#%timeit plidx_df.iat[1197517, 4]\n",
        "\n",
        "print(plidx_df.iat[1197517, 4], plidx_df.iat[1197517, 5])\n",
        "\n"
      ],
      "execution_count": 189,
      "outputs": [
        {
          "output_type": "stream",
          "text": [
            "41.9452125788355 -87.8237277801767\n"
          ],
          "name": "stdout"
        }
      ]
    },
    {
      "cell_type": "code",
      "metadata": {
        "id": "HS-qhkjxEhQW",
        "outputId": "8ea8ff5e-c934-4905-dc8e-6b7c86d4e2f9",
        "colab": {
          "base_uri": "https://localhost:8080/",
          "height": 52
        }
      },
      "source": [
        "%timeit test = activity_df[activity_df['schedule_id'] == 5930]\n",
        "%timeit test = activity_df.query('schedule_id == 5930')\n",
        "\n",
        "#print(test)\n",
        "#print(test.iat[2,3])"
      ],
      "execution_count": 103,
      "outputs": [
        {
          "output_type": "stream",
          "text": [
            "1000 loops, best of 3: 985 µs per loop\n",
            "100 loops, best of 3: 4.19 ms per loop\n"
          ],
          "name": "stdout"
        }
      ]
    },
    {
      "cell_type": "code",
      "metadata": {
        "id": "kW9bQN2SNYQz",
        "outputId": "07531cf1-fc2e-47fe-ebb9-dd8432eb77e3",
        "colab": {
          "base_uri": "https://localhost:8080/",
          "height": 443
        }
      },
      "source": [
        "# given a person id, and weekday/weekend\n",
        "# select an activity at random\n",
        "# retrieve the place info\n",
        "\n",
        "row = persons_df.sample().iloc[0]\n",
        "row"
      ],
      "execution_count": 165,
      "outputs": [
        {
          "output_type": "execute_result",
          "data": {
            "text/plain": [
              "numeric_id                                                            1912861\n",
              "person_id                                                             5211385\n",
              "hh_id                                                                  840724\n",
              "relate                                                                      1\n",
              "sex                                                                         2\n",
              "age                                                                        41\n",
              "gq_id                                                                     NaN\n",
              "school_id                                                                 NaN\n",
              "work_id                                                                   NaN\n",
              "daycare_id                                                             579187\n",
              "gym_id                                                            1.18135e+06\n",
              "hospital_id                                                                29\n",
              "jail                                                                0.0425637\n",
              "jail_id                                                               1194221\n",
              "rank                                                                       34\n",
              "weekday_schedule_id_list    3013|3039|3017|3025|3014|3040|3041|3041|3012|3026\n",
              "weekend_schedule_id_list    9228|9244|9228|9214|9218|9228|9228|9218|9218|9228\n",
              "otherhh_id                                               840680|840923|841040\n",
              "home_restaurant_id                    1195542|1202014|1194640|1194724|1200972\n",
              "recreation_id                         1206695|1206691|1203954|1203949|1204443\n",
              "grocery_id                                            1210290|1210291|1210279\n",
              "worship_id                                                         1.2102e+06\n",
              "work_restaurant_id                    1200691|1199069|1196864|1198627|1197130\n",
              "Name: 1607096, dtype: object"
            ]
          },
          "metadata": {
            "tags": []
          },
          "execution_count": 165
        }
      ]
    },
    {
      "cell_type": "code",
      "metadata": {
        "id": "3HlMJY8hvaYs",
        "outputId": "bfef1631-e4d5-4a19-a1d3-a19a832a2e3c",
        "colab": {
          "base_uri": "https://localhost:8080/",
          "height": 34
        }
      },
      "source": [
        "#row['grocery_id'].split('|')\n",
        "#str(int(row['hh_id'])).split('|')\n",
        "type(row.otherhh_id)"
      ],
      "execution_count": 206,
      "outputs": [
        {
          "output_type": "execute_result",
          "data": {
            "text/plain": [
              "str"
            ]
          },
          "metadata": {
            "tags": []
          },
          "execution_count": 206
        }
      ]
    },
    {
      "cell_type": "code",
      "metadata": {
        "id": "Lm5vTtTqniTJ"
      },
      "source": [
        "from secrets import choice\n",
        "\n",
        "# retrieve a schedule\n",
        "test = activity_df[activity_df['schedule_id'] == int(choice(row.weekday_schedule_id_list.split('|')))]\n"
      ],
      "execution_count": 170,
      "outputs": []
    },
    {
      "cell_type": "code",
      "metadata": {
        "id": "jRUpOsk2u0wO",
        "outputId": "aca0fe9e-bde7-4a62-bb28-0a8f5e4ec4ff",
        "colab": {
          "base_uri": "https://localhost:8080/",
          "height": 1000
        }
      },
      "source": [
        "test"
      ],
      "execution_count": 192,
      "outputs": [
        {
          "output_type": "execute_result",
          "data": {
            "text/html": [
              "<div>\n",
              "<style scoped>\n",
              "    .dataframe tbody tr th:only-of-type {\n",
              "        vertical-align: middle;\n",
              "    }\n",
              "\n",
              "    .dataframe tbody tr th {\n",
              "        vertical-align: top;\n",
              "    }\n",
              "\n",
              "    .dataframe thead th {\n",
              "        text-align: right;\n",
              "    }\n",
              "</style>\n",
              "<table border=\"1\" class=\"dataframe\">\n",
              "  <thead>\n",
              "    <tr style=\"text-align: right;\">\n",
              "      <th></th>\n",
              "      <th>Act_SlNo</th>\n",
              "      <th>start_time</th>\n",
              "      <th>stop_time</th>\n",
              "      <th>Social_Act_Loc</th>\n",
              "      <th>schedule_id</th>\n",
              "    </tr>\n",
              "  </thead>\n",
              "  <tbody>\n",
              "    <tr>\n",
              "      <th>147758</th>\n",
              "      <td>1</td>\n",
              "      <td>0</td>\n",
              "      <td>330</td>\n",
              "      <td>Household</td>\n",
              "      <td>3040</td>\n",
              "    </tr>\n",
              "    <tr>\n",
              "      <th>147759</th>\n",
              "      <td>2</td>\n",
              "      <td>330</td>\n",
              "      <td>360</td>\n",
              "      <td>Household</td>\n",
              "      <td>3040</td>\n",
              "    </tr>\n",
              "    <tr>\n",
              "      <th>147760</th>\n",
              "      <td>3</td>\n",
              "      <td>360</td>\n",
              "      <td>375</td>\n",
              "      <td>Household</td>\n",
              "      <td>3040</td>\n",
              "    </tr>\n",
              "    <tr>\n",
              "      <th>147761</th>\n",
              "      <td>4</td>\n",
              "      <td>375</td>\n",
              "      <td>390</td>\n",
              "      <td>Household</td>\n",
              "      <td>3040</td>\n",
              "    </tr>\n",
              "    <tr>\n",
              "      <th>147762</th>\n",
              "      <td>5</td>\n",
              "      <td>390</td>\n",
              "      <td>430</td>\n",
              "      <td>Recreation</td>\n",
              "      <td>3040</td>\n",
              "    </tr>\n",
              "    <tr>\n",
              "      <th>147763</th>\n",
              "      <td>6</td>\n",
              "      <td>430</td>\n",
              "      <td>450</td>\n",
              "      <td>Household</td>\n",
              "      <td>3040</td>\n",
              "    </tr>\n",
              "    <tr>\n",
              "      <th>147764</th>\n",
              "      <td>7</td>\n",
              "      <td>450</td>\n",
              "      <td>465</td>\n",
              "      <td>Household</td>\n",
              "      <td>3040</td>\n",
              "    </tr>\n",
              "    <tr>\n",
              "      <th>147765</th>\n",
              "      <td>8</td>\n",
              "      <td>465</td>\n",
              "      <td>485</td>\n",
              "      <td>Household</td>\n",
              "      <td>3040</td>\n",
              "    </tr>\n",
              "    <tr>\n",
              "      <th>147766</th>\n",
              "      <td>9</td>\n",
              "      <td>485</td>\n",
              "      <td>515</td>\n",
              "      <td>Household</td>\n",
              "      <td>3040</td>\n",
              "    </tr>\n",
              "    <tr>\n",
              "      <th>147767</th>\n",
              "      <td>10</td>\n",
              "      <td>515</td>\n",
              "      <td>635</td>\n",
              "      <td>Other</td>\n",
              "      <td>3040</td>\n",
              "    </tr>\n",
              "    <tr>\n",
              "      <th>147768</th>\n",
              "      <td>11</td>\n",
              "      <td>635</td>\n",
              "      <td>665</td>\n",
              "      <td>Other Household</td>\n",
              "      <td>3040</td>\n",
              "    </tr>\n",
              "    <tr>\n",
              "      <th>147769</th>\n",
              "      <td>12</td>\n",
              "      <td>665</td>\n",
              "      <td>668</td>\n",
              "      <td>Other Household</td>\n",
              "      <td>3040</td>\n",
              "    </tr>\n",
              "    <tr>\n",
              "      <th>147770</th>\n",
              "      <td>13</td>\n",
              "      <td>668</td>\n",
              "      <td>683</td>\n",
              "      <td>Other</td>\n",
              "      <td>3040</td>\n",
              "    </tr>\n",
              "    <tr>\n",
              "      <th>147771</th>\n",
              "      <td>14</td>\n",
              "      <td>683</td>\n",
              "      <td>713</td>\n",
              "      <td>Other</td>\n",
              "      <td>3040</td>\n",
              "    </tr>\n",
              "    <tr>\n",
              "      <th>147772</th>\n",
              "      <td>15</td>\n",
              "      <td>713</td>\n",
              "      <td>728</td>\n",
              "      <td>Grocery store</td>\n",
              "      <td>3040</td>\n",
              "    </tr>\n",
              "    <tr>\n",
              "      <th>147773</th>\n",
              "      <td>16</td>\n",
              "      <td>728</td>\n",
              "      <td>748</td>\n",
              "      <td>Grocery store</td>\n",
              "      <td>3040</td>\n",
              "    </tr>\n",
              "    <tr>\n",
              "      <th>147774</th>\n",
              "      <td>17</td>\n",
              "      <td>748</td>\n",
              "      <td>758</td>\n",
              "      <td>Other Household</td>\n",
              "      <td>3040</td>\n",
              "    </tr>\n",
              "    <tr>\n",
              "      <th>147775</th>\n",
              "      <td>18</td>\n",
              "      <td>758</td>\n",
              "      <td>788</td>\n",
              "      <td>Other Household</td>\n",
              "      <td>3040</td>\n",
              "    </tr>\n",
              "    <tr>\n",
              "      <th>147776</th>\n",
              "      <td>19</td>\n",
              "      <td>788</td>\n",
              "      <td>828</td>\n",
              "      <td>Other Household</td>\n",
              "      <td>3040</td>\n",
              "    </tr>\n",
              "    <tr>\n",
              "      <th>147777</th>\n",
              "      <td>20</td>\n",
              "      <td>828</td>\n",
              "      <td>903</td>\n",
              "      <td>Other</td>\n",
              "      <td>3040</td>\n",
              "    </tr>\n",
              "    <tr>\n",
              "      <th>147778</th>\n",
              "      <td>21</td>\n",
              "      <td>903</td>\n",
              "      <td>993</td>\n",
              "      <td>Other</td>\n",
              "      <td>3040</td>\n",
              "    </tr>\n",
              "    <tr>\n",
              "      <th>147779</th>\n",
              "      <td>22</td>\n",
              "      <td>993</td>\n",
              "      <td>1098</td>\n",
              "      <td>Household</td>\n",
              "      <td>3040</td>\n",
              "    </tr>\n",
              "    <tr>\n",
              "      <th>147780</th>\n",
              "      <td>23</td>\n",
              "      <td>1098</td>\n",
              "      <td>1118</td>\n",
              "      <td>Household</td>\n",
              "      <td>3040</td>\n",
              "    </tr>\n",
              "    <tr>\n",
              "      <th>147781</th>\n",
              "      <td>24</td>\n",
              "      <td>1118</td>\n",
              "      <td>1135</td>\n",
              "      <td>Household</td>\n",
              "      <td>3040</td>\n",
              "    </tr>\n",
              "    <tr>\n",
              "      <th>147782</th>\n",
              "      <td>25</td>\n",
              "      <td>1135</td>\n",
              "      <td>1150</td>\n",
              "      <td>Household</td>\n",
              "      <td>3040</td>\n",
              "    </tr>\n",
              "    <tr>\n",
              "      <th>147783</th>\n",
              "      <td>26</td>\n",
              "      <td>1150</td>\n",
              "      <td>1160</td>\n",
              "      <td>Household</td>\n",
              "      <td>3040</td>\n",
              "    </tr>\n",
              "    <tr>\n",
              "      <th>147784</th>\n",
              "      <td>27</td>\n",
              "      <td>1160</td>\n",
              "      <td>1230</td>\n",
              "      <td>Household</td>\n",
              "      <td>3040</td>\n",
              "    </tr>\n",
              "    <tr>\n",
              "      <th>147785</th>\n",
              "      <td>28</td>\n",
              "      <td>1230</td>\n",
              "      <td>1260</td>\n",
              "      <td>Household</td>\n",
              "      <td>3040</td>\n",
              "    </tr>\n",
              "    <tr>\n",
              "      <th>147786</th>\n",
              "      <td>29</td>\n",
              "      <td>1260</td>\n",
              "      <td>1275</td>\n",
              "      <td>Household</td>\n",
              "      <td>3040</td>\n",
              "    </tr>\n",
              "    <tr>\n",
              "      <th>147787</th>\n",
              "      <td>30</td>\n",
              "      <td>1275</td>\n",
              "      <td>1295</td>\n",
              "      <td>Recreation</td>\n",
              "      <td>3040</td>\n",
              "    </tr>\n",
              "    <tr>\n",
              "      <th>147788</th>\n",
              "      <td>31</td>\n",
              "      <td>1295</td>\n",
              "      <td>1305</td>\n",
              "      <td>Household</td>\n",
              "      <td>3040</td>\n",
              "    </tr>\n",
              "    <tr>\n",
              "      <th>147789</th>\n",
              "      <td>32</td>\n",
              "      <td>1305</td>\n",
              "      <td>1325</td>\n",
              "      <td>Household</td>\n",
              "      <td>3040</td>\n",
              "    </tr>\n",
              "    <tr>\n",
              "      <th>147790</th>\n",
              "      <td>33</td>\n",
              "      <td>1325</td>\n",
              "      <td>1385</td>\n",
              "      <td>Household</td>\n",
              "      <td>3040</td>\n",
              "    </tr>\n",
              "    <tr>\n",
              "      <th>147791</th>\n",
              "      <td>34</td>\n",
              "      <td>1385</td>\n",
              "      <td>1440</td>\n",
              "      <td>Household</td>\n",
              "      <td>3040</td>\n",
              "    </tr>\n",
              "  </tbody>\n",
              "</table>\n",
              "</div>"
            ],
            "text/plain": [
              "        Act_SlNo  start_time  stop_time   Social_Act_Loc  schedule_id\n",
              "147758         1           0        330        Household         3040\n",
              "147759         2         330        360        Household         3040\n",
              "147760         3         360        375        Household         3040\n",
              "147761         4         375        390        Household         3040\n",
              "147762         5         390        430       Recreation         3040\n",
              "147763         6         430        450        Household         3040\n",
              "147764         7         450        465        Household         3040\n",
              "147765         8         465        485        Household         3040\n",
              "147766         9         485        515        Household         3040\n",
              "147767        10         515        635            Other         3040\n",
              "147768        11         635        665  Other Household         3040\n",
              "147769        12         665        668  Other Household         3040\n",
              "147770        13         668        683            Other         3040\n",
              "147771        14         683        713            Other         3040\n",
              "147772        15         713        728    Grocery store         3040\n",
              "147773        16         728        748    Grocery store         3040\n",
              "147774        17         748        758  Other Household         3040\n",
              "147775        18         758        788  Other Household         3040\n",
              "147776        19         788        828  Other Household         3040\n",
              "147777        20         828        903            Other         3040\n",
              "147778        21         903        993            Other         3040\n",
              "147779        22         993       1098        Household         3040\n",
              "147780        23        1098       1118        Household         3040\n",
              "147781        24        1118       1135        Household         3040\n",
              "147782        25        1135       1150        Household         3040\n",
              "147783        26        1150       1160        Household         3040\n",
              "147784        27        1160       1230        Household         3040\n",
              "147785        28        1230       1260        Household         3040\n",
              "147786        29        1260       1275        Household         3040\n",
              "147787        30        1275       1295       Recreation         3040\n",
              "147788        31        1295       1305        Household         3040\n",
              "147789        32        1305       1325        Household         3040\n",
              "147790        33        1325       1385        Household         3040\n",
              "147791        34        1385       1440        Household         3040"
            ]
          },
          "metadata": {
            "tags": []
          },
          "execution_count": 192
        }
      ]
    },
    {
      "cell_type": "code",
      "metadata": {
        "id": "I9lQV_NZq0M8",
        "outputId": "b39aeb93-34ff-47a3-cc04-a87f67969ce5",
        "colab": {
          "base_uri": "https://localhost:8080/",
          "height": 34
        }
      },
      "source": [
        "from secrets import choice\n",
        "\n",
        "def match_activity_with_coord(person_row, activity_df, sch_type='weekday'):\n",
        "\n",
        "  # retrieve a schedule\n",
        "  curr_activity = activity_df[activity_df['schedule_id'] == int(choice(row[sch_type+'_schedule_id_list'].split('|')))].reset_index(drop=True)\n",
        "\n",
        "  place_list = curr_activity['Social_Act_Loc'].to_list()\n",
        "  place_info = []\n",
        "  prev_place = ''\n",
        "\n",
        "  item_to_key = {\n",
        "    'Household': 'hh_id', \n",
        "    'Work Restaurant': 'work_restaurant_id',\n",
        "    'Other': 'hh_id', \n",
        "    'Other Household': 'otherhh_id',\n",
        "    'Place of worship': 'worship_id', \n",
        "    'Home Restaurant': 'home_restaurant_id', \n",
        "    'Recreation': 'recreation_id',\n",
        "    'Grocery store': 'grocery_id', \n",
        "    'School': 'school_id', \n",
        "    'Workplace': 'work_id', \n",
        "    'Gym': 'gym_id', \n",
        "    'Prison': 'jail_id'\n",
        "  }\n",
        "\n",
        "  for item in place_list:\n",
        "    if item == prev_place:\n",
        "      curr_info = place_info[-1]\n",
        "    else:\n",
        "      if item in item_to_key:\n",
        "        try:\n",
        "          if type(row[item_to_key[item]]) is str:\n",
        "            idx = int(choice(row[item_to_key[item]].split('|')))\n",
        "          else:\n",
        "            idx = int(row[item_to_key[item]])\n",
        "          curr_info = [item, idx, plidx_df.iat[idx, 4], plidx_df.iat[idx, 5]]\n",
        "        except:\n",
        "          curr_info = [item, None, None, None]\n",
        "      else:\n",
        "        curr_info = [item, None, None, None]\n",
        "\n",
        "    #print(curr_info)\n",
        "    place_info.append(curr_info)\n",
        "    prev_place = item\n",
        "\n",
        "  # return the horizontally-concated dataframe\n",
        "  return(pd.concat([curr_activity, \n",
        "                    pd.DataFrame(place_info, columns=['item', 'place_numeric', 'lat', 'lng'])], \n",
        "                    axis=1))\n",
        "\n",
        "%timeit match_activity_with_coord(row, activity_df)\n",
        "#print(place_info)  "
      ],
      "execution_count": 225,
      "outputs": [
        {
          "output_type": "stream",
          "text": [
            "100 loops, best of 3: 3.3 ms per loop\n"
          ],
          "name": "stdout"
        }
      ]
    },
    {
      "cell_type": "code",
      "metadata": {
        "id": "Sy6zkkVWEvRO",
        "outputId": "6499da7a-8597-4743-834b-0c4fd0497612",
        "colab": {
          "base_uri": "https://localhost:8080/",
          "height": 423
        }
      },
      "source": [
        "# hour, weight, social_act_loc, coordinates (lat/lng)\n",
        "# using iat (instead of iloc) give ~10x speed improvement\n",
        "\n",
        "def generate_hourly_activity(act_df):\n",
        "\n",
        "  schedule = []\n",
        "  for ii in range(act_df.shape[0]):\n",
        "    curr_hour = act_df.iat[ii,1] // 60 #.iloc[ii].start_time // 60 \n",
        "    proc_time = act_df.iat[ii,1] #.start_time\n",
        "\n",
        "    # take care of the short activity\n",
        "    if 60*(curr_hour+1) < act_df.iat[ii,2]: #iloc[ii].stop_time:\n",
        "        schedule.append([curr_hour, \n",
        "                        (60*(curr_hour+1) - act_df.iat[ii,1])/60, \n",
        "                        act_df.iat[ii,3], act_df.iat[ii,7], act_df.iat[ii,8]]) #.iloc[ii].Social_Act_Loc])\n",
        "        curr_hour += 1\n",
        "        proc_time = 60*curr_hour\n",
        "\n",
        "    # take care of the remaining long activity\n",
        "    while proc_time < act_df.iat[ii,2]: #iloc[ii].stop_time:\n",
        "      if (proc_time + 60) < act_df.iat[ii,2]: #iloc[ii].stop_time:\n",
        "        schedule.append([curr_hour, 1, act_df.iat[ii,3], act_df.iat[ii,7], act_df.iat[ii,8]])\n",
        "        proc_time += 60\n",
        "        curr_hour += 1\n",
        "      else:\n",
        "        res_act = act_df.iat[ii,2] - proc_time\n",
        "        schedule.append([curr_hour, res_act/60, act_df.iat[ii,3], act_df.iat[ii,7], act_df.iat[ii,8]])\n",
        "        proc_time = act_df.iat[ii,2]\n",
        "    \n",
        "  # make the schedule compact\n",
        "  compact_schedule = []\n",
        "  compact_schedule.append(schedule.copy()[0])\n",
        "  for item in schedule[1:]:\n",
        "    # if the hour and activity are the same, just merge the time\n",
        "    if (item[0] == compact_schedule[-1][0]) & (item[2] == compact_schedule[-1][2]):\n",
        "      compact_schedule[-1][1] += item[1]\n",
        "    else:\n",
        "      compact_schedule.append(item)  \n",
        "\n",
        "  # done\n",
        "  return compact_schedule\n"
      ],
      "execution_count": 245,
      "outputs": [
        {
          "output_type": "error",
          "ename": "IndexError",
          "evalue": "ignored",
          "traceback": [
            "\u001b[0;31m---------------------------------------------------------------------------\u001b[0m",
            "\u001b[0;31mIndexError\u001b[0m                                Traceback (most recent call last)",
            "\u001b[0;32m<ipython-input-245-565f9af704dc>\u001b[0m in \u001b[0;36m<module>\u001b[0;34m()\u001b[0m\n\u001b[1;32m     41\u001b[0m   \u001b[0;32mreturn\u001b[0m \u001b[0mcompact_schedule\u001b[0m\u001b[0;34m\u001b[0m\u001b[0;34m\u001b[0m\u001b[0m\n\u001b[1;32m     42\u001b[0m \u001b[0;34m\u001b[0m\u001b[0m\n\u001b[0;32m---> 43\u001b[0;31m \u001b[0mget_ipython\u001b[0m\u001b[0;34m(\u001b[0m\u001b[0;34m)\u001b[0m\u001b[0;34m.\u001b[0m\u001b[0mmagic\u001b[0m\u001b[0;34m(\u001b[0m\u001b[0;34m'timeit generate_hourly_activity(test)'\u001b[0m\u001b[0;34m)\u001b[0m\u001b[0;34m\u001b[0m\u001b[0;34m\u001b[0m\u001b[0m\n\u001b[0m",
            "\u001b[0;32m/usr/local/lib/python3.6/dist-packages/IPython/core/interactiveshell.py\u001b[0m in \u001b[0;36mmagic\u001b[0;34m(self, arg_s)\u001b[0m\n\u001b[1;32m   2158\u001b[0m         \u001b[0mmagic_name\u001b[0m\u001b[0;34m,\u001b[0m \u001b[0m_\u001b[0m\u001b[0;34m,\u001b[0m \u001b[0mmagic_arg_s\u001b[0m \u001b[0;34m=\u001b[0m \u001b[0marg_s\u001b[0m\u001b[0;34m.\u001b[0m\u001b[0mpartition\u001b[0m\u001b[0;34m(\u001b[0m\u001b[0;34m' '\u001b[0m\u001b[0;34m)\u001b[0m\u001b[0;34m\u001b[0m\u001b[0;34m\u001b[0m\u001b[0m\n\u001b[1;32m   2159\u001b[0m         \u001b[0mmagic_name\u001b[0m \u001b[0;34m=\u001b[0m \u001b[0mmagic_name\u001b[0m\u001b[0;34m.\u001b[0m\u001b[0mlstrip\u001b[0m\u001b[0;34m(\u001b[0m\u001b[0mprefilter\u001b[0m\u001b[0;34m.\u001b[0m\u001b[0mESC_MAGIC\u001b[0m\u001b[0;34m)\u001b[0m\u001b[0;34m\u001b[0m\u001b[0;34m\u001b[0m\u001b[0m\n\u001b[0;32m-> 2160\u001b[0;31m         \u001b[0;32mreturn\u001b[0m \u001b[0mself\u001b[0m\u001b[0;34m.\u001b[0m\u001b[0mrun_line_magic\u001b[0m\u001b[0;34m(\u001b[0m\u001b[0mmagic_name\u001b[0m\u001b[0;34m,\u001b[0m \u001b[0mmagic_arg_s\u001b[0m\u001b[0;34m)\u001b[0m\u001b[0;34m\u001b[0m\u001b[0;34m\u001b[0m\u001b[0m\n\u001b[0m\u001b[1;32m   2161\u001b[0m \u001b[0;34m\u001b[0m\u001b[0m\n\u001b[1;32m   2162\u001b[0m     \u001b[0;31m#-------------------------------------------------------------------------\u001b[0m\u001b[0;34m\u001b[0m\u001b[0;34m\u001b[0m\u001b[0;34m\u001b[0m\u001b[0m\n",
            "\u001b[0;32m/usr/local/lib/python3.6/dist-packages/IPython/core/interactiveshell.py\u001b[0m in \u001b[0;36mrun_line_magic\u001b[0;34m(self, magic_name, line)\u001b[0m\n\u001b[1;32m   2079\u001b[0m                 \u001b[0mkwargs\u001b[0m\u001b[0;34m[\u001b[0m\u001b[0;34m'local_ns'\u001b[0m\u001b[0;34m]\u001b[0m \u001b[0;34m=\u001b[0m \u001b[0msys\u001b[0m\u001b[0;34m.\u001b[0m\u001b[0m_getframe\u001b[0m\u001b[0;34m(\u001b[0m\u001b[0mstack_depth\u001b[0m\u001b[0;34m)\u001b[0m\u001b[0;34m.\u001b[0m\u001b[0mf_locals\u001b[0m\u001b[0;34m\u001b[0m\u001b[0;34m\u001b[0m\u001b[0m\n\u001b[1;32m   2080\u001b[0m             \u001b[0;32mwith\u001b[0m \u001b[0mself\u001b[0m\u001b[0;34m.\u001b[0m\u001b[0mbuiltin_trap\u001b[0m\u001b[0;34m:\u001b[0m\u001b[0;34m\u001b[0m\u001b[0;34m\u001b[0m\u001b[0m\n\u001b[0;32m-> 2081\u001b[0;31m                 \u001b[0mresult\u001b[0m \u001b[0;34m=\u001b[0m \u001b[0mfn\u001b[0m\u001b[0;34m(\u001b[0m\u001b[0;34m*\u001b[0m\u001b[0margs\u001b[0m\u001b[0;34m,\u001b[0m\u001b[0;34m**\u001b[0m\u001b[0mkwargs\u001b[0m\u001b[0;34m)\u001b[0m\u001b[0;34m\u001b[0m\u001b[0;34m\u001b[0m\u001b[0m\n\u001b[0m\u001b[1;32m   2082\u001b[0m             \u001b[0;32mreturn\u001b[0m \u001b[0mresult\u001b[0m\u001b[0;34m\u001b[0m\u001b[0;34m\u001b[0m\u001b[0m\n\u001b[1;32m   2083\u001b[0m \u001b[0;34m\u001b[0m\u001b[0m\n",
            "\u001b[0;32m<decorator-gen-59>\u001b[0m in \u001b[0;36mtimeit\u001b[0;34m(self, line, cell)\u001b[0m\n",
            "\u001b[0;32m/usr/local/lib/python3.6/dist-packages/IPython/core/magic.py\u001b[0m in \u001b[0;36m<lambda>\u001b[0;34m(f, *a, **k)\u001b[0m\n\u001b[1;32m    186\u001b[0m     \u001b[0;31m# but it's overkill for just that one bit of state.\u001b[0m\u001b[0;34m\u001b[0m\u001b[0;34m\u001b[0m\u001b[0;34m\u001b[0m\u001b[0m\n\u001b[1;32m    187\u001b[0m     \u001b[0;32mdef\u001b[0m \u001b[0mmagic_deco\u001b[0m\u001b[0;34m(\u001b[0m\u001b[0marg\u001b[0m\u001b[0;34m)\u001b[0m\u001b[0;34m:\u001b[0m\u001b[0;34m\u001b[0m\u001b[0;34m\u001b[0m\u001b[0m\n\u001b[0;32m--> 188\u001b[0;31m         \u001b[0mcall\u001b[0m \u001b[0;34m=\u001b[0m \u001b[0;32mlambda\u001b[0m \u001b[0mf\u001b[0m\u001b[0;34m,\u001b[0m \u001b[0;34m*\u001b[0m\u001b[0ma\u001b[0m\u001b[0;34m,\u001b[0m \u001b[0;34m**\u001b[0m\u001b[0mk\u001b[0m\u001b[0;34m:\u001b[0m \u001b[0mf\u001b[0m\u001b[0;34m(\u001b[0m\u001b[0;34m*\u001b[0m\u001b[0ma\u001b[0m\u001b[0;34m,\u001b[0m \u001b[0;34m**\u001b[0m\u001b[0mk\u001b[0m\u001b[0;34m)\u001b[0m\u001b[0;34m\u001b[0m\u001b[0;34m\u001b[0m\u001b[0m\n\u001b[0m\u001b[1;32m    189\u001b[0m \u001b[0;34m\u001b[0m\u001b[0m\n\u001b[1;32m    190\u001b[0m         \u001b[0;32mif\u001b[0m \u001b[0mcallable\u001b[0m\u001b[0;34m(\u001b[0m\u001b[0marg\u001b[0m\u001b[0;34m)\u001b[0m\u001b[0;34m:\u001b[0m\u001b[0;34m\u001b[0m\u001b[0;34m\u001b[0m\u001b[0m\n",
            "\u001b[0;32m/usr/local/lib/python3.6/dist-packages/IPython/core/magics/execution.py\u001b[0m in \u001b[0;36mtimeit\u001b[0;34m(self, line, cell)\u001b[0m\n\u001b[1;32m   1055\u001b[0m             \u001b[0mnumber\u001b[0m \u001b[0;34m=\u001b[0m \u001b[0;36m1\u001b[0m\u001b[0;34m\u001b[0m\u001b[0;34m\u001b[0m\u001b[0m\n\u001b[1;32m   1056\u001b[0m             \u001b[0;32mfor\u001b[0m \u001b[0m_\u001b[0m \u001b[0;32min\u001b[0m \u001b[0mrange\u001b[0m\u001b[0;34m(\u001b[0m\u001b[0;36m1\u001b[0m\u001b[0;34m,\u001b[0m \u001b[0;36m10\u001b[0m\u001b[0;34m)\u001b[0m\u001b[0;34m:\u001b[0m\u001b[0;34m\u001b[0m\u001b[0;34m\u001b[0m\u001b[0m\n\u001b[0;32m-> 1057\u001b[0;31m                 \u001b[0mtime_number\u001b[0m \u001b[0;34m=\u001b[0m \u001b[0mtimer\u001b[0m\u001b[0;34m.\u001b[0m\u001b[0mtimeit\u001b[0m\u001b[0;34m(\u001b[0m\u001b[0mnumber\u001b[0m\u001b[0;34m)\u001b[0m\u001b[0;34m\u001b[0m\u001b[0;34m\u001b[0m\u001b[0m\n\u001b[0m\u001b[1;32m   1058\u001b[0m                 \u001b[0mworst_tuning\u001b[0m \u001b[0;34m=\u001b[0m \u001b[0mmax\u001b[0m\u001b[0;34m(\u001b[0m\u001b[0mworst_tuning\u001b[0m\u001b[0;34m,\u001b[0m \u001b[0mtime_number\u001b[0m \u001b[0;34m/\u001b[0m \u001b[0mnumber\u001b[0m\u001b[0;34m)\u001b[0m\u001b[0;34m\u001b[0m\u001b[0;34m\u001b[0m\u001b[0m\n\u001b[1;32m   1059\u001b[0m                 \u001b[0;32mif\u001b[0m \u001b[0mtime_number\u001b[0m \u001b[0;34m>=\u001b[0m \u001b[0;36m0.2\u001b[0m\u001b[0;34m:\u001b[0m\u001b[0;34m\u001b[0m\u001b[0;34m\u001b[0m\u001b[0m\n",
            "\u001b[0;32m/usr/local/lib/python3.6/dist-packages/IPython/core/magics/execution.py\u001b[0m in \u001b[0;36mtimeit\u001b[0;34m(self, number)\u001b[0m\n\u001b[1;32m    137\u001b[0m         \u001b[0mgc\u001b[0m\u001b[0;34m.\u001b[0m\u001b[0mdisable\u001b[0m\u001b[0;34m(\u001b[0m\u001b[0;34m)\u001b[0m\u001b[0;34m\u001b[0m\u001b[0;34m\u001b[0m\u001b[0m\n\u001b[1;32m    138\u001b[0m         \u001b[0;32mtry\u001b[0m\u001b[0;34m:\u001b[0m\u001b[0;34m\u001b[0m\u001b[0;34m\u001b[0m\u001b[0m\n\u001b[0;32m--> 139\u001b[0;31m             \u001b[0mtiming\u001b[0m \u001b[0;34m=\u001b[0m \u001b[0mself\u001b[0m\u001b[0;34m.\u001b[0m\u001b[0minner\u001b[0m\u001b[0;34m(\u001b[0m\u001b[0mit\u001b[0m\u001b[0;34m,\u001b[0m \u001b[0mself\u001b[0m\u001b[0;34m.\u001b[0m\u001b[0mtimer\u001b[0m\u001b[0;34m)\u001b[0m\u001b[0;34m\u001b[0m\u001b[0;34m\u001b[0m\u001b[0m\n\u001b[0m\u001b[1;32m    140\u001b[0m         \u001b[0;32mfinally\u001b[0m\u001b[0;34m:\u001b[0m\u001b[0;34m\u001b[0m\u001b[0;34m\u001b[0m\u001b[0m\n\u001b[1;32m    141\u001b[0m             \u001b[0;32mif\u001b[0m \u001b[0mgcold\u001b[0m\u001b[0;34m:\u001b[0m\u001b[0;34m\u001b[0m\u001b[0;34m\u001b[0m\u001b[0m\n",
            "\u001b[0;32m<magic-timeit>\u001b[0m in \u001b[0;36minner\u001b[0;34m(_it, _timer)\u001b[0m\n",
            "\u001b[0;32m<ipython-input-245-565f9af704dc>\u001b[0m in \u001b[0;36mgenerate_hourly_activity\u001b[0;34m(act_df)\u001b[0m\n\u001b[1;32m     13\u001b[0m         schedule.append([curr_hour, \n\u001b[1;32m     14\u001b[0m                         \u001b[0;34m(\u001b[0m\u001b[0;36m60\u001b[0m\u001b[0;34m*\u001b[0m\u001b[0;34m(\u001b[0m\u001b[0mcurr_hour\u001b[0m\u001b[0;34m+\u001b[0m\u001b[0;36m1\u001b[0m\u001b[0;34m)\u001b[0m \u001b[0;34m-\u001b[0m \u001b[0mact_df\u001b[0m\u001b[0;34m.\u001b[0m\u001b[0miat\u001b[0m\u001b[0;34m[\u001b[0m\u001b[0mii\u001b[0m\u001b[0;34m,\u001b[0m\u001b[0;36m1\u001b[0m\u001b[0;34m]\u001b[0m\u001b[0;34m)\u001b[0m\u001b[0;34m/\u001b[0m\u001b[0;36m60\u001b[0m\u001b[0;34m,\u001b[0m\u001b[0;34m\u001b[0m\u001b[0;34m\u001b[0m\u001b[0m\n\u001b[0;32m---> 15\u001b[0;31m                         act_df.iat[ii,3], act_df.iat[ii,7], act_df.iat[ii,8]]) #.iloc[ii].Social_Act_Loc])\n\u001b[0m\u001b[1;32m     16\u001b[0m         \u001b[0mcurr_hour\u001b[0m \u001b[0;34m+=\u001b[0m \u001b[0;36m1\u001b[0m\u001b[0;34m\u001b[0m\u001b[0;34m\u001b[0m\u001b[0m\n\u001b[1;32m     17\u001b[0m         \u001b[0mproc_time\u001b[0m \u001b[0;34m=\u001b[0m \u001b[0;36m60\u001b[0m\u001b[0;34m*\u001b[0m\u001b[0mcurr_hour\u001b[0m\u001b[0;34m\u001b[0m\u001b[0;34m\u001b[0m\u001b[0m\n",
            "\u001b[0;32m/usr/local/lib/python3.6/dist-packages/pandas/core/indexing.py\u001b[0m in \u001b[0;36m__getitem__\u001b[0;34m(self, key)\u001b[0m\n\u001b[1;32m   2025\u001b[0m \u001b[0;34m\u001b[0m\u001b[0m\n\u001b[1;32m   2026\u001b[0m         \u001b[0mkey\u001b[0m \u001b[0;34m=\u001b[0m \u001b[0mself\u001b[0m\u001b[0;34m.\u001b[0m\u001b[0m_convert_key\u001b[0m\u001b[0;34m(\u001b[0m\u001b[0mkey\u001b[0m\u001b[0;34m)\u001b[0m\u001b[0;34m\u001b[0m\u001b[0;34m\u001b[0m\u001b[0m\n\u001b[0;32m-> 2027\u001b[0;31m         \u001b[0;32mreturn\u001b[0m \u001b[0mself\u001b[0m\u001b[0;34m.\u001b[0m\u001b[0mobj\u001b[0m\u001b[0;34m.\u001b[0m\u001b[0m_get_value\u001b[0m\u001b[0;34m(\u001b[0m\u001b[0;34m*\u001b[0m\u001b[0mkey\u001b[0m\u001b[0;34m,\u001b[0m \u001b[0mtakeable\u001b[0m\u001b[0;34m=\u001b[0m\u001b[0mself\u001b[0m\u001b[0;34m.\u001b[0m\u001b[0m_takeable\u001b[0m\u001b[0;34m)\u001b[0m\u001b[0;34m\u001b[0m\u001b[0;34m\u001b[0m\u001b[0m\n\u001b[0m\u001b[1;32m   2028\u001b[0m \u001b[0;34m\u001b[0m\u001b[0m\n\u001b[1;32m   2029\u001b[0m     \u001b[0;32mdef\u001b[0m \u001b[0m__setitem__\u001b[0m\u001b[0;34m(\u001b[0m\u001b[0mself\u001b[0m\u001b[0;34m,\u001b[0m \u001b[0mkey\u001b[0m\u001b[0;34m,\u001b[0m \u001b[0mvalue\u001b[0m\u001b[0;34m)\u001b[0m\u001b[0;34m:\u001b[0m\u001b[0;34m\u001b[0m\u001b[0;34m\u001b[0m\u001b[0m\n",
            "\u001b[0;32m/usr/local/lib/python3.6/dist-packages/pandas/core/frame.py\u001b[0m in \u001b[0;36m_get_value\u001b[0;34m(self, index, col, takeable)\u001b[0m\n\u001b[1;32m   3001\u001b[0m         \"\"\"\n\u001b[1;32m   3002\u001b[0m         \u001b[0;32mif\u001b[0m \u001b[0mtakeable\u001b[0m\u001b[0;34m:\u001b[0m\u001b[0;34m\u001b[0m\u001b[0;34m\u001b[0m\u001b[0m\n\u001b[0;32m-> 3003\u001b[0;31m             \u001b[0mseries\u001b[0m \u001b[0;34m=\u001b[0m \u001b[0mself\u001b[0m\u001b[0;34m.\u001b[0m\u001b[0m_ixs\u001b[0m\u001b[0;34m(\u001b[0m\u001b[0mcol\u001b[0m\u001b[0;34m,\u001b[0m \u001b[0maxis\u001b[0m\u001b[0;34m=\u001b[0m\u001b[0;36m1\u001b[0m\u001b[0;34m)\u001b[0m\u001b[0;34m\u001b[0m\u001b[0;34m\u001b[0m\u001b[0m\n\u001b[0m\u001b[1;32m   3004\u001b[0m             \u001b[0;32mreturn\u001b[0m \u001b[0mseries\u001b[0m\u001b[0;34m.\u001b[0m\u001b[0m_values\u001b[0m\u001b[0;34m[\u001b[0m\u001b[0mindex\u001b[0m\u001b[0;34m]\u001b[0m\u001b[0;34m\u001b[0m\u001b[0;34m\u001b[0m\u001b[0m\n\u001b[1;32m   3005\u001b[0m \u001b[0;34m\u001b[0m\u001b[0m\n",
            "\u001b[0;32m/usr/local/lib/python3.6/dist-packages/pandas/core/frame.py\u001b[0m in \u001b[0;36m_ixs\u001b[0;34m(self, i, axis)\u001b[0m\n\u001b[1;32m   2842\u001b[0m         \u001b[0;31m# icol\u001b[0m\u001b[0;34m\u001b[0m\u001b[0;34m\u001b[0m\u001b[0;34m\u001b[0m\u001b[0m\n\u001b[1;32m   2843\u001b[0m         \u001b[0;32melse\u001b[0m\u001b[0;34m:\u001b[0m\u001b[0;34m\u001b[0m\u001b[0;34m\u001b[0m\u001b[0m\n\u001b[0;32m-> 2844\u001b[0;31m             \u001b[0mlabel\u001b[0m \u001b[0;34m=\u001b[0m \u001b[0mself\u001b[0m\u001b[0;34m.\u001b[0m\u001b[0mcolumns\u001b[0m\u001b[0;34m[\u001b[0m\u001b[0mi\u001b[0m\u001b[0;34m]\u001b[0m\u001b[0;34m\u001b[0m\u001b[0;34m\u001b[0m\u001b[0m\n\u001b[0m\u001b[1;32m   2845\u001b[0m \u001b[0;34m\u001b[0m\u001b[0m\n\u001b[1;32m   2846\u001b[0m             \u001b[0mvalues\u001b[0m \u001b[0;34m=\u001b[0m \u001b[0mself\u001b[0m\u001b[0;34m.\u001b[0m\u001b[0m_mgr\u001b[0m\u001b[0;34m.\u001b[0m\u001b[0miget\u001b[0m\u001b[0;34m(\u001b[0m\u001b[0mi\u001b[0m\u001b[0;34m)\u001b[0m\u001b[0;34m\u001b[0m\u001b[0;34m\u001b[0m\u001b[0m\n",
            "\u001b[0;32m/usr/local/lib/python3.6/dist-packages/pandas/core/indexes/base.py\u001b[0m in \u001b[0;36m__getitem__\u001b[0;34m(self, key)\u001b[0m\n\u001b[1;32m   4095\u001b[0m         \u001b[0;32mif\u001b[0m \u001b[0mis_scalar\u001b[0m\u001b[0;34m(\u001b[0m\u001b[0mkey\u001b[0m\u001b[0;34m)\u001b[0m\u001b[0;34m:\u001b[0m\u001b[0;34m\u001b[0m\u001b[0;34m\u001b[0m\u001b[0m\n\u001b[1;32m   4096\u001b[0m             \u001b[0mkey\u001b[0m \u001b[0;34m=\u001b[0m \u001b[0mcom\u001b[0m\u001b[0;34m.\u001b[0m\u001b[0mcast_scalar_indexer\u001b[0m\u001b[0;34m(\u001b[0m\u001b[0mkey\u001b[0m\u001b[0;34m,\u001b[0m \u001b[0mwarn_float\u001b[0m\u001b[0;34m=\u001b[0m\u001b[0;32mTrue\u001b[0m\u001b[0;34m)\u001b[0m\u001b[0;34m\u001b[0m\u001b[0;34m\u001b[0m\u001b[0m\n\u001b[0;32m-> 4097\u001b[0;31m             \u001b[0;32mreturn\u001b[0m \u001b[0mgetitem\u001b[0m\u001b[0;34m(\u001b[0m\u001b[0mkey\u001b[0m\u001b[0;34m)\u001b[0m\u001b[0;34m\u001b[0m\u001b[0;34m\u001b[0m\u001b[0m\n\u001b[0m\u001b[1;32m   4098\u001b[0m \u001b[0;34m\u001b[0m\u001b[0m\n\u001b[1;32m   4099\u001b[0m         \u001b[0;32mif\u001b[0m \u001b[0misinstance\u001b[0m\u001b[0;34m(\u001b[0m\u001b[0mkey\u001b[0m\u001b[0;34m,\u001b[0m \u001b[0mslice\u001b[0m\u001b[0;34m)\u001b[0m\u001b[0;34m:\u001b[0m\u001b[0;34m\u001b[0m\u001b[0;34m\u001b[0m\u001b[0m\n",
            "\u001b[0;31mIndexError\u001b[0m: index 7 is out of bounds for axis 0 with size 5"
          ]
        }
      ]
    },
    {
      "cell_type": "code",
      "metadata": {
        "id": "9ZvCLwCA5ggb",
        "outputId": "fe38fc44-596a-4586-9e7b-54d4ab04c6aa",
        "colab": {
          "base_uri": "https://localhost:8080/",
          "height": 52
        }
      },
      "source": [
        "row = persons_df.sample().iloc[0]\n",
        "%timeit test = match_activity_with_coord(row, activity_df)\n",
        "%timeit generate_hourly_activity(test)"
      ],
      "execution_count": 248,
      "outputs": [
        {
          "output_type": "stream",
          "text": [
            "100 loops, best of 3: 3.26 ms per loop\n",
            "100 loops, best of 3: 6.23 ms per loop\n"
          ],
          "name": "stdout"
        }
      ]
    },
    {
      "cell_type": "code",
      "metadata": {
        "id": "41YcK6JB50zg",
        "outputId": "218c38a0-3ad4-4dfc-afee-9939252ec860",
        "colab": {
          "base_uri": "https://localhost:8080/",
          "height": 443
        }
      },
      "source": [
        "row"
      ],
      "execution_count": 240,
      "outputs": [
        {
          "output_type": "execute_result",
          "data": {
            "text/plain": [
              "numeric_id                                                            1449174\n",
              "person_id                                                             4736178\n",
              "hh_id                                                                  670075\n",
              "relate                                                                      1\n",
              "sex                                                                         1\n",
              "age                                                                        33\n",
              "gq_id                                                                     NaN\n",
              "school_id                                                                 NaN\n",
              "work_id                                                                   NaN\n",
              "daycare_id                                                             598092\n",
              "gym_id                                                            1.18133e+06\n",
              "hospital_id                                                                62\n",
              "jail                                                                0.0279796\n",
              "jail_id                                                               1194221\n",
              "rank                                                                       21\n",
              "weekday_schedule_id_list    2381|2398|2400|2401|2383|2408|2398|2371|2403|2404\n",
              "weekend_schedule_id_list    8551|8588|8579|8570|8573|8562|8586|8581|8583|8561\n",
              "otherhh_id                                        670057|669761|670460|901886\n",
              "home_restaurant_id                    1197957|1198508|1195776|1199306|1197348\n",
              "recreation_id                         1204472|1207008|1203277|1204734|1206847\n",
              "grocery_id                                            1210484|1210415|1210316\n",
              "worship_id                                                        1.20864e+06\n",
              "work_restaurant_id                    1195315|1195919|1200887|1200592|1196628\n",
              "Name: 2595814, dtype: object"
            ]
          },
          "metadata": {
            "tags": []
          },
          "execution_count": 240
        }
      ]
    },
    {
      "cell_type": "code",
      "metadata": {
        "id": "1Wr4ySpQqbIW"
      },
      "source": [
        ""
      ],
      "execution_count": null,
      "outputs": []
    }
  ]
}