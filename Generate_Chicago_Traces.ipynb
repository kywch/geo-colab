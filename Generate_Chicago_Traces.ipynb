{
  "nbformat": 4,
  "nbformat_minor": 0,
  "metadata": {
    "colab": {
      "name": "Generate_Chicago_Traces.ipynb",
      "provenance": [],
      "authorship_tag": "ABX9TyPfBShGHDAJO013PnYTWZQ2",
      "include_colab_link": true
    },
    "kernelspec": {
      "name": "python3",
      "display_name": "Python 3"
    }
  },
  "cells": [
    {
      "cell_type": "markdown",
      "metadata": {
        "id": "view-in-github",
        "colab_type": "text"
      },
      "source": [
        "<a href=\"https://colab.research.google.com/github/kywch/geo-colab/blob/master/Generate_Chicago_Traces.ipynb\" target=\"_parent\"><img src=\"https://colab.research.google.com/assets/colab-badge.svg\" alt=\"Open In Colab\"/></a>"
      ]
    },
    {
      "cell_type": "code",
      "metadata": {
        "id": "fm-2TO7D6xmS"
      },
      "source": [
        "# Import necessary packages\n",
        "import os, os.path\n",
        "from glob import glob\n",
        "from shutil import copyfile\n",
        "\n",
        "import pandas as pd\n",
        "\n",
        "from secrets import choice\n"
      ],
      "execution_count": 1,
      "outputs": []
    },
    {
      "cell_type": "code",
      "metadata": {
        "id": "SqbMd97Z69xp",
        "outputId": "a229f266-b98c-4fdb-e3e2-fa3b7d7bf08f",
        "colab": {
          "base_uri": "https://localhost:8080/",
          "height": 34
        }
      },
      "source": [
        "from google.colab import drive\n",
        "drive.mount('/content/drive')"
      ],
      "execution_count": 2,
      "outputs": [
        {
          "output_type": "stream",
          "text": [
            "Mounted at /content/drive\n"
          ],
          "name": "stdout"
        }
      ]
    },
    {
      "cell_type": "code",
      "metadata": {
        "id": "rzLl1Ce77G_P",
        "outputId": "42f309b4-b1b8-45b8-a384-0a712b0bfbb6",
        "colab": {
          "base_uri": "https://localhost:8080/",
          "height": 54
        }
      },
      "source": [
        "files = glob(\"drive/My Drive/SatTemp/chicago_synthpop_V2/*.csv.gz\")\n",
        "print(files)"
      ],
      "execution_count": 3,
      "outputs": [
        {
          "output_type": "stream",
          "text": [
            "['drive/My Drive/SatTemp/chicago_synthpop_V2/persons_v2.csv.gz', 'drive/My Drive/SatTemp/chicago_synthpop_V2/places_v2_256p_lb_v2.csv.gz', 'drive/My Drive/SatTemp/chicago_synthpop_V2/activities_v2.csv.gz', 'drive/My Drive/SatTemp/chicago_synthpop_V2/places_v2.csv.gz', 'drive/My Drive/SatTemp/chicago_synthpop_V2/places_60615.csv.gz', 'drive/My Drive/SatTemp/chicago_synthpop_V2/persons_60615.csv.gz']\n"
          ],
          "name": "stdout"
        }
      ]
    },
    {
      "cell_type": "code",
      "metadata": {
        "id": "HIzruTZi7Zpe"
      },
      "source": [
        "!rm -rf synthpop\n",
        "if not os.path.exists('synthpop'):\n",
        "  os.mkdir('synthpop')"
      ],
      "execution_count": 4,
      "outputs": []
    },
    {
      "cell_type": "code",
      "metadata": {
        "id": "O_hx42gW8-C_",
        "outputId": "f0121638-b790-433a-87e1-2136e3c963d8",
        "colab": {
          "base_uri": "https://localhost:8080/",
          "height": 123
        }
      },
      "source": [
        "# copy these files from Google Drive to colab disk\n",
        "for f in files:\n",
        "  print(f)\n",
        "  copyfile(f, 'synthpop/' + os.path.basename(f))"
      ],
      "execution_count": 5,
      "outputs": [
        {
          "output_type": "stream",
          "text": [
            "drive/My Drive/SatTemp/chicago_synthpop_V2/persons_v2.csv.gz\n",
            "drive/My Drive/SatTemp/chicago_synthpop_V2/places_v2_256p_lb_v2.csv.gz\n",
            "drive/My Drive/SatTemp/chicago_synthpop_V2/activities_v2.csv.gz\n",
            "drive/My Drive/SatTemp/chicago_synthpop_V2/places_v2.csv.gz\n",
            "drive/My Drive/SatTemp/chicago_synthpop_V2/places_60615.csv.gz\n",
            "drive/My Drive/SatTemp/chicago_synthpop_V2/persons_60615.csv.gz\n"
          ],
          "name": "stdout"
        }
      ]
    },
    {
      "cell_type": "code",
      "metadata": {
        "id": "wI5A60Nz9A1f",
        "outputId": "e9808191-390e-425e-81ac-48314f7ea4c1",
        "colab": {
          "base_uri": "https://localhost:8080/",
          "height": 585
        }
      },
      "source": [
        "# look at people\n",
        "persons_df = pd.read_csv('synthpop/persons_v2.csv.gz')\n",
        "persons_df.info()"
      ],
      "execution_count": 6,
      "outputs": [
        {
          "output_type": "stream",
          "text": [
            "/usr/local/lib/python3.6/dist-packages/IPython/core/interactiveshell.py:2718: DtypeWarning: Columns (1) have mixed types.Specify dtype option on import or set low_memory=False.\n",
            "  interactivity=interactivity, compiler=compiler, result=result)\n"
          ],
          "name": "stderr"
        },
        {
          "output_type": "stream",
          "text": [
            "<class 'pandas.core.frame.DataFrame'>\n",
            "RangeIndex: 2927761 entries, 0 to 2927760\n",
            "Data columns (total 23 columns):\n",
            " #   Column                    Dtype  \n",
            "---  ------                    -----  \n",
            " 0   numeric_id                int64  \n",
            " 1   person_id                 object \n",
            " 2   hh_id                     float64\n",
            " 3   relate                    float64\n",
            " 4   sex                       int64  \n",
            " 5   age                       int64  \n",
            " 6   gq_id                     float64\n",
            " 7   school_id                 float64\n",
            " 8   work_id                   float64\n",
            " 9   daycare_id                float64\n",
            " 10  gym_id                    float64\n",
            " 11  hospital_id               float64\n",
            " 12  jail                      float64\n",
            " 13  jail_id                   int64  \n",
            " 14  rank                      int64  \n",
            " 15  weekday_schedule_id_list  object \n",
            " 16  weekend_schedule_id_list  object \n",
            " 17  otherhh_id                object \n",
            " 18  home_restaurant_id        object \n",
            " 19  recreation_id             object \n",
            " 20  grocery_id                object \n",
            " 21  worship_id                float64\n",
            " 22  work_restaurant_id        object \n",
            "dtypes: float64(10), int64(5), object(8)\n",
            "memory usage: 513.8+ MB\n"
          ],
          "name": "stdout"
        }
      ]
    },
    {
      "cell_type": "code",
      "metadata": {
        "id": "ACdaeVcK9N9P",
        "outputId": "ec87c76e-a644-41ce-9d83-510c390383b7",
        "colab": {
          "base_uri": "https://localhost:8080/",
          "height": 354
        }
      },
      "source": [
        "# places\n",
        "places_df = pd.read_csv('synthpop/places_v2.csv.gz')\n",
        "places_df['numeric_id'] = places_df['numeric_id'].astype('int64')\n",
        "places_df.info()"
      ],
      "execution_count": 7,
      "outputs": [
        {
          "output_type": "stream",
          "text": [
            "/usr/local/lib/python3.6/dist-packages/IPython/core/interactiveshell.py:2718: DtypeWarning: Columns (1) have mixed types.Specify dtype option on import or set low_memory=False.\n",
            "  interactivity=interactivity, compiler=compiler, result=result)\n"
          ],
          "name": "stderr"
        },
        {
          "output_type": "stream",
          "text": [
            "<class 'pandas.core.frame.DataFrame'>\n",
            "RangeIndex: 1210722 entries, 0 to 1210721\n",
            "Data columns (total 10 columns):\n",
            " #   Column      Non-Null Count    Dtype  \n",
            "---  ------      --------------    -----  \n",
            " 0   numeric_id  1210722 non-null  int64  \n",
            " 1   place_id    1210722 non-null  object \n",
            " 2   place_type  1210722 non-null  object \n",
            " 3   name        1093276 non-null  object \n",
            " 4   persons     1077336 non-null  float64\n",
            " 5   latitude    1210668 non-null  float64\n",
            " 6   longitude   1210668 non-null  float64\n",
            " 7   zipcode     1204493 non-null  float64\n",
            " 8   zip_grp     1194456 non-null  float64\n",
            " 9   rank        1210722 non-null  int64  \n",
            "dtypes: float64(5), int64(2), object(3)\n",
            "memory usage: 92.4+ MB\n"
          ],
          "name": "stdout"
        }
      ]
    },
    {
      "cell_type": "code",
      "metadata": {
        "id": "vwEuZpfKsxef",
        "outputId": "11bb22bb-d350-4b70-ee0d-1fd5ddd0c84d",
        "colab": {
          "base_uri": "https://localhost:8080/",
          "height": 301
        }
      },
      "source": [
        "# make it faster to look-up\n",
        "plidx_df = places_df.set_index('numeric_id')\n",
        "plidx_df.info()"
      ],
      "execution_count": 8,
      "outputs": [
        {
          "output_type": "stream",
          "text": [
            "<class 'pandas.core.frame.DataFrame'>\n",
            "Int64Index: 1210722 entries, 1 to 1210721\n",
            "Data columns (total 9 columns):\n",
            " #   Column      Non-Null Count    Dtype  \n",
            "---  ------      --------------    -----  \n",
            " 0   place_id    1210722 non-null  object \n",
            " 1   place_type  1210722 non-null  object \n",
            " 2   name        1093276 non-null  object \n",
            " 3   persons     1077336 non-null  float64\n",
            " 4   latitude    1210668 non-null  float64\n",
            " 5   longitude   1210668 non-null  float64\n",
            " 6   zipcode     1204493 non-null  float64\n",
            " 7   zip_grp     1194456 non-null  float64\n",
            " 8   rank        1210722 non-null  int64  \n",
            "dtypes: float64(5), int64(1), object(3)\n",
            "memory usage: 92.4+ MB\n"
          ],
          "name": "stdout"
        }
      ]
    },
    {
      "cell_type": "code",
      "metadata": {
        "id": "VENwX3zn9_zK",
        "outputId": "ffff3974-9834-492e-8ba1-0f608685e054",
        "colab": {
          "base_uri": "https://localhost:8080/",
          "height": 230
        }
      },
      "source": [
        "# activities\n",
        "activity_df = pd.read_csv('synthpop/activities_v2.csv.gz')\n",
        "activity_df.info()"
      ],
      "execution_count": 9,
      "outputs": [
        {
          "output_type": "stream",
          "text": [
            "<class 'pandas.core.frame.DataFrame'>\n",
            "RangeIndex: 239781 entries, 0 to 239780\n",
            "Data columns (total 5 columns):\n",
            " #   Column          Non-Null Count   Dtype \n",
            "---  ------          --------------   ----- \n",
            " 0   Act_SlNo        239781 non-null  int64 \n",
            " 1   start_time      239781 non-null  int64 \n",
            " 2   stop_time       239781 non-null  int64 \n",
            " 3   Social_Act_Loc  239781 non-null  object\n",
            " 4   schedule_id     239781 non-null  int64 \n",
            "dtypes: int64(4), object(1)\n",
            "memory usage: 9.1+ MB\n"
          ],
          "name": "stdout"
        }
      ]
    },
    {
      "cell_type": "code",
      "metadata": {
        "id": "ErXiFkNO9er-",
        "outputId": "0e110df8-ca3e-4e17-8e56-29b3aed3ba14",
        "colab": {
          "base_uri": "https://localhost:8080/",
          "height": 235
        }
      },
      "source": [
        "# check the number of unique persons\n",
        "print(len(persons_df.person_id), len(persons_df.person_id.unique()))\n",
        "persons_df.head()"
      ],
      "execution_count": 10,
      "outputs": [
        {
          "output_type": "stream",
          "text": [
            "2927761 2927761\n"
          ],
          "name": "stdout"
        },
        {
          "output_type": "execute_result",
          "data": {
            "text/html": [
              "<div>\n",
              "<style scoped>\n",
              "    .dataframe tbody tr th:only-of-type {\n",
              "        vertical-align: middle;\n",
              "    }\n",
              "\n",
              "    .dataframe tbody tr th {\n",
              "        vertical-align: top;\n",
              "    }\n",
              "\n",
              "    .dataframe thead th {\n",
              "        text-align: right;\n",
              "    }\n",
              "</style>\n",
              "<table border=\"1\" class=\"dataframe\">\n",
              "  <thead>\n",
              "    <tr style=\"text-align: right;\">\n",
              "      <th></th>\n",
              "      <th>numeric_id</th>\n",
              "      <th>person_id</th>\n",
              "      <th>hh_id</th>\n",
              "      <th>relate</th>\n",
              "      <th>sex</th>\n",
              "      <th>age</th>\n",
              "      <th>gq_id</th>\n",
              "      <th>school_id</th>\n",
              "      <th>work_id</th>\n",
              "      <th>daycare_id</th>\n",
              "      <th>gym_id</th>\n",
              "      <th>hospital_id</th>\n",
              "      <th>jail</th>\n",
              "      <th>jail_id</th>\n",
              "      <th>rank</th>\n",
              "      <th>weekday_schedule_id_list</th>\n",
              "      <th>weekend_schedule_id_list</th>\n",
              "      <th>otherhh_id</th>\n",
              "      <th>home_restaurant_id</th>\n",
              "      <th>recreation_id</th>\n",
              "      <th>grocery_id</th>\n",
              "      <th>worship_id</th>\n",
              "      <th>work_restaurant_id</th>\n",
              "    </tr>\n",
              "  </thead>\n",
              "  <tbody>\n",
              "    <tr>\n",
              "      <th>0</th>\n",
              "      <td>1</td>\n",
              "      <td>1595930</td>\n",
              "      <td>1181524.0</td>\n",
              "      <td>1.0</td>\n",
              "      <td>2</td>\n",
              "      <td>82</td>\n",
              "      <td>NaN</td>\n",
              "      <td>NaN</td>\n",
              "      <td>NaN</td>\n",
              "      <td>579139.0</td>\n",
              "      <td>1181263.0</td>\n",
              "      <td>70.0</td>\n",
              "      <td>0.000002</td>\n",
              "      <td>1194221</td>\n",
              "      <td>100</td>\n",
              "      <td>5969|5974|5983|5911|5963|5943|5953|5898|5930|5971</td>\n",
              "      <td>12237|12229|12172|12145|12178|12207|12203|1216...</td>\n",
              "      <td>NaN</td>\n",
              "      <td>1197516|1200938|1195562|1196781|1195562</td>\n",
              "      <td>1205986|1206926|1206147|1207623|1207411</td>\n",
              "      <td>1210303|1210303|1210303</td>\n",
              "      <td>1208521.0</td>\n",
              "      <td>1196871|1195562|1200643|1200938|1195361</td>\n",
              "    </tr>\n",
              "    <tr>\n",
              "      <th>1</th>\n",
              "      <td>28</td>\n",
              "      <td>1597745</td>\n",
              "      <td>1181535.0</td>\n",
              "      <td>1.0</td>\n",
              "      <td>2</td>\n",
              "      <td>82</td>\n",
              "      <td>NaN</td>\n",
              "      <td>NaN</td>\n",
              "      <td>NaN</td>\n",
              "      <td>598594.0</td>\n",
              "      <td>1181263.0</td>\n",
              "      <td>70.0</td>\n",
              "      <td>0.000002</td>\n",
              "      <td>1194221</td>\n",
              "      <td>135</td>\n",
              "      <td>5914|5905|5908|5903|5921|5911|5930|5985|5965|5924</td>\n",
              "      <td>12207|12158|12180|12219|12172|12168|12216|1215...</td>\n",
              "      <td>NaN</td>\n",
              "      <td>1198007|1202973|1201510|1202764|1201711</td>\n",
              "      <td>1204187|1204188|1207623|1204185|1205247</td>\n",
              "      <td>1210303|1210303|1210271</td>\n",
              "      <td>1208491.0</td>\n",
              "      <td>1199052|1201611|1196871|1201222|1200938</td>\n",
              "    </tr>\n",
              "    <tr>\n",
              "      <th>2</th>\n",
              "      <td>335</td>\n",
              "      <td>1830168</td>\n",
              "      <td>1181651.0</td>\n",
              "      <td>2.0</td>\n",
              "      <td>2</td>\n",
              "      <td>80</td>\n",
              "      <td>NaN</td>\n",
              "      <td>NaN</td>\n",
              "      <td>NaN</td>\n",
              "      <td>579512.0</td>\n",
              "      <td>1181504.0</td>\n",
              "      <td>67.0</td>\n",
              "      <td>0.000075</td>\n",
              "      <td>1194221</td>\n",
              "      <td>194</td>\n",
              "      <td>5904|5963|5898|5921|5933|5902|5962|5965|5960|5903</td>\n",
              "      <td>12179|12200|12180|12152|12214|12216|12186|1214...</td>\n",
              "      <td>1106212</td>\n",
              "      <td>1198239|1199738|1201342|1195604|1203026</td>\n",
              "      <td>1206581|1204593|1208218|1204610|1206073</td>\n",
              "      <td>1210268|1210416|1210263</td>\n",
              "      <td>1209887.0</td>\n",
              "      <td>1195893|1203057|1200382|1195061|1199562</td>\n",
              "    </tr>\n",
              "    <tr>\n",
              "      <th>3</th>\n",
              "      <td>462</td>\n",
              "      <td>1833607</td>\n",
              "      <td>1181696.0</td>\n",
              "      <td>7.0</td>\n",
              "      <td>2</td>\n",
              "      <td>82</td>\n",
              "      <td>NaN</td>\n",
              "      <td>NaN</td>\n",
              "      <td>NaN</td>\n",
              "      <td>579254.0</td>\n",
              "      <td>1181263.0</td>\n",
              "      <td>70.0</td>\n",
              "      <td>0.000002</td>\n",
              "      <td>1194221</td>\n",
              "      <td>242</td>\n",
              "      <td>5941|5914|5902|5957|5931|5898|5985|5920|5981|5963</td>\n",
              "      <td>12229|12232|12191|12186|12226|12200|12152|1214...</td>\n",
              "      <td>NaN</td>\n",
              "      <td>1199128|1200185|1195781|1196368|1199809</td>\n",
              "      <td>1204184|1206557|1206926|1204185|1205727</td>\n",
              "      <td>1210303|1210271|1210303</td>\n",
              "      <td>1209989.0</td>\n",
              "      <td>1201510|1196631|1194644|1201711|1201711</td>\n",
              "    </tr>\n",
              "    <tr>\n",
              "      <th>4</th>\n",
              "      <td>656</td>\n",
              "      <td>1907903</td>\n",
              "      <td>1181820.0</td>\n",
              "      <td>1.0</td>\n",
              "      <td>2</td>\n",
              "      <td>80</td>\n",
              "      <td>NaN</td>\n",
              "      <td>NaN</td>\n",
              "      <td>NaN</td>\n",
              "      <td>598172.0</td>\n",
              "      <td>1181374.0</td>\n",
              "      <td>26.0</td>\n",
              "      <td>0.066281</td>\n",
              "      <td>1194221</td>\n",
              "      <td>84</td>\n",
              "      <td>5898|5929|5930|5913|5982|5924|5915|5903|5916|5900</td>\n",
              "      <td>12185|12193|12189|12178|12144|12152|12206|1216...</td>\n",
              "      <td>NaN</td>\n",
              "      <td>1202359|1198950|1202748|1197743|1194509</td>\n",
              "      <td>1206868|1203252|1206596|1206316|1205545</td>\n",
              "      <td>1210457|1210489|1210268</td>\n",
              "      <td>1208383.0</td>\n",
              "      <td>1201032|1195967|1198994|1199567|1202452</td>\n",
              "    </tr>\n",
              "  </tbody>\n",
              "</table>\n",
              "</div>"
            ],
            "text/plain": [
              "   numeric_id person_id  ...  worship_id                       work_restaurant_id\n",
              "0           1   1595930  ...   1208521.0  1196871|1195562|1200643|1200938|1195361\n",
              "1          28   1597745  ...   1208491.0  1199052|1201611|1196871|1201222|1200938\n",
              "2         335   1830168  ...   1209887.0  1195893|1203057|1200382|1195061|1199562\n",
              "3         462   1833607  ...   1209989.0  1201510|1196631|1194644|1201711|1201711\n",
              "4         656   1907903  ...   1208383.0  1201032|1195967|1198994|1199567|1202452\n",
              "\n",
              "[5 rows x 23 columns]"
            ]
          },
          "metadata": {
            "tags": []
          },
          "execution_count": 10
        }
      ]
    },
    {
      "cell_type": "markdown",
      "metadata": {
        "id": "I894aqfBB4zp"
      },
      "source": [
        "# Things to do\n",
        "* join zip code to person -- sample 1000 each?\n",
        "* for each person\n",
        "  * grab the activity schedule\n",
        "  * link place coordinates\n",
        "  * make a row for each hour: 24 rows with coordinates\n",
        "  * the coordinates for 24 hours will be used to query temperature (or heat stress)\n",
        "\n",
        "\n",
        "  "
      ]
    },
    {
      "cell_type": "code",
      "metadata": {
        "id": "FFnjxiq497JH",
        "outputId": "e7dcf2bc-fb28-4b30-d47b-a59663b042ca",
        "colab": {
          "base_uri": "https://localhost:8080/",
          "height": 443
        }
      },
      "source": [
        "person_row = next(persons_df.iterrows())[1]\n",
        "print(person_row)"
      ],
      "execution_count": 11,
      "outputs": [
        {
          "output_type": "stream",
          "text": [
            "numeric_id                                                                  1\n",
            "person_id                                                             1595930\n",
            "hh_id                                                             1.18152e+06\n",
            "relate                                                                      1\n",
            "sex                                                                         2\n",
            "age                                                                        82\n",
            "gq_id                                                                     NaN\n",
            "school_id                                                                 NaN\n",
            "work_id                                                                   NaN\n",
            "daycare_id                                                             579139\n",
            "gym_id                                                            1.18126e+06\n",
            "hospital_id                                                                70\n",
            "jail                                                                2.297e-06\n",
            "jail_id                                                               1194221\n",
            "rank                                                                      100\n",
            "weekday_schedule_id_list    5969|5974|5983|5911|5963|5943|5953|5898|5930|5971\n",
            "weekend_schedule_id_list    12237|12229|12172|12145|12178|12207|12203|1216...\n",
            "otherhh_id                                                                NaN\n",
            "home_restaurant_id                    1197516|1200938|1195562|1196781|1195562\n",
            "recreation_id                         1205986|1206926|1206147|1207623|1207411\n",
            "grocery_id                                            1210303|1210303|1210303\n",
            "worship_id                                                        1.20852e+06\n",
            "work_restaurant_id                    1196871|1195562|1200643|1200938|1195361\n",
            "Name: 0, dtype: object\n"
          ],
          "name": "stdout"
        }
      ]
    },
    {
      "cell_type": "code",
      "metadata": {
        "id": "eN3tZGwbELfi",
        "outputId": "dd1c10be-3095-4c4c-8ad9-e263b3cc01c4",
        "colab": {
          "base_uri": "https://localhost:8080/",
          "height": 105
        }
      },
      "source": [
        "%timeit places_df[places_df['numeric_id'] == 1210303]\n",
        "%timeit places_df.query('numeric_id == 1210303')\n",
        "%timeit plidx_df.loc[1210303]"
      ],
      "execution_count": 12,
      "outputs": [
        {
          "output_type": "stream",
          "text": [
            "The slowest run took 88.40 times longer than the fastest. This could mean that an intermediate result is being cached.\n",
            "100 loops, best of 3: 2.2 ms per loop\n",
            "100 loops, best of 3: 10.7 ms per loop\n",
            "The slowest run took 616.68 times longer than the fastest. This could mean that an intermediate result is being cached.\n",
            "10000 loops, best of 3: 135 µs per loop\n"
          ],
          "name": "stdout"
        }
      ]
    },
    {
      "cell_type": "code",
      "metadata": {
        "id": "TVuM4d2Jj7Az",
        "outputId": "089d6a78-7a85-4907-d7ab-eb3ef9a39082",
        "colab": {
          "base_uri": "https://localhost:8080/",
          "height": 87
        }
      },
      "source": [
        "%timeit plidx_df.loc[[1197516,1200938,1195562,1196781,1195562]]\n",
        "%timeit [plidx_df.loc[1197516], plidx_df.loc[1200938], plidx_df.loc[1195562], plidx_df.loc[1196781], plidx_df.loc[1195562]]\n",
        "%timeit plidx_df.iat[1197517, 4]"
      ],
      "execution_count": null,
      "outputs": [
        {
          "output_type": "stream",
          "text": [
            "1000 loops, best of 3: 463 µs per loop\n",
            "1000 loops, best of 3: 667 µs per loop\n",
            "The slowest run took 6.56 times longer than the fastest. This could mean that an intermediate result is being cached.\n",
            "100000 loops, best of 3: 17.5 µs per loop\n"
          ],
          "name": "stdout"
        }
      ]
    },
    {
      "cell_type": "code",
      "metadata": {
        "id": "I9lQV_NZq0M8",
        "outputId": "4aba4b06-0577-4de0-c656-6c92b1ae1d6d",
        "colab": {
          "base_uri": "https://localhost:8080/",
          "height": 34
        }
      },
      "source": [
        "def match_activity_with_coord(person_row, activity_df, sch_type='weekday'):\n",
        "\n",
        "  # retrieve a schedule\n",
        "  curr_activity = activity_df[activity_df['schedule_id'] == int(choice(person_row[sch_type+'_schedule_id_list'].split('|')))].reset_index(drop=True)\n",
        "\n",
        "  place_list = curr_activity['Social_Act_Loc'].to_list()\n",
        "  place_info = []\n",
        "  prev_place = ''\n",
        "\n",
        "  item_to_key = {\n",
        "    'Household': 'hh_id', \n",
        "    'Work Restaurant': 'work_restaurant_id',\n",
        "    'Other': 'hh_id', \n",
        "    'Other Household': 'otherhh_id',\n",
        "    'Place of worship': 'worship_id', \n",
        "    'Home Restaurant': 'home_restaurant_id', \n",
        "    'Recreation': 'recreation_id',\n",
        "    'Grocery store': 'grocery_id', \n",
        "    'School': 'school_id', \n",
        "    'Workplace': 'work_id', \n",
        "    'Gym': 'gym_id', \n",
        "    'Prison': 'jail_id'\n",
        "  }\n",
        "\n",
        "  for item in place_list:\n",
        "    if item == prev_place:\n",
        "      curr_info = place_info[-1]\n",
        "    else:\n",
        "      if item in item_to_key:\n",
        "        try:\n",
        "          if type(row[item_to_key[item]]) is str:\n",
        "            idx = int(choice(row[item_to_key[item]].split('|')))\n",
        "          else:\n",
        "            idx = int(row[item_to_key[item]])\n",
        "          curr_info = [item, idx, plidx_df.iat[idx, 4], plidx_df.iat[idx, 5]]\n",
        "        except:\n",
        "          curr_info = [item, None, None, None]\n",
        "      else:\n",
        "        curr_info = [item, None, None, None]\n",
        "\n",
        "    #print(curr_info)\n",
        "    place_info.append(curr_info)\n",
        "    prev_place = item\n",
        "\n",
        "  # return the horizontally-concated dataframe\n",
        "  return(pd.concat([curr_activity, \n",
        "                    pd.DataFrame(place_info, columns=['item', 'place_numeric', 'lat', 'lng'])], \n",
        "                    axis=1))\n",
        "\n",
        "%timeit match_activity_with_coord(person_row, activity_df)\n",
        "#print(place_info)  "
      ],
      "execution_count": 15,
      "outputs": [
        {
          "output_type": "stream",
          "text": [
            "100 loops, best of 3: 2.52 ms per loop\n"
          ],
          "name": "stdout"
        }
      ]
    },
    {
      "cell_type": "code",
      "metadata": {
        "id": "Sy6zkkVWEvRO"
      },
      "source": [
        "# hour, weight, social_act_loc, coordinates (lat/lng)\n",
        "# using iat (instead of iloc) give ~10x speed improvement\n",
        "\n",
        "def generate_hourly_activity(act_df):\n",
        "\n",
        "  schedule = []\n",
        "  for ii in range(act_df.shape[0]):\n",
        "    curr_hour = act_df.iat[ii,1] // 60 #.iloc[ii].start_time // 60 \n",
        "    proc_time = act_df.iat[ii,1] #.start_time\n",
        "\n",
        "    # take care of the short activity\n",
        "    if 60*(curr_hour+1) < act_df.iat[ii,2]: #iloc[ii].stop_time:\n",
        "        schedule.append([curr_hour, \n",
        "                        (60*(curr_hour+1) - act_df.iat[ii,1])/60, \n",
        "                        act_df.iat[ii,3], act_df.iat[ii,7], act_df.iat[ii,8]]) #.iloc[ii].Social_Act_Loc])\n",
        "        curr_hour += 1\n",
        "        proc_time = 60*curr_hour\n",
        "\n",
        "    # take care of the remaining long activity\n",
        "    while proc_time < act_df.iat[ii,2]: #iloc[ii].stop_time:\n",
        "      if (proc_time + 60) < act_df.iat[ii,2]: #iloc[ii].stop_time:\n",
        "        schedule.append([curr_hour, 1, act_df.iat[ii,3], act_df.iat[ii,7], act_df.iat[ii,8]])\n",
        "        proc_time += 60\n",
        "        curr_hour += 1\n",
        "      else:\n",
        "        res_act = act_df.iat[ii,2] - proc_time\n",
        "        schedule.append([curr_hour, res_act/60, act_df.iat[ii,3], act_df.iat[ii,7], act_df.iat[ii,8]])\n",
        "        proc_time = act_df.iat[ii,2]\n",
        "    \n",
        "  # make the schedule compact\n",
        "  compact_schedule = []\n",
        "  compact_schedule.append(schedule.copy()[0])\n",
        "  for item in schedule[1:]:\n",
        "    # if the hour and activity are the same, just merge the time\n",
        "    if (item[0] == compact_schedule[-1][0]) & (item[2] == compact_schedule[-1][2]):\n",
        "      compact_schedule[-1][1] += item[1]\n",
        "    else:\n",
        "      compact_schedule.append(item)  \n",
        "\n",
        "  # done\n",
        "  return compact_schedule\n"
      ],
      "execution_count": 16,
      "outputs": []
    },
    {
      "cell_type": "code",
      "metadata": {
        "id": "9ZvCLwCA5ggb",
        "outputId": "b2984898-58be-40fc-fa47-6db9955223c1",
        "colab": {
          "base_uri": "https://localhost:8080/",
          "height": 52
        }
      },
      "source": [
        "row = persons_df.sample().iloc[0]\n",
        "%timeit match_activity_with_coord(row, activity_df)\n",
        "\n",
        "test = match_activity_with_coord(row, activity_df)\n",
        "%timeit generate_hourly_activity(test)"
      ],
      "execution_count": 17,
      "outputs": [
        {
          "output_type": "stream",
          "text": [
            "100 loops, best of 3: 2.81 ms per loop\n",
            "100 loops, best of 3: 5.41 ms per loop\n"
          ],
          "name": "stdout"
        }
      ]
    },
    {
      "cell_type": "markdown",
      "metadata": {
        "id": "cFZ3zQyL89wa"
      },
      "source": [
        "## join zip code to person -- sample 1000 each?"
      ]
    },
    {
      "cell_type": "code",
      "metadata": {
        "id": "1Wr4ySpQqbIW",
        "outputId": "ae53e880-b968-47b4-f546-240e680ec896",
        "colab": {
          "base_uri": "https://localhost:8080/",
          "height": 567
        }
      },
      "source": [
        "# link people and zipcode\n",
        "pp_loc_df = persons_df.merge(plidx_df['zipcode'], left_on='hh_id', right_index=True)\n",
        "pp_loc_df.info()"
      ],
      "execution_count": 18,
      "outputs": [
        {
          "output_type": "stream",
          "text": [
            "<class 'pandas.core.frame.DataFrame'>\n",
            "Int64Index: 2885837 entries, 0 to 2927564\n",
            "Data columns (total 24 columns):\n",
            " #   Column                    Dtype  \n",
            "---  ------                    -----  \n",
            " 0   numeric_id                int64  \n",
            " 1   person_id                 object \n",
            " 2   hh_id                     float64\n",
            " 3   relate                    float64\n",
            " 4   sex                       int64  \n",
            " 5   age                       int64  \n",
            " 6   gq_id                     float64\n",
            " 7   school_id                 float64\n",
            " 8   work_id                   float64\n",
            " 9   daycare_id                float64\n",
            " 10  gym_id                    float64\n",
            " 11  hospital_id               float64\n",
            " 12  jail                      float64\n",
            " 13  jail_id                   int64  \n",
            " 14  rank                      int64  \n",
            " 15  weekday_schedule_id_list  object \n",
            " 16  weekend_schedule_id_list  object \n",
            " 17  otherhh_id                object \n",
            " 18  home_restaurant_id        object \n",
            " 19  recreation_id             object \n",
            " 20  grocery_id                object \n",
            " 21  worship_id                float64\n",
            " 22  work_restaurant_id        object \n",
            " 23  zipcode                   float64\n",
            "dtypes: float64(11), int64(5), object(8)\n",
            "memory usage: 550.4+ MB\n"
          ],
          "name": "stdout"
        }
      ]
    },
    {
      "cell_type": "code",
      "metadata": {
        "id": "7tj9Ck57_PDG",
        "outputId": "fc58c9dc-2e75-4bb1-dacf-8f1dae0457df",
        "colab": {
          "base_uri": "https://localhost:8080/",
          "height": 34
        }
      },
      "source": [
        "zipcode = pp_loc_df.zipcode.unique()\n",
        "len(zipcode)"
      ],
      "execution_count": 20,
      "outputs": [
        {
          "output_type": "execute_result",
          "data": {
            "text/plain": [
              "56"
            ]
          },
          "metadata": {
            "tags": []
          },
          "execution_count": 20
        }
      ]
    },
    {
      "cell_type": "code",
      "metadata": {
        "id": "VlaQR_lCou8N",
        "outputId": "cd6b51d9-7c63-4e38-ba73-5cc238fe247c",
        "colab": {
          "base_uri": "https://localhost:8080/",
          "height": 34
        }
      },
      "source": [
        "tmp_zip = pp_loc_df.zipcode.value_counts()\n",
        "zipcode = list(tmp_zip[tmp_zip > 1000].index)\n",
        "len(zipcode)"
      ],
      "execution_count": 42,
      "outputs": [
        {
          "output_type": "execute_result",
          "data": {
            "text/plain": [
              "53"
            ]
          },
          "metadata": {
            "tags": []
          },
          "execution_count": 42
        }
      ]
    },
    {
      "cell_type": "code",
      "metadata": {
        "id": "4qpIg421nUjZ",
        "outputId": "dfd2904c-5bda-4844-aac9-e94acde4a168",
        "colab": {
          "base_uri": "https://localhost:8080/",
          "height": 567
        }
      },
      "source": [
        "sample = pd.DataFrame()\n",
        "\n",
        "for zip in zipcode:\n",
        "  sample = sample.append(pp_loc_df[pp_loc_df['zipcode'] == zip].sample(100))\n",
        "\n",
        "sample.info()"
      ],
      "execution_count": 43,
      "outputs": [
        {
          "output_type": "stream",
          "text": [
            "<class 'pandas.core.frame.DataFrame'>\n",
            "Int64Index: 5300 entries, 1987922 to 2118326\n",
            "Data columns (total 24 columns):\n",
            " #   Column                    Non-Null Count  Dtype  \n",
            "---  ------                    --------------  -----  \n",
            " 0   numeric_id                5300 non-null   int64  \n",
            " 1   person_id                 5300 non-null   object \n",
            " 2   hh_id                     5300 non-null   float64\n",
            " 3   relate                    5300 non-null   float64\n",
            " 4   sex                       5300 non-null   int64  \n",
            " 5   age                       5300 non-null   int64  \n",
            " 6   gq_id                     0 non-null      float64\n",
            " 7   school_id                 945 non-null    float64\n",
            " 8   work_id                   2242 non-null   float64\n",
            " 9   daycare_id                5300 non-null   float64\n",
            " 10  gym_id                    5300 non-null   float64\n",
            " 11  hospital_id               5300 non-null   float64\n",
            " 12  jail                      5300 non-null   float64\n",
            " 13  jail_id                   5300 non-null   int64  \n",
            " 14  rank                      5300 non-null   int64  \n",
            " 15  weekday_schedule_id_list  5300 non-null   object \n",
            " 16  weekend_schedule_id_list  5300 non-null   object \n",
            " 17  otherhh_id                5288 non-null   object \n",
            " 18  home_restaurant_id        5300 non-null   object \n",
            " 19  recreation_id             5300 non-null   object \n",
            " 20  grocery_id                5300 non-null   object \n",
            " 21  worship_id                5300 non-null   float64\n",
            " 22  work_restaurant_id        5300 non-null   object \n",
            " 23  zipcode                   5300 non-null   float64\n",
            "dtypes: float64(11), int64(5), object(8)\n",
            "memory usage: 1.0+ MB\n"
          ],
          "name": "stdout"
        }
      ]
    },
    {
      "cell_type": "code",
      "metadata": {
        "id": "JxRVN5uKnUmS"
      },
      "source": [
        "sample.to_csv('drive/My Drive/SatTemp/chicago_synthpop_V2/sampled_persons.csv.gz')"
      ],
      "execution_count": 45,
      "outputs": []
    }
  ]
}