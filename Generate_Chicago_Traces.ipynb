{
  "nbformat": 4,
  "nbformat_minor": 0,
  "metadata": {
    "colab": {
      "name": "Generate_Chicago_Traces.ipynb",
      "provenance": [],
      "authorship_tag": "ABX9TyM0uyE8ef/5dcqwXJ3wu/C9",
      "include_colab_link": true
    },
    "kernelspec": {
      "name": "python3",
      "display_name": "Python 3"
    }
  },
  "cells": [
    {
      "cell_type": "markdown",
      "metadata": {
        "id": "view-in-github",
        "colab_type": "text"
      },
      "source": [
        "<a href=\"https://colab.research.google.com/github/kywch/geo-colab/blob/master/Generate_Chicago_Traces.ipynb\" target=\"_parent\"><img src=\"https://colab.research.google.com/assets/colab-badge.svg\" alt=\"Open In Colab\"/></a>"
      ]
    },
    {
      "cell_type": "code",
      "metadata": {
        "id": "fm-2TO7D6xmS"
      },
      "source": [
        "# Import necessary packages\n",
        "import os, os.path\n",
        "from glob import glob\n",
        "from shutil import copyfile\n",
        "\n",
        "import pandas as pd"
      ],
      "execution_count": 1,
      "outputs": []
    },
    {
      "cell_type": "code",
      "metadata": {
        "id": "SqbMd97Z69xp",
        "outputId": "735a8f89-4107-470c-c2b6-575d0e89256c",
        "colab": {
          "base_uri": "https://localhost:8080/",
          "height": 34
        }
      },
      "source": [
        "from google.colab import drive\n",
        "drive.mount('/content/drive')"
      ],
      "execution_count": 2,
      "outputs": [
        {
          "output_type": "stream",
          "text": [
            "Mounted at /content/drive\n"
          ],
          "name": "stdout"
        }
      ]
    },
    {
      "cell_type": "code",
      "metadata": {
        "id": "rzLl1Ce77G_P",
        "outputId": "13dab374-faa8-48ad-bc31-40d2b6e5efea",
        "colab": {
          "base_uri": "https://localhost:8080/",
          "height": 54
        }
      },
      "source": [
        "files = glob(\"drive/My Drive/SatTemp/chicago_synthpop_V2/*.csv.gz\")\n",
        "print(files)"
      ],
      "execution_count": 5,
      "outputs": [
        {
          "output_type": "stream",
          "text": [
            "['drive/My Drive/SatTemp/chicago_synthpop_V2/persons_v2.csv.gz', 'drive/My Drive/SatTemp/chicago_synthpop_V2/places_v2_256p_lb_v2.csv.gz', 'drive/My Drive/SatTemp/chicago_synthpop_V2/activities_v2.csv.gz', 'drive/My Drive/SatTemp/chicago_synthpop_V2/places_v2.csv.gz', 'drive/My Drive/SatTemp/chicago_synthpop_V2/persons_60615.csv.gz', 'drive/My Drive/SatTemp/chicago_synthpop_V2/places_60615.csv.gz']\n"
          ],
          "name": "stdout"
        }
      ]
    },
    {
      "cell_type": "code",
      "metadata": {
        "id": "HIzruTZi7Zpe"
      },
      "source": [
        "!rm -rf synthpop\n",
        "if not os.path.exists('synthpop'):\n",
        "  os.mkdir('synthpop')"
      ],
      "execution_count": 6,
      "outputs": []
    },
    {
      "cell_type": "code",
      "metadata": {
        "id": "O_hx42gW8-C_",
        "outputId": "e59815a4-e8a1-4c7f-a2ae-edc6cbb35e3b",
        "colab": {
          "base_uri": "https://localhost:8080/",
          "height": 123
        }
      },
      "source": [
        "# copy these files from Google Drive to colab disk\n",
        "for f in files:\n",
        "  print(f)\n",
        "  copyfile(f, 'synthpop/' + os.path.basename(f))"
      ],
      "execution_count": 7,
      "outputs": [
        {
          "output_type": "stream",
          "text": [
            "drive/My Drive/SatTemp/chicago_synthpop_V2/persons_v2.csv.gz\n",
            "drive/My Drive/SatTemp/chicago_synthpop_V2/places_v2_256p_lb_v2.csv.gz\n",
            "drive/My Drive/SatTemp/chicago_synthpop_V2/activities_v2.csv.gz\n",
            "drive/My Drive/SatTemp/chicago_synthpop_V2/places_v2.csv.gz\n",
            "drive/My Drive/SatTemp/chicago_synthpop_V2/persons_60615.csv.gz\n",
            "drive/My Drive/SatTemp/chicago_synthpop_V2/places_60615.csv.gz\n"
          ],
          "name": "stdout"
        }
      ]
    },
    {
      "cell_type": "code",
      "metadata": {
        "id": "wI5A60Nz9A1f",
        "outputId": "940e9689-3d70-4c68-83cd-06f1d74937e0",
        "colab": {
          "base_uri": "https://localhost:8080/",
          "height": 605
        }
      },
      "source": [
        "# look at people\n",
        "persons_df = pd.read_csv('synthpop/persons_v2.csv.gz')\n",
        "persons_df.info()"
      ],
      "execution_count": 10,
      "outputs": [
        {
          "output_type": "stream",
          "text": [
            "/usr/local/lib/python3.6/dist-packages/IPython/core/interactiveshell.py:2718: DtypeWarning: Columns (1) have mixed types.Specify dtype option on import or set low_memory=False.\n",
            "  interactivity=interactivity, compiler=compiler, result=result)\n"
          ],
          "name": "stderr"
        },
        {
          "output_type": "stream",
          "text": [
            "<class 'pandas.core.frame.DataFrame'>\n",
            "RangeIndex: 2927761 entries, 0 to 2927760\n",
            "Data columns (total 23 columns):\n",
            " #   Column                    Dtype  \n",
            "---  ------                    -----  \n",
            " 0   numeric_id                int64  \n",
            " 1   person_id                 object \n",
            " 2   hh_id                     float64\n",
            " 3   relate                    float64\n",
            " 4   sex                       int64  \n",
            " 5   age                       int64  \n",
            " 6   gq_id                     float64\n",
            " 7   school_id                 float64\n",
            " 8   work_id                   float64\n",
            " 9   daycare_id                float64\n",
            " 10  gym_id                    float64\n",
            " 11  hospital_id               float64\n",
            " 12  jail                      float64\n",
            " 13  jail_id                   int64  \n",
            " 14  rank                      int64  \n",
            " 15  weekday_schedule_id_list  object \n",
            " 16  weekend_schedule_id_list  object \n",
            " 17  otherhh_id                object \n",
            " 18  home_restaurant_id        object \n",
            " 19  recreation_id             object \n",
            " 20  grocery_id                object \n",
            " 21  worship_id                float64\n",
            " 22  work_restaurant_id        object \n",
            "dtypes: float64(10), int64(5), object(8)\n",
            "memory usage: 513.8+ MB\n"
          ],
          "name": "stdout"
        }
      ]
    },
    {
      "cell_type": "code",
      "metadata": {
        "id": "ACdaeVcK9N9P",
        "outputId": "09f06589-3ec8-4d69-9119-90c48eb94b01",
        "colab": {
          "base_uri": "https://localhost:8080/",
          "height": 374
        }
      },
      "source": [
        "# places\n",
        "places_df = pd.read_csv('synthpop/places_v2.csv.gz')\n",
        "places_df.info()"
      ],
      "execution_count": 12,
      "outputs": [
        {
          "output_type": "stream",
          "text": [
            "/usr/local/lib/python3.6/dist-packages/IPython/core/interactiveshell.py:2718: DtypeWarning: Columns (1) have mixed types.Specify dtype option on import or set low_memory=False.\n",
            "  interactivity=interactivity, compiler=compiler, result=result)\n"
          ],
          "name": "stderr"
        },
        {
          "output_type": "stream",
          "text": [
            "<class 'pandas.core.frame.DataFrame'>\n",
            "RangeIndex: 1210722 entries, 0 to 1210721\n",
            "Data columns (total 10 columns):\n",
            " #   Column      Non-Null Count    Dtype  \n",
            "---  ------      --------------    -----  \n",
            " 0   numeric_id  1210722 non-null  float64\n",
            " 1   place_id    1210722 non-null  object \n",
            " 2   place_type  1210722 non-null  object \n",
            " 3   name        1093276 non-null  object \n",
            " 4   persons     1077336 non-null  float64\n",
            " 5   latitude    1210668 non-null  float64\n",
            " 6   longitude   1210668 non-null  float64\n",
            " 7   zipcode     1204493 non-null  float64\n",
            " 8   zip_grp     1194456 non-null  float64\n",
            " 9   rank        1210722 non-null  int64  \n",
            "dtypes: float64(6), int64(1), object(3)\n",
            "memory usage: 92.4+ MB\n"
          ],
          "name": "stdout"
        }
      ]
    },
    {
      "cell_type": "code",
      "metadata": {
        "id": "VENwX3zn9_zK",
        "outputId": "316dab1a-154b-499a-a2b6-e92c0703d442",
        "colab": {
          "base_uri": "https://localhost:8080/",
          "height": 230
        }
      },
      "source": [
        "# activities\n",
        "activity_df = pd.read_csv('synthpop/activities_v2.csv.gz')\n",
        "activity_df.info()"
      ],
      "execution_count": 15,
      "outputs": [
        {
          "output_type": "stream",
          "text": [
            "<class 'pandas.core.frame.DataFrame'>\n",
            "RangeIndex: 239781 entries, 0 to 239780\n",
            "Data columns (total 5 columns):\n",
            " #   Column          Non-Null Count   Dtype \n",
            "---  ------          --------------   ----- \n",
            " 0   Act_SlNo        239781 non-null  int64 \n",
            " 1   start_time      239781 non-null  int64 \n",
            " 2   stop_time       239781 non-null  int64 \n",
            " 3   Social_Act_Loc  239781 non-null  object\n",
            " 4   schedule_id     239781 non-null  int64 \n",
            "dtypes: int64(4), object(1)\n",
            "memory usage: 9.1+ MB\n"
          ],
          "name": "stdout"
        }
      ]
    },
    {
      "cell_type": "code",
      "metadata": {
        "id": "ErXiFkNO9er-",
        "outputId": "d43aefed-6037-409c-eb75-df4541d25393",
        "colab": {
          "base_uri": "https://localhost:8080/",
          "height": 197
        }
      },
      "source": [
        "places_df.head()"
      ],
      "execution_count": 13,
      "outputs": [
        {
          "output_type": "execute_result",
          "data": {
            "text/html": [
              "<div>\n",
              "<style scoped>\n",
              "    .dataframe tbody tr th:only-of-type {\n",
              "        vertical-align: middle;\n",
              "    }\n",
              "\n",
              "    .dataframe tbody tr th {\n",
              "        vertical-align: top;\n",
              "    }\n",
              "\n",
              "    .dataframe thead th {\n",
              "        text-align: right;\n",
              "    }\n",
              "</style>\n",
              "<table border=\"1\" class=\"dataframe\">\n",
              "  <thead>\n",
              "    <tr style=\"text-align: right;\">\n",
              "      <th></th>\n",
              "      <th>numeric_id</th>\n",
              "      <th>place_id</th>\n",
              "      <th>place_type</th>\n",
              "      <th>name</th>\n",
              "      <th>persons</th>\n",
              "      <th>latitude</th>\n",
              "      <th>longitude</th>\n",
              "      <th>zipcode</th>\n",
              "      <th>zip_grp</th>\n",
              "      <th>rank</th>\n",
              "    </tr>\n",
              "  </thead>\n",
              "  <tbody>\n",
              "    <tr>\n",
              "      <th>0</th>\n",
              "      <td>1.0</td>\n",
              "      <td>10049854</td>\n",
              "      <td>Hospital</td>\n",
              "      <td>NaN</td>\n",
              "      <td>NaN</td>\n",
              "      <td>41.900780</td>\n",
              "      <td>-87.699604</td>\n",
              "      <td>60622.0</td>\n",
              "      <td>2.0</td>\n",
              "      <td>94</td>\n",
              "    </tr>\n",
              "    <tr>\n",
              "      <th>1</th>\n",
              "      <td>2.0</td>\n",
              "      <td>10049882</td>\n",
              "      <td>Hospital</td>\n",
              "      <td>NaN</td>\n",
              "      <td>NaN</td>\n",
              "      <td>41.558686</td>\n",
              "      <td>-87.798062</td>\n",
              "      <td>60477.0</td>\n",
              "      <td>0.0</td>\n",
              "      <td>80</td>\n",
              "    </tr>\n",
              "    <tr>\n",
              "      <th>2</th>\n",
              "      <td>3.0</td>\n",
              "      <td>10049883</td>\n",
              "      <td>Hospital</td>\n",
              "      <td>NaN</td>\n",
              "      <td>NaN</td>\n",
              "      <td>41.895282</td>\n",
              "      <td>-87.619157</td>\n",
              "      <td>60611.0</td>\n",
              "      <td>2.0</td>\n",
              "      <td>81</td>\n",
              "    </tr>\n",
              "    <tr>\n",
              "      <th>3</th>\n",
              "      <td>4.0</td>\n",
              "      <td>10051140</td>\n",
              "      <td>Hospital</td>\n",
              "      <td>NaN</td>\n",
              "      <td>NaN</td>\n",
              "      <td>41.861271</td>\n",
              "      <td>-87.834218</td>\n",
              "      <td>60141.0</td>\n",
              "      <td>0.0</td>\n",
              "      <td>81</td>\n",
              "    </tr>\n",
              "    <tr>\n",
              "      <th>4</th>\n",
              "      <td>5.0</td>\n",
              "      <td>10052705</td>\n",
              "      <td>Hospital</td>\n",
              "      <td>NaN</td>\n",
              "      <td>NaN</td>\n",
              "      <td>41.895516</td>\n",
              "      <td>-87.619425</td>\n",
              "      <td>60611.0</td>\n",
              "      <td>2.0</td>\n",
              "      <td>82</td>\n",
              "    </tr>\n",
              "  </tbody>\n",
              "</table>\n",
              "</div>"
            ],
            "text/plain": [
              "   numeric_id  place_id place_type name  ...  longitude  zipcode  zip_grp  rank\n",
              "0         1.0  10049854   Hospital  NaN  ... -87.699604  60622.0      2.0    94\n",
              "1         2.0  10049882   Hospital  NaN  ... -87.798062  60477.0      0.0    80\n",
              "2         3.0  10049883   Hospital  NaN  ... -87.619157  60611.0      2.0    81\n",
              "3         4.0  10051140   Hospital  NaN  ... -87.834218  60141.0      0.0    81\n",
              "4         5.0  10052705   Hospital  NaN  ... -87.619425  60611.0      2.0    82\n",
              "\n",
              "[5 rows x 10 columns]"
            ]
          },
          "metadata": {
            "tags": []
          },
          "execution_count": 13
        }
      ]
    },
    {
      "cell_type": "code",
      "metadata": {
        "id": "FFnjxiq497JH"
      },
      "source": [
        ""
      ],
      "execution_count": null,
      "outputs": []
    }
  ]
}