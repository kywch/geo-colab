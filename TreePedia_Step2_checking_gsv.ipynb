{
  "nbformat": 4,
  "nbformat_minor": 0,
  "metadata": {
    "colab": {
      "name": "TreePedia-Step2-checking_gsv.ipynb",
      "provenance": [],
      "authorship_tag": "ABX9TyNRmBpc9l7loUR2d8iq+Dy7",
      "include_colab_link": true
    },
    "kernelspec": {
      "name": "python3",
      "display_name": "Python 3"
    }
  },
  "cells": [
    {
      "cell_type": "markdown",
      "metadata": {
        "id": "view-in-github",
        "colab_type": "text"
      },
      "source": [
        "<a href=\"https://colab.research.google.com/github/kywch/geo-colab/blob/master/TreePedia_Step2_checking_gsv.ipynb\" target=\"_parent\"><img src=\"https://colab.research.google.com/assets/colab-badge.svg\" alt=\"Open In Colab\"/></a>"
      ]
    },
    {
      "cell_type": "markdown",
      "metadata": {
        "id": "2o4JWkcYV3bR"
      },
      "source": [
        "**To access the google streetview API, one should have the API key.**\n",
        "* First, get started with Google Maps platform: https://developers.google.com/maps/gmp-get-started\n",
        "* Then, get an API key to use Street View Static API: https://developers.google.com/maps/documentation/streetview/get-api-key\n",
        "\n",
        "---\n",
        "This notebook uses google-streetview package: https://pypi.org/project/google-streetview/. \n",
        "* For documentation, please see https://rrwen.github.io/google_streetview/\n",
        "\n"
      ]
    },
    {
      "cell_type": "code",
      "metadata": {
        "id": "lpp6x3fiVw9n",
        "outputId": "6f5a85fb-e538-4661-9f97-e516134d9128",
        "colab": {
          "base_uri": "https://localhost:8080/",
          "height": 354
        }
      },
      "source": [
        "!pip install google-streetview"
      ],
      "execution_count": 1,
      "outputs": [
        {
          "output_type": "stream",
          "text": [
            "Collecting google-streetview\n",
            "  Downloading https://files.pythonhosted.org/packages/04/33/be168a62a973e8dd3f00a83b2481f4c5602bb8339cbe81cf70a437b04ade/google_streetview-1.2.9.tar.gz\n",
            "Collecting kwconfig\n",
            "  Downloading https://files.pythonhosted.org/packages/47/49/87ca96c4c299d24700daf45f4bb8d900b05e15e8c48179b13008fc29c509/kwconfig-1.1.7.tar.gz\n",
            "Requirement already satisfied: requests in /usr/local/lib/python3.6/dist-packages (from google-streetview) (2.23.0)\n",
            "Requirement already satisfied: chardet<4,>=3.0.2 in /usr/local/lib/python3.6/dist-packages (from requests->google-streetview) (3.0.4)\n",
            "Requirement already satisfied: urllib3!=1.25.0,!=1.25.1,<1.26,>=1.21.1 in /usr/local/lib/python3.6/dist-packages (from requests->google-streetview) (1.24.3)\n",
            "Requirement already satisfied: certifi>=2017.4.17 in /usr/local/lib/python3.6/dist-packages (from requests->google-streetview) (2020.6.20)\n",
            "Requirement already satisfied: idna<3,>=2.5 in /usr/local/lib/python3.6/dist-packages (from requests->google-streetview) (2.10)\n",
            "Building wheels for collected packages: google-streetview, kwconfig\n",
            "  Building wheel for google-streetview (setup.py) ... \u001b[?25l\u001b[?25hdone\n",
            "  Created wheel for google-streetview: filename=google_streetview-1.2.9-cp36-none-any.whl size=9781 sha256=854daa0701ca30db232411d258cda611dfabea79aa5eb4e097ef3f9aa33c9fca\n",
            "  Stored in directory: /root/.cache/pip/wheels/e1/ce/c0/e90d7ee251659d215b7ab21a7cd80cfd65e1720fc3dca3b9ed\n",
            "  Building wheel for kwconfig (setup.py) ... \u001b[?25l\u001b[?25hdone\n",
            "  Created wheel for kwconfig: filename=kwconfig-1.1.7-cp36-none-any.whl size=4981 sha256=fba54bc86d7f8a64bae9805cf9e829d94ce397b8a398f6f49731d0cec0d34346\n",
            "  Stored in directory: /root/.cache/pip/wheels/22/fa/82/fed4c9e2829a6210470b121673adddedf169b6319112b3ba20\n",
            "Successfully built google-streetview kwconfig\n",
            "Installing collected packages: kwconfig, google-streetview\n",
            "Successfully installed google-streetview-1.2.9 kwconfig-1.1.7\n"
          ],
          "name": "stdout"
        }
      ]
    },
    {
      "cell_type": "code",
      "metadata": {
        "id": "gHoz7b5xj_SO"
      },
      "source": [
        "import pandas as pd\n",
        "import google_streetview.api\n",
        "import math"
      ],
      "execution_count": 84,
      "outputs": []
    },
    {
      "cell_type": "code",
      "metadata": {
        "id": "FkjGNpfjWFX_",
        "outputId": "73d27c46-0b85-44bd-9968-a6f7be74d8b2",
        "colab": {
          "base_uri": "https://localhost:8080/",
          "height": 34
        }
      },
      "source": [
        "from google.colab import drive\n",
        "drive.mount('/content/drive')"
      ],
      "execution_count": 2,
      "outputs": [
        {
          "output_type": "stream",
          "text": [
            "Mounted at /content/drive\n"
          ],
          "name": "stdout"
        }
      ]
    },
    {
      "cell_type": "code",
      "metadata": {
        "id": "PnyNy_nedh_b",
        "outputId": "d8a44b13-7d07-4c52-f964-6ec2b7ed900c",
        "colab": {
          "base_uri": "https://localhost:8080/",
          "height": 34
        }
      },
      "source": [
        "!ls drive/My\\ Drive/StreetPsych"
      ],
      "execution_count": 3,
      "outputs": [
        {
          "output_type": "stream",
          "text": [
            "Chicago  HydePark  key.txt\n"
          ],
          "name": "stdout"
        }
      ]
    },
    {
      "cell_type": "code",
      "metadata": {
        "id": "XtFjO1hpkYxQ"
      },
      "source": [
        "# Google Street View Static API key\n",
        "with open('drive/My Drive/StreetPsych/key.txt') as file:\n",
        "  api_key = file.read()"
      ],
      "execution_count": 19,
      "outputs": []
    },
    {
      "cell_type": "code",
      "metadata": {
        "id": "mnyiyBz9kCjE",
        "outputId": "08d20f52-4749-4cb5-b5c8-f8bd68ab9ae1",
        "colab": {
          "base_uri": "https://localhost:8080/",
          "height": 406
        }
      },
      "source": [
        "location = 'HydePark'\n",
        "picked_df = pd.read_csv('drive/My Drive/StreetPsych/' + location + '/seed_' + location + '.csv')\n",
        "picked_df"
      ],
      "execution_count": 100,
      "outputs": [
        {
          "output_type": "execute_result",
          "data": {
            "text/html": [
              "<div>\n",
              "<style scoped>\n",
              "    .dataframe tbody tr th:only-of-type {\n",
              "        vertical-align: middle;\n",
              "    }\n",
              "\n",
              "    .dataframe tbody tr th {\n",
              "        vertical-align: top;\n",
              "    }\n",
              "\n",
              "    .dataframe thead th {\n",
              "        text-align: right;\n",
              "    }\n",
              "</style>\n",
              "<table border=\"1\" class=\"dataframe\">\n",
              "  <thead>\n",
              "    <tr style=\"text-align: right;\">\n",
              "      <th></th>\n",
              "      <th>Unnamed: 0</th>\n",
              "      <th>lat</th>\n",
              "      <th>lng</th>\n",
              "    </tr>\n",
              "  </thead>\n",
              "  <tbody>\n",
              "    <tr>\n",
              "      <th>0</th>\n",
              "      <td>0</td>\n",
              "      <td>41.792792</td>\n",
              "      <td>-87.581787</td>\n",
              "    </tr>\n",
              "    <tr>\n",
              "      <th>1</th>\n",
              "      <td>1</td>\n",
              "      <td>41.792728</td>\n",
              "      <td>-87.581267</td>\n",
              "    </tr>\n",
              "    <tr>\n",
              "      <th>2</th>\n",
              "      <td>2</td>\n",
              "      <td>41.792679</td>\n",
              "      <td>-87.580695</td>\n",
              "    </tr>\n",
              "    <tr>\n",
              "      <th>3</th>\n",
              "      <td>3</td>\n",
              "      <td>41.792377</td>\n",
              "      <td>-87.580708</td>\n",
              "    </tr>\n",
              "    <tr>\n",
              "      <th>4</th>\n",
              "      <td>4</td>\n",
              "      <td>41.788694</td>\n",
              "      <td>-87.584384</td>\n",
              "    </tr>\n",
              "    <tr>\n",
              "      <th>...</th>\n",
              "      <td>...</td>\n",
              "      <td>...</td>\n",
              "      <td>...</td>\n",
              "    </tr>\n",
              "    <tr>\n",
              "      <th>741</th>\n",
              "      <td>741</td>\n",
              "      <td>41.796734</td>\n",
              "      <td>-87.602767</td>\n",
              "    </tr>\n",
              "    <tr>\n",
              "      <th>742</th>\n",
              "      <td>742</td>\n",
              "      <td>41.797259</td>\n",
              "      <td>-87.602779</td>\n",
              "    </tr>\n",
              "    <tr>\n",
              "      <th>743</th>\n",
              "      <td>743</td>\n",
              "      <td>41.797784</td>\n",
              "      <td>-87.602792</td>\n",
              "    </tr>\n",
              "    <tr>\n",
              "      <th>744</th>\n",
              "      <td>744</td>\n",
              "      <td>41.795585</td>\n",
              "      <td>-87.602745</td>\n",
              "    </tr>\n",
              "    <tr>\n",
              "      <th>745</th>\n",
              "      <td>745</td>\n",
              "      <td>41.796110</td>\n",
              "      <td>-87.602754</td>\n",
              "    </tr>\n",
              "  </tbody>\n",
              "</table>\n",
              "<p>746 rows × 3 columns</p>\n",
              "</div>"
            ],
            "text/plain": [
              "     Unnamed: 0        lat        lng\n",
              "0             0  41.792792 -87.581787\n",
              "1             1  41.792728 -87.581267\n",
              "2             2  41.792679 -87.580695\n",
              "3             3  41.792377 -87.580708\n",
              "4             4  41.788694 -87.584384\n",
              "..          ...        ...        ...\n",
              "741         741  41.796734 -87.602767\n",
              "742         742  41.797259 -87.602779\n",
              "743         743  41.797784 -87.602792\n",
              "744         744  41.795585 -87.602745\n",
              "745         745  41.796110 -87.602754\n",
              "\n",
              "[746 rows x 3 columns]"
            ]
          },
          "metadata": {
            "tags": []
          },
          "execution_count": 100
        }
      ]
    },
    {
      "cell_type": "code",
      "metadata": {
        "id": "gCexIDNckCqr"
      },
      "source": [
        "params = []\n",
        "for row in picked_df.head(20).iterrows():\n",
        "  params.append({\n",
        "            'key': api_key,\n",
        "            'location': str(row[1]['lat']) + ',' + str(row[1]['lng'])\n",
        "  })\n",
        "#'size': '600x480', # max 640x640 pixels\n",
        "#print(params)"
      ],
      "execution_count": 103,
      "outputs": []
    },
    {
      "cell_type": "code",
      "metadata": {
        "id": "dkbT3gL4eB6R",
        "outputId": "ebd59263-2168-4395-bce6-12750c65942c",
        "colab": {
          "base_uri": "https://localhost:8080/",
          "height": 34
        }
      },
      "source": [
        "results = google_streetview.api.results(params)\n",
        "#results.preview()\n",
        "len(results.metadata)"
      ],
      "execution_count": 104,
      "outputs": [
        {
          "output_type": "execute_result",
          "data": {
            "text/plain": [
              "20"
            ]
          },
          "metadata": {
            "tags": []
          },
          "execution_count": 104
        }
      ]
    },
    {
      "cell_type": "code",
      "metadata": {
        "id": "LivSsfwHv_Kf"
      },
      "source": [
        "# input - df: a Dataframe, chunkSize: the chunk size\n",
        "# output - a list of DataFrame\n",
        "# purpose - splits the DataFrame into smaller chunks\n",
        "def split_dataframe(df, chunk_size = 200): \n",
        "    chunks = list()\n",
        "    num_chunks = len(df) // chunk_size + 1\n",
        "    for i in range(num_chunks):\n",
        "        chunks.append(df[i*chunk_size:(i+1)*chunk_size])\n",
        "    return chunks\n",
        "\n",
        "def generate_param(df, api_key):\n",
        "  params = []\n",
        "  for row in df.iterrows():\n",
        "    params.append({\n",
        "              'key': api_key,\n",
        "              'location': str(row[1]['lat']) + ',' + str(row[1]['lng'])\n",
        "    })\n",
        "  return params"
      ],
      "execution_count": 105,
      "outputs": []
    },
    {
      "cell_type": "code",
      "metadata": {
        "id": "F9NqbYSkx-eD"
      },
      "source": [
        "#split_dataframe(picked_df)[1][['lat','lng']].reset_index(drop=True)"
      ],
      "execution_count": 106,
      "outputs": []
    },
    {
      "cell_type": "code",
      "metadata": {
        "id": "TvosWPjfxSBu",
        "outputId": "1fe0419c-9e33-4088-83d8-5d57e9a25a95",
        "colab": {
          "base_uri": "https://localhost:8080/",
          "height": 87
        }
      },
      "source": [
        "combined_df = pd.DataFrame()\n",
        "split_dfs = split_dataframe(picked_df)\n",
        "count = 1\n",
        "\n",
        "for df in split_dfs:\n",
        "  print('Processing ', count, ' / ', len(split_dfs))\n",
        "  results = google_streetview.api.results(generate_param(df, api_key))\n",
        "  gsv_info = []\n",
        "  for row in results.metadata:\n",
        "    if 'OK' in row['status']:\n",
        "      if 'Google' in row['copyright']:\n",
        "        gsv_info.append([row['location']['lat'], row['location']['lng'], row['pano_id'], row['date'], row['status']])\n",
        "      else:\n",
        "        gsv_info.append([math.nan, math.nan, math.nan, math.nan, math.nan])\n",
        "    else:\n",
        "      gsv_info.append([math.nan, math.nan, math.nan, math.nan, math.nan])\n",
        "\n",
        "  combined_df = combined_df.append(\n",
        "      pd.concat([df[['lat','lng']].reset_index(drop=True), pd.DataFrame(gsv_info, columns = ['gsv_lat', 'gsv_lng', 'pano_id', 'date', 'status'])], axis=1)\n",
        "  )\n",
        "\n",
        "  count += 1\n"
      ],
      "execution_count": 107,
      "outputs": [
        {
          "output_type": "stream",
          "text": [
            "Processing  1  /  4\n",
            "Processing  2  /  4\n",
            "Processing  3  /  4\n",
            "Processing  4  /  4\n"
          ],
          "name": "stdout"
        }
      ]
    },
    {
      "cell_type": "code",
      "metadata": {
        "id": "eOoA06k74W_F"
      },
      "source": [
        "combined_df.reset_index(drop=True).to_csv('drive/My Drive/StreetPsych/' + location + '/gsv_seed_' + location + '.csv')"
      ],
      "execution_count": 108,
      "outputs": []
    },
    {
      "cell_type": "code",
      "metadata": {
        "id": "fKuT2f0d0IaR"
      },
      "source": [
        ""
      ],
      "execution_count": null,
      "outputs": []
    }
  ]
}