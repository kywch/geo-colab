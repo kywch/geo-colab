{
  "nbformat": 4,
  "nbformat_minor": 0,
  "metadata": {
    "colab": {
      "name": "TreePedia-Step2-checking_gsv.ipynb",
      "provenance": [],
      "authorship_tag": "ABX9TyPBOrcu2z8T3pANnxLT/Gzi",
      "include_colab_link": true
    },
    "kernelspec": {
      "name": "python3",
      "display_name": "Python 3"
    }
  },
  "cells": [
    {
      "cell_type": "markdown",
      "metadata": {
        "id": "view-in-github",
        "colab_type": "text"
      },
      "source": [
        "<a href=\"https://colab.research.google.com/github/kywch/geo-colab/blob/master/TreePedia_Step2_checking_gsv.ipynb\" target=\"_parent\"><img src=\"https://colab.research.google.com/assets/colab-badge.svg\" alt=\"Open In Colab\"/></a>"
      ]
    },
    {
      "cell_type": "markdown",
      "metadata": {
        "id": "2o4JWkcYV3bR"
      },
      "source": [
        "**To access the google streetview API, one should have the API key.**\n",
        "* First, get started with Google Maps platform: https://developers.google.com/maps/gmp-get-started\n",
        "* Then, get an API key to use Street View Static API: https://developers.google.com/maps/documentation/streetview/get-api-key\n",
        "\n",
        "---\n",
        "This notebook uses google-streetview package: https://pypi.org/project/google-streetview/. \n",
        "* For documentation, please see https://rrwen.github.io/google_streetview/\n",
        "\n"
      ]
    },
    {
      "cell_type": "code",
      "metadata": {
        "id": "lpp6x3fiVw9n",
        "outputId": "06bac322-ddce-44a4-df90-0880fcc9e2da",
        "colab": {
          "base_uri": "https://localhost:8080/"
        }
      },
      "source": [
        "!pip install google-streetview"
      ],
      "execution_count": 1,
      "outputs": [
        {
          "output_type": "stream",
          "text": [
            "Collecting google-streetview\n",
            "  Downloading https://files.pythonhosted.org/packages/04/33/be168a62a973e8dd3f00a83b2481f4c5602bb8339cbe81cf70a437b04ade/google_streetview-1.2.9.tar.gz\n",
            "Collecting kwconfig\n",
            "  Downloading https://files.pythonhosted.org/packages/47/49/87ca96c4c299d24700daf45f4bb8d900b05e15e8c48179b13008fc29c509/kwconfig-1.1.7.tar.gz\n",
            "Requirement already satisfied: requests in /usr/local/lib/python3.6/dist-packages (from google-streetview) (2.23.0)\n",
            "Requirement already satisfied: idna<3,>=2.5 in /usr/local/lib/python3.6/dist-packages (from requests->google-streetview) (2.10)\n",
            "Requirement already satisfied: urllib3!=1.25.0,!=1.25.1,<1.26,>=1.21.1 in /usr/local/lib/python3.6/dist-packages (from requests->google-streetview) (1.24.3)\n",
            "Requirement already satisfied: chardet<4,>=3.0.2 in /usr/local/lib/python3.6/dist-packages (from requests->google-streetview) (3.0.4)\n",
            "Requirement already satisfied: certifi>=2017.4.17 in /usr/local/lib/python3.6/dist-packages (from requests->google-streetview) (2020.6.20)\n",
            "Building wheels for collected packages: google-streetview, kwconfig\n",
            "  Building wheel for google-streetview (setup.py) ... \u001b[?25l\u001b[?25hdone\n",
            "  Created wheel for google-streetview: filename=google_streetview-1.2.9-cp36-none-any.whl size=9781 sha256=a23965f48dd5db81a072e78d86f4de8cfb2a6aca27752d128f16418af1ec8318\n",
            "  Stored in directory: /root/.cache/pip/wheels/e1/ce/c0/e90d7ee251659d215b7ab21a7cd80cfd65e1720fc3dca3b9ed\n",
            "  Building wheel for kwconfig (setup.py) ... \u001b[?25l\u001b[?25hdone\n",
            "  Created wheel for kwconfig: filename=kwconfig-1.1.7-cp36-none-any.whl size=4981 sha256=b45564c59a944b2ff1efff21c21205ead4fc32ba7743901da1080a840c3d50ee\n",
            "  Stored in directory: /root/.cache/pip/wheels/22/fa/82/fed4c9e2829a6210470b121673adddedf169b6319112b3ba20\n",
            "Successfully built google-streetview kwconfig\n",
            "Installing collected packages: kwconfig, google-streetview\n",
            "Successfully installed google-streetview-1.2.9 kwconfig-1.1.7\n"
          ],
          "name": "stdout"
        }
      ]
    },
    {
      "cell_type": "code",
      "metadata": {
        "id": "gHoz7b5xj_SO"
      },
      "source": [
        "import pandas as pd\n",
        "import google_streetview.api\n",
        "import math"
      ],
      "execution_count": 2,
      "outputs": []
    },
    {
      "cell_type": "code",
      "metadata": {
        "id": "FkjGNpfjWFX_",
        "outputId": "5e1cfa76-e2b4-4965-c7e7-338df7e3b27e",
        "colab": {
          "base_uri": "https://localhost:8080/"
        }
      },
      "source": [
        "from google.colab import drive\n",
        "drive.mount('/content/drive')"
      ],
      "execution_count": 4,
      "outputs": [
        {
          "output_type": "stream",
          "text": [
            "Mounted at /content/drive\n"
          ],
          "name": "stdout"
        }
      ]
    },
    {
      "cell_type": "code",
      "metadata": {
        "id": "PnyNy_nedh_b",
        "outputId": "fcb21430-e62e-4f0b-8c80-6ca71cced055",
        "colab": {
          "base_uri": "https://localhost:8080/"
        }
      },
      "source": [
        "!ls drive/My\\ Drive/StreetPsych"
      ],
      "execution_count": 5,
      "outputs": [
        {
          "output_type": "stream",
          "text": [
            "Brookline_MA  Chicago  HydePark  key.txt\n"
          ],
          "name": "stdout"
        }
      ]
    },
    {
      "cell_type": "code",
      "metadata": {
        "id": "XtFjO1hpkYxQ"
      },
      "source": [
        "# Google Street View Static API key\n",
        "with open('drive/My Drive/StreetPsych/key.txt') as file:\n",
        "  api_key = file.read()"
      ],
      "execution_count": 6,
      "outputs": []
    },
    {
      "cell_type": "code",
      "metadata": {
        "id": "mnyiyBz9kCjE",
        "outputId": "4dd4db6d-520c-4d97-8da5-bcca7b60ea94",
        "colab": {
          "base_uri": "https://localhost:8080/",
          "height": 406
        }
      },
      "source": [
        "#location = 'HydePark'\n",
        "#location = 'Chicago'\n",
        "location = 'Brookline_MA'\n",
        "\n",
        "picked_df = pd.read_csv('drive/My Drive/StreetPsych/' + location + '/seed_' + location + '.csv')\n",
        "picked_df"
      ],
      "execution_count": 7,
      "outputs": [
        {
          "output_type": "execute_result",
          "data": {
            "text/html": [
              "<div>\n",
              "<style scoped>\n",
              "    .dataframe tbody tr th:only-of-type {\n",
              "        vertical-align: middle;\n",
              "    }\n",
              "\n",
              "    .dataframe tbody tr th {\n",
              "        vertical-align: top;\n",
              "    }\n",
              "\n",
              "    .dataframe thead th {\n",
              "        text-align: right;\n",
              "    }\n",
              "</style>\n",
              "<table border=\"1\" class=\"dataframe\">\n",
              "  <thead>\n",
              "    <tr style=\"text-align: right;\">\n",
              "      <th></th>\n",
              "      <th>Unnamed: 0</th>\n",
              "      <th>geometry</th>\n",
              "      <th>bearing</th>\n",
              "      <th>osm_index</th>\n",
              "      <th>lat</th>\n",
              "      <th>lng</th>\n",
              "    </tr>\n",
              "  </thead>\n",
              "  <tbody>\n",
              "    <tr>\n",
              "      <th>0</th>\n",
              "      <td>0</td>\n",
              "      <td>POINT (-71.12575351466042 42.32773786609903)</td>\n",
              "      <td>233.914886</td>\n",
              "      <td>0</td>\n",
              "      <td>42.327738</td>\n",
              "      <td>-71.125754</td>\n",
              "    </tr>\n",
              "    <tr>\n",
              "      <th>1</th>\n",
              "      <td>1</td>\n",
              "      <td>POINT (-71.14738155640359 42.3089787289133)</td>\n",
              "      <td>111.039266</td>\n",
              "      <td>1</td>\n",
              "      <td>42.308979</td>\n",
              "      <td>-71.147382</td>\n",
              "    </tr>\n",
              "    <tr>\n",
              "      <th>2</th>\n",
              "      <td>2</td>\n",
              "      <td>POINT (-71.146599487386 42.30837706991422)</td>\n",
              "      <td>333.033300</td>\n",
              "      <td>3</td>\n",
              "      <td>42.308377</td>\n",
              "      <td>-71.146599</td>\n",
              "    </tr>\n",
              "    <tr>\n",
              "      <th>3</th>\n",
              "      <td>3</td>\n",
              "      <td>POINT (-71.16451937317942 42.3128648955299)</td>\n",
              "      <td>285.269836</td>\n",
              "      <td>21</td>\n",
              "      <td>42.312865</td>\n",
              "      <td>-71.164519</td>\n",
              "    </tr>\n",
              "    <tr>\n",
              "      <th>4</th>\n",
              "      <td>4</td>\n",
              "      <td>POINT (-71.16502827573623 42.31303026362506)</td>\n",
              "      <td>303.632335</td>\n",
              "      <td>21</td>\n",
              "      <td>42.313030</td>\n",
              "      <td>-71.165028</td>\n",
              "    </tr>\n",
              "    <tr>\n",
              "      <th>...</th>\n",
              "      <td>...</td>\n",
              "      <td>...</td>\n",
              "      <td>...</td>\n",
              "      <td>...</td>\n",
              "      <td>...</td>\n",
              "      <td>...</td>\n",
              "    </tr>\n",
              "    <tr>\n",
              "      <th>1405</th>\n",
              "      <td>1405</td>\n",
              "      <td>POINT (-71.115995784234 42.33280120281265)</td>\n",
              "      <td>60.352672</td>\n",
              "      <td>3264</td>\n",
              "      <td>42.332801</td>\n",
              "      <td>-71.115996</td>\n",
              "    </tr>\n",
              "    <tr>\n",
              "      <th>1406</th>\n",
              "      <td>1406</td>\n",
              "      <td>POINT (-71.11550144962152 42.3330091966836)</td>\n",
              "      <td>60.352591</td>\n",
              "      <td>3264</td>\n",
              "      <td>42.333009</td>\n",
              "      <td>-71.115501</td>\n",
              "    </tr>\n",
              "    <tr>\n",
              "      <th>1407</th>\n",
              "      <td>1407</td>\n",
              "      <td>POINT (-71.15045862781058 42.3008962719038)</td>\n",
              "      <td>259.672377</td>\n",
              "      <td>3265</td>\n",
              "      <td>42.300896</td>\n",
              "      <td>-71.150459</td>\n",
              "    </tr>\n",
              "    <tr>\n",
              "      <th>1408</th>\n",
              "      <td>1408</td>\n",
              "      <td>POINT (-71.12574543690265 42.33212974943358)</td>\n",
              "      <td>117.124299</td>\n",
              "      <td>3304</td>\n",
              "      <td>42.332130</td>\n",
              "      <td>-71.125745</td>\n",
              "    </tr>\n",
              "    <tr>\n",
              "      <th>1409</th>\n",
              "      <td>1409</td>\n",
              "      <td>POINT (-71.1178451287864 42.33596221843677)</td>\n",
              "      <td>81.279033</td>\n",
              "      <td>3319</td>\n",
              "      <td>42.335962</td>\n",
              "      <td>-71.117845</td>\n",
              "    </tr>\n",
              "  </tbody>\n",
              "</table>\n",
              "<p>1410 rows × 6 columns</p>\n",
              "</div>"
            ],
            "text/plain": [
              "      Unnamed: 0  ...        lng\n",
              "0              0  ... -71.125754\n",
              "1              1  ... -71.147382\n",
              "2              2  ... -71.146599\n",
              "3              3  ... -71.164519\n",
              "4              4  ... -71.165028\n",
              "...          ...  ...        ...\n",
              "1405        1405  ... -71.115996\n",
              "1406        1406  ... -71.115501\n",
              "1407        1407  ... -71.150459\n",
              "1408        1408  ... -71.125745\n",
              "1409        1409  ... -71.117845\n",
              "\n",
              "[1410 rows x 6 columns]"
            ]
          },
          "metadata": {
            "tags": []
          },
          "execution_count": 7
        }
      ]
    },
    {
      "cell_type": "code",
      "metadata": {
        "id": "gCexIDNckCqr"
      },
      "source": [
        "params = []\n",
        "for row in picked_df.head(20).iterrows():\n",
        "  params.append({\n",
        "            'key': api_key,\n",
        "            'location': str(row[1]['lat']) + ',' + str(row[1]['lng'])\n",
        "  })\n",
        "#'size': '600x480', # max 640x640 pixels\n",
        "#print(params)"
      ],
      "execution_count": 8,
      "outputs": []
    },
    {
      "cell_type": "code",
      "metadata": {
        "id": "dkbT3gL4eB6R",
        "outputId": "4c5bc053-27f7-4728-fc45-fc96f1a779da",
        "colab": {
          "base_uri": "https://localhost:8080/"
        }
      },
      "source": [
        "results = google_streetview.api.results(params)\n",
        "#results.preview()\n",
        "len(results.metadata)"
      ],
      "execution_count": 9,
      "outputs": [
        {
          "output_type": "execute_result",
          "data": {
            "text/plain": [
              "20"
            ]
          },
          "metadata": {
            "tags": []
          },
          "execution_count": 9
        }
      ]
    },
    {
      "cell_type": "code",
      "metadata": {
        "id": "LivSsfwHv_Kf"
      },
      "source": [
        "# input - df: a Dataframe, chunkSize: the chunk size\n",
        "# output - a list of DataFrame\n",
        "# purpose - splits the DataFrame into smaller chunks\n",
        "def split_dataframe(df, chunk_size = 200): \n",
        "    chunks = list()\n",
        "    num_chunks = len(df) // chunk_size + 1\n",
        "    for i in range(num_chunks):\n",
        "        chunks.append(df[i*chunk_size:(i+1)*chunk_size])\n",
        "    return chunks\n",
        "\n",
        "def generate_param(df, api_key):\n",
        "  params = []\n",
        "  for row in df.iterrows():\n",
        "    params.append({\n",
        "              'key': api_key,\n",
        "              'location': str(row[1]['lat']) + ',' + str(row[1]['lng'])\n",
        "    })\n",
        "  return params"
      ],
      "execution_count": 10,
      "outputs": []
    },
    {
      "cell_type": "code",
      "metadata": {
        "id": "F9NqbYSkx-eD"
      },
      "source": [
        "#split_dataframe(picked_df)[1][['lat','lng']].reset_index(drop=True)"
      ],
      "execution_count": null,
      "outputs": []
    },
    {
      "cell_type": "code",
      "metadata": {
        "id": "TvosWPjfxSBu",
        "outputId": "6ff6861f-12fc-464f-b3c7-faa7fb2369d4",
        "colab": {
          "base_uri": "https://localhost:8080/"
        }
      },
      "source": [
        "results_df = pd.DataFrame()\n",
        "split_dfs = split_dataframe(picked_df)\n",
        "count = 1\n",
        "\n",
        "for df in split_dfs:\n",
        "  print('Processing ', count, ' / ', len(split_dfs))\n",
        "  results = google_streetview.api.results(generate_param(df, api_key))\n",
        "  gsv_info = []\n",
        "  for row in results.metadata:\n",
        "    if 'OK' in row['status']:\n",
        "      if 'Google' in row['copyright']:\n",
        "        gsv_info.append([row['location']['lat'], row['location']['lng'], row['pano_id'], row['date'], row['status']])\n",
        "      else:\n",
        "        gsv_info.append([math.nan, math.nan, math.nan, math.nan, math.nan])\n",
        "    else:\n",
        "      gsv_info.append([math.nan, math.nan, math.nan, math.nan, math.nan])\n",
        "\n",
        "  results_df = results_df.append( pd.DataFrame(gsv_info, columns = ['gsv_lat', 'gsv_lng', 'pano_id', 'date', 'status']) )\n",
        "  count += 1\n",
        "\n",
        "print('Done.')  \n"
      ],
      "execution_count": 11,
      "outputs": [
        {
          "output_type": "stream",
          "text": [
            "Processing  1  /  8\n",
            "Processing  2  /  8\n",
            "Processing  3  /  8\n",
            "Processing  4  /  8\n",
            "Processing  5  /  8\n",
            "Processing  6  /  8\n",
            "Processing  7  /  8\n",
            "Processing  8  /  8\n",
            "Done.\n"
          ],
          "name": "stdout"
        }
      ]
    },
    {
      "cell_type": "code",
      "metadata": {
        "id": "pboZCOsJTDhQ",
        "outputId": "57e2c994-e643-453c-9337-9788c86ba97b",
        "colab": {
          "base_uri": "https://localhost:8080/",
          "height": 406
        }
      },
      "source": [
        "combined_df = picked_df[['lat','lng','bearing','osm_index']].merge(results_df.reset_index(drop=True), left_index=True, right_index=True, suffixes=(False, False))\n",
        "combined_df  "
      ],
      "execution_count": 12,
      "outputs": [
        {
          "output_type": "execute_result",
          "data": {
            "text/html": [
              "<div>\n",
              "<style scoped>\n",
              "    .dataframe tbody tr th:only-of-type {\n",
              "        vertical-align: middle;\n",
              "    }\n",
              "\n",
              "    .dataframe tbody tr th {\n",
              "        vertical-align: top;\n",
              "    }\n",
              "\n",
              "    .dataframe thead th {\n",
              "        text-align: right;\n",
              "    }\n",
              "</style>\n",
              "<table border=\"1\" class=\"dataframe\">\n",
              "  <thead>\n",
              "    <tr style=\"text-align: right;\">\n",
              "      <th></th>\n",
              "      <th>lat</th>\n",
              "      <th>lng</th>\n",
              "      <th>bearing</th>\n",
              "      <th>osm_index</th>\n",
              "      <th>gsv_lat</th>\n",
              "      <th>gsv_lng</th>\n",
              "      <th>pano_id</th>\n",
              "      <th>date</th>\n",
              "      <th>status</th>\n",
              "    </tr>\n",
              "  </thead>\n",
              "  <tbody>\n",
              "    <tr>\n",
              "      <th>0</th>\n",
              "      <td>42.327738</td>\n",
              "      <td>-71.125754</td>\n",
              "      <td>233.914886</td>\n",
              "      <td>0</td>\n",
              "      <td>42.327726</td>\n",
              "      <td>-71.125726</td>\n",
              "      <td>qPFd8ZiCTDtFRbIuXrD_fQ</td>\n",
              "      <td>2018-06</td>\n",
              "      <td>OK</td>\n",
              "    </tr>\n",
              "    <tr>\n",
              "      <th>1</th>\n",
              "      <td>42.308979</td>\n",
              "      <td>-71.147382</td>\n",
              "      <td>111.039266</td>\n",
              "      <td>1</td>\n",
              "      <td>NaN</td>\n",
              "      <td>NaN</td>\n",
              "      <td>NaN</td>\n",
              "      <td>NaN</td>\n",
              "      <td>NaN</td>\n",
              "    </tr>\n",
              "    <tr>\n",
              "      <th>2</th>\n",
              "      <td>42.308377</td>\n",
              "      <td>-71.146599</td>\n",
              "      <td>333.033300</td>\n",
              "      <td>3</td>\n",
              "      <td>NaN</td>\n",
              "      <td>NaN</td>\n",
              "      <td>NaN</td>\n",
              "      <td>NaN</td>\n",
              "      <td>NaN</td>\n",
              "    </tr>\n",
              "    <tr>\n",
              "      <th>3</th>\n",
              "      <td>42.312865</td>\n",
              "      <td>-71.164519</td>\n",
              "      <td>285.269836</td>\n",
              "      <td>21</td>\n",
              "      <td>42.312834</td>\n",
              "      <td>-71.164465</td>\n",
              "      <td>_6Zd2vQL1HJBJ0Rc3yvxNA</td>\n",
              "      <td>2011-07</td>\n",
              "      <td>OK</td>\n",
              "    </tr>\n",
              "    <tr>\n",
              "      <th>4</th>\n",
              "      <td>42.313030</td>\n",
              "      <td>-71.165028</td>\n",
              "      <td>303.632335</td>\n",
              "      <td>21</td>\n",
              "      <td>42.312999</td>\n",
              "      <td>-71.164982</td>\n",
              "      <td>ACStUzQrXsKtXm-CR17cTw</td>\n",
              "      <td>2011-07</td>\n",
              "      <td>OK</td>\n",
              "    </tr>\n",
              "    <tr>\n",
              "      <th>...</th>\n",
              "      <td>...</td>\n",
              "      <td>...</td>\n",
              "      <td>...</td>\n",
              "      <td>...</td>\n",
              "      <td>...</td>\n",
              "      <td>...</td>\n",
              "      <td>...</td>\n",
              "      <td>...</td>\n",
              "      <td>...</td>\n",
              "    </tr>\n",
              "    <tr>\n",
              "      <th>1405</th>\n",
              "      <td>42.332801</td>\n",
              "      <td>-71.115996</td>\n",
              "      <td>60.352672</td>\n",
              "      <td>3264</td>\n",
              "      <td>42.332802</td>\n",
              "      <td>-71.116007</td>\n",
              "      <td>Dh9jLDcWVcrIbrI5eGkneA</td>\n",
              "      <td>2018-05</td>\n",
              "      <td>OK</td>\n",
              "    </tr>\n",
              "    <tr>\n",
              "      <th>1406</th>\n",
              "      <td>42.333009</td>\n",
              "      <td>-71.115501</td>\n",
              "      <td>60.352591</td>\n",
              "      <td>3264</td>\n",
              "      <td>42.333028</td>\n",
              "      <td>-71.115462</td>\n",
              "      <td>DUW77JTp8KB6pLnvqGPYdA</td>\n",
              "      <td>2018-05</td>\n",
              "      <td>OK</td>\n",
              "    </tr>\n",
              "    <tr>\n",
              "      <th>1407</th>\n",
              "      <td>42.300896</td>\n",
              "      <td>-71.150459</td>\n",
              "      <td>259.672377</td>\n",
              "      <td>3265</td>\n",
              "      <td>42.300895</td>\n",
              "      <td>-71.150479</td>\n",
              "      <td>IGjcwamebot1aOxpFalugg</td>\n",
              "      <td>2016-06</td>\n",
              "      <td>OK</td>\n",
              "    </tr>\n",
              "    <tr>\n",
              "      <th>1408</th>\n",
              "      <td>42.332130</td>\n",
              "      <td>-71.125745</td>\n",
              "      <td>117.124299</td>\n",
              "      <td>3304</td>\n",
              "      <td>42.332129</td>\n",
              "      <td>-71.125785</td>\n",
              "      <td>8oBKpVMlNAy9dGh9h0azqg</td>\n",
              "      <td>2019-08</td>\n",
              "      <td>OK</td>\n",
              "    </tr>\n",
              "    <tr>\n",
              "      <th>1409</th>\n",
              "      <td>42.335962</td>\n",
              "      <td>-71.117845</td>\n",
              "      <td>81.279033</td>\n",
              "      <td>3319</td>\n",
              "      <td>42.335947</td>\n",
              "      <td>-71.117869</td>\n",
              "      <td>plT_GxtJ1uoC1_ax6C6-SA</td>\n",
              "      <td>2011-07</td>\n",
              "      <td>OK</td>\n",
              "    </tr>\n",
              "  </tbody>\n",
              "</table>\n",
              "<p>1410 rows × 9 columns</p>\n",
              "</div>"
            ],
            "text/plain": [
              "            lat        lng     bearing  ...                 pano_id     date  status\n",
              "0     42.327738 -71.125754  233.914886  ...  qPFd8ZiCTDtFRbIuXrD_fQ  2018-06      OK\n",
              "1     42.308979 -71.147382  111.039266  ...                     NaN      NaN     NaN\n",
              "2     42.308377 -71.146599  333.033300  ...                     NaN      NaN     NaN\n",
              "3     42.312865 -71.164519  285.269836  ...  _6Zd2vQL1HJBJ0Rc3yvxNA  2011-07      OK\n",
              "4     42.313030 -71.165028  303.632335  ...  ACStUzQrXsKtXm-CR17cTw  2011-07      OK\n",
              "...         ...        ...         ...  ...                     ...      ...     ...\n",
              "1405  42.332801 -71.115996   60.352672  ...  Dh9jLDcWVcrIbrI5eGkneA  2018-05      OK\n",
              "1406  42.333009 -71.115501   60.352591  ...  DUW77JTp8KB6pLnvqGPYdA  2018-05      OK\n",
              "1407  42.300896 -71.150459  259.672377  ...  IGjcwamebot1aOxpFalugg  2016-06      OK\n",
              "1408  42.332130 -71.125745  117.124299  ...  8oBKpVMlNAy9dGh9h0azqg  2019-08      OK\n",
              "1409  42.335962 -71.117845   81.279033  ...  plT_GxtJ1uoC1_ax6C6-SA  2011-07      OK\n",
              "\n",
              "[1410 rows x 9 columns]"
            ]
          },
          "metadata": {
            "tags": []
          },
          "execution_count": 12
        }
      ]
    },
    {
      "cell_type": "code",
      "metadata": {
        "id": "eOoA06k74W_F"
      },
      "source": [
        "combined_df.to_csv('drive/My Drive/StreetPsych/' + location + '/gsv_seed_' + location + '.csv')"
      ],
      "execution_count": 13,
      "outputs": []
    },
    {
      "cell_type": "code",
      "metadata": {
        "id": "I2t0u3LyU-K7",
        "outputId": "d77a2619-80f6-4669-dc6e-c034e873e3bc",
        "colab": {
          "base_uri": "https://localhost:8080/"
        }
      },
      "source": [
        "sum(combined_df['date'] > '2018')"
      ],
      "execution_count": 18,
      "outputs": [
        {
          "output_type": "execute_result",
          "data": {
            "text/plain": [
              "1067"
            ]
          },
          "metadata": {
            "tags": []
          },
          "execution_count": 18
        }
      ]
    },
    {
      "cell_type": "code",
      "metadata": {
        "id": "UbpKbIJ8e_Gg"
      },
      "source": [
        ""
      ],
      "execution_count": null,
      "outputs": []
    }
  ]
}