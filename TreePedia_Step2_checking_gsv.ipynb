{
  "nbformat": 4,
  "nbformat_minor": 0,
  "metadata": {
    "colab": {
      "name": "TreePedia-Step2-checking_gsv.ipynb",
      "provenance": [],
      "authorship_tag": "ABX9TyOQdU1HLB4lsSFYFw7rH//i",
      "include_colab_link": true
    },
    "kernelspec": {
      "name": "python3",
      "display_name": "Python 3"
    }
  },
  "cells": [
    {
      "cell_type": "markdown",
      "metadata": {
        "id": "view-in-github",
        "colab_type": "text"
      },
      "source": [
        "<a href=\"https://colab.research.google.com/github/kywch/geo-colab/blob/master/TreePedia_Step2_checking_gsv.ipynb\" target=\"_parent\"><img src=\"https://colab.research.google.com/assets/colab-badge.svg\" alt=\"Open In Colab\"/></a>"
      ]
    },
    {
      "cell_type": "markdown",
      "metadata": {
        "id": "2o4JWkcYV3bR"
      },
      "source": [
        "**To access the google streetview API, one should have the API key.**\n",
        "* First, get started with Google Maps platform: https://developers.google.com/maps/gmp-get-started\n",
        "* Then, get an API key to use Street View Static API: https://developers.google.com/maps/documentation/streetview/get-api-key\n",
        "\n",
        "---\n",
        "This notebook uses google-streetview package: https://pypi.org/project/google-streetview/. \n",
        "* For documentation, please see https://rrwen.github.io/google_streetview/\n",
        "\n"
      ]
    },
    {
      "cell_type": "code",
      "metadata": {
        "id": "lpp6x3fiVw9n",
        "outputId": "936f5069-a1c7-4070-9672-5c5ed38295ab",
        "colab": {
          "base_uri": "https://localhost:8080/",
          "height": 354
        }
      },
      "source": [
        "!pip install google-streetview"
      ],
      "execution_count": 1,
      "outputs": [
        {
          "output_type": "stream",
          "text": [
            "Collecting google-streetview\n",
            "  Downloading https://files.pythonhosted.org/packages/04/33/be168a62a973e8dd3f00a83b2481f4c5602bb8339cbe81cf70a437b04ade/google_streetview-1.2.9.tar.gz\n",
            "Collecting kwconfig\n",
            "  Downloading https://files.pythonhosted.org/packages/47/49/87ca96c4c299d24700daf45f4bb8d900b05e15e8c48179b13008fc29c509/kwconfig-1.1.7.tar.gz\n",
            "Requirement already satisfied: requests in /usr/local/lib/python3.6/dist-packages (from google-streetview) (2.23.0)\n",
            "Requirement already satisfied: certifi>=2017.4.17 in /usr/local/lib/python3.6/dist-packages (from requests->google-streetview) (2020.6.20)\n",
            "Requirement already satisfied: chardet<4,>=3.0.2 in /usr/local/lib/python3.6/dist-packages (from requests->google-streetview) (3.0.4)\n",
            "Requirement already satisfied: urllib3!=1.25.0,!=1.25.1,<1.26,>=1.21.1 in /usr/local/lib/python3.6/dist-packages (from requests->google-streetview) (1.24.3)\n",
            "Requirement already satisfied: idna<3,>=2.5 in /usr/local/lib/python3.6/dist-packages (from requests->google-streetview) (2.10)\n",
            "Building wheels for collected packages: google-streetview, kwconfig\n",
            "  Building wheel for google-streetview (setup.py) ... \u001b[?25l\u001b[?25hdone\n",
            "  Created wheel for google-streetview: filename=google_streetview-1.2.9-cp36-none-any.whl size=9781 sha256=72ac5ee2b60c69b89cd380e614bb3103d0e2ce71125a1713284581aa437d111e\n",
            "  Stored in directory: /root/.cache/pip/wheels/e1/ce/c0/e90d7ee251659d215b7ab21a7cd80cfd65e1720fc3dca3b9ed\n",
            "  Building wheel for kwconfig (setup.py) ... \u001b[?25l\u001b[?25hdone\n",
            "  Created wheel for kwconfig: filename=kwconfig-1.1.7-cp36-none-any.whl size=4981 sha256=29e9c140ff861c9ce647d024fba60f95753110dc9e1b5c642a0c07730a073ee4\n",
            "  Stored in directory: /root/.cache/pip/wheels/22/fa/82/fed4c9e2829a6210470b121673adddedf169b6319112b3ba20\n",
            "Successfully built google-streetview kwconfig\n",
            "Installing collected packages: kwconfig, google-streetview\n",
            "Successfully installed google-streetview-1.2.9 kwconfig-1.1.7\n"
          ],
          "name": "stdout"
        }
      ]
    },
    {
      "cell_type": "code",
      "metadata": {
        "id": "gHoz7b5xj_SO"
      },
      "source": [
        "import pandas as pd\n",
        "import google_streetview.api\n",
        "import math"
      ],
      "execution_count": 2,
      "outputs": []
    },
    {
      "cell_type": "code",
      "metadata": {
        "id": "FkjGNpfjWFX_",
        "outputId": "df39104c-64cd-4b1d-c1d4-265f011ab08a",
        "colab": {
          "base_uri": "https://localhost:8080/",
          "height": 34
        }
      },
      "source": [
        "from google.colab import drive\n",
        "drive.mount('/content/drive')"
      ],
      "execution_count": 3,
      "outputs": [
        {
          "output_type": "stream",
          "text": [
            "Mounted at /content/drive\n"
          ],
          "name": "stdout"
        }
      ]
    },
    {
      "cell_type": "code",
      "metadata": {
        "id": "PnyNy_nedh_b",
        "outputId": "ae0089b6-6b51-4d34-e576-773f8cd99abd",
        "colab": {
          "base_uri": "https://localhost:8080/",
          "height": 34
        }
      },
      "source": [
        "!ls drive/My\\ Drive/StreetPsych"
      ],
      "execution_count": 4,
      "outputs": [
        {
          "output_type": "stream",
          "text": [
            "Chicago  HydePark  key.txt\n"
          ],
          "name": "stdout"
        }
      ]
    },
    {
      "cell_type": "code",
      "metadata": {
        "id": "XtFjO1hpkYxQ"
      },
      "source": [
        "# Google Street View Static API key\n",
        "with open('drive/My Drive/StreetPsych/key.txt') as file:\n",
        "  api_key = file.read()"
      ],
      "execution_count": 5,
      "outputs": []
    },
    {
      "cell_type": "code",
      "metadata": {
        "id": "mnyiyBz9kCjE",
        "outputId": "1d8f157d-9e10-4465-a160-e16e931c1341",
        "colab": {
          "base_uri": "https://localhost:8080/",
          "height": 406
        }
      },
      "source": [
        "location = 'HydePark'\n",
        "picked_df = pd.read_csv('drive/My Drive/StreetPsych/' + location + '/seed_' + location + '.csv')\n",
        "picked_df"
      ],
      "execution_count": 6,
      "outputs": [
        {
          "output_type": "execute_result",
          "data": {
            "text/html": [
              "<div>\n",
              "<style scoped>\n",
              "    .dataframe tbody tr th:only-of-type {\n",
              "        vertical-align: middle;\n",
              "    }\n",
              "\n",
              "    .dataframe tbody tr th {\n",
              "        vertical-align: top;\n",
              "    }\n",
              "\n",
              "    .dataframe thead th {\n",
              "        text-align: right;\n",
              "    }\n",
              "</style>\n",
              "<table border=\"1\" class=\"dataframe\">\n",
              "  <thead>\n",
              "    <tr style=\"text-align: right;\">\n",
              "      <th></th>\n",
              "      <th>Unnamed: 0</th>\n",
              "      <th>geometry</th>\n",
              "      <th>bearing</th>\n",
              "      <th>osm_index</th>\n",
              "      <th>lat</th>\n",
              "      <th>lng</th>\n",
              "    </tr>\n",
              "  </thead>\n",
              "  <tbody>\n",
              "    <tr>\n",
              "      <th>0</th>\n",
              "      <td>0</td>\n",
              "      <td>POINT (-87.5816564665065 41.79278354249134)</td>\n",
              "      <td>96.841944</td>\n",
              "      <td>0</td>\n",
              "      <td>41.792784</td>\n",
              "      <td>-87.581656</td>\n",
              "    </tr>\n",
              "    <tr>\n",
              "      <th>1</th>\n",
              "      <td>1</td>\n",
              "      <td>POINT (-87.58113712609745 41.79270690299883)</td>\n",
              "      <td>103.889035</td>\n",
              "      <td>0</td>\n",
              "      <td>41.792707</td>\n",
              "      <td>-87.581137</td>\n",
              "    </tr>\n",
              "    <tr>\n",
              "      <th>2</th>\n",
              "      <td>2</td>\n",
              "      <td>POINT (-87.58426177854429 41.78864578433912)</td>\n",
              "      <td>113.243840</td>\n",
              "      <td>4</td>\n",
              "      <td>41.788646</td>\n",
              "      <td>-87.584262</td>\n",
              "    </tr>\n",
              "    <tr>\n",
              "      <th>3</th>\n",
              "      <td>3</td>\n",
              "      <td>POINT (-87.58374468298702 41.78856196235375)</td>\n",
              "      <td>96.709815</td>\n",
              "      <td>4</td>\n",
              "      <td>41.788562</td>\n",
              "      <td>-87.583745</td>\n",
              "    </tr>\n",
              "    <tr>\n",
              "      <th>4</th>\n",
              "      <td>4</td>\n",
              "      <td>POINT (-87.58322080593142 41.78852482917546)</td>\n",
              "      <td>110.335822</td>\n",
              "      <td>4</td>\n",
              "      <td>41.788525</td>\n",
              "      <td>-87.583221</td>\n",
              "    </tr>\n",
              "    <tr>\n",
              "      <th>...</th>\n",
              "      <td>...</td>\n",
              "      <td>...</td>\n",
              "      <td>...</td>\n",
              "      <td>...</td>\n",
              "      <td>...</td>\n",
              "      <td>...</td>\n",
              "    </tr>\n",
              "    <tr>\n",
              "      <th>382</th>\n",
              "      <td>382</td>\n",
              "      <td>POINT (-87.60280457138116 41.79830587482549)</td>\n",
              "      <td>358.951042</td>\n",
              "      <td>2043</td>\n",
              "      <td>41.798306</td>\n",
              "      <td>-87.602805</td>\n",
              "    </tr>\n",
              "    <tr>\n",
              "      <th>383</th>\n",
              "      <td>383</td>\n",
              "      <td>POINT (-87.60281746655603 41.79883090792616)</td>\n",
              "      <td>358.951051</td>\n",
              "      <td>2043</td>\n",
              "      <td>41.798831</td>\n",
              "      <td>-87.602817</td>\n",
              "    </tr>\n",
              "    <tr>\n",
              "      <th>384</th>\n",
              "      <td>384</td>\n",
              "      <td>POINT (-87.60276990373274 41.79686538130811)</td>\n",
              "      <td>358.980059</td>\n",
              "      <td>2044</td>\n",
              "      <td>41.796865</td>\n",
              "      <td>-87.602770</td>\n",
              "    </tr>\n",
              "    <tr>\n",
              "      <th>385</th>\n",
              "      <td>385</td>\n",
              "      <td>POINT (-87.60278244204305 41.79739042305226)</td>\n",
              "      <td>358.980067</td>\n",
              "      <td>2044</td>\n",
              "      <td>41.797390</td>\n",
              "      <td>-87.602782</td>\n",
              "    </tr>\n",
              "    <tr>\n",
              "      <th>386</th>\n",
              "      <td>386</td>\n",
              "      <td>POINT (-87.60274735226567 41.79571593396916)</td>\n",
              "      <td>359.256844</td>\n",
              "      <td>2045</td>\n",
              "      <td>41.795716</td>\n",
              "      <td>-87.602747</td>\n",
              "    </tr>\n",
              "  </tbody>\n",
              "</table>\n",
              "<p>387 rows × 6 columns</p>\n",
              "</div>"
            ],
            "text/plain": [
              "     Unnamed: 0  ...        lng\n",
              "0             0  ... -87.581656\n",
              "1             1  ... -87.581137\n",
              "2             2  ... -87.584262\n",
              "3             3  ... -87.583745\n",
              "4             4  ... -87.583221\n",
              "..          ...  ...        ...\n",
              "382         382  ... -87.602805\n",
              "383         383  ... -87.602817\n",
              "384         384  ... -87.602770\n",
              "385         385  ... -87.602782\n",
              "386         386  ... -87.602747\n",
              "\n",
              "[387 rows x 6 columns]"
            ]
          },
          "metadata": {
            "tags": []
          },
          "execution_count": 6
        }
      ]
    },
    {
      "cell_type": "code",
      "metadata": {
        "id": "gCexIDNckCqr"
      },
      "source": [
        "params = []\n",
        "for row in picked_df.head(20).iterrows():\n",
        "  params.append({\n",
        "            'key': api_key,\n",
        "            'location': str(row[1]['lat']) + ',' + str(row[1]['lng'])\n",
        "  })\n",
        "#'size': '600x480', # max 640x640 pixels\n",
        "#print(params)"
      ],
      "execution_count": 7,
      "outputs": []
    },
    {
      "cell_type": "code",
      "metadata": {
        "id": "dkbT3gL4eB6R",
        "outputId": "60e8eb3d-f7fd-4559-c68e-e901ee1871fa",
        "colab": {
          "base_uri": "https://localhost:8080/",
          "height": 34
        }
      },
      "source": [
        "results = google_streetview.api.results(params)\n",
        "#results.preview()\n",
        "len(results.metadata)"
      ],
      "execution_count": 8,
      "outputs": [
        {
          "output_type": "execute_result",
          "data": {
            "text/plain": [
              "20"
            ]
          },
          "metadata": {
            "tags": []
          },
          "execution_count": 8
        }
      ]
    },
    {
      "cell_type": "code",
      "metadata": {
        "id": "LivSsfwHv_Kf"
      },
      "source": [
        "# input - df: a Dataframe, chunkSize: the chunk size\n",
        "# output - a list of DataFrame\n",
        "# purpose - splits the DataFrame into smaller chunks\n",
        "def split_dataframe(df, chunk_size = 200): \n",
        "    chunks = list()\n",
        "    num_chunks = len(df) // chunk_size + 1\n",
        "    for i in range(num_chunks):\n",
        "        chunks.append(df[i*chunk_size:(i+1)*chunk_size])\n",
        "    return chunks\n",
        "\n",
        "def generate_param(df, api_key):\n",
        "  params = []\n",
        "  for row in df.iterrows():\n",
        "    params.append({\n",
        "              'key': api_key,\n",
        "              'location': str(row[1]['lat']) + ',' + str(row[1]['lng'])\n",
        "    })\n",
        "  return params"
      ],
      "execution_count": 9,
      "outputs": []
    },
    {
      "cell_type": "code",
      "metadata": {
        "id": "F9NqbYSkx-eD"
      },
      "source": [
        "#split_dataframe(picked_df)[1][['lat','lng']].reset_index(drop=True)"
      ],
      "execution_count": null,
      "outputs": []
    },
    {
      "cell_type": "code",
      "metadata": {
        "id": "TvosWPjfxSBu",
        "outputId": "0cfdd92d-1799-438d-9d82-dd16cb943ec5",
        "colab": {
          "base_uri": "https://localhost:8080/",
          "height": 70
        }
      },
      "source": [
        "results_df = pd.DataFrame()\n",
        "split_dfs = split_dataframe(picked_df)\n",
        "count = 1\n",
        "\n",
        "for df in split_dfs:\n",
        "  print('Processing ', count, ' / ', len(split_dfs))\n",
        "  results = google_streetview.api.results(generate_param(df, api_key))\n",
        "  gsv_info = []\n",
        "  for row in results.metadata:\n",
        "    if 'OK' in row['status']:\n",
        "      if 'Google' in row['copyright']:\n",
        "        gsv_info.append([row['location']['lat'], row['location']['lng'], row['pano_id'], row['date'], row['status']])\n",
        "      else:\n",
        "        gsv_info.append([math.nan, math.nan, math.nan, math.nan, math.nan])\n",
        "    else:\n",
        "      gsv_info.append([math.nan, math.nan, math.nan, math.nan, math.nan])\n",
        "\n",
        "  results_df = results_df.append( pd.DataFrame(gsv_info, columns = ['gsv_lat', 'gsv_lng', 'pano_id', 'date', 'status']) )\n",
        "  count += 1\n",
        "\n",
        "print('Done.')  \n"
      ],
      "execution_count": 12,
      "outputs": [
        {
          "output_type": "stream",
          "text": [
            "Processing  1  /  2\n",
            "Processing  2  /  2\n",
            "Done.\n"
          ],
          "name": "stdout"
        }
      ]
    },
    {
      "cell_type": "code",
      "metadata": {
        "id": "pboZCOsJTDhQ",
        "outputId": "ccf01e43-51dc-4fa3-ca89-49bd232b56cc",
        "colab": {
          "base_uri": "https://localhost:8080/",
          "height": 406
        }
      },
      "source": [
        "combined_df = picked_df[['lat','lng','bearing','osm_index']].merge(results_df.reset_index(drop=True), left_index=True, right_index=True, suffixes=(False, False))\n",
        "combined_df  "
      ],
      "execution_count": 28,
      "outputs": [
        {
          "output_type": "execute_result",
          "data": {
            "text/html": [
              "<div>\n",
              "<style scoped>\n",
              "    .dataframe tbody tr th:only-of-type {\n",
              "        vertical-align: middle;\n",
              "    }\n",
              "\n",
              "    .dataframe tbody tr th {\n",
              "        vertical-align: top;\n",
              "    }\n",
              "\n",
              "    .dataframe thead th {\n",
              "        text-align: right;\n",
              "    }\n",
              "</style>\n",
              "<table border=\"1\" class=\"dataframe\">\n",
              "  <thead>\n",
              "    <tr style=\"text-align: right;\">\n",
              "      <th></th>\n",
              "      <th>lat</th>\n",
              "      <th>lng</th>\n",
              "      <th>bearing</th>\n",
              "      <th>osm_index</th>\n",
              "      <th>gsv_lat</th>\n",
              "      <th>gsv_lng</th>\n",
              "      <th>pano_id</th>\n",
              "      <th>date</th>\n",
              "      <th>status</th>\n",
              "    </tr>\n",
              "  </thead>\n",
              "  <tbody>\n",
              "    <tr>\n",
              "      <th>0</th>\n",
              "      <td>41.792784</td>\n",
              "      <td>-87.581656</td>\n",
              "      <td>96.841944</td>\n",
              "      <td>0</td>\n",
              "      <td>41.792797</td>\n",
              "      <td>-87.581747</td>\n",
              "      <td>GHRFbz2JAAvkDmWHU7oswA</td>\n",
              "      <td>2011-06</td>\n",
              "      <td>OK</td>\n",
              "    </tr>\n",
              "    <tr>\n",
              "      <th>1</th>\n",
              "      <td>41.792707</td>\n",
              "      <td>-87.581137</td>\n",
              "      <td>103.889035</td>\n",
              "      <td>0</td>\n",
              "      <td>41.792710</td>\n",
              "      <td>-87.581160</td>\n",
              "      <td>ufrhNaqGu6SQVbLVgT_w_w</td>\n",
              "      <td>2011-06</td>\n",
              "      <td>OK</td>\n",
              "    </tr>\n",
              "    <tr>\n",
              "      <th>2</th>\n",
              "      <td>41.788646</td>\n",
              "      <td>-87.584262</td>\n",
              "      <td>113.243840</td>\n",
              "      <td>4</td>\n",
              "      <td>41.788594</td>\n",
              "      <td>-87.584125</td>\n",
              "      <td>wEtBw3PTguAUA2oyo0hs-Q</td>\n",
              "      <td>2011-06</td>\n",
              "      <td>OK</td>\n",
              "    </tr>\n",
              "    <tr>\n",
              "      <th>3</th>\n",
              "      <td>41.788562</td>\n",
              "      <td>-87.583745</td>\n",
              "      <td>96.709815</td>\n",
              "      <td>4</td>\n",
              "      <td>41.788553</td>\n",
              "      <td>-87.583791</td>\n",
              "      <td>zMSXwtuYNfe_W-N5telkzA</td>\n",
              "      <td>2011-06</td>\n",
              "      <td>OK</td>\n",
              "    </tr>\n",
              "    <tr>\n",
              "      <th>4</th>\n",
              "      <td>41.788525</td>\n",
              "      <td>-87.583221</td>\n",
              "      <td>110.335822</td>\n",
              "      <td>4</td>\n",
              "      <td>41.788504</td>\n",
              "      <td>-87.583216</td>\n",
              "      <td>aLoxEIp1Jaw6-i7KNE74Lw</td>\n",
              "      <td>2011-06</td>\n",
              "      <td>OK</td>\n",
              "    </tr>\n",
              "    <tr>\n",
              "      <th>...</th>\n",
              "      <td>...</td>\n",
              "      <td>...</td>\n",
              "      <td>...</td>\n",
              "      <td>...</td>\n",
              "      <td>...</td>\n",
              "      <td>...</td>\n",
              "      <td>...</td>\n",
              "      <td>...</td>\n",
              "      <td>...</td>\n",
              "    </tr>\n",
              "    <tr>\n",
              "      <th>382</th>\n",
              "      <td>41.798306</td>\n",
              "      <td>-87.602805</td>\n",
              "      <td>358.951042</td>\n",
              "      <td>2043</td>\n",
              "      <td>41.798292</td>\n",
              "      <td>-87.602808</td>\n",
              "      <td>EUabOjfF7IvKIRLocsyfyA</td>\n",
              "      <td>2019-05</td>\n",
              "      <td>OK</td>\n",
              "    </tr>\n",
              "    <tr>\n",
              "      <th>383</th>\n",
              "      <td>41.798831</td>\n",
              "      <td>-87.602817</td>\n",
              "      <td>358.951051</td>\n",
              "      <td>2043</td>\n",
              "      <td>41.798839</td>\n",
              "      <td>-87.602822</td>\n",
              "      <td>cxYcRxH5dSerNG_3ExXstg</td>\n",
              "      <td>2019-05</td>\n",
              "      <td>OK</td>\n",
              "    </tr>\n",
              "    <tr>\n",
              "      <th>384</th>\n",
              "      <td>41.796865</td>\n",
              "      <td>-87.602770</td>\n",
              "      <td>358.980059</td>\n",
              "      <td>2044</td>\n",
              "      <td>41.796822</td>\n",
              "      <td>-87.602765</td>\n",
              "      <td>7LyyRE6hKmFNrtjI5EagDQ</td>\n",
              "      <td>2019-04</td>\n",
              "      <td>OK</td>\n",
              "    </tr>\n",
              "    <tr>\n",
              "      <th>385</th>\n",
              "      <td>41.797390</td>\n",
              "      <td>-87.602782</td>\n",
              "      <td>358.980067</td>\n",
              "      <td>2044</td>\n",
              "      <td>41.797362</td>\n",
              "      <td>-87.602782</td>\n",
              "      <td>BhgMwSc2pJNzR3W9XNcDjQ</td>\n",
              "      <td>2019-04</td>\n",
              "      <td>OK</td>\n",
              "    </tr>\n",
              "    <tr>\n",
              "      <th>386</th>\n",
              "      <td>41.795716</td>\n",
              "      <td>-87.602747</td>\n",
              "      <td>359.256844</td>\n",
              "      <td>2045</td>\n",
              "      <td>41.795720</td>\n",
              "      <td>-87.602716</td>\n",
              "      <td>ZQ5p0zccTJf8xc0GmrKSpg</td>\n",
              "      <td>2019-04</td>\n",
              "      <td>OK</td>\n",
              "    </tr>\n",
              "  </tbody>\n",
              "</table>\n",
              "<p>387 rows × 9 columns</p>\n",
              "</div>"
            ],
            "text/plain": [
              "           lat        lng     bearing  ...                 pano_id     date  status\n",
              "0    41.792784 -87.581656   96.841944  ...  GHRFbz2JAAvkDmWHU7oswA  2011-06      OK\n",
              "1    41.792707 -87.581137  103.889035  ...  ufrhNaqGu6SQVbLVgT_w_w  2011-06      OK\n",
              "2    41.788646 -87.584262  113.243840  ...  wEtBw3PTguAUA2oyo0hs-Q  2011-06      OK\n",
              "3    41.788562 -87.583745   96.709815  ...  zMSXwtuYNfe_W-N5telkzA  2011-06      OK\n",
              "4    41.788525 -87.583221  110.335822  ...  aLoxEIp1Jaw6-i7KNE74Lw  2011-06      OK\n",
              "..         ...        ...         ...  ...                     ...      ...     ...\n",
              "382  41.798306 -87.602805  358.951042  ...  EUabOjfF7IvKIRLocsyfyA  2019-05      OK\n",
              "383  41.798831 -87.602817  358.951051  ...  cxYcRxH5dSerNG_3ExXstg  2019-05      OK\n",
              "384  41.796865 -87.602770  358.980059  ...  7LyyRE6hKmFNrtjI5EagDQ  2019-04      OK\n",
              "385  41.797390 -87.602782  358.980067  ...  BhgMwSc2pJNzR3W9XNcDjQ  2019-04      OK\n",
              "386  41.795716 -87.602747  359.256844  ...  ZQ5p0zccTJf8xc0GmrKSpg  2019-04      OK\n",
              "\n",
              "[387 rows x 9 columns]"
            ]
          },
          "metadata": {
            "tags": []
          },
          "execution_count": 28
        }
      ]
    },
    {
      "cell_type": "code",
      "metadata": {
        "id": "eOoA06k74W_F"
      },
      "source": [
        "combined_df.to_csv('drive/My Drive/StreetPsych/' + location + '/gsv_seed_' + location + '.csv')"
      ],
      "execution_count": 29,
      "outputs": []
    },
    {
      "cell_type": "code",
      "metadata": {
        "id": "I2t0u3LyU-K7"
      },
      "source": [
        ""
      ],
      "execution_count": null,
      "outputs": []
    }
  ]
}