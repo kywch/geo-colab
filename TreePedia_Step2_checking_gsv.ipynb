{
  "nbformat": 4,
  "nbformat_minor": 0,
  "metadata": {
    "colab": {
      "name": "TreePedia-Step2-checking_gsv.ipynb",
      "provenance": [],
      "authorship_tag": "ABX9TyMIuBKT5RvdKVCRhjTOWANc",
      "include_colab_link": true
    },
    "kernelspec": {
      "name": "python3",
      "display_name": "Python 3"
    }
  },
  "cells": [
    {
      "cell_type": "markdown",
      "metadata": {
        "id": "view-in-github",
        "colab_type": "text"
      },
      "source": [
        "<a href=\"https://colab.research.google.com/github/kywch/geo-colab/blob/master/TreePedia_Step2_checking_gsv.ipynb\" target=\"_parent\"><img src=\"https://colab.research.google.com/assets/colab-badge.svg\" alt=\"Open In Colab\"/></a>"
      ]
    },
    {
      "cell_type": "markdown",
      "metadata": {
        "id": "2o4JWkcYV3bR"
      },
      "source": [
        "**To access the google streetview API, one should have the API key.**\n",
        "* First, get started with Google Maps platform: https://developers.google.com/maps/gmp-get-started\n",
        "* Then, get an API key to use Street View Static API: https://developers.google.com/maps/documentation/streetview/get-api-key\n",
        "\n",
        "---\n",
        "This notebook uses google-streetview package: https://pypi.org/project/google-streetview/. \n",
        "* For documentation, please see https://rrwen.github.io/google_streetview/\n",
        "\n"
      ]
    },
    {
      "cell_type": "code",
      "metadata": {
        "id": "lpp6x3fiVw9n",
        "outputId": "6f5a85fb-e538-4661-9f97-e516134d9128",
        "colab": {
          "base_uri": "https://localhost:8080/",
          "height": 354
        }
      },
      "source": [
        "!pip install google-streetview"
      ],
      "execution_count": 1,
      "outputs": [
        {
          "output_type": "stream",
          "text": [
            "Collecting google-streetview\n",
            "  Downloading https://files.pythonhosted.org/packages/04/33/be168a62a973e8dd3f00a83b2481f4c5602bb8339cbe81cf70a437b04ade/google_streetview-1.2.9.tar.gz\n",
            "Collecting kwconfig\n",
            "  Downloading https://files.pythonhosted.org/packages/47/49/87ca96c4c299d24700daf45f4bb8d900b05e15e8c48179b13008fc29c509/kwconfig-1.1.7.tar.gz\n",
            "Requirement already satisfied: requests in /usr/local/lib/python3.6/dist-packages (from google-streetview) (2.23.0)\n",
            "Requirement already satisfied: chardet<4,>=3.0.2 in /usr/local/lib/python3.6/dist-packages (from requests->google-streetview) (3.0.4)\n",
            "Requirement already satisfied: urllib3!=1.25.0,!=1.25.1,<1.26,>=1.21.1 in /usr/local/lib/python3.6/dist-packages (from requests->google-streetview) (1.24.3)\n",
            "Requirement already satisfied: certifi>=2017.4.17 in /usr/local/lib/python3.6/dist-packages (from requests->google-streetview) (2020.6.20)\n",
            "Requirement already satisfied: idna<3,>=2.5 in /usr/local/lib/python3.6/dist-packages (from requests->google-streetview) (2.10)\n",
            "Building wheels for collected packages: google-streetview, kwconfig\n",
            "  Building wheel for google-streetview (setup.py) ... \u001b[?25l\u001b[?25hdone\n",
            "  Created wheel for google-streetview: filename=google_streetview-1.2.9-cp36-none-any.whl size=9781 sha256=854daa0701ca30db232411d258cda611dfabea79aa5eb4e097ef3f9aa33c9fca\n",
            "  Stored in directory: /root/.cache/pip/wheels/e1/ce/c0/e90d7ee251659d215b7ab21a7cd80cfd65e1720fc3dca3b9ed\n",
            "  Building wheel for kwconfig (setup.py) ... \u001b[?25l\u001b[?25hdone\n",
            "  Created wheel for kwconfig: filename=kwconfig-1.1.7-cp36-none-any.whl size=4981 sha256=fba54bc86d7f8a64bae9805cf9e829d94ce397b8a398f6f49731d0cec0d34346\n",
            "  Stored in directory: /root/.cache/pip/wheels/22/fa/82/fed4c9e2829a6210470b121673adddedf169b6319112b3ba20\n",
            "Successfully built google-streetview kwconfig\n",
            "Installing collected packages: kwconfig, google-streetview\n",
            "Successfully installed google-streetview-1.2.9 kwconfig-1.1.7\n"
          ],
          "name": "stdout"
        }
      ]
    },
    {
      "cell_type": "code",
      "metadata": {
        "id": "gHoz7b5xj_SO"
      },
      "source": [
        "import pandas as pd\n",
        "import google_streetview.api"
      ],
      "execution_count": 16,
      "outputs": []
    },
    {
      "cell_type": "code",
      "metadata": {
        "id": "FkjGNpfjWFX_",
        "outputId": "73d27c46-0b85-44bd-9968-a6f7be74d8b2",
        "colab": {
          "base_uri": "https://localhost:8080/",
          "height": 34
        }
      },
      "source": [
        "from google.colab import drive\n",
        "drive.mount('/content/drive')"
      ],
      "execution_count": 2,
      "outputs": [
        {
          "output_type": "stream",
          "text": [
            "Mounted at /content/drive\n"
          ],
          "name": "stdout"
        }
      ]
    },
    {
      "cell_type": "code",
      "metadata": {
        "id": "PnyNy_nedh_b",
        "outputId": "d8a44b13-7d07-4c52-f964-6ec2b7ed900c",
        "colab": {
          "base_uri": "https://localhost:8080/",
          "height": 34
        }
      },
      "source": [
        "!ls drive/My\\ Drive/StreetPsych"
      ],
      "execution_count": 3,
      "outputs": [
        {
          "output_type": "stream",
          "text": [
            "Chicago  HydePark  key.txt\n"
          ],
          "name": "stdout"
        }
      ]
    },
    {
      "cell_type": "code",
      "metadata": {
        "id": "XtFjO1hpkYxQ"
      },
      "source": [
        "# Google Street View Static API key\n",
        "with open('drive/My Drive/StreetPsych/key.txt') as file:\n",
        "  api_key = file.read()"
      ],
      "execution_count": 19,
      "outputs": []
    },
    {
      "cell_type": "code",
      "metadata": {
        "id": "mnyiyBz9kCjE"
      },
      "source": [
        "location = 'HydePark'\n",
        "picked_df = pd.read_csv('drive/My Drive/StreetPsych/' + location + '/seed_' + location + '.csv')"
      ],
      "execution_count": 17,
      "outputs": []
    },
    {
      "cell_type": "code",
      "metadata": {
        "id": "rRpmgHavkCm7",
        "outputId": "55c261ac-cc07-47b2-cbf9-4c32900a50ed",
        "colab": {
          "base_uri": "https://localhost:8080/",
          "height": 406
        }
      },
      "source": [
        "picked_df"
      ],
      "execution_count": 31,
      "outputs": [
        {
          "output_type": "execute_result",
          "data": {
            "text/html": [
              "<div>\n",
              "<style scoped>\n",
              "    .dataframe tbody tr th:only-of-type {\n",
              "        vertical-align: middle;\n",
              "    }\n",
              "\n",
              "    .dataframe tbody tr th {\n",
              "        vertical-align: top;\n",
              "    }\n",
              "\n",
              "    .dataframe thead th {\n",
              "        text-align: right;\n",
              "    }\n",
              "</style>\n",
              "<table border=\"1\" class=\"dataframe\">\n",
              "  <thead>\n",
              "    <tr style=\"text-align: right;\">\n",
              "      <th></th>\n",
              "      <th>Unnamed: 0</th>\n",
              "      <th>lat</th>\n",
              "      <th>lng</th>\n",
              "    </tr>\n",
              "  </thead>\n",
              "  <tbody>\n",
              "    <tr>\n",
              "      <th>0</th>\n",
              "      <td>0</td>\n",
              "      <td>41.792792</td>\n",
              "      <td>-87.581787</td>\n",
              "    </tr>\n",
              "    <tr>\n",
              "      <th>1</th>\n",
              "      <td>1</td>\n",
              "      <td>41.792728</td>\n",
              "      <td>-87.581267</td>\n",
              "    </tr>\n",
              "    <tr>\n",
              "      <th>2</th>\n",
              "      <td>2</td>\n",
              "      <td>41.792679</td>\n",
              "      <td>-87.580695</td>\n",
              "    </tr>\n",
              "    <tr>\n",
              "      <th>3</th>\n",
              "      <td>3</td>\n",
              "      <td>41.792377</td>\n",
              "      <td>-87.580708</td>\n",
              "    </tr>\n",
              "    <tr>\n",
              "      <th>4</th>\n",
              "      <td>4</td>\n",
              "      <td>41.788694</td>\n",
              "      <td>-87.584384</td>\n",
              "    </tr>\n",
              "    <tr>\n",
              "      <th>...</th>\n",
              "      <td>...</td>\n",
              "      <td>...</td>\n",
              "      <td>...</td>\n",
              "    </tr>\n",
              "    <tr>\n",
              "      <th>741</th>\n",
              "      <td>741</td>\n",
              "      <td>41.796734</td>\n",
              "      <td>-87.602767</td>\n",
              "    </tr>\n",
              "    <tr>\n",
              "      <th>742</th>\n",
              "      <td>742</td>\n",
              "      <td>41.797259</td>\n",
              "      <td>-87.602779</td>\n",
              "    </tr>\n",
              "    <tr>\n",
              "      <th>743</th>\n",
              "      <td>743</td>\n",
              "      <td>41.797784</td>\n",
              "      <td>-87.602792</td>\n",
              "    </tr>\n",
              "    <tr>\n",
              "      <th>744</th>\n",
              "      <td>744</td>\n",
              "      <td>41.795585</td>\n",
              "      <td>-87.602745</td>\n",
              "    </tr>\n",
              "    <tr>\n",
              "      <th>745</th>\n",
              "      <td>745</td>\n",
              "      <td>41.796110</td>\n",
              "      <td>-87.602754</td>\n",
              "    </tr>\n",
              "  </tbody>\n",
              "</table>\n",
              "<p>746 rows × 3 columns</p>\n",
              "</div>"
            ],
            "text/plain": [
              "     Unnamed: 0        lat        lng\n",
              "0             0  41.792792 -87.581787\n",
              "1             1  41.792728 -87.581267\n",
              "2             2  41.792679 -87.580695\n",
              "3             3  41.792377 -87.580708\n",
              "4             4  41.788694 -87.584384\n",
              "..          ...        ...        ...\n",
              "741         741  41.796734 -87.602767\n",
              "742         742  41.797259 -87.602779\n",
              "743         743  41.797784 -87.602792\n",
              "744         744  41.795585 -87.602745\n",
              "745         745  41.796110 -87.602754\n",
              "\n",
              "[746 rows x 3 columns]"
            ]
          },
          "metadata": {
            "tags": []
          },
          "execution_count": 31
        }
      ]
    },
    {
      "cell_type": "code",
      "metadata": {
        "id": "fCE0RP6VlK9G",
        "outputId": "aa006f19-5548-4811-e0e5-89e587c79d99",
        "colab": {
          "base_uri": "https://localhost:8080/",
          "height": 35
        }
      },
      "source": [
        "str(picked_df.loc[0, 'lat'])"
      ],
      "execution_count": 21,
      "outputs": [
        {
          "output_type": "execute_result",
          "data": {
            "application/vnd.google.colaboratory.intrinsic+json": {
              "type": "string"
            },
            "text/plain": [
              "'41.79279188233251'"
            ]
          },
          "metadata": {
            "tags": []
          },
          "execution_count": 21
        }
      ]
    },
    {
      "cell_type": "code",
      "metadata": {
        "id": "gCexIDNckCqr"
      },
      "source": [
        "params = []\n",
        "for row in picked_df.head(50).iterrows():\n",
        "  params.append({\n",
        "            'size': '600x480', # max 640x640 pixels\n",
        "            'key': api_key,\n",
        "            'location': str(row[1]['lat']) + ',' + str(row[1]['lng'])\n",
        "  })\n",
        "#print(params)"
      ],
      "execution_count": 45,
      "outputs": []
    },
    {
      "cell_type": "code",
      "metadata": {
        "id": "dkbT3gL4eB6R",
        "outputId": "fd118769-4e37-4a70-cda6-8bab826f8039",
        "colab": {
          "base_uri": "https://localhost:8080/",
          "height": 1000
        }
      },
      "source": [
        "results = google_streetview.api.results(params)\n",
        "results.preview()"
      ],
      "execution_count": 46,
      "outputs": [
        {
          "output_type": "stream",
          "text": [
            "\n",
            "[0] GHRFbz2JAAvkDmWHU7oswA\n",
            "===========================\n",
            "date: 2011-06\n",
            "location: \n",
            "  lat: 41.79279675539825\n",
            "  lng: -87.58174746872625\n",
            "pano_id: GHRFbz2JAAvkDmWHU7oswA\n",
            "status: OK\n",
            "\n",
            "[1] ufrhNaqGu6SQVbLVgT_w_w\n",
            "===========================\n",
            "date: 2011-06\n",
            "location: \n",
            "  lat: 41.79271030348086\n",
            "  lng: -87.5811604631129\n",
            "pano_id: ufrhNaqGu6SQVbLVgT_w_w\n",
            "status: OK\n",
            "\n",
            "[2] rmTZpVzJqkcAral9_UzfPg\n",
            "===========================\n",
            "date: 2011-06\n",
            "location: \n",
            "  lat: 41.79266278163858\n",
            "  lng: -87.58069847251366\n",
            "pano_id: rmTZpVzJqkcAral9_UzfPg\n",
            "status: OK\n",
            "\n",
            "[3] -Z3wT0T0Sn19i9OVckmarQ\n",
            "===========================\n",
            "date: 2011-06\n",
            "location: \n",
            "  lat: 41.79237426144393\n",
            "  lng: -87.58072217201216\n",
            "pano_id: -Z3wT0T0Sn19i9OVckmarQ\n",
            "status: OK\n",
            "\n",
            "[4] NHK-F6UQHj8uusHBPq84EQ\n",
            "===========================\n",
            "date: 2011-06\n",
            "location: \n",
            "  lat: 41.78870921870051\n",
            "  lng: -87.5844381359725\n",
            "pano_id: NHK-F6UQHj8uusHBPq84EQ\n",
            "status: OK\n",
            "\n",
            "[5] c4jKMxU-yIhC1axhBCAYnQ\n",
            "===========================\n",
            "date: 2011-06\n",
            "location: \n",
            "  lat: 41.7885651033994\n",
            "  lng: -87.58395571161714\n",
            "pano_id: c4jKMxU-yIhC1axhBCAYnQ\n",
            "status: OK\n",
            "\n",
            "[6] jZ7dfrp89_qeDzIedhWFOA\n",
            "===========================\n",
            "date: 2011-06\n",
            "location: \n",
            "  lat: 41.78851417321962\n",
            "  lng: -87.58335061612799\n",
            "pano_id: jZ7dfrp89_qeDzIedhWFOA\n",
            "status: OK\n",
            "\n",
            "[7] YuCqh7lHrQJEl2RTPhPuhQ\n",
            "===========================\n",
            "date: 2011-06\n",
            "location: \n",
            "  lat: 41.78848874362098\n",
            "  lng: -87.58311784858176\n",
            "pano_id: YuCqh7lHrQJEl2RTPhPuhQ\n",
            "status: OK\n",
            "\n",
            "[8] Ec9A7EIXy-ayEDgnSEEqig\n",
            "===========================\n",
            "date: 2011-06\n",
            "location: \n",
            "  lat: 41.78834873503617\n",
            "  lng: -87.5836707615902\n",
            "pano_id: Ec9A7EIXy-ayEDgnSEEqig\n",
            "status: OK\n",
            "\n",
            "[9] aSbKqo7QRzrMShq73fKFJQ\n",
            "===========================\n",
            "date: 2019-05\n",
            "location: \n",
            "  lat: 41.79340953358357\n",
            "  lng: -87.58471363860409\n",
            "pano_id: aSbKqo7QRzrMShq73fKFJQ\n",
            "status: OK\n"
          ],
          "name": "stdout"
        }
      ]
    },
    {
      "cell_type": "code",
      "metadata": {
        "id": "vX8epyppeFdi",
        "outputId": "51577dc1-583a-478c-c755-d0ef5c27c8e5",
        "colab": {
          "base_uri": "https://localhost:8080/",
          "height": 1000
        }
      },
      "source": [
        "results.metadata"
      ],
      "execution_count": 47,
      "outputs": [
        {
          "output_type": "execute_result",
          "data": {
            "text/plain": [
              "[{'copyright': '© Google',\n",
              "  'date': '2011-06',\n",
              "  'location': {'lat': 41.79279675539825, 'lng': -87.58174746872625},\n",
              "  'pano_id': 'GHRFbz2JAAvkDmWHU7oswA',\n",
              "  'status': 'OK'},\n",
              " {'copyright': '© Google',\n",
              "  'date': '2011-06',\n",
              "  'location': {'lat': 41.79271030348086, 'lng': -87.5811604631129},\n",
              "  'pano_id': 'ufrhNaqGu6SQVbLVgT_w_w',\n",
              "  'status': 'OK'},\n",
              " {'copyright': '© Google',\n",
              "  'date': '2011-06',\n",
              "  'location': {'lat': 41.79266278163858, 'lng': -87.58069847251366},\n",
              "  'pano_id': 'rmTZpVzJqkcAral9_UzfPg',\n",
              "  'status': 'OK'},\n",
              " {'copyright': '© Google',\n",
              "  'date': '2011-06',\n",
              "  'location': {'lat': 41.79237426144393, 'lng': -87.58072217201216},\n",
              "  'pano_id': '-Z3wT0T0Sn19i9OVckmarQ',\n",
              "  'status': 'OK'},\n",
              " {'copyright': '© Google',\n",
              "  'date': '2011-06',\n",
              "  'location': {'lat': 41.78870921870051, 'lng': -87.5844381359725},\n",
              "  'pano_id': 'NHK-F6UQHj8uusHBPq84EQ',\n",
              "  'status': 'OK'},\n",
              " {'copyright': '© Google',\n",
              "  'date': '2011-06',\n",
              "  'location': {'lat': 41.7885651033994, 'lng': -87.58395571161714},\n",
              "  'pano_id': 'c4jKMxU-yIhC1axhBCAYnQ',\n",
              "  'status': 'OK'},\n",
              " {'copyright': '© Google',\n",
              "  'date': '2011-06',\n",
              "  'location': {'lat': 41.78851417321962, 'lng': -87.58335061612799},\n",
              "  'pano_id': 'jZ7dfrp89_qeDzIedhWFOA',\n",
              "  'status': 'OK'},\n",
              " {'copyright': '© Google',\n",
              "  'date': '2011-06',\n",
              "  'location': {'lat': 41.78848874362098, 'lng': -87.58311784858176},\n",
              "  'pano_id': 'YuCqh7lHrQJEl2RTPhPuhQ',\n",
              "  'status': 'OK'},\n",
              " {'copyright': '© Google',\n",
              "  'date': '2011-06',\n",
              "  'location': {'lat': 41.78834873503617, 'lng': -87.5836707615902},\n",
              "  'pano_id': 'Ec9A7EIXy-ayEDgnSEEqig',\n",
              "  'status': 'OK'},\n",
              " {'copyright': '© Google',\n",
              "  'date': '2019-05',\n",
              "  'location': {'lat': 41.79340953358357, 'lng': -87.58471363860409},\n",
              "  'pano_id': 'aSbKqo7QRzrMShq73fKFJQ',\n",
              "  'status': 'OK'},\n",
              " {'copyright': '© Google',\n",
              "  'date': '2019-05',\n",
              "  'location': {'lat': 41.79340423495253, 'lng': -87.58506337785444},\n",
              "  'pano_id': 'k_0oGSx498pFJ382-05Itw',\n",
              "  'status': 'OK'},\n",
              " {'copyright': '© Google',\n",
              "  'date': '2019-05',\n",
              "  'location': {'lat': 41.78964849036316, 'lng': -87.59255373033072},\n",
              "  'pano_id': 'AnKxHkrYyiCg3bL33MEXlA',\n",
              "  'status': 'OK'},\n",
              " {'copyright': '© Google',\n",
              "  'date': '2019-05',\n",
              "  'location': {'lat': 41.78965585555211, 'lng': -87.59183267916558},\n",
              "  'pano_id': 'O9kSJqf2iaZJPomBn_esRw',\n",
              "  'status': 'OK'},\n",
              " {'copyright': '© Google',\n",
              "  'date': '2019-05',\n",
              "  'location': {'lat': 41.7997431, 'lng': -87.5925882},\n",
              "  'pano_id': 'OlhPZFB9QcG0zThKaFSoKA',\n",
              "  'status': 'OK'},\n",
              " {'copyright': '© Google',\n",
              "  'date': '2019-05',\n",
              "  'location': {'lat': 41.80073662217452, 'lng': -87.59340316901499},\n",
              "  'pano_id': 'hP0k_a4F1q2kBzFXa-Omuw',\n",
              "  'status': 'OK'},\n",
              " {'copyright': '© Google',\n",
              "  'date': '2019-05',\n",
              "  'location': {'lat': 41.800255554323, 'lng': -87.59306356308016},\n",
              "  'pano_id': 'UiC02QGlRTkxif3paeS77Q',\n",
              "  'status': 'OK'},\n",
              " {'copyright': '© Google',\n",
              "  'date': '2019-04',\n",
              "  'location': {'lat': 41.78962796969807, 'lng': -87.59454529224064},\n",
              "  'pano_id': '8Rs_9MoIYnCXm5gZHdG6Mg',\n",
              "  'status': 'OK'},\n",
              " {'copyright': '© Google',\n",
              "  'date': '2019-05',\n",
              "  'location': {'lat': 41.7896318, 'lng': -87.5940146},\n",
              "  'pano_id': 'O8BavFw2v_5IfLhj65MP0A',\n",
              "  'status': 'OK'},\n",
              " {'copyright': '© Google',\n",
              "  'date': '2019-05',\n",
              "  'location': {'lat': 41.78963892366464, 'lng': -87.59343422143544},\n",
              "  'pano_id': 'pEzBI2LxJcdxVqoPQ4CrSA',\n",
              "  'status': 'OK'},\n",
              " {'copyright': '© Google',\n",
              "  'date': '2019-05',\n",
              "  'location': {'lat': 41.78963315057469, 'lng': -87.5939045661006},\n",
              "  'pano_id': '-gs04hAlZT7OxjgbOfUtNg',\n",
              "  'status': 'OK'},\n",
              " {'copyright': '© Google',\n",
              "  'date': '2019-05',\n",
              "  'location': {'lat': 41.79345619136109, 'lng': -87.58123434667367},\n",
              "  'pano_id': 't7iI8eD8K1Xm4mqFOhjrBQ',\n",
              "  'status': 'OK'},\n",
              " {'copyright': '© Google',\n",
              "  'date': '2019-05',\n",
              "  'location': {'lat': 41.79345153530917, 'lng': -87.58147486755938},\n",
              "  'pano_id': 'pa4wG5kiwh_CIO7ay7w28Q',\n",
              "  'status': 'OK'},\n",
              " {'copyright': '© Google',\n",
              "  'date': '2019-05',\n",
              "  'location': {'lat': 41.79341885186575, 'lng': -87.58409857992244},\n",
              "  'pano_id': 'Solo3rFXgdthmqDXxA4YFQ',\n",
              "  'status': 'OK'},\n",
              " {'copyright': '© Google',\n",
              "  'date': '2019-05',\n",
              "  'location': {'lat': 41.79330702026976, 'lng': -87.59194050464681},\n",
              "  'pano_id': '3KfBFzgVgVpH8kzrgURCmw',\n",
              "  'status': 'OK'},\n",
              " {'copyright': '© Google',\n",
              "  'date': '2019-05',\n",
              "  'location': {'lat': 41.79330052510423, 'lng': -87.59240639728007},\n",
              "  'pano_id': 'fIwNooKpR5MUGc60MwvIZA',\n",
              "  'status': 'OK'},\n",
              " {'copyright': '© Google',\n",
              "  'date': '2019-05',\n",
              "  'location': {'lat': 41.7932929551262, 'lng': -87.59295123091319},\n",
              "  'pano_id': 'cIbTpZ092T_-NiSn-DgKBQ',\n",
              "  'status': 'OK'},\n",
              " {'copyright': '© Google',\n",
              "  'date': '2019-05',\n",
              "  'location': {'lat': 41.7932998, 'lng': -87.5924584},\n",
              "  'pano_id': 'sf06Wz3-1Ft_t_8Bcjsbpg',\n",
              "  'status': 'OK'},\n",
              " {'copyright': '© Google',\n",
              "  'date': '2019-05',\n",
              "  'location': {'lat': 41.78613265379816, 'lng': -87.58758763431399},\n",
              "  'pano_id': 'XFV9YHNlsax7LZDiwZJhWw',\n",
              "  'status': 'OK'},\n",
              " {'copyright': '© Google',\n",
              "  'date': '2019-05',\n",
              "  'location': {'lat': 41.78608841251236, 'lng': -87.59005350587462},\n",
              "  'pano_id': 'CP9Wlag4PcD-BBoNzBQMTw',\n",
              "  'status': 'OK'},\n",
              " {'copyright': '© Google',\n",
              "  'date': '2019-05',\n",
              "  'location': {'lat': 41.78609643336628, 'lng': -87.58957118233232},\n",
              "  'pano_id': 'M7XSMszPOG6eKRXz_8q6wQ',\n",
              "  'status': 'OK'},\n",
              " {'copyright': '© Google',\n",
              "  'date': '2019-05',\n",
              "  'location': {'lat': 41.78610510507318, 'lng': -87.58897720753654},\n",
              "  'pano_id': 'w_rUvQzI8ggtH1B_2AB-CQ',\n",
              "  'status': 'OK'},\n",
              " {'copyright': '© Google',\n",
              "  'date': '2019-05',\n",
              "  'location': {'lat': 41.78611085547318, 'lng': -87.58848276298644},\n",
              "  'pano_id': 'xYKv7afjuw2r0NnaIKG1tw',\n",
              "  'status': 'OK'},\n",
              " {'copyright': '© Google',\n",
              "  'date': '2019-05',\n",
              "  'location': {'lat': 41.78612068529942, 'lng': -87.58794911091809},\n",
              "  'pano_id': '73CDSJstDhtEm-Vff7VEkg',\n",
              "  'status': 'OK'},\n",
              " {'copyright': '© Google',\n",
              "  'date': '2019-05',\n",
              "  'location': {'lat': 41.78960963044254, 'lng': -87.59620411500839},\n",
              "  'pano_id': 'iVcSt_vXRY-lTCn7s9-acw',\n",
              "  'status': 'OK'},\n",
              " {'copyright': '© Google',\n",
              "  'date': '2019-05',\n",
              "  'location': {'lat': 41.7896166, 'lng': -87.5956011},\n",
              "  'pano_id': 'tNvu2aYY8xs6QotP8eK3zA',\n",
              "  'status': 'OK'},\n",
              " {'copyright': '© Google',\n",
              "  'date': '2019-04',\n",
              "  'location': {'lat': 41.78962296422123, 'lng': -87.59505206616215},\n",
              "  'pano_id': 'nNaFIC2av521WUm9viIF-A',\n",
              "  'status': 'OK'},\n",
              " {'copyright': '© Google',\n",
              "  'date': '2019-05',\n",
              "  'location': {'lat': 41.7896166, 'lng': -87.5956011},\n",
              "  'pano_id': 'tNvu2aYY8xs6QotP8eK3zA',\n",
              "  'status': 'OK'},\n",
              " {'copyright': '© Google',\n",
              "  'date': '2019-05',\n",
              "  'location': {'lat': 41.8008665698562, 'lng': -87.59875287763123},\n",
              "  'pano_id': 'UIc66XZAmobYwztxU-6Axg',\n",
              "  'status': 'OK'},\n",
              " {'copyright': '© Google',\n",
              "  'date': '2019-04',\n",
              "  'location': {'lat': 41.79124355731525, 'lng': -87.59321623673091},\n",
              "  'pano_id': '5izosz8TuVEBrAgL1znkKg',\n",
              "  'status': 'OK'},\n",
              " {'copyright': '© Google',\n",
              "  'date': '2019-04',\n",
              "  'location': {'lat': 41.79012752379144, 'lng': -87.59318831639767},\n",
              "  'pano_id': 'CHpoyt-HSWlAoJkU_aWhAg',\n",
              "  'status': 'OK'},\n",
              " {'copyright': '© Google',\n",
              "  'date': '2019-04',\n",
              "  'location': {'lat': 41.79068500545963, 'lng': -87.59320225454559},\n",
              "  'pano_id': 'HRzP8_d-bklMkIoh9mLoAg',\n",
              "  'status': 'OK'},\n",
              " {'copyright': '© Google',\n",
              "  'date': '2019-04',\n",
              "  'location': {'lat': 41.79327429976016, 'lng': -87.59508655329817},\n",
              "  'pano_id': 'ridaEDu1w4prKWeqU6aQqw',\n",
              "  'status': 'OK'},\n",
              " {'copyright': '© Google',\n",
              "  'date': '2019-04',\n",
              "  'location': {'lat': 41.7932672, 'lng': -87.5956896},\n",
              "  'pano_id': 'H9-xeOHkrZQ6KxQamb01Tw',\n",
              "  'status': 'OK'},\n",
              " {'copyright': '© Google',\n",
              "  'date': '2019-04',\n",
              "  'location': {'lat': 41.79326032397822, 'lng': -87.59627199076056},\n",
              "  'pano_id': 'zEzCmaK7GlU7lWCv_HEBNA',\n",
              "  'status': 'OK'},\n",
              " {'copyright': '© Google',\n",
              "  'date': '2019-04',\n",
              "  'location': {'lat': 41.7932672, 'lng': -87.5956896},\n",
              "  'pano_id': 'H9-xeOHkrZQ6KxQamb01Tw',\n",
              "  'status': 'OK'},\n",
              " {'copyright': '© Google',\n",
              "  'date': '2019-05',\n",
              "  'location': {'lat': 41.80087151666697, 'lng': -87.59852911678358},\n",
              "  'pano_id': 'cS8_mAK3jl9Df3CvQiOGhA',\n",
              "  'status': 'OK'},\n",
              " {'copyright': '© Google',\n",
              "  'date': '2019-05',\n",
              "  'location': {'lat': 41.79801761768342, 'lng': -87.59289481394681},\n",
              "  'pano_id': 'SqTJ3x_pp-P-EVXfBrCYKg',\n",
              "  'status': 'OK'},\n",
              " {'copyright': '© Google',\n",
              "  'date': '2019-05',\n",
              "  'location': {'lat': 41.79801116994624, 'lng': -87.59337583171055},\n",
              "  'pano_id': 'tDzccJv9Dyrk43wnuT44Ig',\n",
              "  'status': 'OK'},\n",
              " {'copyright': '© Google',\n",
              "  'date': '2019-05',\n",
              "  'location': {'lat': 41.79729769978974, 'lng': -87.59342060886655},\n",
              "  'pano_id': 'VdSnRQjRT8a_T4R_OOahUA',\n",
              "  'status': 'OK'},\n",
              " {'copyright': '© Google',\n",
              "  'date': '2019-05',\n",
              "  'location': {'lat': 41.79782815669397, 'lng': -87.59344113411714},\n",
              "  'pano_id': 't9Guir1zKiO8A-pBqhi2Vw',\n",
              "  'status': 'OK'}]"
            ]
          },
          "metadata": {
            "tags": []
          },
          "execution_count": 47
        }
      ]
    },
    {
      "cell_type": "code",
      "metadata": {
        "id": "EH0HFyB-eLu5"
      },
      "source": [
        ""
      ],
      "execution_count": null,
      "outputs": []
    }
  ]
}