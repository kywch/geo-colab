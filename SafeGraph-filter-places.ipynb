{
  "nbformat": 4,
  "nbformat_minor": 0,
  "metadata": {
    "kernelspec": {
      "display_name": "Python 3",
      "language": "python",
      "name": "python3"
    },
    "language_info": {
      "codemirror_mode": {
        "name": "ipython",
        "version": 3
      },
      "file_extension": ".py",
      "mimetype": "text/x-python",
      "name": "python",
      "nbconvert_exporter": "python",
      "pygments_lexer": "ipython3",
      "version": "3.6.8"
    },
    "colab": {
      "name": "SafeGraph-social-distancing-process_one_day.ipynb",
      "provenance": [],
      "toc_visible": true,
      "include_colab_link": true
    }
  },
  "cells": [
    {
      "cell_type": "markdown",
      "metadata": {
        "id": "view-in-github",
        "colab_type": "text"
      },
      "source": [
        "<a href=\"https://colab.research.google.com/github/kywch/geo-colab/blob/master/SafeGraph-filter-places.ipynb\" target=\"_parent\"><img src=\"https://colab.research.google.com/assets/colab-badge.svg\" alt=\"Open In Colab\"/></a>"
      ]
    },
    {
      "cell_type": "code",
      "metadata": {
        "id": "ClCzSJKmS9Rl",
        "colab_type": "code",
        "colab": {}
      },
      "source": [
        "colab_requirements = [\n",
        "    \"apt install python3-rtree=0.8.3+ds-1\", # rtree v0.8.3\n",
        "    \"pip install geopandas==0.7.0\" # geopandas v0.7.0 \n",
        "]"
      ],
      "execution_count": 8,
      "outputs": []
    },
    {
      "cell_type": "code",
      "metadata": {
        "id": "2fi-as9fS9Jo",
        "colab_type": "code",
        "colab": {
          "base_uri": "https://localhost:8080/",
          "height": 394
        },
        "outputId": "3c564f52-7bbc-4e9a-c7bb-a7b5b6395044"
      },
      "source": [
        "# following the post, 'Making Jupyter notebooks Google Colab ready'\n",
        "# https://timsainburg.com/google%20colab.html\n",
        "\n",
        "import os, sys, subprocess\n",
        "\n",
        "def run_subprocess_command(cmd):\n",
        "    # run the command\n",
        "    process = subprocess.Popen(cmd.split(), stdout=subprocess.PIPE)\n",
        "    # print the output\n",
        "    for line in process.stdout:\n",
        "        print(line.decode().strip())\n",
        "        \n",
        "if 'COLAB_GPU' in os.environ: # a quick and dirty way to check whether this is COLAB\n",
        "    for i in colab_requirements:\n",
        "        run_subprocess_command(i)"
      ],
      "execution_count": 9,
      "outputs": [
        {
          "output_type": "stream",
          "text": [
            "Reading package lists...\n",
            "Building dependency tree...\n",
            "Reading state information...\n",
            "python3-rtree is already the newest version (0.8.3+ds-1).\n",
            "The following package was automatically installed and is no longer required:\n",
            "libnvidia-common-440\n",
            "Use 'apt autoremove' to remove it.\n",
            "0 upgraded, 0 newly installed, 0 to remove and 35 not upgraded.\n",
            "Requirement already satisfied: geopandas==0.7.0 in /usr/local/lib/python3.6/dist-packages (0.7.0)\n",
            "Requirement already satisfied: pyproj>=2.2.0 in /usr/local/lib/python3.6/dist-packages (from geopandas==0.7.0) (2.6.1.post1)\n",
            "Requirement already satisfied: shapely in /usr/local/lib/python3.6/dist-packages (from geopandas==0.7.0) (1.7.0)\n",
            "Requirement already satisfied: pandas>=0.23.0 in /usr/local/lib/python3.6/dist-packages (from geopandas==0.7.0) (1.0.5)\n",
            "Requirement already satisfied: fiona in /usr/local/lib/python3.6/dist-packages (from geopandas==0.7.0) (1.8.13.post1)\n",
            "Requirement already satisfied: python-dateutil>=2.6.1 in /usr/local/lib/python3.6/dist-packages (from pandas>=0.23.0->geopandas==0.7.0) (2.8.1)\n",
            "Requirement already satisfied: pytz>=2017.2 in /usr/local/lib/python3.6/dist-packages (from pandas>=0.23.0->geopandas==0.7.0) (2018.9)\n",
            "Requirement already satisfied: numpy>=1.13.3 in /usr/local/lib/python3.6/dist-packages (from pandas>=0.23.0->geopandas==0.7.0) (1.18.5)\n",
            "Requirement already satisfied: cligj>=0.5 in /usr/local/lib/python3.6/dist-packages (from fiona->geopandas==0.7.0) (0.5.0)\n",
            "Requirement already satisfied: six>=1.7 in /usr/local/lib/python3.6/dist-packages (from fiona->geopandas==0.7.0) (1.15.0)\n",
            "Requirement already satisfied: attrs>=17 in /usr/local/lib/python3.6/dist-packages (from fiona->geopandas==0.7.0) (19.3.0)\n",
            "Requirement already satisfied: click<8,>=4.0 in /usr/local/lib/python3.6/dist-packages (from fiona->geopandas==0.7.0) (7.1.2)\n",
            "Requirement already satisfied: munch in /usr/local/lib/python3.6/dist-packages (from fiona->geopandas==0.7.0) (2.5.0)\n",
            "Requirement already satisfied: click-plugins>=1.0 in /usr/local/lib/python3.6/dist-packages (from fiona->geopandas==0.7.0) (1.1.1)\n"
          ],
          "name": "stdout"
        }
      ]
    },
    {
      "cell_type": "code",
      "metadata": {
        "id": "KuRSKxAC-lNE",
        "colab_type": "code",
        "colab": {}
      },
      "source": [
        "import pandas as pd\n",
        "\n",
        "import geopandas as gpd\n",
        "from fiona.crs import from_epsg\n",
        "from shapely.geometry import Point\n",
        "\n",
        "from glob import glob\n",
        "import time\n",
        "\n",
        "import os\n",
        "from shutil import copyfile"
      ],
      "execution_count": 20,
      "outputs": []
    },
    {
      "cell_type": "markdown",
      "metadata": {
        "id": "XwcjIi7T-xxK",
        "colab_type": "text"
      },
      "source": [
        "## Load the Places dataset from Google Drive"
      ]
    },
    {
      "cell_type": "code",
      "metadata": {
        "id": "CeQM_zpb_KSB",
        "colab_type": "code",
        "colab": {
          "base_uri": "https://localhost:8080/",
          "height": 123
        },
        "outputId": "29e36102-d546-4ef4-b504-59fc0c053783"
      },
      "source": [
        "from google.colab import drive\n",
        "drive.mount('/content/drive')"
      ],
      "execution_count": 11,
      "outputs": [
        {
          "output_type": "stream",
          "text": [
            "Go to this URL in a browser: https://accounts.google.com/o/oauth2/auth?client_id=947318989803-6bn6qk8qdgf4n4g3pfee6491hc0brc4i.apps.googleusercontent.com&redirect_uri=urn%3aietf%3awg%3aoauth%3a2.0%3aoob&response_type=code&scope=email%20https%3a%2f%2fwww.googleapis.com%2fauth%2fdocs.test%20https%3a%2f%2fwww.googleapis.com%2fauth%2fdrive%20https%3a%2f%2fwww.googleapis.com%2fauth%2fdrive.photos.readonly%20https%3a%2f%2fwww.googleapis.com%2fauth%2fpeopleapi.readonly\n",
            "\n",
            "Enter your authorization code:\n",
            "··········\n",
            "Mounted at /content/drive\n"
          ],
          "name": "stdout"
        }
      ]
    },
    {
      "cell_type": "code",
      "metadata": {
        "id": "WeE8xloE_Xdz",
        "colab_type": "code",
        "colab": {
          "base_uri": "https://localhost:8080/",
          "height": 103
        },
        "outputId": "96034d63-ae66-455b-8267-88852c16ee9b"
      },
      "source": [
        "!ls drive/My\\ Drive/SafeGraph/places"
      ],
      "execution_count": 12,
      "outputs": [
        {
          "output_type": "stream",
          "text": [
            "brand_info.csv\t\t\t\t\t\t  core_poi-part4.csv.gz\n",
            "CorePlacesMay2020Release-CORE_POI-2020_04-2020-05-06.zip  core_poi-part5.csv.gz\n",
            "core_poi-part1.csv.gz\t\t\t\t\t  README.txt\n",
            "core_poi-part2.csv.gz\t\t\t\t\t  SquareFeet.csv.gz\n",
            "core_poi-part3.csv.gz\n"
          ],
          "name": "stdout"
        }
      ]
    },
    {
      "cell_type": "code",
      "metadata": {
        "id": "vRYOsFTK_oJi",
        "colab_type": "code",
        "colab": {
          "base_uri": "https://localhost:8080/",
          "height": 54
        },
        "outputId": "7b2c5c63-57a3-40d1-b92c-0ea04b0aa1cd"
      },
      "source": [
        "# grab the SafeGraph core places\n",
        "files = glob(\"drive/My Drive/SafeGraph/places/core*.csv.gz\")\n",
        "print(files)"
      ],
      "execution_count": 13,
      "outputs": [
        {
          "output_type": "stream",
          "text": [
            "['drive/My Drive/SafeGraph/places/core_poi-part4.csv.gz', 'drive/My Drive/SafeGraph/places/core_poi-part5.csv.gz', 'drive/My Drive/SafeGraph/places/core_poi-part1.csv.gz', 'drive/My Drive/SafeGraph/places/core_poi-part3.csv.gz', 'drive/My Drive/SafeGraph/places/core_poi-part2.csv.gz']\n"
          ],
          "name": "stdout"
        }
      ]
    },
    {
      "cell_type": "code",
      "metadata": {
        "id": "X-HBIvKdBT5H",
        "colab_type": "code",
        "colab": {}
      },
      "source": [
        "# copy these files from Google Drive to colab disk\n",
        "os.mkdir('sg_data')\n",
        "for f in files:\n",
        "  copyfile(f, 'sg_data/' + os.path.basename(f))"
      ],
      "execution_count": 21,
      "outputs": []
    },
    {
      "cell_type": "code",
      "metadata": {
        "id": "KpI1kIskCa-H",
        "colab_type": "code",
        "colab": {
          "base_uri": "https://localhost:8080/",
          "height": 34
        },
        "outputId": "82ef1950-9d99-412a-953d-f1cb0598454f"
      },
      "source": [
        "#!ls sg_data\n",
        "files = glob(\"sg_data/core*.csv.gz\")\n",
        "print(files)"
      ],
      "execution_count": 24,
      "outputs": [
        {
          "output_type": "stream",
          "text": [
            "['sg_data/core_poi-part3.csv.gz', 'sg_data/core_poi-part2.csv.gz', 'sg_data/core_poi-part1.csv.gz', 'sg_data/core_poi-part5.csv.gz', 'sg_data/core_poi-part4.csv.gz']\n"
          ],
          "name": "stdout"
        }
      ]
    },
    {
      "cell_type": "code",
      "metadata": {
        "id": "uEu_2xy5AIU4",
        "colab_type": "code",
        "colab": {
          "base_uri": "https://localhost:8080/",
          "height": 86
        },
        "outputId": "fcdf4329-af4a-4020-d4a7-29333dfc4d4c"
      },
      "source": [
        "place_df = pd.read_csv(files[0])\n",
        "for f in files[1:]:\n",
        "    t = time.time()\n",
        "    tmp_pd2 = pd.read_csv(f)\n",
        "    place_df = place_df.append(tmp_pd2, ignore_index = True)\n",
        "    print(f + ', new_len: ', str(len(place_df)) + ', proc time: ', str(time.time() - t))"
      ],
      "execution_count": 29,
      "outputs": [
        {
          "output_type": "stream",
          "text": [
            "sg_data/core_poi-part2.csv.gz, new_len:  2141464, proc time:  9.577615737915039\n",
            "sg_data/core_poi-part1.csv.gz, new_len:  3210953, proc time:  10.44595193862915\n",
            "sg_data/core_poi-part5.csv.gz, new_len:  4220022, proc time:  10.723469972610474\n",
            "sg_data/core_poi-part4.csv.gz, new_len:  5284986, proc time:  12.158286809921265\n"
          ],
          "name": "stdout"
        }
      ]
    },
    {
      "cell_type": "code",
      "metadata": {
        "id": "iJcSTak_D7cn",
        "colab_type": "code",
        "colab": {
          "base_uri": "https://localhost:8080/",
          "height": 446
        },
        "outputId": "bd793e4d-ac59-4046-8181-316a9e7b66d4"
      },
      "source": [
        "place_df.info()"
      ],
      "execution_count": 30,
      "outputs": [
        {
          "output_type": "stream",
          "text": [
            "<class 'pandas.core.frame.DataFrame'>\n",
            "RangeIndex: 5284986 entries, 0 to 5284985\n",
            "Data columns (total 18 columns):\n",
            " #   Column                     Dtype  \n",
            "---  ------                     -----  \n",
            " 0   safegraph_place_id         object \n",
            " 1   parent_safegraph_place_id  object \n",
            " 2   location_name              object \n",
            " 3   safegraph_brand_ids        object \n",
            " 4   brands                     object \n",
            " 5   top_category               object \n",
            " 6   sub_category               object \n",
            " 7   naics_code                 float64\n",
            " 8   latitude                   float64\n",
            " 9   longitude                  float64\n",
            " 10  street_address             object \n",
            " 11  city                       object \n",
            " 12  region                     object \n",
            " 13  postal_code                int64  \n",
            " 14  iso_country_code           object \n",
            " 15  phone_number               float64\n",
            " 16  open_hours                 object \n",
            " 17  category_tags              object \n",
            "dtypes: float64(4), int64(1), object(13)\n",
            "memory usage: 725.8+ MB\n"
          ],
          "name": "stdout"
        }
      ]
    },
    {
      "cell_type": "code",
      "metadata": {
        "id": "GGhEbbjTD7im",
        "colab_type": "code",
        "colab": {
          "base_uri": "https://localhost:8080/",
          "height": 531
        },
        "outputId": "55cf76fc-383b-4984-e70b-88d1617fe828"
      },
      "source": [
        "place_df.head()"
      ],
      "execution_count": 31,
      "outputs": [
        {
          "output_type": "execute_result",
          "data": {
            "text/html": [
              "<div>\n",
              "<style scoped>\n",
              "    .dataframe tbody tr th:only-of-type {\n",
              "        vertical-align: middle;\n",
              "    }\n",
              "\n",
              "    .dataframe tbody tr th {\n",
              "        vertical-align: top;\n",
              "    }\n",
              "\n",
              "    .dataframe thead th {\n",
              "        text-align: right;\n",
              "    }\n",
              "</style>\n",
              "<table border=\"1\" class=\"dataframe\">\n",
              "  <thead>\n",
              "    <tr style=\"text-align: right;\">\n",
              "      <th></th>\n",
              "      <th>safegraph_place_id</th>\n",
              "      <th>parent_safegraph_place_id</th>\n",
              "      <th>location_name</th>\n",
              "      <th>safegraph_brand_ids</th>\n",
              "      <th>brands</th>\n",
              "      <th>top_category</th>\n",
              "      <th>sub_category</th>\n",
              "      <th>naics_code</th>\n",
              "      <th>latitude</th>\n",
              "      <th>longitude</th>\n",
              "      <th>street_address</th>\n",
              "      <th>city</th>\n",
              "      <th>region</th>\n",
              "      <th>postal_code</th>\n",
              "      <th>iso_country_code</th>\n",
              "      <th>phone_number</th>\n",
              "      <th>open_hours</th>\n",
              "      <th>category_tags</th>\n",
              "    </tr>\n",
              "  </thead>\n",
              "  <tbody>\n",
              "    <tr>\n",
              "      <th>0</th>\n",
              "      <td>sg:0001f7d539e7458f882539e57cd9ecae</td>\n",
              "      <td>NaN</td>\n",
              "      <td>Silver Creek Church of Nazarene</td>\n",
              "      <td>NaN</td>\n",
              "      <td>NaN</td>\n",
              "      <td>Religious Organizations</td>\n",
              "      <td>Religious Organizations</td>\n",
              "      <td>813110.0</td>\n",
              "      <td>36.283962</td>\n",
              "      <td>-95.812324</td>\n",
              "      <td>9000 N 145th East Ave</td>\n",
              "      <td>Owasso</td>\n",
              "      <td>OK</td>\n",
              "      <td>74055</td>\n",
              "      <td>US</td>\n",
              "      <td>1.918272e+10</td>\n",
              "      <td>NaN</td>\n",
              "      <td>NaN</td>\n",
              "    </tr>\n",
              "    <tr>\n",
              "      <th>1</th>\n",
              "      <td>sg:0011b49da3e3407fadb93e96953a1c0b</td>\n",
              "      <td>sg:27197b07189c4282abacd319a764d26f</td>\n",
              "      <td>Jeffrey Rippon Ameriprise Financial Services</td>\n",
              "      <td>NaN</td>\n",
              "      <td>NaN</td>\n",
              "      <td>Other Financial Investment Activities</td>\n",
              "      <td>Investment Advice</td>\n",
              "      <td>523930.0</td>\n",
              "      <td>40.768929</td>\n",
              "      <td>-111.888847</td>\n",
              "      <td>60 E South Temple Ste 950</td>\n",
              "      <td>Salt Lake City</td>\n",
              "      <td>UT</td>\n",
              "      <td>84111</td>\n",
              "      <td>US</td>\n",
              "      <td>1.801602e+10</td>\n",
              "      <td>{ \"Mon\": [[\"8:00\", \"17:00\"]], \"Tue\": [[\"8:00\",...</td>\n",
              "      <td>NaN</td>\n",
              "    </tr>\n",
              "    <tr>\n",
              "      <th>2</th>\n",
              "      <td>sg:002aa7b42ab745f28ba25c3bb524f195</td>\n",
              "      <td>NaN</td>\n",
              "      <td>Tampa's Best Dog Treats and Chews</td>\n",
              "      <td>NaN</td>\n",
              "      <td>NaN</td>\n",
              "      <td>Other Miscellaneous Store Retailers</td>\n",
              "      <td>Pet and Pet Supplies Stores</td>\n",
              "      <td>453910.0</td>\n",
              "      <td>28.061555</td>\n",
              "      <td>-82.502928</td>\n",
              "      <td>12651 N Dale Mabry Hwy Unit 273651</td>\n",
              "      <td>Tampa</td>\n",
              "      <td>FL</td>\n",
              "      <td>33688</td>\n",
              "      <td>US</td>\n",
              "      <td>NaN</td>\n",
              "      <td>{ \"Mon\": [[\"8:00\", \"18:00\"]], \"Tue\": [[\"8:00\",...</td>\n",
              "      <td>NaN</td>\n",
              "    </tr>\n",
              "    <tr>\n",
              "      <th>3</th>\n",
              "      <td>sg:0039682ceac447d594d95d75727da59d</td>\n",
              "      <td>NaN</td>\n",
              "      <td>Dauer Museum Of Classic Cars</td>\n",
              "      <td>NaN</td>\n",
              "      <td>NaN</td>\n",
              "      <td>Museums, Historical Sites, and Similar Institu...</td>\n",
              "      <td>Museums</td>\n",
              "      <td>712110.0</td>\n",
              "      <td>26.163697</td>\n",
              "      <td>-80.216703</td>\n",
              "      <td>4850 W Oakland Park Blvd</td>\n",
              "      <td>Lauderdale Lakes</td>\n",
              "      <td>FL</td>\n",
              "      <td>33313</td>\n",
              "      <td>US</td>\n",
              "      <td>1.954739e+10</td>\n",
              "      <td>NaN</td>\n",
              "      <td>NaN</td>\n",
              "    </tr>\n",
              "    <tr>\n",
              "      <th>4</th>\n",
              "      <td>sg:005a813d80d24f7bbc888f76d31a031d</td>\n",
              "      <td>NaN</td>\n",
              "      <td>Hamilton's Produce</td>\n",
              "      <td>NaN</td>\n",
              "      <td>NaN</td>\n",
              "      <td>Grocery Stores</td>\n",
              "      <td>Supermarkets and Other Grocery (except Conveni...</td>\n",
              "      <td>445110.0</td>\n",
              "      <td>30.823265</td>\n",
              "      <td>-88.362247</td>\n",
              "      <td>13451 Moffett Rd</td>\n",
              "      <td>Wilmer</td>\n",
              "      <td>AL</td>\n",
              "      <td>36587</td>\n",
              "      <td>US</td>\n",
              "      <td>1.251645e+10</td>\n",
              "      <td>NaN</td>\n",
              "      <td>NaN</td>\n",
              "    </tr>\n",
              "  </tbody>\n",
              "</table>\n",
              "</div>"
            ],
            "text/plain": [
              "                    safegraph_place_id  ... category_tags\n",
              "0  sg:0001f7d539e7458f882539e57cd9ecae  ...           NaN\n",
              "1  sg:0011b49da3e3407fadb93e96953a1c0b  ...           NaN\n",
              "2  sg:002aa7b42ab745f28ba25c3bb524f195  ...           NaN\n",
              "3  sg:0039682ceac447d594d95d75727da59d  ...           NaN\n",
              "4  sg:005a813d80d24f7bbc888f76d31a031d  ...           NaN\n",
              "\n",
              "[5 rows x 18 columns]"
            ]
          },
          "metadata": {
            "tags": []
          },
          "execution_count": 31
        }
      ]
    },
    {
      "cell_type": "code",
      "metadata": {
        "id": "9g6IZQLOD7mc",
        "colab_type": "code",
        "colab": {}
      },
      "source": [
        "# translate latitude and longitude to geopandas\n",
        "place_gdf = gpd.GeoDataFrame(\n",
        "    place_df, geometry = gpd.points_from_xy(place_df.longitude, place_df.latitude),\n",
        "    crs = \"epsg:4326\" # https://geopandas.readthedocs.io/en/v0.6.0/projections.html#coordinate-reference-systems\n",
        ").to_crs(epsg=3528) # https://spatialreference.org/ref/epsg/3528/"
      ],
      "execution_count": 68,
      "outputs": []
    },
    {
      "cell_type": "code",
      "metadata": {
        "id": "_-hPA_mED7pf",
        "colab_type": "code",
        "colab": {
          "base_uri": "https://localhost:8080/",
          "height": 463
        },
        "outputId": "eb49390e-b322-42f3-8767-4337ea29ef2e"
      },
      "source": [
        "place_gdf.info()"
      ],
      "execution_count": 69,
      "outputs": [
        {
          "output_type": "stream",
          "text": [
            "<class 'geopandas.geodataframe.GeoDataFrame'>\n",
            "RangeIndex: 5284986 entries, 0 to 5284985\n",
            "Data columns (total 19 columns):\n",
            " #   Column                     Dtype   \n",
            "---  ------                     -----   \n",
            " 0   safegraph_place_id         object  \n",
            " 1   parent_safegraph_place_id  object  \n",
            " 2   location_name              object  \n",
            " 3   safegraph_brand_ids        object  \n",
            " 4   brands                     object  \n",
            " 5   top_category               object  \n",
            " 6   sub_category               object  \n",
            " 7   naics_code                 float64 \n",
            " 8   latitude                   float64 \n",
            " 9   longitude                  float64 \n",
            " 10  street_address             object  \n",
            " 11  city                       object  \n",
            " 12  region                     object  \n",
            " 13  postal_code                int64   \n",
            " 14  iso_country_code           object  \n",
            " 15  phone_number               float64 \n",
            " 16  open_hours                 object  \n",
            " 17  category_tags              object  \n",
            " 18  geometry                   geometry\n",
            "dtypes: float64(4), geometry(1), int64(1), object(13)\n",
            "memory usage: 766.1+ MB\n"
          ],
          "name": "stdout"
        }
      ]
    },
    {
      "cell_type": "code",
      "metadata": {
        "id": "uLz-gq97H1XZ",
        "colab_type": "code",
        "colab": {
          "base_uri": "https://localhost:8080/",
          "height": 463
        },
        "outputId": "8768b2a6-f351-43b0-dfa2-362da918f978"
      },
      "source": [
        "# limit to Illinois (5.3M --> 200K places)\n",
        "place_gdf_IL = place_gdf[place_gdf.region == 'IL']\n",
        "place_gdf_IL.info()"
      ],
      "execution_count": 70,
      "outputs": [
        {
          "output_type": "stream",
          "text": [
            "<class 'geopandas.geodataframe.GeoDataFrame'>\n",
            "Int64Index: 200614 entries, 7 to 5284977\n",
            "Data columns (total 19 columns):\n",
            " #   Column                     Non-Null Count   Dtype   \n",
            "---  ------                     --------------   -----   \n",
            " 0   safegraph_place_id         200614 non-null  object  \n",
            " 1   parent_safegraph_place_id  24590 non-null   object  \n",
            " 2   location_name              200614 non-null  object  \n",
            " 3   safegraph_brand_ids        47267 non-null   object  \n",
            " 4   brands                     47267 non-null   object  \n",
            " 5   top_category               198532 non-null  object  \n",
            " 6   sub_category               198532 non-null  object  \n",
            " 7   naics_code                 198532 non-null  float64 \n",
            " 8   latitude                   200614 non-null  float64 \n",
            " 9   longitude                  200614 non-null  float64 \n",
            " 10  street_address             200614 non-null  object  \n",
            " 11  city                       200614 non-null  object  \n",
            " 12  region                     200614 non-null  object  \n",
            " 13  postal_code                200614 non-null  int64   \n",
            " 14  iso_country_code           200614 non-null  object  \n",
            " 15  phone_number               154280 non-null  float64 \n",
            " 16  open_hours                 95217 non-null   object  \n",
            " 17  category_tags              28196 non-null   object  \n",
            " 18  geometry                   200614 non-null  geometry\n",
            "dtypes: float64(4), geometry(1), int64(1), object(13)\n",
            "memory usage: 30.6+ MB\n"
          ],
          "name": "stdout"
        }
      ]
    },
    {
      "cell_type": "code",
      "metadata": {
        "id": "PIVZvSasLgvY",
        "colab_type": "code",
        "colab": {
          "base_uri": "https://localhost:8080/",
          "height": 257
        },
        "outputId": "377117ff-e9d1-4252-e69b-8dd23e4e32c1"
      },
      "source": [
        "place_gdf_IL.crs"
      ],
      "execution_count": 71,
      "outputs": [
        {
          "output_type": "execute_result",
          "data": {
            "text/plain": [
              "<Projected CRS: EPSG:3528>\n",
              "Name: NAD83(NSRS2007) / Illinois East\n",
              "Axis Info [cartesian]:\n",
              "- X[east]: Easting (metre)\n",
              "- Y[north]: Northing (metre)\n",
              "Area of Use:\n",
              "- name: USA - Illinois - SPCS - E\n",
              "- bounds: (-89.28, 37.06, -87.02, 42.5)\n",
              "Coordinate Operation:\n",
              "- name: SPCS83 Illinois East zone (meters)\n",
              "- method: Transverse Mercator\n",
              "Datum: NAD83 (National Spatial Reference System 2007)\n",
              "- Ellipsoid: GRS 1980\n",
              "- Prime Meridian: Greenwich"
            ]
          },
          "metadata": {
            "tags": []
          },
          "execution_count": 71
        }
      ]
    },
    {
      "cell_type": "markdown",
      "metadata": {
        "id": "oaWOQG1IS4uX",
        "colab_type": "text"
      },
      "source": [
        "## Get the census block groups of NE Illinois\n",
        "\n",
        "FIPS code for the counties\n",
        "* Cook: 031\n",
        "* Dupage: 043\n",
        "* Grundy: 063\n",
        "* Kane: 089\n",
        "* Kankakee: 091\n",
        "* Kendall: 093\n",
        "* Lake: 097\n",
        "* McHenry: 111\n",
        "* Will: 197"
      ]
    },
    {
      "cell_type": "code",
      "metadata": {
        "id": "wUAOULSSJjDK",
        "colab_type": "code",
        "colab": {}
      },
      "source": [
        "illinois_cbg = gpd.read_file('https://raw.githubusercontent.com/loganpowell/census-geojson/master/GeoJSON/500k/2019/17/block-group.json', \n",
        "                   crs = from_epsg(2163)).to_crs(epsg = 3528)"
      ],
      "execution_count": 72,
      "outputs": []
    },
    {
      "cell_type": "code",
      "metadata": {
        "id": "l0UHsVVrS4uY",
        "colab_type": "code",
        "colab": {
          "base_uri": "https://localhost:8080/",
          "height": 171
        },
        "outputId": "42e926fc-9c78-4aaa-ba10-70ab6f8b9fc2"
      },
      "source": [
        "# limit to 9 counties mentioned above\n",
        "target_cbg = illinois_cbg[illinois_cbg.COUNTYFP.isin(['031', '043', '063', '089', '091', '093', '097', '111', '197'])]\n",
        "target_cbg = target_cbg[['GEOID', 'geometry']]\n",
        "target_cbg.info()"
      ],
      "execution_count": 73,
      "outputs": [
        {
          "output_type": "stream",
          "text": [
            "<class 'geopandas.geodataframe.GeoDataFrame'>\n",
            "Int64Index: 5998 entries, 0 to 9688\n",
            "Data columns (total 2 columns):\n",
            " #   Column    Non-Null Count  Dtype   \n",
            "---  ------    --------------  -----   \n",
            " 0   GEOID     5998 non-null   object  \n",
            " 1   geometry  5998 non-null   geometry\n",
            "dtypes: geometry(1), object(1)\n",
            "memory usage: 140.6+ KB\n"
          ],
          "name": "stdout"
        }
      ]
    },
    {
      "cell_type": "code",
      "metadata": {
        "id": "Z1nbScYZMAq1",
        "colab_type": "code",
        "colab": {
          "base_uri": "https://localhost:8080/",
          "height": 51
        },
        "outputId": "065cc684-35dc-48d3-cc58-116952b30888"
      },
      "source": [
        "print(target_cbg.crs)\n",
        "#target_cbg.head()\n",
        "print(place_gdf_IL.crs)"
      ],
      "execution_count": 74,
      "outputs": [
        {
          "output_type": "stream",
          "text": [
            "epsg:3528\n",
            "epsg:3528\n"
          ],
          "name": "stdout"
        }
      ]
    },
    {
      "cell_type": "code",
      "metadata": {
        "id": "L8HDMr3rS4uf",
        "colab_type": "code",
        "colab": {
          "base_uri": "https://localhost:8080/",
          "height": 480
        },
        "outputId": "6e652aa2-8dff-4685-f938-9ff62705300a"
      },
      "source": [
        "place_gdf_target = gpd.sjoin(place_gdf_IL, target_cbg, how=\"inner\", op=\"within\").drop(\"index_right\", axis = 1)\n",
        "place_gdf_target.info()"
      ],
      "execution_count": 76,
      "outputs": [
        {
          "output_type": "stream",
          "text": [
            "<class 'geopandas.geodataframe.GeoDataFrame'>\n",
            "Int64Index: 132091 entries, 7 to 5276130\n",
            "Data columns (total 20 columns):\n",
            " #   Column                     Non-Null Count   Dtype   \n",
            "---  ------                     --------------   -----   \n",
            " 0   safegraph_place_id         132091 non-null  object  \n",
            " 1   parent_safegraph_place_id  18968 non-null   object  \n",
            " 2   location_name              132091 non-null  object  \n",
            " 3   safegraph_brand_ids        30605 non-null   object  \n",
            " 4   brands                     30605 non-null   object  \n",
            " 5   top_category               130284 non-null  object  \n",
            " 6   sub_category               130284 non-null  object  \n",
            " 7   naics_code                 130284 non-null  float64 \n",
            " 8   latitude                   132091 non-null  float64 \n",
            " 9   longitude                  132091 non-null  float64 \n",
            " 10  street_address             132091 non-null  object  \n",
            " 11  city                       132091 non-null  object  \n",
            " 12  region                     132091 non-null  object  \n",
            " 13  postal_code                132091 non-null  int64   \n",
            " 14  iso_country_code           132091 non-null  object  \n",
            " 15  phone_number               101471 non-null  float64 \n",
            " 16  open_hours                 69805 non-null   object  \n",
            " 17  category_tags              19974 non-null   object  \n",
            " 18  geometry                   132091 non-null  geometry\n",
            " 19  GEOID                      132091 non-null  object  \n",
            "dtypes: float64(4), geometry(1), int64(1), object(14)\n",
            "memory usage: 21.2+ MB\n"
          ],
          "name": "stdout"
        }
      ]
    },
    {
      "cell_type": "code",
      "metadata": {
        "id": "HiQ-U065UjFD",
        "colab_type": "code",
        "colab": {
          "base_uri": "https://localhost:8080/",
          "height": 377
        },
        "outputId": "29530eed-7072-40db-ab58-13ea20ca7add"
      },
      "source": [
        "naics_summary = place_gdf_target.naics_code.value_counts()\n",
        "naics_summary.head(20)"
      ],
      "execution_count": 82,
      "outputs": [
        {
          "output_type": "execute_result",
          "data": {
            "text/plain": [
              "722511.0    13331\n",
              "621111.0     6470\n",
              "812112.0     5309\n",
              "621210.0     4653\n",
              "813110.0     4193\n",
              "722513.0     3958\n",
              "712190.0     3918\n",
              "524210.0     3847\n",
              "713940.0     3787\n",
              "611110.0     3428\n",
              "722515.0     3415\n",
              "522110.0     3215\n",
              "811111.0     2834\n",
              "624410.0     2694\n",
              "447110.0     2415\n",
              "445110.0     2232\n",
              "621330.0     2016\n",
              "812199.0     1939\n",
              "812113.0     1706\n",
              "621310.0     1557\n",
              "Name: naics_code, dtype: int64"
            ]
          },
          "metadata": {
            "tags": []
          },
          "execution_count": 82
        }
      ]
    },
    {
      "cell_type": "code",
      "metadata": {
        "id": "ii3JS1hmVLYh",
        "colab_type": "code",
        "colab": {
          "base_uri": "https://localhost:8080/",
          "height": 377
        },
        "outputId": "1788924e-fb38-47c0-f045-07d19c02415b"
      },
      "source": [
        "cbg_summary = place_gdf_target.GEOID.value_counts()\n",
        "cbg_summary.head(20)"
      ],
      "execution_count": 83,
      "outputs": [
        {
          "output_type": "execute_result",
          "data": {
            "text/plain": [
              "170318391001    1237\n",
              "170318046033     709\n",
              "170313204001     505\n",
              "170313201002     393\n",
              "170313201001     381\n",
              "170318015001     358\n",
              "170438446011     322\n",
              "170938901011     285\n",
              "170318069001     284\n",
              "170898526013     272\n",
              "170310817002     264\n",
              "170318330001     264\n",
              "170318422001     260\n",
              "170318391002     258\n",
              "171118713064     256\n",
              "170317707001     253\n",
              "170310814011     251\n",
              "170438465042     243\n",
              "170318016011     237\n",
              "170438465192     236\n",
              "Name: GEOID, dtype: int64"
            ]
          },
          "metadata": {
            "tags": []
          },
          "execution_count": 83
        }
      ]
    },
    {
      "cell_type": "markdown",
      "metadata": {
        "id": "MTsj8sgUVvPr",
        "colab_type": "text"
      },
      "source": [
        "## Generate the IL places file"
      ]
    },
    {
      "cell_type": "code",
      "metadata": {
        "id": "zHZhPfraVzts",
        "colab_type": "code",
        "colab": {}
      },
      "source": [
        "file_name = 'core_places_IL'\n",
        "place_gdf_target.to_file(file_name + '.geojson', driver='GeoJSON')"
      ],
      "execution_count": 86,
      "outputs": []
    },
    {
      "cell_type": "code",
      "metadata": {
        "id": "ktqvyVK0XE-r",
        "colab_type": "code",
        "colab": {}
      },
      "source": [
        "# also to a plain csv file\n",
        "pd.DataFrame(place_gdf_target.drop(columns='geometry')).to_csv(file_name + '.csv')"
      ],
      "execution_count": 89,
      "outputs": []
    },
    {
      "cell_type": "code",
      "metadata": {
        "id": "LtVjEscpWL-v",
        "colab_type": "code",
        "colab": {
          "base_uri": "https://localhost:8080/",
          "height": 35
        },
        "outputId": "5d1f6820-d50a-43ca-a4fa-9b98daf79165"
      },
      "source": [
        "# copy to google Drive\n",
        "copyfile(file_name + '.geojson', \"drive/My Drive/SafeGraph/places/\" + file_name + '.geojson')\n",
        "copyfile(file_name + '.csv', \"drive/My Drive/SafeGraph/places/\" + file_name + '.csv')"
      ],
      "execution_count": 90,
      "outputs": [
        {
          "output_type": "execute_result",
          "data": {
            "application/vnd.google.colaboratory.intrinsic+json": {
              "type": "string"
            },
            "text/plain": [
              "'drive/My Drive/SafeGraph/places/core_places_IL.csv'"
            ]
          },
          "metadata": {
            "tags": []
          },
          "execution_count": 90
        }
      ]
    },
    {
      "cell_type": "code",
      "metadata": {
        "id": "uAKx_029S4uu",
        "colab_type": "code",
        "colab": {}
      },
      "source": [
        ""
      ],
      "execution_count": null,
      "outputs": []
    }
  ]
}