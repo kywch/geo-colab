{
  "nbformat": 4,
  "nbformat_minor": 0,
  "metadata": {
    "kernelspec": {
      "display_name": "Python 3",
      "language": "python",
      "name": "python3"
    },
    "language_info": {
      "codemirror_mode": {
        "name": "ipython",
        "version": 3
      },
      "file_extension": ".py",
      "mimetype": "text/x-python",
      "name": "python",
      "nbconvert_exporter": "python",
      "pygments_lexer": "ipython3",
      "version": "3.6.8"
    },
    "colab": {
      "name": "SafeGraph-social-distancing-process_one_day.ipynb",
      "provenance": [],
      "include_colab_link": true
    }
  },
  "cells": [
    {
      "cell_type": "markdown",
      "metadata": {
        "id": "view-in-github",
        "colab_type": "text"
      },
      "source": [
        "<a href=\"https://colab.research.google.com/github/kywch/geo-colab/blob/master/SafeGraph-filter-places.ipynb\" target=\"_parent\"><img src=\"https://colab.research.google.com/assets/colab-badge.svg\" alt=\"Open In Colab\"/></a>"
      ]
    },
    {
      "cell_type": "code",
      "metadata": {
        "id": "ClCzSJKmS9Rl",
        "colab_type": "code",
        "colab": {}
      },
      "source": [
        "colab_requirements = [\n",
        "    \"apt install python3-rtree=0.8.3+ds-1\", # rtree v0.8.3\n",
        "    \"pip install geopandas==0.7.0\" # geopandas v0.7.0 \n",
        "]"
      ],
      "execution_count": 8,
      "outputs": []
    },
    {
      "cell_type": "code",
      "metadata": {
        "id": "2fi-as9fS9Jo",
        "colab_type": "code",
        "colab": {
          "base_uri": "https://localhost:8080/",
          "height": 394
        },
        "outputId": "3c564f52-7bbc-4e9a-c7bb-a7b5b6395044"
      },
      "source": [
        "# following the post, 'Making Jupyter notebooks Google Colab ready'\n",
        "# https://timsainburg.com/google%20colab.html\n",
        "\n",
        "import os, sys, subprocess\n",
        "\n",
        "def run_subprocess_command(cmd):\n",
        "    # run the command\n",
        "    process = subprocess.Popen(cmd.split(), stdout=subprocess.PIPE)\n",
        "    # print the output\n",
        "    for line in process.stdout:\n",
        "        print(line.decode().strip())\n",
        "        \n",
        "if 'COLAB_GPU' in os.environ: # a quick and dirty way to check whether this is COLAB\n",
        "    for i in colab_requirements:\n",
        "        run_subprocess_command(i)"
      ],
      "execution_count": 9,
      "outputs": [
        {
          "output_type": "stream",
          "text": [
            "Reading package lists...\n",
            "Building dependency tree...\n",
            "Reading state information...\n",
            "python3-rtree is already the newest version (0.8.3+ds-1).\n",
            "The following package was automatically installed and is no longer required:\n",
            "libnvidia-common-440\n",
            "Use 'apt autoremove' to remove it.\n",
            "0 upgraded, 0 newly installed, 0 to remove and 35 not upgraded.\n",
            "Requirement already satisfied: geopandas==0.7.0 in /usr/local/lib/python3.6/dist-packages (0.7.0)\n",
            "Requirement already satisfied: pyproj>=2.2.0 in /usr/local/lib/python3.6/dist-packages (from geopandas==0.7.0) (2.6.1.post1)\n",
            "Requirement already satisfied: shapely in /usr/local/lib/python3.6/dist-packages (from geopandas==0.7.0) (1.7.0)\n",
            "Requirement already satisfied: pandas>=0.23.0 in /usr/local/lib/python3.6/dist-packages (from geopandas==0.7.0) (1.0.5)\n",
            "Requirement already satisfied: fiona in /usr/local/lib/python3.6/dist-packages (from geopandas==0.7.0) (1.8.13.post1)\n",
            "Requirement already satisfied: python-dateutil>=2.6.1 in /usr/local/lib/python3.6/dist-packages (from pandas>=0.23.0->geopandas==0.7.0) (2.8.1)\n",
            "Requirement already satisfied: pytz>=2017.2 in /usr/local/lib/python3.6/dist-packages (from pandas>=0.23.0->geopandas==0.7.0) (2018.9)\n",
            "Requirement already satisfied: numpy>=1.13.3 in /usr/local/lib/python3.6/dist-packages (from pandas>=0.23.0->geopandas==0.7.0) (1.18.5)\n",
            "Requirement already satisfied: cligj>=0.5 in /usr/local/lib/python3.6/dist-packages (from fiona->geopandas==0.7.0) (0.5.0)\n",
            "Requirement already satisfied: six>=1.7 in /usr/local/lib/python3.6/dist-packages (from fiona->geopandas==0.7.0) (1.15.0)\n",
            "Requirement already satisfied: attrs>=17 in /usr/local/lib/python3.6/dist-packages (from fiona->geopandas==0.7.0) (19.3.0)\n",
            "Requirement already satisfied: click<8,>=4.0 in /usr/local/lib/python3.6/dist-packages (from fiona->geopandas==0.7.0) (7.1.2)\n",
            "Requirement already satisfied: munch in /usr/local/lib/python3.6/dist-packages (from fiona->geopandas==0.7.0) (2.5.0)\n",
            "Requirement already satisfied: click-plugins>=1.0 in /usr/local/lib/python3.6/dist-packages (from fiona->geopandas==0.7.0) (1.1.1)\n"
          ],
          "name": "stdout"
        }
      ]
    },
    {
      "cell_type": "code",
      "metadata": {
        "id": "KuRSKxAC-lNE",
        "colab_type": "code",
        "colab": {}
      },
      "source": [
        "import pandas as pd\n",
        "\n",
        "import geopandas as gpd\n",
        "from fiona.crs import from_epsg\n",
        "from shapely.geometry import Point\n",
        "\n",
        "from glob import glob\n",
        "import time\n",
        "\n",
        "import os\n",
        "from shutil import copyfile"
      ],
      "execution_count": 20,
      "outputs": []
    },
    {
      "cell_type": "markdown",
      "metadata": {
        "id": "XwcjIi7T-xxK",
        "colab_type": "text"
      },
      "source": [
        "## Load the Places dataset from Google Drive"
      ]
    },
    {
      "cell_type": "code",
      "metadata": {
        "id": "CeQM_zpb_KSB",
        "colab_type": "code",
        "colab": {
          "base_uri": "https://localhost:8080/",
          "height": 123
        },
        "outputId": "29e36102-d546-4ef4-b504-59fc0c053783"
      },
      "source": [
        "from google.colab import drive\n",
        "drive.mount('/content/drive')"
      ],
      "execution_count": 11,
      "outputs": [
        {
          "output_type": "stream",
          "text": [
            "Go to this URL in a browser: https://accounts.google.com/o/oauth2/auth?client_id=947318989803-6bn6qk8qdgf4n4g3pfee6491hc0brc4i.apps.googleusercontent.com&redirect_uri=urn%3aietf%3awg%3aoauth%3a2.0%3aoob&response_type=code&scope=email%20https%3a%2f%2fwww.googleapis.com%2fauth%2fdocs.test%20https%3a%2f%2fwww.googleapis.com%2fauth%2fdrive%20https%3a%2f%2fwww.googleapis.com%2fauth%2fdrive.photos.readonly%20https%3a%2f%2fwww.googleapis.com%2fauth%2fpeopleapi.readonly\n",
            "\n",
            "Enter your authorization code:\n",
            "··········\n",
            "Mounted at /content/drive\n"
          ],
          "name": "stdout"
        }
      ]
    },
    {
      "cell_type": "code",
      "metadata": {
        "id": "WeE8xloE_Xdz",
        "colab_type": "code",
        "colab": {
          "base_uri": "https://localhost:8080/",
          "height": 103
        },
        "outputId": "96034d63-ae66-455b-8267-88852c16ee9b"
      },
      "source": [
        "!ls drive/My\\ Drive/SafeGraph/places"
      ],
      "execution_count": 12,
      "outputs": [
        {
          "output_type": "stream",
          "text": [
            "brand_info.csv\t\t\t\t\t\t  core_poi-part4.csv.gz\n",
            "CorePlacesMay2020Release-CORE_POI-2020_04-2020-05-06.zip  core_poi-part5.csv.gz\n",
            "core_poi-part1.csv.gz\t\t\t\t\t  README.txt\n",
            "core_poi-part2.csv.gz\t\t\t\t\t  SquareFeet.csv.gz\n",
            "core_poi-part3.csv.gz\n"
          ],
          "name": "stdout"
        }
      ]
    },
    {
      "cell_type": "code",
      "metadata": {
        "id": "vRYOsFTK_oJi",
        "colab_type": "code",
        "colab": {
          "base_uri": "https://localhost:8080/",
          "height": 54
        },
        "outputId": "7b2c5c63-57a3-40d1-b92c-0ea04b0aa1cd"
      },
      "source": [
        "# grab the SafeGraph core places\n",
        "files = glob(\"drive/My Drive/SafeGraph/places/core*.csv.gz\")\n",
        "print(files)"
      ],
      "execution_count": 13,
      "outputs": [
        {
          "output_type": "stream",
          "text": [
            "['drive/My Drive/SafeGraph/places/core_poi-part4.csv.gz', 'drive/My Drive/SafeGraph/places/core_poi-part5.csv.gz', 'drive/My Drive/SafeGraph/places/core_poi-part1.csv.gz', 'drive/My Drive/SafeGraph/places/core_poi-part3.csv.gz', 'drive/My Drive/SafeGraph/places/core_poi-part2.csv.gz']\n"
          ],
          "name": "stdout"
        }
      ]
    },
    {
      "cell_type": "code",
      "metadata": {
        "id": "X-HBIvKdBT5H",
        "colab_type": "code",
        "colab": {}
      },
      "source": [
        "# copy these files from Google Drive to colab disk\n",
        "os.mkdir('sg_data')\n",
        "for f in files:\n",
        "  copyfile(f, 'sg_data/' + os.path.basename(f))"
      ],
      "execution_count": 21,
      "outputs": []
    },
    {
      "cell_type": "code",
      "metadata": {
        "id": "KpI1kIskCa-H",
        "colab_type": "code",
        "colab": {
          "base_uri": "https://localhost:8080/",
          "height": 34
        },
        "outputId": "82ef1950-9d99-412a-953d-f1cb0598454f"
      },
      "source": [
        "#!ls sg_data\n",
        "files = glob(\"sg_data/core*.csv.gz\")\n",
        "print(files)"
      ],
      "execution_count": 24,
      "outputs": [
        {
          "output_type": "stream",
          "text": [
            "['sg_data/core_poi-part3.csv.gz', 'sg_data/core_poi-part2.csv.gz', 'sg_data/core_poi-part1.csv.gz', 'sg_data/core_poi-part5.csv.gz', 'sg_data/core_poi-part4.csv.gz']\n"
          ],
          "name": "stdout"
        }
      ]
    },
    {
      "cell_type": "code",
      "metadata": {
        "id": "uEu_2xy5AIU4",
        "colab_type": "code",
        "colab": {
          "base_uri": "https://localhost:8080/",
          "height": 86
        },
        "outputId": "fcdf4329-af4a-4020-d4a7-29333dfc4d4c"
      },
      "source": [
        "place_df = pd.read_csv(files[0])\n",
        "for f in files[1:]:\n",
        "    t = time.time()\n",
        "    tmp_pd2 = pd.read_csv(f)\n",
        "    place_df = place_df.append(tmp_pd2, ignore_index = True)\n",
        "    print(f + ', new_len: ', str(len(place_df)) + ', proc time: ', str(time.time() - t))"
      ],
      "execution_count": 29,
      "outputs": [
        {
          "output_type": "stream",
          "text": [
            "sg_data/core_poi-part2.csv.gz, new_len:  2141464, proc time:  9.577615737915039\n",
            "sg_data/core_poi-part1.csv.gz, new_len:  3210953, proc time:  10.44595193862915\n",
            "sg_data/core_poi-part5.csv.gz, new_len:  4220022, proc time:  10.723469972610474\n",
            "sg_data/core_poi-part4.csv.gz, new_len:  5284986, proc time:  12.158286809921265\n"
          ],
          "name": "stdout"
        }
      ]
    },
    {
      "cell_type": "code",
      "metadata": {
        "id": "iJcSTak_D7cn",
        "colab_type": "code",
        "colab": {
          "base_uri": "https://localhost:8080/",
          "height": 446
        },
        "outputId": "bd793e4d-ac59-4046-8181-316a9e7b66d4"
      },
      "source": [
        "place_df.info()"
      ],
      "execution_count": 30,
      "outputs": [
        {
          "output_type": "stream",
          "text": [
            "<class 'pandas.core.frame.DataFrame'>\n",
            "RangeIndex: 5284986 entries, 0 to 5284985\n",
            "Data columns (total 18 columns):\n",
            " #   Column                     Dtype  \n",
            "---  ------                     -----  \n",
            " 0   safegraph_place_id         object \n",
            " 1   parent_safegraph_place_id  object \n",
            " 2   location_name              object \n",
            " 3   safegraph_brand_ids        object \n",
            " 4   brands                     object \n",
            " 5   top_category               object \n",
            " 6   sub_category               object \n",
            " 7   naics_code                 float64\n",
            " 8   latitude                   float64\n",
            " 9   longitude                  float64\n",
            " 10  street_address             object \n",
            " 11  city                       object \n",
            " 12  region                     object \n",
            " 13  postal_code                int64  \n",
            " 14  iso_country_code           object \n",
            " 15  phone_number               float64\n",
            " 16  open_hours                 object \n",
            " 17  category_tags              object \n",
            "dtypes: float64(4), int64(1), object(13)\n",
            "memory usage: 725.8+ MB\n"
          ],
          "name": "stdout"
        }
      ]
    },
    {
      "cell_type": "code",
      "metadata": {
        "id": "GGhEbbjTD7im",
        "colab_type": "code",
        "colab": {
          "base_uri": "https://localhost:8080/",
          "height": 531
        },
        "outputId": "55cf76fc-383b-4984-e70b-88d1617fe828"
      },
      "source": [
        "place_df.head()"
      ],
      "execution_count": 31,
      "outputs": [
        {
          "output_type": "execute_result",
          "data": {
            "text/html": [
              "<div>\n",
              "<style scoped>\n",
              "    .dataframe tbody tr th:only-of-type {\n",
              "        vertical-align: middle;\n",
              "    }\n",
              "\n",
              "    .dataframe tbody tr th {\n",
              "        vertical-align: top;\n",
              "    }\n",
              "\n",
              "    .dataframe thead th {\n",
              "        text-align: right;\n",
              "    }\n",
              "</style>\n",
              "<table border=\"1\" class=\"dataframe\">\n",
              "  <thead>\n",
              "    <tr style=\"text-align: right;\">\n",
              "      <th></th>\n",
              "      <th>safegraph_place_id</th>\n",
              "      <th>parent_safegraph_place_id</th>\n",
              "      <th>location_name</th>\n",
              "      <th>safegraph_brand_ids</th>\n",
              "      <th>brands</th>\n",
              "      <th>top_category</th>\n",
              "      <th>sub_category</th>\n",
              "      <th>naics_code</th>\n",
              "      <th>latitude</th>\n",
              "      <th>longitude</th>\n",
              "      <th>street_address</th>\n",
              "      <th>city</th>\n",
              "      <th>region</th>\n",
              "      <th>postal_code</th>\n",
              "      <th>iso_country_code</th>\n",
              "      <th>phone_number</th>\n",
              "      <th>open_hours</th>\n",
              "      <th>category_tags</th>\n",
              "    </tr>\n",
              "  </thead>\n",
              "  <tbody>\n",
              "    <tr>\n",
              "      <th>0</th>\n",
              "      <td>sg:0001f7d539e7458f882539e57cd9ecae</td>\n",
              "      <td>NaN</td>\n",
              "      <td>Silver Creek Church of Nazarene</td>\n",
              "      <td>NaN</td>\n",
              "      <td>NaN</td>\n",
              "      <td>Religious Organizations</td>\n",
              "      <td>Religious Organizations</td>\n",
              "      <td>813110.0</td>\n",
              "      <td>36.283962</td>\n",
              "      <td>-95.812324</td>\n",
              "      <td>9000 N 145th East Ave</td>\n",
              "      <td>Owasso</td>\n",
              "      <td>OK</td>\n",
              "      <td>74055</td>\n",
              "      <td>US</td>\n",
              "      <td>1.918272e+10</td>\n",
              "      <td>NaN</td>\n",
              "      <td>NaN</td>\n",
              "    </tr>\n",
              "    <tr>\n",
              "      <th>1</th>\n",
              "      <td>sg:0011b49da3e3407fadb93e96953a1c0b</td>\n",
              "      <td>sg:27197b07189c4282abacd319a764d26f</td>\n",
              "      <td>Jeffrey Rippon Ameriprise Financial Services</td>\n",
              "      <td>NaN</td>\n",
              "      <td>NaN</td>\n",
              "      <td>Other Financial Investment Activities</td>\n",
              "      <td>Investment Advice</td>\n",
              "      <td>523930.0</td>\n",
              "      <td>40.768929</td>\n",
              "      <td>-111.888847</td>\n",
              "      <td>60 E South Temple Ste 950</td>\n",
              "      <td>Salt Lake City</td>\n",
              "      <td>UT</td>\n",
              "      <td>84111</td>\n",
              "      <td>US</td>\n",
              "      <td>1.801602e+10</td>\n",
              "      <td>{ \"Mon\": [[\"8:00\", \"17:00\"]], \"Tue\": [[\"8:00\",...</td>\n",
              "      <td>NaN</td>\n",
              "    </tr>\n",
              "    <tr>\n",
              "      <th>2</th>\n",
              "      <td>sg:002aa7b42ab745f28ba25c3bb524f195</td>\n",
              "      <td>NaN</td>\n",
              "      <td>Tampa's Best Dog Treats and Chews</td>\n",
              "      <td>NaN</td>\n",
              "      <td>NaN</td>\n",
              "      <td>Other Miscellaneous Store Retailers</td>\n",
              "      <td>Pet and Pet Supplies Stores</td>\n",
              "      <td>453910.0</td>\n",
              "      <td>28.061555</td>\n",
              "      <td>-82.502928</td>\n",
              "      <td>12651 N Dale Mabry Hwy Unit 273651</td>\n",
              "      <td>Tampa</td>\n",
              "      <td>FL</td>\n",
              "      <td>33688</td>\n",
              "      <td>US</td>\n",
              "      <td>NaN</td>\n",
              "      <td>{ \"Mon\": [[\"8:00\", \"18:00\"]], \"Tue\": [[\"8:00\",...</td>\n",
              "      <td>NaN</td>\n",
              "    </tr>\n",
              "    <tr>\n",
              "      <th>3</th>\n",
              "      <td>sg:0039682ceac447d594d95d75727da59d</td>\n",
              "      <td>NaN</td>\n",
              "      <td>Dauer Museum Of Classic Cars</td>\n",
              "      <td>NaN</td>\n",
              "      <td>NaN</td>\n",
              "      <td>Museums, Historical Sites, and Similar Institu...</td>\n",
              "      <td>Museums</td>\n",
              "      <td>712110.0</td>\n",
              "      <td>26.163697</td>\n",
              "      <td>-80.216703</td>\n",
              "      <td>4850 W Oakland Park Blvd</td>\n",
              "      <td>Lauderdale Lakes</td>\n",
              "      <td>FL</td>\n",
              "      <td>33313</td>\n",
              "      <td>US</td>\n",
              "      <td>1.954739e+10</td>\n",
              "      <td>NaN</td>\n",
              "      <td>NaN</td>\n",
              "    </tr>\n",
              "    <tr>\n",
              "      <th>4</th>\n",
              "      <td>sg:005a813d80d24f7bbc888f76d31a031d</td>\n",
              "      <td>NaN</td>\n",
              "      <td>Hamilton's Produce</td>\n",
              "      <td>NaN</td>\n",
              "      <td>NaN</td>\n",
              "      <td>Grocery Stores</td>\n",
              "      <td>Supermarkets and Other Grocery (except Conveni...</td>\n",
              "      <td>445110.0</td>\n",
              "      <td>30.823265</td>\n",
              "      <td>-88.362247</td>\n",
              "      <td>13451 Moffett Rd</td>\n",
              "      <td>Wilmer</td>\n",
              "      <td>AL</td>\n",
              "      <td>36587</td>\n",
              "      <td>US</td>\n",
              "      <td>1.251645e+10</td>\n",
              "      <td>NaN</td>\n",
              "      <td>NaN</td>\n",
              "    </tr>\n",
              "  </tbody>\n",
              "</table>\n",
              "</div>"
            ],
            "text/plain": [
              "                    safegraph_place_id  ... category_tags\n",
              "0  sg:0001f7d539e7458f882539e57cd9ecae  ...           NaN\n",
              "1  sg:0011b49da3e3407fadb93e96953a1c0b  ...           NaN\n",
              "2  sg:002aa7b42ab745f28ba25c3bb524f195  ...           NaN\n",
              "3  sg:0039682ceac447d594d95d75727da59d  ...           NaN\n",
              "4  sg:005a813d80d24f7bbc888f76d31a031d  ...           NaN\n",
              "\n",
              "[5 rows x 18 columns]"
            ]
          },
          "metadata": {
            "tags": []
          },
          "execution_count": 31
        }
      ]
    },
    {
      "cell_type": "code",
      "metadata": {
        "id": "9g6IZQLOD7mc",
        "colab_type": "code",
        "colab": {}
      },
      "source": [
        "# translate latitude and longitude to geopandas\n",
        "place_gdf = gpd.GeoDataFrame(\n",
        "    place_df, geometry = gpd.points_from_xy(place_df.longitude, place_df.latitude),\n",
        "    crs = \"epsg:4326\" # https://geopandas.readthedocs.io/en/v0.6.0/projections.html#coordinate-reference-systems\n",
        ").to_crs(epsg=3528) # https://spatialreference.org/ref/epsg/3528/"
      ],
      "execution_count": 68,
      "outputs": []
    },
    {
      "cell_type": "code",
      "metadata": {
        "id": "_-hPA_mED7pf",
        "colab_type": "code",
        "colab": {
          "base_uri": "https://localhost:8080/",
          "height": 463
        },
        "outputId": "eb49390e-b322-42f3-8767-4337ea29ef2e"
      },
      "source": [
        "place_gdf.info()"
      ],
      "execution_count": 69,
      "outputs": [
        {
          "output_type": "stream",
          "text": [
            "<class 'geopandas.geodataframe.GeoDataFrame'>\n",
            "RangeIndex: 5284986 entries, 0 to 5284985\n",
            "Data columns (total 19 columns):\n",
            " #   Column                     Dtype   \n",
            "---  ------                     -----   \n",
            " 0   safegraph_place_id         object  \n",
            " 1   parent_safegraph_place_id  object  \n",
            " 2   location_name              object  \n",
            " 3   safegraph_brand_ids        object  \n",
            " 4   brands                     object  \n",
            " 5   top_category               object  \n",
            " 6   sub_category               object  \n",
            " 7   naics_code                 float64 \n",
            " 8   latitude                   float64 \n",
            " 9   longitude                  float64 \n",
            " 10  street_address             object  \n",
            " 11  city                       object  \n",
            " 12  region                     object  \n",
            " 13  postal_code                int64   \n",
            " 14  iso_country_code           object  \n",
            " 15  phone_number               float64 \n",
            " 16  open_hours                 object  \n",
            " 17  category_tags              object  \n",
            " 18  geometry                   geometry\n",
            "dtypes: float64(4), geometry(1), int64(1), object(13)\n",
            "memory usage: 766.1+ MB\n"
          ],
          "name": "stdout"
        }
      ]
    },
    {
      "cell_type": "code",
      "metadata": {
        "id": "uLz-gq97H1XZ",
        "colab_type": "code",
        "colab": {
          "base_uri": "https://localhost:8080/",
          "height": 463
        },
        "outputId": "8768b2a6-f351-43b0-dfa2-362da918f978"
      },
      "source": [
        "# limit to Illinois (5.3M --> 200K places)\n",
        "place_gdf_IL = place_gdf[place_gdf.region == 'IL']\n",
        "place_gdf_IL.info()"
      ],
      "execution_count": 70,
      "outputs": [
        {
          "output_type": "stream",
          "text": [
            "<class 'geopandas.geodataframe.GeoDataFrame'>\n",
            "Int64Index: 200614 entries, 7 to 5284977\n",
            "Data columns (total 19 columns):\n",
            " #   Column                     Non-Null Count   Dtype   \n",
            "---  ------                     --------------   -----   \n",
            " 0   safegraph_place_id         200614 non-null  object  \n",
            " 1   parent_safegraph_place_id  24590 non-null   object  \n",
            " 2   location_name              200614 non-null  object  \n",
            " 3   safegraph_brand_ids        47267 non-null   object  \n",
            " 4   brands                     47267 non-null   object  \n",
            " 5   top_category               198532 non-null  object  \n",
            " 6   sub_category               198532 non-null  object  \n",
            " 7   naics_code                 198532 non-null  float64 \n",
            " 8   latitude                   200614 non-null  float64 \n",
            " 9   longitude                  200614 non-null  float64 \n",
            " 10  street_address             200614 non-null  object  \n",
            " 11  city                       200614 non-null  object  \n",
            " 12  region                     200614 non-null  object  \n",
            " 13  postal_code                200614 non-null  int64   \n",
            " 14  iso_country_code           200614 non-null  object  \n",
            " 15  phone_number               154280 non-null  float64 \n",
            " 16  open_hours                 95217 non-null   object  \n",
            " 17  category_tags              28196 non-null   object  \n",
            " 18  geometry                   200614 non-null  geometry\n",
            "dtypes: float64(4), geometry(1), int64(1), object(13)\n",
            "memory usage: 30.6+ MB\n"
          ],
          "name": "stdout"
        }
      ]
    },
    {
      "cell_type": "code",
      "metadata": {
        "id": "PIVZvSasLgvY",
        "colab_type": "code",
        "colab": {
          "base_uri": "https://localhost:8080/",
          "height": 257
        },
        "outputId": "377117ff-e9d1-4252-e69b-8dd23e4e32c1"
      },
      "source": [
        "place_gdf_IL.crs"
      ],
      "execution_count": 71,
      "outputs": [
        {
          "output_type": "execute_result",
          "data": {
            "text/plain": [
              "<Projected CRS: EPSG:3528>\n",
              "Name: NAD83(NSRS2007) / Illinois East\n",
              "Axis Info [cartesian]:\n",
              "- X[east]: Easting (metre)\n",
              "- Y[north]: Northing (metre)\n",
              "Area of Use:\n",
              "- name: USA - Illinois - SPCS - E\n",
              "- bounds: (-89.28, 37.06, -87.02, 42.5)\n",
              "Coordinate Operation:\n",
              "- name: SPCS83 Illinois East zone (meters)\n",
              "- method: Transverse Mercator\n",
              "Datum: NAD83 (National Spatial Reference System 2007)\n",
              "- Ellipsoid: GRS 1980\n",
              "- Prime Meridian: Greenwich"
            ]
          },
          "metadata": {
            "tags": []
          },
          "execution_count": 71
        }
      ]
    },
    {
      "cell_type": "markdown",
      "metadata": {
        "id": "oaWOQG1IS4uX",
        "colab_type": "text"
      },
      "source": [
        "## Get the census block groups of NE Illinois\n",
        "\n",
        "FIPS code for the counties\n",
        "* Cook: 031\n",
        "* Dupage: 043\n",
        "* Grundy: 063\n",
        "* Kane: 089\n",
        "* Kankakee: 091\n",
        "* Kendall: 093\n",
        "* Lake: 097\n",
        "* McHenry: 111\n",
        "* Will: 197"
      ]
    },
    {
      "cell_type": "code",
      "metadata": {
        "id": "wUAOULSSJjDK",
        "colab_type": "code",
        "colab": {}
      },
      "source": [
        "illinois_cbg = gpd.read_file('https://raw.githubusercontent.com/loganpowell/census-geojson/master/GeoJSON/500k/2019/17/block-group.json', \n",
        "                   crs = from_epsg(2163)).to_crs(epsg = 3528)"
      ],
      "execution_count": 72,
      "outputs": []
    },
    {
      "cell_type": "code",
      "metadata": {
        "id": "l0UHsVVrS4uY",
        "colab_type": "code",
        "colab": {
          "base_uri": "https://localhost:8080/",
          "height": 171
        },
        "outputId": "42e926fc-9c78-4aaa-ba10-70ab6f8b9fc2"
      },
      "source": [
        "# limit to 9 counties mentioned above\n",
        "target_cbg = illinois_cbg[illinois_cbg.COUNTYFP.isin(['031', '043', '063', '089', '091', '093', '097', '111', '197'])]\n",
        "target_cbg = target_cbg[['GEOID', 'geometry']]\n",
        "target_cbg.info()"
      ],
      "execution_count": 73,
      "outputs": [
        {
          "output_type": "stream",
          "text": [
            "<class 'geopandas.geodataframe.GeoDataFrame'>\n",
            "Int64Index: 5998 entries, 0 to 9688\n",
            "Data columns (total 2 columns):\n",
            " #   Column    Non-Null Count  Dtype   \n",
            "---  ------    --------------  -----   \n",
            " 0   GEOID     5998 non-null   object  \n",
            " 1   geometry  5998 non-null   geometry\n",
            "dtypes: geometry(1), object(1)\n",
            "memory usage: 140.6+ KB\n"
          ],
          "name": "stdout"
        }
      ]
    },
    {
      "cell_type": "code",
      "metadata": {
        "id": "Z1nbScYZMAq1",
        "colab_type": "code",
        "colab": {
          "base_uri": "https://localhost:8080/",
          "height": 51
        },
        "outputId": "065cc684-35dc-48d3-cc58-116952b30888"
      },
      "source": [
        "print(target_cbg.crs)\n",
        "#target_cbg.head()\n",
        "print(place_gdf_IL.crs)"
      ],
      "execution_count": 74,
      "outputs": [
        {
          "output_type": "stream",
          "text": [
            "epsg:3528\n",
            "epsg:3528\n"
          ],
          "name": "stdout"
        }
      ]
    },
    {
      "cell_type": "code",
      "metadata": {
        "id": "L8HDMr3rS4uf",
        "colab_type": "code",
        "colab": {
          "base_uri": "https://localhost:8080/",
          "height": 480
        },
        "outputId": "6e652aa2-8dff-4685-f938-9ff62705300a"
      },
      "source": [
        "place_gdf_target = gpd.sjoin(place_gdf_IL, target_cbg, how=\"inner\", op=\"within\").drop(\"index_right\", axis = 1)\n",
        "place_gdf_target.info()"
      ],
      "execution_count": 76,
      "outputs": [
        {
          "output_type": "stream",
          "text": [
            "<class 'geopandas.geodataframe.GeoDataFrame'>\n",
            "Int64Index: 132091 entries, 7 to 5276130\n",
            "Data columns (total 20 columns):\n",
            " #   Column                     Non-Null Count   Dtype   \n",
            "---  ------                     --------------   -----   \n",
            " 0   safegraph_place_id         132091 non-null  object  \n",
            " 1   parent_safegraph_place_id  18968 non-null   object  \n",
            " 2   location_name              132091 non-null  object  \n",
            " 3   safegraph_brand_ids        30605 non-null   object  \n",
            " 4   brands                     30605 non-null   object  \n",
            " 5   top_category               130284 non-null  object  \n",
            " 6   sub_category               130284 non-null  object  \n",
            " 7   naics_code                 130284 non-null  float64 \n",
            " 8   latitude                   132091 non-null  float64 \n",
            " 9   longitude                  132091 non-null  float64 \n",
            " 10  street_address             132091 non-null  object  \n",
            " 11  city                       132091 non-null  object  \n",
            " 12  region                     132091 non-null  object  \n",
            " 13  postal_code                132091 non-null  int64   \n",
            " 14  iso_country_code           132091 non-null  object  \n",
            " 15  phone_number               101471 non-null  float64 \n",
            " 16  open_hours                 69805 non-null   object  \n",
            " 17  category_tags              19974 non-null   object  \n",
            " 18  geometry                   132091 non-null  geometry\n",
            " 19  GEOID                      132091 non-null  object  \n",
            "dtypes: float64(4), geometry(1), int64(1), object(14)\n",
            "memory usage: 21.2+ MB\n"
          ],
          "name": "stdout"
        }
      ]
    },
    {
      "cell_type": "code",
      "metadata": {
        "id": "HiQ-U065UjFD",
        "colab_type": "code",
        "colab": {
          "base_uri": "https://localhost:8080/",
          "height": 377
        },
        "outputId": "29530eed-7072-40db-ab58-13ea20ca7add"
      },
      "source": [
        "naics_summary = place_gdf_target.naics_code.value_counts()\n",
        "naics_summary.head(20)"
      ],
      "execution_count": 82,
      "outputs": [
        {
          "output_type": "execute_result",
          "data": {
            "text/plain": [
              "722511.0    13331\n",
              "621111.0     6470\n",
              "812112.0     5309\n",
              "621210.0     4653\n",
              "813110.0     4193\n",
              "722513.0     3958\n",
              "712190.0     3918\n",
              "524210.0     3847\n",
              "713940.0     3787\n",
              "611110.0     3428\n",
              "722515.0     3415\n",
              "522110.0     3215\n",
              "811111.0     2834\n",
              "624410.0     2694\n",
              "447110.0     2415\n",
              "445110.0     2232\n",
              "621330.0     2016\n",
              "812199.0     1939\n",
              "812113.0     1706\n",
              "621310.0     1557\n",
              "Name: naics_code, dtype: int64"
            ]
          },
          "metadata": {
            "tags": []
          },
          "execution_count": 82
        }
      ]
    },
    {
      "cell_type": "code",
      "metadata": {
        "id": "ii3JS1hmVLYh",
        "colab_type": "code",
        "colab": {
          "base_uri": "https://localhost:8080/",
          "height": 377
        },
        "outputId": "1788924e-fb38-47c0-f045-07d19c02415b"
      },
      "source": [
        "cbg_summary = place_gdf_target.GEOID.value_counts()\n",
        "cbg_summary.head(20)"
      ],
      "execution_count": 83,
      "outputs": [
        {
          "output_type": "execute_result",
          "data": {
            "text/plain": [
              "170318391001    1237\n",
              "170318046033     709\n",
              "170313204001     505\n",
              "170313201002     393\n",
              "170313201001     381\n",
              "170318015001     358\n",
              "170438446011     322\n",
              "170938901011     285\n",
              "170318069001     284\n",
              "170898526013     272\n",
              "170310817002     264\n",
              "170318330001     264\n",
              "170318422001     260\n",
              "170318391002     258\n",
              "171118713064     256\n",
              "170317707001     253\n",
              "170310814011     251\n",
              "170438465042     243\n",
              "170318016011     237\n",
              "170438465192     236\n",
              "Name: GEOID, dtype: int64"
            ]
          },
          "metadata": {
            "tags": []
          },
          "execution_count": 83
        }
      ]
    },
    {
      "cell_type": "markdown",
      "metadata": {
        "id": "OMqSWqYLTS3t",
        "colab_type": "text"
      },
      "source": [
        "### Uploading a data file from the local computer\n",
        "\n",
        "The SafeGraph data agreement prohibits me from sharing the raw data."
      ]
    },
    {
      "cell_type": "code",
      "metadata": {
        "id": "UBHZLWD0To9i",
        "colab_type": "code",
        "colab": {
          "resources": {
            "http://localhost:8080/nbextensions/google.colab/files.js": {
              "data": "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",
              "ok": true,
              "headers": [
                [
                  "content-type",
                  "application/javascript"
                ]
              ],
              "status": 200,
              "status_text": ""
            }
          },
          "base_uri": "https://localhost:8080/",
          "height": 75
        },
        "outputId": "1fa65803-7101-4e7d-de32-4e03a51a6191"
      },
      "source": [
        "# upload a data file from the local computer\n",
        "from google.colab import files\n",
        "uploaded = files.upload()"
      ],
      "execution_count": null,
      "outputs": [
        {
          "output_type": "display_data",
          "data": {
            "text/html": [
              "\n",
              "     <input type=\"file\" id=\"files-77dab601-3167-409c-bc5a-3f87db003663\" name=\"files[]\" multiple disabled />\n",
              "     <output id=\"result-77dab601-3167-409c-bc5a-3f87db003663\">\n",
              "      Upload widget is only available when the cell has been executed in the\n",
              "      current browser session. Please rerun this cell to enable.\n",
              "      </output>\n",
              "      <script src=\"/nbextensions/google.colab/files.js\"></script> "
            ],
            "text/plain": [
              "<IPython.core.display.HTML object>"
            ]
          },
          "metadata": {
            "tags": []
          }
        },
        {
          "output_type": "stream",
          "text": [
            "Saving 2020-04-30-social-distancing.csv.gz to 2020-04-30-social-distancing.csv.gz\n"
          ],
          "name": "stdout"
        }
      ]
    },
    {
      "cell_type": "code",
      "metadata": {
        "id": "zjywOh-dTtic",
        "colab_type": "code",
        "colab": {
          "base_uri": "https://localhost:8080/",
          "height": 34
        },
        "outputId": "0cb4b9cc-c0b0-4963-df50-ef7e19b9ce00"
      },
      "source": [
        "!ls"
      ],
      "execution_count": null,
      "outputs": [
        {
          "output_type": "stream",
          "text": [
            "2020-04-30-social-distancing.csv.gz  sample_data\n"
          ],
          "name": "stdout"
        }
      ]
    },
    {
      "cell_type": "markdown",
      "metadata": {
        "id": "ebZQhp3JS4uh",
        "colab_type": "text"
      },
      "source": [
        "### Turning device counts into the probabilities\n",
        "\n",
        "I just use one file here, `2020-04-30-social-distancing.csv.gz`, to describe what I did.\n",
        "\n",
        "For social distancing metrics, I focused on the `buckted_percentage_time_home` and `completely_home_device_count`.\n",
        "\n",
        "These variables are explained in [the SafeGraph page](https://docs.safegraph.com/docs/social-distancing-metrics).\n",
        "* `completely_home_device_count`: Out of the device_count, the number of devices which did not leave the geohash-7 in which their home is located during the time period.\n",
        "* `buckted_percentage_time_home`: Key is range of minutes and value is device count of devices that dwelled at geohash-7 of home for the given time period, `{\"<60\": 0, \"61-360\": 0, \"361-720\": 10, \"721-1080\": 40, \">1081\": 50}`. For each device, we summed the observed minutes at home across the day (whether or not these were contiguous) to get the total minutes for each device this day. Then we count how many devices are in each bucket. Beginning in v2, we include the portion of any stop within the time range regardless of whether the stop start time was in the time period.\n"
      ]
    },
    {
      "cell_type": "code",
      "metadata": {
        "id": "NR0TDY1WS4ui",
        "colab_type": "code",
        "colab": {}
      },
      "source": [
        "to_lit = lambda x : ast.literal_eval(x) if x is not np.nan else {}\n",
        "\n",
        "def get_prob(input_df):\n",
        "\n",
        "    # process the date and also get weekday\n",
        "    for d in [\"date_range_start\", \"date_range_end\"]:\n",
        "        input_df[d] = pd.to_datetime(input_df[d])\n",
        "\n",
        "    input_df[\"date\"] = pd.to_datetime(input_df[\"date_range_start\"], utc = True)\\\n",
        "                   .dt.tz_convert(pytz.timezone('US/Central')).dt.date\n",
        "    input_df[\"weekday\"] = input_df[\"date\"].apply(lambda x: x.weekday())\n",
        "    \n",
        "    # I focused on `buckted_percentage_time_home`, along with `completely_home_device_count`\n",
        "    input_df[\"bucketed_percentage_time_home\"] = input_df[\"bucketed_percentage_time_home\"].apply(to_lit)\n",
        "    input_df[\"cnt_lt_6h_out\"] = input_df.bucketed_percentage_time_home.apply(lambda x : x[\"76-100\"] if \"76-100\" in x else 0)\n",
        "    input_df[\"cnt_6h_12h_out\"] = input_df.bucketed_percentage_time_home.apply(lambda x : x[\"51-75\"] if \"51-75\" in x else 0)\n",
        "    input_df[\"cnt_12h_18h_out\"] = input_df.bucketed_percentage_time_home.apply(lambda x : x[\"26-50\"] if \"26-50\" in x else 0)\n",
        "    input_df[\"cnt_ht_18h_out\"] = input_df.bucketed_percentage_time_home.apply(lambda x : x[\"0-25\"] if \"0-25\" in x else 0)\n",
        "\n",
        "    # device counts were turned into these probabilities\n",
        "    input_df[\"p_completely_home\"] = input_df.completely_home_device_count / input_df.device_count\n",
        "    input_df[\"p_lt_6h_out\"] = input_df[\"cnt_lt_6h_out\"] / (input_df[\"cnt_lt_6h_out\"] + input_df[\"cnt_6h_12h_out\"] + input_df[\"cnt_12h_18h_out\"] + input_df[\"cnt_ht_18h_out\"])\n",
        "    input_df[\"p_6h_12h_out\"] = input_df[\"cnt_6h_12h_out\"] / (input_df[\"cnt_lt_6h_out\"] + input_df[\"cnt_6h_12h_out\"] + input_df[\"cnt_12h_18h_out\"] + input_df[\"cnt_ht_18h_out\"])\n",
        "    input_df[\"p_ht_12h_out\"] = 1 - (input_df[\"p_lt_6h_out\"] + input_df[\"p_6h_12h_out\"])\n",
        "\n",
        "    input_df[\"p_part_time_work\"] = input_df.part_time_work_behavior_devices / input_df.device_count\n",
        "    input_df[\"p_full_time_work\"] = input_df.full_time_work_behavior_devices / input_df.device_count\n",
        "    input_df[\"p_delivery\"] = input_df.delivery_behavior_devices / input_df.device_count\n",
        "    \n",
        "    select_columns = ['origin_census_block_group', 'date', 'device_count', 'distance_traveled_from_home', \n",
        "                      'p_completely_home', 'p_lt_6h_out', 'p_6h_12h_out', 'p_ht_12h_out', \n",
        "                      'p_part_time_work', 'p_full_time_work', 'p_delivery']\n",
        "\n",
        "    output_df = input_df[select_columns]\n",
        "    \n",
        "    return output_df\n",
        "    "
      ],
      "execution_count": null,
      "outputs": []
    },
    {
      "cell_type": "code",
      "metadata": {
        "id": "I2rHSHqnS4ul",
        "colab_type": "code",
        "colab": {
          "base_uri": "https://localhost:8080/",
          "height": 480
        },
        "outputId": "0bacf194-8801-4468-d2c2-ba1ec2b02be5"
      },
      "source": [
        "oneday_df = pd.read_csv('./2020-04-30-social-distancing.csv.gz')\n",
        "oneday_df.info()"
      ],
      "execution_count": null,
      "outputs": [
        {
          "output_type": "stream",
          "text": [
            "<class 'pandas.core.frame.DataFrame'>\n",
            "RangeIndex: 219343 entries, 0 to 219342\n",
            "Data columns (total 20 columns):\n",
            " #   Column                                      Non-Null Count   Dtype  \n",
            "---  ------                                      --------------   -----  \n",
            " 0   origin_census_block_group                   219343 non-null  int64  \n",
            " 1   date_range_start                            219343 non-null  object \n",
            " 2   date_range_end                              219343 non-null  object \n",
            " 3   device_count                                219343 non-null  int64  \n",
            " 4   distance_traveled_from_home                 219324 non-null  float64\n",
            " 5   bucketed_distance_traveled                  219343 non-null  object \n",
            " 6   median_dwell_at_bucketed_distance_traveled  219324 non-null  object \n",
            " 7   completely_home_device_count                219343 non-null  int64  \n",
            " 8   median_home_dwell_time                      219343 non-null  int64  \n",
            " 9   bucketed_home_dwell_time                    219343 non-null  object \n",
            " 10  at_home_by_each_hour                        219343 non-null  object \n",
            " 11  part_time_work_behavior_devices             219343 non-null  int64  \n",
            " 12  full_time_work_behavior_devices             219343 non-null  int64  \n",
            " 13  destination_cbgs                            219343 non-null  object \n",
            " 14  delivery_behavior_devices                   219343 non-null  int64  \n",
            " 15  median_non_home_dwell_time                  219343 non-null  int64  \n",
            " 16  candidate_device_count                      219343 non-null  int64  \n",
            " 17  bucketed_away_from_home_time                219343 non-null  object \n",
            " 18  median_percentage_time_home                 219343 non-null  int64  \n",
            " 19  bucketed_percentage_time_home               219343 non-null  object \n",
            "dtypes: float64(1), int64(10), object(9)\n",
            "memory usage: 33.5+ MB\n"
          ],
          "name": "stdout"
        }
      ]
    },
    {
      "cell_type": "code",
      "metadata": {
        "id": "he-F3K5pS4un",
        "colab_type": "code",
        "colab": {
          "base_uri": "https://localhost:8080/",
          "height": 583
        },
        "outputId": "6d3b5647-bf8f-4888-c3b5-f73e50974a36"
      },
      "source": [
        "# select Cook county\n",
        "oneday_df = oneday_df[oneday_df.origin_census_block_group // 10000000 == 17031]\n",
        "oneday_df['GEOID'] = oneday_df.origin_census_block_group.astype('str')\n",
        "\n",
        "# filter only Chicago CBGs\n",
        "oneday_df = pd.merge(chi_cbg, oneday_df,\n",
        "                  left_on = 'GEOID', right_on = 'GEOID', how = 'inner')\n",
        "oneday_df.info()"
      ],
      "execution_count": null,
      "outputs": [
        {
          "output_type": "stream",
          "text": [
            "<class 'geopandas.geodataframe.GeoDataFrame'>\n",
            "Int64Index: 2315 entries, 0 to 2314\n",
            "Data columns (total 26 columns):\n",
            " #   Column                                      Non-Null Count  Dtype   \n",
            "---  ------                                      --------------  -----   \n",
            " 0   GEOID                                       2315 non-null   object  \n",
            " 1   geometry                                    2315 non-null   geometry\n",
            " 2   name                                        2315 non-null   object  \n",
            " 3   objectid                                    2315 non-null   object  \n",
            " 4   shape_area                                  2315 non-null   object  \n",
            " 5   shape_len                                   2315 non-null   object  \n",
            " 6   origin_census_block_group                   2315 non-null   int64   \n",
            " 7   date_range_start                            2315 non-null   object  \n",
            " 8   date_range_end                              2315 non-null   object  \n",
            " 9   device_count                                2315 non-null   int64   \n",
            " 10  distance_traveled_from_home                 2314 non-null   float64 \n",
            " 11  bucketed_distance_traveled                  2315 non-null   object  \n",
            " 12  median_dwell_at_bucketed_distance_traveled  2314 non-null   object  \n",
            " 13  completely_home_device_count                2315 non-null   int64   \n",
            " 14  median_home_dwell_time                      2315 non-null   int64   \n",
            " 15  bucketed_home_dwell_time                    2315 non-null   object  \n",
            " 16  at_home_by_each_hour                        2315 non-null   object  \n",
            " 17  part_time_work_behavior_devices             2315 non-null   int64   \n",
            " 18  full_time_work_behavior_devices             2315 non-null   int64   \n",
            " 19  destination_cbgs                            2315 non-null   object  \n",
            " 20  delivery_behavior_devices                   2315 non-null   int64   \n",
            " 21  median_non_home_dwell_time                  2315 non-null   int64   \n",
            " 22  candidate_device_count                      2315 non-null   int64   \n",
            " 23  bucketed_away_from_home_time                2315 non-null   object  \n",
            " 24  median_percentage_time_home                 2315 non-null   int64   \n",
            " 25  bucketed_percentage_time_home               2315 non-null   object  \n",
            "dtypes: float64(1), geometry(1), int64(10), object(14)\n",
            "memory usage: 488.3+ KB\n"
          ],
          "name": "stdout"
        }
      ]
    },
    {
      "cell_type": "code",
      "metadata": {
        "id": "0jpWLk63S4ur",
        "colab_type": "code",
        "colab": {
          "base_uri": "https://localhost:8080/",
          "height": 326
        },
        "outputId": "02f9cc31-b1b6-4691-df69-c73be6c324e6"
      },
      "source": [
        "import warnings; warnings.simplefilter('ignore')\n",
        "\n",
        "oneday_df2 = get_prob(oneday_df)\n",
        "oneday_df2.info()"
      ],
      "execution_count": null,
      "outputs": [
        {
          "output_type": "stream",
          "text": [
            "<class 'pandas.core.frame.DataFrame'>\n",
            "Int64Index: 2315 entries, 0 to 2314\n",
            "Data columns (total 11 columns):\n",
            " #   Column                       Non-Null Count  Dtype  \n",
            "---  ------                       --------------  -----  \n",
            " 0   origin_census_block_group    2315 non-null   int64  \n",
            " 1   date                         2315 non-null   object \n",
            " 2   device_count                 2315 non-null   int64  \n",
            " 3   distance_traveled_from_home  2314 non-null   float64\n",
            " 4   p_completely_home            2315 non-null   float64\n",
            " 5   p_lt_6h_out                  2315 non-null   float64\n",
            " 6   p_6h_12h_out                 2315 non-null   float64\n",
            " 7   p_ht_12h_out                 2315 non-null   float64\n",
            " 8   p_part_time_work             2315 non-null   float64\n",
            " 9   p_full_time_work             2315 non-null   float64\n",
            " 10  p_delivery                   2315 non-null   float64\n",
            "dtypes: float64(8), int64(2), object(1)\n",
            "memory usage: 217.0+ KB\n"
          ],
          "name": "stdout"
        }
      ]
    },
    {
      "cell_type": "markdown",
      "metadata": {
        "id": "l972P30_S4ut",
        "colab_type": "text"
      },
      "source": [
        "### These columns are saved into social_distancing_17031.csv from 2019-01-01 to 2020-05-26"
      ]
    },
    {
      "cell_type": "code",
      "metadata": {
        "id": "uAKx_029S4uu",
        "colab_type": "code",
        "colab": {}
      },
      "source": [
        ""
      ],
      "execution_count": null,
      "outputs": []
    }
  ]
}