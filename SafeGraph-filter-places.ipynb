{
  "nbformat": 4,
  "nbformat_minor": 0,
  "metadata": {
    "kernelspec": {
      "display_name": "Python 3",
      "language": "python",
      "name": "python3"
    },
    "language_info": {
      "codemirror_mode": {
        "name": "ipython",
        "version": 3
      },
      "file_extension": ".py",
      "mimetype": "text/x-python",
      "name": "python",
      "nbconvert_exporter": "python",
      "pygments_lexer": "ipython3",
      "version": "3.6.8"
    },
    "colab": {
      "name": "SafeGraph-social-distancing-process_one_day.ipynb",
      "provenance": [],
      "toc_visible": true,
      "include_colab_link": true
    }
  },
  "cells": [
    {
      "cell_type": "markdown",
      "metadata": {
        "id": "view-in-github",
        "colab_type": "text"
      },
      "source": [
        "<a href=\"https://colab.research.google.com/github/kywch/geo-colab/blob/master/SafeGraph-filter-places.ipynb\" target=\"_parent\"><img src=\"https://colab.research.google.com/assets/colab-badge.svg\" alt=\"Open In Colab\"/></a>"
      ]
    },
    {
      "cell_type": "code",
      "metadata": {
        "id": "ClCzSJKmS9Rl",
        "colab_type": "code",
        "colab": {}
      },
      "source": [
        "colab_requirements = [\n",
        "    \"apt install python3-rtree=0.8.3+ds-1\", # rtree v0.8.3\n",
        "    \"pip install geopandas==0.7.0\" # geopandas v0.7.0 \n",
        "]"
      ],
      "execution_count": 1,
      "outputs": []
    },
    {
      "cell_type": "code",
      "metadata": {
        "id": "2fi-as9fS9Jo",
        "colab_type": "code",
        "colab": {
          "base_uri": "https://localhost:8080/",
          "height": 1000
        },
        "outputId": "d4126a60-1ff6-4524-b04b-f82dc9e0efde"
      },
      "source": [
        "# following the post, 'Making Jupyter notebooks Google Colab ready'\n",
        "# https://timsainburg.com/google%20colab.html\n",
        "\n",
        "import os, sys, subprocess\n",
        "\n",
        "def run_subprocess_command(cmd):\n",
        "    # run the command\n",
        "    process = subprocess.Popen(cmd.split(), stdout=subprocess.PIPE)\n",
        "    # print the output\n",
        "    for line in process.stdout:\n",
        "        print(line.decode().strip())\n",
        "        \n",
        "if 'COLAB_GPU' in os.environ: # a quick and dirty way to check whether this is COLAB\n",
        "    for i in colab_requirements:\n",
        "        run_subprocess_command(i)"
      ],
      "execution_count": 2,
      "outputs": [
        {
          "output_type": "stream",
          "text": [
            "Reading package lists...\n",
            "Building dependency tree...\n",
            "Reading state information...\n",
            "The following package was automatically installed and is no longer required:\n",
            "libnvidia-common-440\n",
            "Use 'apt autoremove' to remove it.\n",
            "The following additional packages will be installed:\n",
            "libspatialindex-c4v5 libspatialindex-dev libspatialindex4v5\n",
            "python3-pkg-resources\n",
            "Suggested packages:\n",
            "python3-setuptools\n",
            "The following NEW packages will be installed:\n",
            "libspatialindex-c4v5 libspatialindex-dev libspatialindex4v5\n",
            "python3-pkg-resources python3-rtree\n",
            "0 upgraded, 5 newly installed, 0 to remove and 35 not upgraded.\n",
            "Need to get 671 kB of archives.\n",
            "After this operation, 3,948 kB of additional disk space will be used.\n",
            "Get:1 http://archive.ubuntu.com/ubuntu bionic/universe amd64 libspatialindex4v5 amd64 1.8.5-5 [219 kB]\n",
            "Get:2 http://archive.ubuntu.com/ubuntu bionic/universe amd64 libspatialindex-c4v5 amd64 1.8.5-5 [51.7 kB]\n",
            "Get:3 http://archive.ubuntu.com/ubuntu bionic/main amd64 python3-pkg-resources all 39.0.1-2 [98.8 kB]\n",
            "Get:4 http://archive.ubuntu.com/ubuntu bionic/universe amd64 libspatialindex-dev amd64 1.8.5-5 [285 kB]\n",
            "Get:5 http://archive.ubuntu.com/ubuntu bionic/universe amd64 python3-rtree all 0.8.3+ds-1 [16.9 kB]\n",
            "Fetched 671 kB in 1s (546 kB/s)\n",
            "Selecting previously unselected package libspatialindex4v5:amd64.\n",
            "(Reading database ... 144465 files and directories currently installed.)\n",
            "Preparing to unpack .../libspatialindex4v5_1.8.5-5_amd64.deb ...\n",
            "Unpacking libspatialindex4v5:amd64 (1.8.5-5) ...\n",
            "Selecting previously unselected package libspatialindex-c4v5:amd64.\n",
            "Preparing to unpack .../libspatialindex-c4v5_1.8.5-5_amd64.deb ...\n",
            "Unpacking libspatialindex-c4v5:amd64 (1.8.5-5) ...\n",
            "Selecting previously unselected package python3-pkg-resources.\n",
            "Preparing to unpack .../python3-pkg-resources_39.0.1-2_all.deb ...\n",
            "Unpacking python3-pkg-resources (39.0.1-2) ...\n",
            "Selecting previously unselected package libspatialindex-dev:amd64.\n",
            "Preparing to unpack .../libspatialindex-dev_1.8.5-5_amd64.deb ...\n",
            "Unpacking libspatialindex-dev:amd64 (1.8.5-5) ...\n",
            "Selecting previously unselected package python3-rtree.\n",
            "Preparing to unpack .../python3-rtree_0.8.3+ds-1_all.deb ...\n",
            "Unpacking python3-rtree (0.8.3+ds-1) ...\n",
            "Setting up libspatialindex4v5:amd64 (1.8.5-5) ...\n",
            "Setting up python3-pkg-resources (39.0.1-2) ...\n",
            "Setting up libspatialindex-c4v5:amd64 (1.8.5-5) ...\n",
            "Setting up libspatialindex-dev:amd64 (1.8.5-5) ...\n",
            "Setting up python3-rtree (0.8.3+ds-1) ...\n",
            "Processing triggers for libc-bin (2.27-3ubuntu1) ...\n",
            "/sbin/ldconfig.real: /usr/local/lib/python3.6/dist-packages/ideep4py/lib/libmkldnn.so.0 is not a symbolic link\n",
            "\n",
            "Collecting geopandas==0.7.0\n",
            "Downloading https://files.pythonhosted.org/packages/83/c5/3cf9cdc39a6f2552922f79915f36b45a95b71fd343cfc51170a5b6ddb6e8/geopandas-0.7.0-py2.py3-none-any.whl (928kB)\n",
            "Requirement already satisfied: pandas>=0.23.0 in /usr/local/lib/python3.6/dist-packages (from geopandas==0.7.0) (1.0.5)\n",
            "Requirement already satisfied: shapely in /usr/local/lib/python3.6/dist-packages (from geopandas==0.7.0) (1.7.0)\n",
            "Collecting fiona\n",
            "Downloading https://files.pythonhosted.org/packages/ec/20/4e63bc5c6e62df889297b382c3ccd4a7a488b00946aaaf81a118158c6f09/Fiona-1.8.13.post1-cp36-cp36m-manylinux1_x86_64.whl (14.7MB)\n",
            "Collecting pyproj>=2.2.0\n",
            "Downloading https://files.pythonhosted.org/packages/e5/c3/071e080230ac4b6c64f1a2e2f9161c9737a2bc7b683d2c90b024825000c0/pyproj-2.6.1.post1-cp36-cp36m-manylinux2010_x86_64.whl (10.9MB)\n",
            "Requirement already satisfied: python-dateutil>=2.6.1 in /usr/local/lib/python3.6/dist-packages (from pandas>=0.23.0->geopandas==0.7.0) (2.8.1)\n",
            "Requirement already satisfied: numpy>=1.13.3 in /usr/local/lib/python3.6/dist-packages (from pandas>=0.23.0->geopandas==0.7.0) (1.18.5)\n",
            "Requirement already satisfied: pytz>=2017.2 in /usr/local/lib/python3.6/dist-packages (from pandas>=0.23.0->geopandas==0.7.0) (2018.9)\n",
            "Collecting munch\n",
            "Downloading https://files.pythonhosted.org/packages/cc/ab/85d8da5c9a45e072301beb37ad7f833cd344e04c817d97e0cc75681d248f/munch-2.5.0-py2.py3-none-any.whl\n",
            "Collecting cligj>=0.5\n",
            "Downloading https://files.pythonhosted.org/packages/e4/be/30a58b4b0733850280d01f8bd132591b4668ed5c7046761098d665ac2174/cligj-0.5.0-py3-none-any.whl\n",
            "Requirement already satisfied: click<8,>=4.0 in /usr/local/lib/python3.6/dist-packages (from fiona->geopandas==0.7.0) (7.1.2)\n",
            "Requirement already satisfied: six>=1.7 in /usr/local/lib/python3.6/dist-packages (from fiona->geopandas==0.7.0) (1.15.0)\n",
            "Collecting click-plugins>=1.0\n",
            "Downloading https://files.pythonhosted.org/packages/e9/da/824b92d9942f4e472702488857914bdd50f73021efea15b4cad9aca8ecef/click_plugins-1.1.1-py2.py3-none-any.whl\n",
            "Requirement already satisfied: attrs>=17 in /usr/local/lib/python3.6/dist-packages (from fiona->geopandas==0.7.0) (19.3.0)\n",
            "Installing collected packages: munch, cligj, click-plugins, fiona, pyproj, geopandas\n",
            "Successfully installed click-plugins-1.1.1 cligj-0.5.0 fiona-1.8.13.post1 geopandas-0.7.0 munch-2.5.0 pyproj-2.6.1.post1\n"
          ],
          "name": "stdout"
        }
      ]
    },
    {
      "cell_type": "code",
      "metadata": {
        "id": "KuRSKxAC-lNE",
        "colab_type": "code",
        "colab": {}
      },
      "source": [
        "import pandas as pd\n",
        "\n",
        "import geopandas as gpd\n",
        "from fiona.crs import from_epsg\n",
        "from shapely.geometry import Point\n",
        "\n",
        "from glob import glob\n",
        "import time\n",
        "\n",
        "import os\n",
        "from shutil import copyfile"
      ],
      "execution_count": 3,
      "outputs": []
    },
    {
      "cell_type": "markdown",
      "metadata": {
        "id": "XwcjIi7T-xxK",
        "colab_type": "text"
      },
      "source": [
        "## Load the Places dataset from Google Drive"
      ]
    },
    {
      "cell_type": "code",
      "metadata": {
        "id": "CeQM_zpb_KSB",
        "colab_type": "code",
        "colab": {
          "base_uri": "https://localhost:8080/",
          "height": 123
        },
        "outputId": "ce9d1da0-f7fa-45c9-c0fc-97689ad2ff6a"
      },
      "source": [
        "from google.colab import drive\n",
        "drive.mount('/content/drive')"
      ],
      "execution_count": 4,
      "outputs": [
        {
          "output_type": "stream",
          "text": [
            "Go to this URL in a browser: https://accounts.google.com/o/oauth2/auth?client_id=947318989803-6bn6qk8qdgf4n4g3pfee6491hc0brc4i.apps.googleusercontent.com&redirect_uri=urn%3aietf%3awg%3aoauth%3a2.0%3aoob&response_type=code&scope=email%20https%3a%2f%2fwww.googleapis.com%2fauth%2fdocs.test%20https%3a%2f%2fwww.googleapis.com%2fauth%2fdrive%20https%3a%2f%2fwww.googleapis.com%2fauth%2fdrive.photos.readonly%20https%3a%2f%2fwww.googleapis.com%2fauth%2fpeopleapi.readonly\n",
            "\n",
            "Enter your authorization code:\n",
            "··········\n",
            "Mounted at /content/drive\n"
          ],
          "name": "stdout"
        }
      ]
    },
    {
      "cell_type": "code",
      "metadata": {
        "id": "WeE8xloE_Xdz",
        "colab_type": "code",
        "colab": {
          "base_uri": "https://localhost:8080/",
          "height": 120
        },
        "outputId": "689e9dd9-b42a-44ae-94ce-57ee31d61a78"
      },
      "source": [
        "!ls drive/My\\ Drive/SafeGraph/places"
      ],
      "execution_count": 5,
      "outputs": [
        {
          "output_type": "stream",
          "text": [
            "brand_info.csv\t\t\t\t\t\t  core_poi-part3.csv.gz\n",
            "core_places_IL.csv\t\t\t\t\t  core_poi-part4.csv.gz\n",
            "core_places_IL.geojson\t\t\t\t\t  core_poi-part5.csv.gz\n",
            "CorePlacesMay2020Release-CORE_POI-2020_04-2020-05-06.zip  README.txt\n",
            "core_poi-part1.csv.gz\t\t\t\t\t  SquareFeet.csv.gz\n",
            "core_poi-part2.csv.gz\n"
          ],
          "name": "stdout"
        }
      ]
    },
    {
      "cell_type": "code",
      "metadata": {
        "id": "vRYOsFTK_oJi",
        "colab_type": "code",
        "colab": {
          "base_uri": "https://localhost:8080/",
          "height": 54
        },
        "outputId": "967d5e14-1913-44b3-a323-cadd7185f8a7"
      },
      "source": [
        "# grab the SafeGraph core places\n",
        "files = glob(\"drive/My Drive/SafeGraph/places/core*.csv.gz\")\n",
        "print(files)"
      ],
      "execution_count": 6,
      "outputs": [
        {
          "output_type": "stream",
          "text": [
            "['drive/My Drive/SafeGraph/places/core_poi-part4.csv.gz', 'drive/My Drive/SafeGraph/places/core_poi-part5.csv.gz', 'drive/My Drive/SafeGraph/places/core_poi-part1.csv.gz', 'drive/My Drive/SafeGraph/places/core_poi-part3.csv.gz', 'drive/My Drive/SafeGraph/places/core_poi-part2.csv.gz']\n"
          ],
          "name": "stdout"
        }
      ]
    },
    {
      "cell_type": "code",
      "metadata": {
        "id": "X-HBIvKdBT5H",
        "colab_type": "code",
        "colab": {}
      },
      "source": [
        "# copy these files from Google Drive to colab disk\n",
        "os.mkdir('sg_data')\n",
        "for f in files:\n",
        "  copyfile(f, 'sg_data/' + os.path.basename(f))"
      ],
      "execution_count": 7,
      "outputs": []
    },
    {
      "cell_type": "code",
      "metadata": {
        "id": "KpI1kIskCa-H",
        "colab_type": "code",
        "colab": {
          "base_uri": "https://localhost:8080/",
          "height": 54
        },
        "outputId": "eac3e2c5-db9a-44ce-98cb-56e226f76dac"
      },
      "source": [
        "#!ls sg_data\n",
        "files = glob(\"sg_data/core*.csv.gz\")\n",
        "print(files)"
      ],
      "execution_count": 8,
      "outputs": [
        {
          "output_type": "stream",
          "text": [
            "['sg_data/core_poi-part4.csv.gz', 'sg_data/core_poi-part5.csv.gz', 'sg_data/core_poi-part1.csv.gz', 'sg_data/core_poi-part2.csv.gz', 'sg_data/core_poi-part3.csv.gz']\n"
          ],
          "name": "stdout"
        }
      ]
    },
    {
      "cell_type": "code",
      "metadata": {
        "id": "uEu_2xy5AIU4",
        "colab_type": "code",
        "colab": {
          "base_uri": "https://localhost:8080/",
          "height": 86
        },
        "outputId": "a5b224bc-544d-4344-83a7-26574f362436"
      },
      "source": [
        "place_df = pd.read_csv(files[0])\n",
        "for f in files[1:]:\n",
        "    t = time.time()\n",
        "    tmp_pd2 = pd.read_csv(f)\n",
        "    place_df = place_df.append(tmp_pd2, ignore_index = True)\n",
        "    print(f + ', new_len: ', str(len(place_df)) + ', proc time: ', str(time.time() - t))"
      ],
      "execution_count": 9,
      "outputs": [
        {
          "output_type": "stream",
          "text": [
            "sg_data/core_poi-part5.csv.gz, new_len:  2074033, proc time:  8.40689754486084\n",
            "sg_data/core_poi-part1.csv.gz, new_len:  3143522, proc time:  9.984866380691528\n",
            "sg_data/core_poi-part2.csv.gz, new_len:  4214042, proc time:  10.657033443450928\n",
            "sg_data/core_poi-part3.csv.gz, new_len:  5284986, proc time:  11.22972559928894\n"
          ],
          "name": "stdout"
        }
      ]
    },
    {
      "cell_type": "code",
      "metadata": {
        "id": "iJcSTak_D7cn",
        "colab_type": "code",
        "colab": {
          "base_uri": "https://localhost:8080/",
          "height": 446
        },
        "outputId": "0c387dcc-a031-4b97-c1f4-9e7f4b683424"
      },
      "source": [
        "place_df.info()"
      ],
      "execution_count": 10,
      "outputs": [
        {
          "output_type": "stream",
          "text": [
            "<class 'pandas.core.frame.DataFrame'>\n",
            "RangeIndex: 5284986 entries, 0 to 5284985\n",
            "Data columns (total 18 columns):\n",
            " #   Column                     Dtype  \n",
            "---  ------                     -----  \n",
            " 0   safegraph_place_id         object \n",
            " 1   parent_safegraph_place_id  object \n",
            " 2   location_name              object \n",
            " 3   safegraph_brand_ids        object \n",
            " 4   brands                     object \n",
            " 5   top_category               object \n",
            " 6   sub_category               object \n",
            " 7   naics_code                 float64\n",
            " 8   latitude                   float64\n",
            " 9   longitude                  float64\n",
            " 10  street_address             object \n",
            " 11  city                       object \n",
            " 12  region                     object \n",
            " 13  postal_code                int64  \n",
            " 14  iso_country_code           object \n",
            " 15  phone_number               float64\n",
            " 16  open_hours                 object \n",
            " 17  category_tags              object \n",
            "dtypes: float64(4), int64(1), object(13)\n",
            "memory usage: 725.8+ MB\n"
          ],
          "name": "stdout"
        }
      ]
    },
    {
      "cell_type": "code",
      "metadata": {
        "id": "GGhEbbjTD7im",
        "colab_type": "code",
        "colab": {
          "base_uri": "https://localhost:8080/",
          "height": 463
        },
        "outputId": "69e14f7f-c3b0-46dd-88aa-62528fdd1f95"
      },
      "source": [
        "place_df.head()"
      ],
      "execution_count": 11,
      "outputs": [
        {
          "output_type": "execute_result",
          "data": {
            "text/html": [
              "<div>\n",
              "<style scoped>\n",
              "    .dataframe tbody tr th:only-of-type {\n",
              "        vertical-align: middle;\n",
              "    }\n",
              "\n",
              "    .dataframe tbody tr th {\n",
              "        vertical-align: top;\n",
              "    }\n",
              "\n",
              "    .dataframe thead th {\n",
              "        text-align: right;\n",
              "    }\n",
              "</style>\n",
              "<table border=\"1\" class=\"dataframe\">\n",
              "  <thead>\n",
              "    <tr style=\"text-align: right;\">\n",
              "      <th></th>\n",
              "      <th>safegraph_place_id</th>\n",
              "      <th>parent_safegraph_place_id</th>\n",
              "      <th>location_name</th>\n",
              "      <th>safegraph_brand_ids</th>\n",
              "      <th>brands</th>\n",
              "      <th>top_category</th>\n",
              "      <th>sub_category</th>\n",
              "      <th>naics_code</th>\n",
              "      <th>latitude</th>\n",
              "      <th>longitude</th>\n",
              "      <th>street_address</th>\n",
              "      <th>city</th>\n",
              "      <th>region</th>\n",
              "      <th>postal_code</th>\n",
              "      <th>iso_country_code</th>\n",
              "      <th>phone_number</th>\n",
              "      <th>open_hours</th>\n",
              "      <th>category_tags</th>\n",
              "    </tr>\n",
              "  </thead>\n",
              "  <tbody>\n",
              "    <tr>\n",
              "      <th>0</th>\n",
              "      <td>sg:00201f75b90b47d3be813562f946d97f</td>\n",
              "      <td>NaN</td>\n",
              "      <td>First Presbyterian Church of Stamford</td>\n",
              "      <td>NaN</td>\n",
              "      <td>NaN</td>\n",
              "      <td>Religious Organizations</td>\n",
              "      <td>Religious Organizations</td>\n",
              "      <td>813110.0</td>\n",
              "      <td>41.062975</td>\n",
              "      <td>-73.538788</td>\n",
              "      <td>1101 Bedford St</td>\n",
              "      <td>Stamford</td>\n",
              "      <td>CT</td>\n",
              "      <td>6905</td>\n",
              "      <td>US</td>\n",
              "      <td>1.203325e+10</td>\n",
              "      <td>{ \"Mon\": [[\"9:00\", \"17:00\"]], \"Tue\": [[\"9:00\",...</td>\n",
              "      <td>NaN</td>\n",
              "    </tr>\n",
              "    <tr>\n",
              "      <th>1</th>\n",
              "      <td>sg:002b991d388c42a3a64db6066f8c4c0e</td>\n",
              "      <td>NaN</td>\n",
              "      <td>El Gran Sabor</td>\n",
              "      <td>NaN</td>\n",
              "      <td>NaN</td>\n",
              "      <td>Restaurants and Other Eating Places</td>\n",
              "      <td>Full-Service Restaurants</td>\n",
              "      <td>722511.0</td>\n",
              "      <td>38.926747</td>\n",
              "      <td>-79.848400</td>\n",
              "      <td>413 Kerens Ave</td>\n",
              "      <td>Elkins</td>\n",
              "      <td>WV</td>\n",
              "      <td>26241</td>\n",
              "      <td>US</td>\n",
              "      <td>1.304637e+10</td>\n",
              "      <td>NaN</td>\n",
              "      <td>Late Night,Latin American Food</td>\n",
              "    </tr>\n",
              "    <tr>\n",
              "      <th>2</th>\n",
              "      <td>sg:002e6e7d2a0642a197e51a44bfce7a3e</td>\n",
              "      <td>NaN</td>\n",
              "      <td>Public Storage</td>\n",
              "      <td>SG_BRAND_1a2e7806afb9c1c7d60fd00219204dde</td>\n",
              "      <td>Public Storage</td>\n",
              "      <td>Lessors of Real Estate</td>\n",
              "      <td>Lessors of Miniwarehouses and Self-Storage Units</td>\n",
              "      <td>531130.0</td>\n",
              "      <td>33.035779</td>\n",
              "      <td>-96.699591</td>\n",
              "      <td>2801 Avenue K</td>\n",
              "      <td>Plano</td>\n",
              "      <td>TX</td>\n",
              "      <td>75074</td>\n",
              "      <td>US</td>\n",
              "      <td>NaN</td>\n",
              "      <td>NaN</td>\n",
              "      <td>NaN</td>\n",
              "    </tr>\n",
              "    <tr>\n",
              "      <th>3</th>\n",
              "      <td>sg:0045ce84ae2847a08abe59b4139f871e</td>\n",
              "      <td>NaN</td>\n",
              "      <td>TravelCenters of America</td>\n",
              "      <td>SG_BRAND_27a15966382ba3e78015b40d2e1fa976</td>\n",
              "      <td>TravelCenters of America</td>\n",
              "      <td>Gasoline Stations</td>\n",
              "      <td>Gasoline Stations with Convenience Stores</td>\n",
              "      <td>447110.0</td>\n",
              "      <td>38.428077</td>\n",
              "      <td>-95.726311</td>\n",
              "      <td>2775 US Highway 75</td>\n",
              "      <td>Lebo</td>\n",
              "      <td>KS</td>\n",
              "      <td>66856</td>\n",
              "      <td>US</td>\n",
              "      <td>NaN</td>\n",
              "      <td>NaN</td>\n",
              "      <td>NaN</td>\n",
              "    </tr>\n",
              "    <tr>\n",
              "      <th>4</th>\n",
              "      <td>sg:00a3a6674d95443c80e481bdf68e84d2</td>\n",
              "      <td>sg:6449a1a66fcc451abc993849f61445f0</td>\n",
              "      <td>Great American Cookie Company</td>\n",
              "      <td>NaN</td>\n",
              "      <td>NaN</td>\n",
              "      <td>Bakeries and Tortilla Manufacturing</td>\n",
              "      <td>Retail Bakeries</td>\n",
              "      <td>311811.0</td>\n",
              "      <td>30.257337</td>\n",
              "      <td>-97.807172</td>\n",
              "      <td>Barton Creek Mall</td>\n",
              "      <td>Austin</td>\n",
              "      <td>TX</td>\n",
              "      <td>78701</td>\n",
              "      <td>US</td>\n",
              "      <td>1.512328e+10</td>\n",
              "      <td>NaN</td>\n",
              "      <td>NaN</td>\n",
              "    </tr>\n",
              "  </tbody>\n",
              "</table>\n",
              "</div>"
            ],
            "text/plain": [
              "                    safegraph_place_id  ...                   category_tags\n",
              "0  sg:00201f75b90b47d3be813562f946d97f  ...                             NaN\n",
              "1  sg:002b991d388c42a3a64db6066f8c4c0e  ...  Late Night,Latin American Food\n",
              "2  sg:002e6e7d2a0642a197e51a44bfce7a3e  ...                             NaN\n",
              "3  sg:0045ce84ae2847a08abe59b4139f871e  ...                             NaN\n",
              "4  sg:00a3a6674d95443c80e481bdf68e84d2  ...                             NaN\n",
              "\n",
              "[5 rows x 18 columns]"
            ]
          },
          "metadata": {
            "tags": []
          },
          "execution_count": 11
        }
      ]
    },
    {
      "cell_type": "code",
      "metadata": {
        "id": "9g6IZQLOD7mc",
        "colab_type": "code",
        "colab": {}
      },
      "source": [
        "# translate latitude and longitude to geopandas\n",
        "place_gdf = gpd.GeoDataFrame(\n",
        "    place_df, geometry = gpd.points_from_xy(place_df.longitude, place_df.latitude),\n",
        "    crs = \"epsg:4326\" # https://geopandas.readthedocs.io/en/v0.6.0/projections.html#coordinate-reference-systems\n",
        ").to_crs(epsg=3528) # https://spatialreference.org/ref/epsg/3528/"
      ],
      "execution_count": 12,
      "outputs": []
    },
    {
      "cell_type": "code",
      "metadata": {
        "id": "_-hPA_mED7pf",
        "colab_type": "code",
        "colab": {
          "base_uri": "https://localhost:8080/",
          "height": 463
        },
        "outputId": "061a387d-bc45-4474-9f0b-6a352237524d"
      },
      "source": [
        "place_gdf.info()"
      ],
      "execution_count": 13,
      "outputs": [
        {
          "output_type": "stream",
          "text": [
            "<class 'geopandas.geodataframe.GeoDataFrame'>\n",
            "RangeIndex: 5284986 entries, 0 to 5284985\n",
            "Data columns (total 19 columns):\n",
            " #   Column                     Dtype   \n",
            "---  ------                     -----   \n",
            " 0   safegraph_place_id         object  \n",
            " 1   parent_safegraph_place_id  object  \n",
            " 2   location_name              object  \n",
            " 3   safegraph_brand_ids        object  \n",
            " 4   brands                     object  \n",
            " 5   top_category               object  \n",
            " 6   sub_category               object  \n",
            " 7   naics_code                 float64 \n",
            " 8   latitude                   float64 \n",
            " 9   longitude                  float64 \n",
            " 10  street_address             object  \n",
            " 11  city                       object  \n",
            " 12  region                     object  \n",
            " 13  postal_code                int64   \n",
            " 14  iso_country_code           object  \n",
            " 15  phone_number               float64 \n",
            " 16  open_hours                 object  \n",
            " 17  category_tags              object  \n",
            " 18  geometry                   geometry\n",
            "dtypes: float64(4), geometry(1), int64(1), object(13)\n",
            "memory usage: 766.1+ MB\n"
          ],
          "name": "stdout"
        }
      ]
    },
    {
      "cell_type": "code",
      "metadata": {
        "id": "uLz-gq97H1XZ",
        "colab_type": "code",
        "colab": {
          "base_uri": "https://localhost:8080/",
          "height": 463
        },
        "outputId": "b28519ea-552b-4240-fc73-cf2a2343f6a5"
      },
      "source": [
        "# limit to Illinois (5.3M --> 200K places)\n",
        "place_gdf_IL = place_gdf[place_gdf.region == 'IL']\n",
        "place_gdf_IL.info()"
      ],
      "execution_count": 14,
      "outputs": [
        {
          "output_type": "stream",
          "text": [
            "<class 'geopandas.geodataframe.GeoDataFrame'>\n",
            "Int64Index: 200614 entries, 5 to 5284973\n",
            "Data columns (total 19 columns):\n",
            " #   Column                     Non-Null Count   Dtype   \n",
            "---  ------                     --------------   -----   \n",
            " 0   safegraph_place_id         200614 non-null  object  \n",
            " 1   parent_safegraph_place_id  24590 non-null   object  \n",
            " 2   location_name              200614 non-null  object  \n",
            " 3   safegraph_brand_ids        47267 non-null   object  \n",
            " 4   brands                     47267 non-null   object  \n",
            " 5   top_category               198532 non-null  object  \n",
            " 6   sub_category               198532 non-null  object  \n",
            " 7   naics_code                 198532 non-null  float64 \n",
            " 8   latitude                   200614 non-null  float64 \n",
            " 9   longitude                  200614 non-null  float64 \n",
            " 10  street_address             200614 non-null  object  \n",
            " 11  city                       200614 non-null  object  \n",
            " 12  region                     200614 non-null  object  \n",
            " 13  postal_code                200614 non-null  int64   \n",
            " 14  iso_country_code           200614 non-null  object  \n",
            " 15  phone_number               154280 non-null  float64 \n",
            " 16  open_hours                 95217 non-null   object  \n",
            " 17  category_tags              28196 non-null   object  \n",
            " 18  geometry                   200614 non-null  geometry\n",
            "dtypes: float64(4), geometry(1), int64(1), object(13)\n",
            "memory usage: 30.6+ MB\n"
          ],
          "name": "stdout"
        }
      ]
    },
    {
      "cell_type": "code",
      "metadata": {
        "id": "PIVZvSasLgvY",
        "colab_type": "code",
        "colab": {
          "base_uri": "https://localhost:8080/",
          "height": 257
        },
        "outputId": "644fddc9-c9b3-44e4-cdec-9ebbce29c675"
      },
      "source": [
        "place_gdf_IL.crs"
      ],
      "execution_count": 15,
      "outputs": [
        {
          "output_type": "execute_result",
          "data": {
            "text/plain": [
              "<Projected CRS: EPSG:3528>\n",
              "Name: NAD83(NSRS2007) / Illinois East\n",
              "Axis Info [cartesian]:\n",
              "- X[east]: Easting (metre)\n",
              "- Y[north]: Northing (metre)\n",
              "Area of Use:\n",
              "- name: USA - Illinois - SPCS - E\n",
              "- bounds: (-89.28, 37.06, -87.02, 42.5)\n",
              "Coordinate Operation:\n",
              "- name: SPCS83 Illinois East zone (meters)\n",
              "- method: Transverse Mercator\n",
              "Datum: NAD83 (National Spatial Reference System 2007)\n",
              "- Ellipsoid: GRS 1980\n",
              "- Prime Meridian: Greenwich"
            ]
          },
          "metadata": {
            "tags": []
          },
          "execution_count": 15
        }
      ]
    },
    {
      "cell_type": "markdown",
      "metadata": {
        "id": "oaWOQG1IS4uX",
        "colab_type": "text"
      },
      "source": [
        "## Get the census block groups of NE Illinois\n",
        "\n",
        "FIPS code for the counties\n",
        "* Cook: 031\n",
        "* Dupage: 043\n",
        "* Grundy: 063\n",
        "* Kane: 089\n",
        "* Kankakee: 091\n",
        "* Kendall: 093\n",
        "* Lake: 097\n",
        "* McHenry: 111\n",
        "* Will: 197"
      ]
    },
    {
      "cell_type": "code",
      "metadata": {
        "id": "wUAOULSSJjDK",
        "colab_type": "code",
        "colab": {}
      },
      "source": [
        "illinois_cbg = gpd.read_file('https://raw.githubusercontent.com/loganpowell/census-geojson/master/GeoJSON/500k/2019/17/block-group.json', \n",
        "                   crs = from_epsg(2163)).to_crs(epsg = 3528)"
      ],
      "execution_count": 16,
      "outputs": []
    },
    {
      "cell_type": "code",
      "metadata": {
        "id": "l0UHsVVrS4uY",
        "colab_type": "code",
        "colab": {
          "base_uri": "https://localhost:8080/",
          "height": 177
        },
        "outputId": "f6172c67-a18a-4b8a-a48a-35d1ff514d3c"
      },
      "source": [
        "# limit to 9 counties mentioned above\n",
        "target_cbg = illinois_cbg[illinois_cbg.COUNTYFP.isin(['031', '043', '063', '089', '091', '093', '097', '111', '197'])]\n",
        "target_cbg = target_cbg[['GEOID', 'geometry']]\n",
        "target_cbg.info()"
      ],
      "execution_count": 17,
      "outputs": [
        {
          "output_type": "stream",
          "text": [
            "<class 'geopandas.geodataframe.GeoDataFrame'>\n",
            "Int64Index: 5998 entries, 0 to 9688\n",
            "Data columns (total 2 columns):\n",
            " #   Column    Non-Null Count  Dtype   \n",
            "---  ------    --------------  -----   \n",
            " 0   GEOID     5998 non-null   object  \n",
            " 1   geometry  5998 non-null   geometry\n",
            "dtypes: geometry(1), object(1)\n",
            "memory usage: 140.6+ KB\n"
          ],
          "name": "stdout"
        }
      ]
    },
    {
      "cell_type": "code",
      "metadata": {
        "id": "Z1nbScYZMAq1",
        "colab_type": "code",
        "colab": {
          "base_uri": "https://localhost:8080/",
          "height": 53
        },
        "outputId": "562f4e91-30c8-48c0-e730-99a8158fb2d3"
      },
      "source": [
        "print(target_cbg.crs)\n",
        "#target_cbg.head()\n",
        "print(place_gdf_IL.crs)"
      ],
      "execution_count": 18,
      "outputs": [
        {
          "output_type": "stream",
          "text": [
            "epsg:3528\n",
            "epsg:3528\n"
          ],
          "name": "stdout"
        }
      ]
    },
    {
      "cell_type": "code",
      "metadata": {
        "id": "L8HDMr3rS4uf",
        "colab_type": "code",
        "colab": {
          "base_uri": "https://localhost:8080/",
          "height": 497
        },
        "outputId": "0bee1b67-f8ed-4163-8c46-90860decb86e"
      },
      "source": [
        "place_gdf_target = gpd.sjoin(place_gdf_IL, target_cbg, how=\"inner\", op=\"within\").drop(\"index_right\", axis = 1)\n",
        "place_gdf_target.info()"
      ],
      "execution_count": 19,
      "outputs": [
        {
          "output_type": "stream",
          "text": [
            "<class 'geopandas.geodataframe.GeoDataFrame'>\n",
            "Int64Index: 132091 entries, 43 to 5230499\n",
            "Data columns (total 20 columns):\n",
            " #   Column                     Non-Null Count   Dtype   \n",
            "---  ------                     --------------   -----   \n",
            " 0   safegraph_place_id         132091 non-null  object  \n",
            " 1   parent_safegraph_place_id  18968 non-null   object  \n",
            " 2   location_name              132091 non-null  object  \n",
            " 3   safegraph_brand_ids        30605 non-null   object  \n",
            " 4   brands                     30605 non-null   object  \n",
            " 5   top_category               130284 non-null  object  \n",
            " 6   sub_category               130284 non-null  object  \n",
            " 7   naics_code                 130284 non-null  float64 \n",
            " 8   latitude                   132091 non-null  float64 \n",
            " 9   longitude                  132091 non-null  float64 \n",
            " 10  street_address             132091 non-null  object  \n",
            " 11  city                       132091 non-null  object  \n",
            " 12  region                     132091 non-null  object  \n",
            " 13  postal_code                132091 non-null  int64   \n",
            " 14  iso_country_code           132091 non-null  object  \n",
            " 15  phone_number               101471 non-null  float64 \n",
            " 16  open_hours                 69805 non-null   object  \n",
            " 17  category_tags              19974 non-null   object  \n",
            " 18  geometry                   132091 non-null  geometry\n",
            " 19  GEOID                      132091 non-null  object  \n",
            "dtypes: float64(4), geometry(1), int64(1), object(14)\n",
            "memory usage: 21.2+ MB\n"
          ],
          "name": "stdout"
        }
      ]
    },
    {
      "cell_type": "code",
      "metadata": {
        "id": "18egmCyTDCXa",
        "colab_type": "code",
        "colab": {
          "base_uri": "https://localhost:8080/",
          "height": 515
        },
        "outputId": "1435c188-b0ba-4db9-ae86-a6c3e6bfcb53"
      },
      "source": [
        "place_gdf_target['naics_2digit'] = place_gdf_target['naics_2digit'].fillna(0.0).astype(int)\n",
        "place_gdf_target.info()"
      ],
      "execution_count": 45,
      "outputs": [
        {
          "output_type": "stream",
          "text": [
            "<class 'geopandas.geodataframe.GeoDataFrame'>\n",
            "Int64Index: 132091 entries, 43 to 5230499\n",
            "Data columns (total 21 columns):\n",
            " #   Column                     Non-Null Count   Dtype   \n",
            "---  ------                     --------------   -----   \n",
            " 0   safegraph_place_id         132091 non-null  object  \n",
            " 1   parent_safegraph_place_id  18968 non-null   object  \n",
            " 2   location_name              132091 non-null  object  \n",
            " 3   safegraph_brand_ids        30605 non-null   object  \n",
            " 4   brands                     30605 non-null   object  \n",
            " 5   top_category               130284 non-null  object  \n",
            " 6   sub_category               130284 non-null  object  \n",
            " 7   naics_code                 130284 non-null  float64 \n",
            " 8   latitude                   132091 non-null  float64 \n",
            " 9   longitude                  132091 non-null  float64 \n",
            " 10  street_address             132091 non-null  object  \n",
            " 11  city                       132091 non-null  object  \n",
            " 12  region                     132091 non-null  object  \n",
            " 13  postal_code                132091 non-null  int64   \n",
            " 14  iso_country_code           132091 non-null  object  \n",
            " 15  phone_number               101471 non-null  float64 \n",
            " 16  open_hours                 69805 non-null   object  \n",
            " 17  category_tags              19974 non-null   object  \n",
            " 18  geometry                   132091 non-null  geometry\n",
            " 19  GEOID                      132091 non-null  object  \n",
            " 20  naics_2digit               132091 non-null  int64   \n",
            "dtypes: float64(4), geometry(1), int64(2), object(14)\n",
            "memory usage: 27.2+ MB\n"
          ],
          "name": "stdout"
        }
      ]
    },
    {
      "cell_type": "code",
      "metadata": {
        "id": "HiQ-U065UjFD",
        "colab_type": "code",
        "colab": {
          "base_uri": "https://localhost:8080/",
          "height": 390
        },
        "outputId": "9edfc82e-16c1-4fc4-981c-eecd421bad24"
      },
      "source": [
        "naics_summary = place_gdf_target.naics_code.value_counts()\n",
        "naics_summary.head(20)"
      ],
      "execution_count": 47,
      "outputs": [
        {
          "output_type": "execute_result",
          "data": {
            "text/plain": [
              "722511.0    13331\n",
              "621111.0     6470\n",
              "812112.0     5309\n",
              "621210.0     4653\n",
              "813110.0     4193\n",
              "722513.0     3958\n",
              "712190.0     3918\n",
              "524210.0     3847\n",
              "713940.0     3787\n",
              "611110.0     3428\n",
              "722515.0     3415\n",
              "522110.0     3215\n",
              "811111.0     2834\n",
              "624410.0     2694\n",
              "447110.0     2415\n",
              "445110.0     2232\n",
              "621330.0     2016\n",
              "812199.0     1939\n",
              "812113.0     1706\n",
              "621310.0     1557\n",
              "Name: naics_code, dtype: int64"
            ]
          },
          "metadata": {
            "tags": []
          },
          "execution_count": 47
        }
      ]
    },
    {
      "cell_type": "code",
      "metadata": {
        "id": "9wYhQxOwCnDW",
        "colab_type": "code",
        "colab": {
          "base_uri": "https://localhost:8080/",
          "height": 461
        },
        "outputId": "f4a41a96-5778-4976-c7eb-88a7eddd35cb"
      },
      "source": [
        "naics_2digit_summary = place_gdf_target.naics_2digit.value_counts()\n",
        "naics_2digit_summary"
      ],
      "execution_count": 50,
      "outputs": [
        {
          "output_type": "execute_result",
          "data": {
            "text/plain": [
              "72    21924\n",
              "44    21850\n",
              "62    21568\n",
              "81    20696\n",
              "52     9647\n",
              "71     9014\n",
              "45     8074\n",
              "61     4885\n",
              "53     2871\n",
              "54     2180\n",
              "51     2122\n",
              "0      1807\n",
              "56     1043\n",
              "92      940\n",
              "31      853\n",
              "49      791\n",
              "48      665\n",
              "42      535\n",
              "33      237\n",
              "23      169\n",
              "32      153\n",
              "22       59\n",
              "11        6\n",
              "6         2\n",
              "Name: naics_2digit, dtype: int64"
            ]
          },
          "metadata": {
            "tags": []
          },
          "execution_count": 50
        }
      ]
    },
    {
      "cell_type": "code",
      "metadata": {
        "id": "ii3JS1hmVLYh",
        "colab_type": "code",
        "colab": {
          "base_uri": "https://localhost:8080/",
          "height": 390
        },
        "outputId": "7d907c87-0137-4542-93ce-569e48de4ed7"
      },
      "source": [
        "cbg_summary = place_gdf_target.GEOID.value_counts()\n",
        "cbg_summary.head(20)"
      ],
      "execution_count": 21,
      "outputs": [
        {
          "output_type": "execute_result",
          "data": {
            "text/plain": [
              "170318391001    1237\n",
              "170318046033     709\n",
              "170313204001     505\n",
              "170313201002     393\n",
              "170313201001     381\n",
              "170318015001     358\n",
              "170438446011     322\n",
              "170938901011     285\n",
              "170318069001     284\n",
              "170898526013     272\n",
              "170310817002     264\n",
              "170318330001     264\n",
              "170318422001     260\n",
              "170318391002     258\n",
              "171118713064     256\n",
              "170317707001     253\n",
              "170310814011     251\n",
              "170438465042     243\n",
              "170318016011     237\n",
              "170438465192     236\n",
              "Name: GEOID, dtype: int64"
            ]
          },
          "metadata": {
            "tags": []
          },
          "execution_count": 21
        }
      ]
    },
    {
      "cell_type": "markdown",
      "metadata": {
        "id": "MTsj8sgUVvPr",
        "colab_type": "text"
      },
      "source": [
        "## Generate the IL places file"
      ]
    },
    {
      "cell_type": "code",
      "metadata": {
        "id": "zHZhPfraVzts",
        "colab_type": "code",
        "colab": {}
      },
      "source": [
        "file_name = 'core_places_IL'\n",
        "place_gdf_target.to_file(file_name + '.geojson', driver='GeoJSON')"
      ],
      "execution_count": null,
      "outputs": []
    },
    {
      "cell_type": "code",
      "metadata": {
        "id": "ktqvyVK0XE-r",
        "colab_type": "code",
        "colab": {}
      },
      "source": [
        "# also to a plain csv file\n",
        "pd.DataFrame(place_gdf_target.drop(columns='geometry')).to_csv(file_name + '.csv')"
      ],
      "execution_count": null,
      "outputs": []
    },
    {
      "cell_type": "code",
      "metadata": {
        "id": "LtVjEscpWL-v",
        "colab_type": "code",
        "colab": {
          "base_uri": "https://localhost:8080/",
          "height": 35
        },
        "outputId": "5d1f6820-d50a-43ca-a4fa-9b98daf79165"
      },
      "source": [
        "# copy to google Drive\n",
        "copyfile(file_name + '.geojson', \"drive/My Drive/SafeGraph/places/\" + file_name + '.geojson')\n",
        "copyfile(file_name + '.csv', \"drive/My Drive/SafeGraph/places/\" + file_name + '.csv')"
      ],
      "execution_count": null,
      "outputs": [
        {
          "output_type": "execute_result",
          "data": {
            "application/vnd.google.colaboratory.intrinsic+json": {
              "type": "string"
            },
            "text/plain": [
              "'drive/My Drive/SafeGraph/places/core_places_IL.csv'"
            ]
          },
          "metadata": {
            "tags": []
          },
          "execution_count": 90
        }
      ]
    },
    {
      "cell_type": "code",
      "metadata": {
        "id": "uAKx_029S4uu",
        "colab_type": "code",
        "colab": {}
      },
      "source": [
        ""
      ],
      "execution_count": null,
      "outputs": []
    }
  ]
}