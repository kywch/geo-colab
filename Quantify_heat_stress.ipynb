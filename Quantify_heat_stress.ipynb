{
  "nbformat": 4,
  "nbformat_minor": 0,
  "metadata": {
    "colab": {
      "name": "Quantify_heat_stress.ipynb",
      "provenance": [],
      "toc_visible": true,
      "authorship_tag": "ABX9TyPc9K2af7/LUvI9bVI1c/SZ",
      "include_colab_link": true
    },
    "kernelspec": {
      "name": "python3",
      "display_name": "Python 3"
    }
  },
  "cells": [
    {
      "cell_type": "markdown",
      "metadata": {
        "id": "view-in-github",
        "colab_type": "text"
      },
      "source": [
        "<a href=\"https://colab.research.google.com/github/kywch/geo-colab/blob/master/Quantify_heat_stress.ipynb\" target=\"_parent\"><img src=\"https://colab.research.google.com/assets/colab-badge.svg\" alt=\"Open In Colab\"/></a>"
      ]
    },
    {
      "cell_type": "markdown",
      "metadata": {
        "id": "XZjcAVZdkPd6"
      },
      "source": [
        "# Project title: Prioritizing urban green infrastructure to reduce heat stress\n",
        "\n",
        "Our planet is becoming increasingly warmer, more populated, and more urbanized. Due to global warming, deadly heat waves are becoming more common, and heat stresses (e.g., on mobidity and mortality) are exacerbated in cities because cities are warmer than surrounding rural areas. Unfortunately, heat waves hit disproportionately vulnerable people who cannot afford air conditioning.\n",
        "\n",
        "My current lab ([Environmental Neuroscience Lab](https://enl.uchicago.edu/)) is using a city-scale agent-based modeling approach to simulate people's aggressive behavior under heat stress. Agent-based modeling forces us to uncover unknowns and specify our assumptions.  \n",
        "\n",
        "In this exercise, I aim to (1) quantify individual agents' cumulative heat stress and (2) aggregate by census tracts by combining the high spatio-temporal land surface temperature (LST) images (courtesy of [Dr. Glynn Hulley @ NASA JPL](https://science.jpl.nasa.gov/people/Hulley/)) with [the Chicago Social Interaction Model (chiSIM)](https://github.com/Repast/chiSIM)'s 3 million synthetic population (courtesy of [Dr. Jonathan Ozik @ Argonne National Lab](https://www.anl.gov/profile/jonathan-ozik)). \n",
        "\n",
        "This notebook consists of \n",
        "* [Installing and loading necessary libraries](#install_libs)\n",
        "* [Loading and inspecting the 24-hour LST data](#load_LST_data)\n",
        "* [Loading the Chicago synthetic population](#load_synthpop_data)\n",
        "* [Calculating a single agent's 24-hour heat exposure](#calculate_heat_stress)\n",
        "* [Sampling 100 agents for each zipcode and calculating their heat exposure](#sample_zipcode_agents)\n",
        "* [Aggregating and visualizing the results by zipcode](#aggregate_by_zipcode)\n",
        "* [Limitations and future directions](#limitations)\n",
        "\n",
        "\n"
      ]
    },
    {
      "cell_type": "markdown",
      "metadata": {
        "id": "PD55Dj0axuSq"
      },
      "source": [
        "# Installing and loading necessary libraries <a name='install_libs'></a>"
      ]
    },
    {
      "cell_type": "code",
      "metadata": {
        "id": "azJoU9sLkPD6"
      },
      "source": [
        ""
      ],
      "execution_count": null,
      "outputs": []
    },
    {
      "cell_type": "code",
      "metadata": {
        "id": "Szu6Rx2HkPGz"
      },
      "source": [
        ""
      ],
      "execution_count": null,
      "outputs": []
    },
    {
      "cell_type": "markdown",
      "metadata": {
        "id": "M_XBR4m7vsNh"
      },
      "source": [
        "# Loading and inspecting the 24-hour LST data <a name='load_LST_data'></a>"
      ]
    },
    {
      "cell_type": "code",
      "metadata": {
        "id": "r0sr66CavxHO"
      },
      "source": [
        ""
      ],
      "execution_count": null,
      "outputs": []
    },
    {
      "cell_type": "code",
      "metadata": {
        "id": "-UruO38hvxLW"
      },
      "source": [
        ""
      ],
      "execution_count": null,
      "outputs": []
    },
    {
      "cell_type": "code",
      "metadata": {
        "id": "7Fi1u3VHvxEF"
      },
      "source": [
        ""
      ],
      "execution_count": null,
      "outputs": []
    },
    {
      "cell_type": "markdown",
      "metadata": {
        "id": "_BFHFDORvuU_"
      },
      "source": [
        "# Loading the Chicago synthetic population <a name='load_synthpop_data'></a>"
      ]
    },
    {
      "cell_type": "code",
      "metadata": {
        "id": "Gr12yIWwvyAX"
      },
      "source": [
        ""
      ],
      "execution_count": null,
      "outputs": []
    },
    {
      "cell_type": "code",
      "metadata": {
        "id": "dDRnuBrsvyPW"
      },
      "source": [
        ""
      ],
      "execution_count": null,
      "outputs": []
    },
    {
      "cell_type": "code",
      "metadata": {
        "id": "Swj8qCPIvx8W"
      },
      "source": [
        ""
      ],
      "execution_count": null,
      "outputs": []
    },
    {
      "cell_type": "markdown",
      "metadata": {
        "id": "mm7MRNWEvsmG"
      },
      "source": [
        "# Calculating a single agent's 24-hour heat exposure <a name='calculate_heat_stress'></a>"
      ]
    },
    {
      "cell_type": "code",
      "metadata": {
        "id": "FLE_qRC1vy3m"
      },
      "source": [
        ""
      ],
      "execution_count": null,
      "outputs": []
    },
    {
      "cell_type": "code",
      "metadata": {
        "id": "nIFOa9QTvzet"
      },
      "source": [
        ""
      ],
      "execution_count": null,
      "outputs": []
    },
    {
      "cell_type": "code",
      "metadata": {
        "id": "wlqUULtRvz5V"
      },
      "source": [
        ""
      ],
      "execution_count": null,
      "outputs": []
    },
    {
      "cell_type": "markdown",
      "metadata": {
        "id": "UEah6u61vs-w"
      },
      "source": [
        "# Sampling 100 agents for each zipcode and calculating their heat exposure <a name='sample_zipcode_agents'></a>"
      ]
    },
    {
      "cell_type": "code",
      "metadata": {
        "id": "9IC8-pokv0fO"
      },
      "source": [
        ""
      ],
      "execution_count": null,
      "outputs": []
    },
    {
      "cell_type": "code",
      "metadata": {
        "id": "PffYRxNhv1q_"
      },
      "source": [
        ""
      ],
      "execution_count": null,
      "outputs": []
    },
    {
      "cell_type": "code",
      "metadata": {
        "id": "RDDdl6fgv1d-"
      },
      "source": [
        ""
      ],
      "execution_count": null,
      "outputs": []
    },
    {
      "cell_type": "markdown",
      "metadata": {
        "id": "HCXoXxJErZIG"
      },
      "source": [
        "# Aggregating and visualizing the results by zipcode <a name='aggregate_by_zipcode'></a>"
      ]
    },
    {
      "cell_type": "code",
      "metadata": {
        "id": "clexJ0KHv2em"
      },
      "source": [
        ""
      ],
      "execution_count": null,
      "outputs": []
    },
    {
      "cell_type": "code",
      "metadata": {
        "id": "I5pVuPZov2u-"
      },
      "source": [
        ""
      ],
      "execution_count": null,
      "outputs": []
    },
    {
      "cell_type": "code",
      "metadata": {
        "id": "virTxLpJv2SN"
      },
      "source": [
        ""
      ],
      "execution_count": null,
      "outputs": []
    },
    {
      "cell_type": "markdown",
      "metadata": {
        "id": "7oyEz-H3rbIl"
      },
      "source": [
        "# Limitations and future directions <a name='limitations'></a>"
      ]
    },
    {
      "cell_type": "code",
      "metadata": {
        "id": "7ViQceOLv382"
      },
      "source": [
        ""
      ],
      "execution_count": null,
      "outputs": []
    },
    {
      "cell_type": "code",
      "metadata": {
        "id": "np2NUj0bv3pd"
      },
      "source": [
        ""
      ],
      "execution_count": null,
      "outputs": []
    },
    {
      "cell_type": "code",
      "metadata": {
        "id": "UzBsH7bNkPKC"
      },
      "source": [
        ""
      ],
      "execution_count": null,
      "outputs": []
    }
  ]
}