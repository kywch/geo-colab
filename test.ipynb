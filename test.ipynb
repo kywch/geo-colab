{
  "nbformat": 4,
  "nbformat_minor": 0,
  "metadata": {
    "colab": {
      "name": "Untitled0.ipynb",
      "provenance": [],
      "toc_visible": true,
      "authorship_tag": "ABX9TyMODiiZgmeqQRsPZVZkO5wl",
      "include_colab_link": true
    },
    "kernelspec": {
      "name": "python3",
      "display_name": "Python 3"
    }
  },
  "cells": [
    {
      "cell_type": "markdown",
      "metadata": {
        "id": "view-in-github",
        "colab_type": "text"
      },
      "source": [
        "<a href=\"https://colab.research.google.com/github/kywch/geo-colab/blob/master/test.ipynb\" target=\"_parent\"><img src=\"https://colab.research.google.com/assets/colab-badge.svg\" alt=\"Open In Colab\"/></a>"
      ]
    },
    {
      "cell_type": "code",
      "metadata": {
        "id": "fHTucYx7c4RR",
        "colab_type": "code",
        "colab": {
          "base_uri": "https://localhost:8080/",
          "height": 921
        },
        "outputId": "e097ce5c-aeec-4f34-fabd-9d0d031efa25"
      },
      "source": [
        "# Install GDAL and Geopandas\n",
        "!apt install gdal-bin python-gdal python3-gdal --quiet\n",
        "!apt install python3-rtree --quiet\n",
        "!pip install git+git://github.com/geopandas/geopandas.git --quiet\n",
        "!pip install descartes --quiet\n",
        "!pip install osmnx==0.10\n",
        "!pip install folium\n"
      ],
      "execution_count": 33,
      "outputs": [
        {
          "output_type": "stream",
          "text": [
            "Reading package lists...\n",
            "Building dependency tree...\n",
            "Reading state information...\n",
            "gdal-bin is already the newest version (2.2.3+dfsg-2).\n",
            "python-gdal is already the newest version (2.2.3+dfsg-2).\n",
            "python3-gdal is already the newest version (2.2.3+dfsg-2).\n",
            "0 upgraded, 0 newly installed, 0 to remove and 31 not upgraded.\n",
            "Reading package lists...\n",
            "Building dependency tree...\n",
            "Reading state information...\n",
            "python3-rtree is already the newest version (0.8.3+ds-1).\n",
            "0 upgraded, 0 newly installed, 0 to remove and 31 not upgraded.\n",
            "  Building wheel for geopandas (setup.py) ... \u001b[?25l\u001b[?25hdone\n",
            "Requirement already satisfied: osmnx==0.10 in /usr/local/lib/python3.6/dist-packages (0.10)\n",
            "Requirement already satisfied: pandas>=0.24 in /usr/local/lib/python3.6/dist-packages (from osmnx==0.10) (1.0.3)\n",
            "Requirement already satisfied: Rtree>=0.8.3 in /usr/lib/python3/dist-packages (from osmnx==0.10) (0.8.3)\n",
            "Requirement already satisfied: geopandas>=0.5 in /usr/local/lib/python3.6/dist-packages (from osmnx==0.10) (0.7.0+63.g19b6997)\n",
            "Requirement already satisfied: networkx>=2.3 in /usr/local/lib/python3.6/dist-packages (from osmnx==0.10) (2.4)\n",
            "Requirement already satisfied: Shapely>=1.6 in /usr/local/lib/python3.6/dist-packages (from osmnx==0.10) (1.7.0)\n",
            "Requirement already satisfied: numpy>=1.16 in /usr/local/lib/python3.6/dist-packages (from osmnx==0.10) (1.18.4)\n",
            "Requirement already satisfied: matplotlib>=2.2 in /usr/local/lib/python3.6/dist-packages (from osmnx==0.10) (3.2.1)\n",
            "Requirement already satisfied: requests>=2.21 in /usr/local/lib/python3.6/dist-packages (from osmnx==0.10) (2.23.0)\n",
            "Requirement already satisfied: descartes>=1.1 in /usr/local/lib/python3.6/dist-packages (from osmnx==0.10) (1.1.0)\n",
            "Requirement already satisfied: python-dateutil>=2.6.1 in /usr/local/lib/python3.6/dist-packages (from pandas>=0.24->osmnx==0.10) (2.8.1)\n",
            "Requirement already satisfied: pytz>=2017.2 in /usr/local/lib/python3.6/dist-packages (from pandas>=0.24->osmnx==0.10) (2018.9)\n",
            "Requirement already satisfied: pyproj>=2.2.0 in /usr/local/lib/python3.6/dist-packages (from geopandas>=0.5->osmnx==0.10) (2.6.1.post1)\n",
            "Requirement already satisfied: fiona in /usr/local/lib/python3.6/dist-packages (from geopandas>=0.5->osmnx==0.10) (1.8.13.post1)\n",
            "Requirement already satisfied: decorator>=4.3.0 in /usr/local/lib/python3.6/dist-packages (from networkx>=2.3->osmnx==0.10) (4.4.2)\n",
            "Requirement already satisfied: pyparsing!=2.0.4,!=2.1.2,!=2.1.6,>=2.0.1 in /usr/local/lib/python3.6/dist-packages (from matplotlib>=2.2->osmnx==0.10) (2.4.7)\n",
            "Requirement already satisfied: cycler>=0.10 in /usr/local/lib/python3.6/dist-packages (from matplotlib>=2.2->osmnx==0.10) (0.10.0)\n",
            "Requirement already satisfied: kiwisolver>=1.0.1 in /usr/local/lib/python3.6/dist-packages (from matplotlib>=2.2->osmnx==0.10) (1.2.0)\n",
            "Requirement already satisfied: chardet<4,>=3.0.2 in /usr/local/lib/python3.6/dist-packages (from requests>=2.21->osmnx==0.10) (3.0.4)\n",
            "Requirement already satisfied: certifi>=2017.4.17 in /usr/local/lib/python3.6/dist-packages (from requests>=2.21->osmnx==0.10) (2020.4.5.1)\n",
            "Requirement already satisfied: idna<3,>=2.5 in /usr/local/lib/python3.6/dist-packages (from requests>=2.21->osmnx==0.10) (2.9)\n",
            "Requirement already satisfied: urllib3!=1.25.0,!=1.25.1,<1.26,>=1.21.1 in /usr/local/lib/python3.6/dist-packages (from requests>=2.21->osmnx==0.10) (1.24.3)\n",
            "Requirement already satisfied: six>=1.5 in /usr/local/lib/python3.6/dist-packages (from python-dateutil>=2.6.1->pandas>=0.24->osmnx==0.10) (1.12.0)\n",
            "Requirement already satisfied: munch in /usr/local/lib/python3.6/dist-packages (from fiona->geopandas>=0.5->osmnx==0.10) (2.5.0)\n",
            "Requirement already satisfied: click<8,>=4.0 in /usr/local/lib/python3.6/dist-packages (from fiona->geopandas>=0.5->osmnx==0.10) (7.1.2)\n",
            "Requirement already satisfied: attrs>=17 in /usr/local/lib/python3.6/dist-packages (from fiona->geopandas>=0.5->osmnx==0.10) (19.3.0)\n",
            "Requirement already satisfied: cligj>=0.5 in /usr/local/lib/python3.6/dist-packages (from fiona->geopandas>=0.5->osmnx==0.10) (0.5.0)\n",
            "Requirement already satisfied: click-plugins>=1.0 in /usr/local/lib/python3.6/dist-packages (from fiona->geopandas>=0.5->osmnx==0.10) (1.1.1)\n",
            "Requirement already satisfied: folium in /usr/local/lib/python3.6/dist-packages (0.8.3)\n",
            "Requirement already satisfied: jinja2 in /usr/local/lib/python3.6/dist-packages (from folium) (2.11.2)\n",
            "Requirement already satisfied: requests in /usr/local/lib/python3.6/dist-packages (from folium) (2.23.0)\n",
            "Requirement already satisfied: branca>=0.3.0 in /usr/local/lib/python3.6/dist-packages (from folium) (0.4.1)\n",
            "Requirement already satisfied: six in /usr/local/lib/python3.6/dist-packages (from folium) (1.12.0)\n",
            "Requirement already satisfied: numpy in /usr/local/lib/python3.6/dist-packages (from folium) (1.18.4)\n",
            "Requirement already satisfied: MarkupSafe>=0.23 in /usr/local/lib/python3.6/dist-packages (from jinja2->folium) (1.1.1)\n",
            "Requirement already satisfied: chardet<4,>=3.0.2 in /usr/local/lib/python3.6/dist-packages (from requests->folium) (3.0.4)\n",
            "Requirement already satisfied: idna<3,>=2.5 in /usr/local/lib/python3.6/dist-packages (from requests->folium) (2.9)\n",
            "Requirement already satisfied: urllib3!=1.25.0,!=1.25.1,<1.26,>=1.21.1 in /usr/local/lib/python3.6/dist-packages (from requests->folium) (1.24.3)\n",
            "Requirement already satisfied: certifi>=2017.4.17 in /usr/local/lib/python3.6/dist-packages (from requests->folium) (2020.4.5.1)\n"
          ],
          "name": "stdout"
        }
      ]
    },
    {
      "cell_type": "code",
      "metadata": {
        "id": "aIPHep_VdSA0",
        "colab_type": "code",
        "colab": {}
      },
      "source": [
        "import pandas as pd\n",
        "import geopandas as gpd\n",
        "import osmnx as ox\n",
        "import folium\n",
        "import matplotlib.pyplot as plt\n",
        "import seaborn as sns\n",
        "\n",
        "from fiona.crs import from_epsg\n",
        "from shapely.geometry import Point\n",
        "\n",
        "import requests"
      ],
      "execution_count": 0,
      "outputs": []
    },
    {
      "cell_type": "markdown",
      "metadata": {
        "id": "W0FXRiJfhp2M",
        "colab_type": "text"
      },
      "source": [
        "Census tract GeoJSON files are available from\n",
        "https://github.com/loganpowell/census-geojson\n",
        "\n",
        "So, we just directly retrieve GeoJSON file from this GitHub"
      ]
    },
    {
      "cell_type": "code",
      "metadata": {
        "id": "YbWtIQ-XeamH",
        "colab_type": "code",
        "colab": {}
      },
      "source": [
        "gtr = gpd.read_file('https://raw.githubusercontent.com/loganpowell/census-geojson/master/GeoJSON/500k/2019/17/tract.json', \n",
        "                   crs = from_epsg(2163)).to_crs(epsg = 3528)"
      ],
      "execution_count": 0,
      "outputs": []
    },
    {
      "cell_type": "code",
      "metadata": {
        "id": "yPQA7syregKf",
        "colab_type": "code",
        "colab": {}
      },
      "source": [
        "# select Cook county\n",
        "gtr = gtr[gtr.COUNTYFP == '031']"
      ],
      "execution_count": 0,
      "outputs": []
    },
    {
      "cell_type": "code",
      "metadata": {
        "id": "y1QNXMJNeiIn",
        "colab_type": "code",
        "colab": {
          "base_uri": "https://localhost:8080/",
          "height": 306
        },
        "outputId": "c0ddc175-ea75-46ec-ee7c-01c97800ebde"
      },
      "source": [
        "gtr.info()"
      ],
      "execution_count": 58,
      "outputs": [
        {
          "output_type": "stream",
          "text": [
            "<class 'geopandas.geodataframe.GeoDataFrame'>\n",
            "Int64Index: 1318 entries, 0 to 3120\n",
            "Data columns (total 10 columns):\n",
            " #   Column    Non-Null Count  Dtype   \n",
            "---  ------    --------------  -----   \n",
            " 0   STATEFP   1318 non-null   object  \n",
            " 1   COUNTYFP  1318 non-null   object  \n",
            " 2   TRACTCE   1318 non-null   object  \n",
            " 3   AFFGEOID  1318 non-null   object  \n",
            " 4   GEOID     1318 non-null   object  \n",
            " 5   NAME      1318 non-null   object  \n",
            " 6   LSAD      1318 non-null   object  \n",
            " 7   ALAND     1318 non-null   int64   \n",
            " 8   AWATER    1318 non-null   int64   \n",
            " 9   geometry  1318 non-null   geometry\n",
            "dtypes: geometry(1), int64(2), object(7)\n",
            "memory usage: 113.3+ KB\n"
          ],
          "name": "stdout"
        }
      ]
    },
    {
      "cell_type": "markdown",
      "metadata": {
        "id": "LLHmv1ZIkR9q",
        "colab_type": "text"
      },
      "source": [
        "Let's limit our analysis to Chicago. To do that, we need to download the Chicago boundary shapefile.\n",
        "\n",
        "GeoJSON is available at https://data.cityofchicago.org/Facilities-Geographic-Boundaries/Boundaries-City/ewy2-6yfk via https://data.cityofchicago.org/api/geospatial/ewy2-6yfk?method=export&format=GeoJSON"
      ]
    },
    {
      "cell_type": "code",
      "metadata": {
        "id": "eUhL2B0hkcaD",
        "colab_type": "code",
        "colab": {}
      },
      "source": [
        "chi_bound = gpd.read_file('https://data.cityofchicago.org/api/geospatial/ewy2-6yfk?method=export&format=GeoJSON', \n",
        "                   crs = from_epsg(2163)).to_crs(epsg = 3528)"
      ],
      "execution_count": 0,
      "outputs": []
    },
    {
      "cell_type": "code",
      "metadata": {
        "id": "XAyblHjMk5aO",
        "colab_type": "code",
        "colab": {
          "base_uri": "https://localhost:8080/",
          "height": 80
        },
        "outputId": "9c7ab6e9-7201-4007-9cc0-4c7a1c6f0501"
      },
      "source": [
        "chi_bound"
      ],
      "execution_count": 43,
      "outputs": [
        {
          "output_type": "execute_result",
          "data": {
            "text/html": [
              "<div>\n",
              "<style scoped>\n",
              "    .dataframe tbody tr th:only-of-type {\n",
              "        vertical-align: middle;\n",
              "    }\n",
              "\n",
              "    .dataframe tbody tr th {\n",
              "        vertical-align: top;\n",
              "    }\n",
              "\n",
              "    .dataframe thead th {\n",
              "        text-align: right;\n",
              "    }\n",
              "</style>\n",
              "<table border=\"1\" class=\"dataframe\">\n",
              "  <thead>\n",
              "    <tr style=\"text-align: right;\">\n",
              "      <th></th>\n",
              "      <th>name</th>\n",
              "      <th>objectid</th>\n",
              "      <th>shape_area</th>\n",
              "      <th>shape_len</th>\n",
              "      <th>geometry</th>\n",
              "    </tr>\n",
              "  </thead>\n",
              "  <tbody>\n",
              "    <tr>\n",
              "      <th>0</th>\n",
              "      <td>CHICAGO</td>\n",
              "      <td>1</td>\n",
              "      <td>6450276623.31</td>\n",
              "      <td>845282.931362</td>\n",
              "      <td>MULTIPOLYGON (((332989.045 592278.070, 332983....</td>\n",
              "    </tr>\n",
              "  </tbody>\n",
              "</table>\n",
              "</div>"
            ],
            "text/plain": [
              "      name  ...                                           geometry\n",
              "0  CHICAGO  ...  MULTIPOLYGON (((332989.045 592278.070, 332983....\n",
              "\n",
              "[1 rows x 5 columns]"
            ]
          },
          "metadata": {
            "tags": []
          },
          "execution_count": 43
        }
      ]
    },
    {
      "cell_type": "code",
      "metadata": {
        "id": "TEjVr-Q7lAbZ",
        "colab_type": "code",
        "colab": {}
      },
      "source": [
        "gtr = gpd.sjoin(gtr, chi_bound, \n",
        "                op='intersects').drop(\"index_right\", axis = 1)"
      ],
      "execution_count": 0,
      "outputs": []
    },
    {
      "cell_type": "code",
      "metadata": {
        "id": "FJ8vx1lOl2tt",
        "colab_type": "code",
        "colab": {
          "base_uri": "https://localhost:8080/",
          "height": 374
        },
        "outputId": "bf91dfea-faf8-42cc-c42d-8a7636afab69"
      },
      "source": [
        "gtr.info()"
      ],
      "execution_count": 61,
      "outputs": [
        {
          "output_type": "stream",
          "text": [
            "<class 'geopandas.geodataframe.GeoDataFrame'>\n",
            "Int64Index: 870 entries, 1 to 3120\n",
            "Data columns (total 14 columns):\n",
            " #   Column      Non-Null Count  Dtype   \n",
            "---  ------      --------------  -----   \n",
            " 0   STATEFP     870 non-null    object  \n",
            " 1   COUNTYFP    870 non-null    object  \n",
            " 2   TRACTCE     870 non-null    object  \n",
            " 3   AFFGEOID    870 non-null    object  \n",
            " 4   GEOID       870 non-null    object  \n",
            " 5   NAME        870 non-null    object  \n",
            " 6   LSAD        870 non-null    object  \n",
            " 7   ALAND       870 non-null    int64   \n",
            " 8   AWATER      870 non-null    int64   \n",
            " 9   geometry    870 non-null    geometry\n",
            " 10  name        870 non-null    object  \n",
            " 11  objectid    870 non-null    object  \n",
            " 12  shape_area  870 non-null    object  \n",
            " 13  shape_len   870 non-null    object  \n",
            "dtypes: geometry(1), int64(2), object(11)\n",
            "memory usage: 102.0+ KB\n"
          ],
          "name": "stdout"
        }
      ]
    },
    {
      "cell_type": "markdown",
      "metadata": {
        "id": "A5kxzBUYieEb",
        "colab_type": "text"
      },
      "source": [
        "Let's get the population info"
      ]
    },
    {
      "cell_type": "code",
      "metadata": {
        "id": "4PKNywY4f4V5",
        "colab_type": "code",
        "colab": {}
      },
      "source": [
        "json = requests.get(\"https://api.census.gov/data/2018/acs/acs5/\" + \n",
        "                    \"?get=B01001_001E&for=tract:*&in=state:17\").json()\n",
        "\n",
        "pops = pd.DataFrame(columns = json[0], data = json[1:])\n",
        "pops = pops[pops.county == \"031\"]"
      ],
      "execution_count": 0,
      "outputs": []
    },
    {
      "cell_type": "code",
      "metadata": {
        "id": "XQjSTCnPik63",
        "colab_type": "code",
        "colab": {
          "base_uri": "https://localhost:8080/",
          "height": 204
        },
        "outputId": "8fb417b4-4192-40dc-8f2c-36e1eb15787f"
      },
      "source": [
        "pops.head()"
      ],
      "execution_count": 63,
      "outputs": [
        {
          "output_type": "execute_result",
          "data": {
            "text/html": [
              "<div>\n",
              "<style scoped>\n",
              "    .dataframe tbody tr th:only-of-type {\n",
              "        vertical-align: middle;\n",
              "    }\n",
              "\n",
              "    .dataframe tbody tr th {\n",
              "        vertical-align: top;\n",
              "    }\n",
              "\n",
              "    .dataframe thead th {\n",
              "        text-align: right;\n",
              "    }\n",
              "</style>\n",
              "<table border=\"1\" class=\"dataframe\">\n",
              "  <thead>\n",
              "    <tr style=\"text-align: right;\">\n",
              "      <th></th>\n",
              "      <th>B01001_001E</th>\n",
              "      <th>state</th>\n",
              "      <th>county</th>\n",
              "      <th>tract</th>\n",
              "    </tr>\n",
              "  </thead>\n",
              "  <tbody>\n",
              "    <tr>\n",
              "      <th>19</th>\n",
              "      <td>5391</td>\n",
              "      <td>17</td>\n",
              "      <td>031</td>\n",
              "      <td>310900</td>\n",
              "    </tr>\n",
              "    <tr>\n",
              "      <th>20</th>\n",
              "      <td>1659</td>\n",
              "      <td>17</td>\n",
              "      <td>031</td>\n",
              "      <td>420500</td>\n",
              "    </tr>\n",
              "    <tr>\n",
              "      <th>21</th>\n",
              "      <td>2756</td>\n",
              "      <td>17</td>\n",
              "      <td>031</td>\n",
              "      <td>430400</td>\n",
              "    </tr>\n",
              "    <tr>\n",
              "      <th>22</th>\n",
              "      <td>1920</td>\n",
              "      <td>17</td>\n",
              "      <td>031</td>\n",
              "      <td>430600</td>\n",
              "    </tr>\n",
              "    <tr>\n",
              "      <th>23</th>\n",
              "      <td>2547</td>\n",
              "      <td>17</td>\n",
              "      <td>031</td>\n",
              "      <td>440900</td>\n",
              "    </tr>\n",
              "  </tbody>\n",
              "</table>\n",
              "</div>"
            ],
            "text/plain": [
              "   B01001_001E state county   tract\n",
              "19        5391    17    031  310900\n",
              "20        1659    17    031  420500\n",
              "21        2756    17    031  430400\n",
              "22        1920    17    031  430600\n",
              "23        2547    17    031  440900"
            ]
          },
          "metadata": {
            "tags": []
          },
          "execution_count": 63
        }
      ]
    },
    {
      "cell_type": "code",
      "metadata": {
        "id": "HgtXBQdXimnX",
        "colab_type": "code",
        "colab": {}
      },
      "source": [
        "pops[\"GEOID\"] = (pops[\"state\"] + pops[\"county\"] + pops[\"tract\"])\n",
        "pops[\"res\"] = pops[\"B01001_001E\"].astype(int)\n",
        "\n",
        "pops = pops[[\"GEOID\", \"res\"]]"
      ],
      "execution_count": 0,
      "outputs": []
    },
    {
      "cell_type": "code",
      "metadata": {
        "id": "0aw0wtODiopt",
        "colab_type": "code",
        "colab": {}
      },
      "source": [
        "def map_format(ax, on = False):\n",
        "    \n",
        "    plt.subplots_adjust(top = 1, bottom = 0, right = 1, left = 0, hspace = 0, wspace = 0)\n",
        "    plt.margins(0,0)\n",
        "    ax.xaxis.set_major_locator(plt.NullLocator())\n",
        "    ax.yaxis.set_major_locator(plt.NullLocator())\n",
        "    \n",
        "    if not on:\n",
        "        ax.set_axis_off()\n",
        "        ax.set_axis_on()\n",
        "        for a in [\"bottom\", \"top\", \"right\", \"left\"]:\n",
        "            ax.spines[a].set_linewidth(0)\n",
        "    \n",
        "    return ax"
      ],
      "execution_count": 0,
      "outputs": []
    },
    {
      "cell_type": "code",
      "metadata": {
        "id": "orF5iqM4is8f",
        "colab_type": "code",
        "colab": {}
      },
      "source": [
        "pop_gdf = pd.merge(gtr, pops, \n",
        "                   left_on = \"GEOID\", right_on=\"GEOID\", how = \"left\")"
      ],
      "execution_count": 0,
      "outputs": []
    },
    {
      "cell_type": "code",
      "metadata": {
        "id": "GOL-TAN6jaeO",
        "colab_type": "code",
        "colab": {
          "base_uri": "https://localhost:8080/",
          "height": 391
        },
        "outputId": "8a8ae390-0bcb-49e9-d194-d87cd48130ec"
      },
      "source": [
        "pop_gdf.info()"
      ],
      "execution_count": 67,
      "outputs": [
        {
          "output_type": "stream",
          "text": [
            "<class 'geopandas.geodataframe.GeoDataFrame'>\n",
            "Int64Index: 870 entries, 0 to 869\n",
            "Data columns (total 15 columns):\n",
            " #   Column      Non-Null Count  Dtype   \n",
            "---  ------      --------------  -----   \n",
            " 0   STATEFP     870 non-null    object  \n",
            " 1   COUNTYFP    870 non-null    object  \n",
            " 2   TRACTCE     870 non-null    object  \n",
            " 3   AFFGEOID    870 non-null    object  \n",
            " 4   GEOID       870 non-null    object  \n",
            " 5   NAME        870 non-null    object  \n",
            " 6   LSAD        870 non-null    object  \n",
            " 7   ALAND       870 non-null    int64   \n",
            " 8   AWATER      870 non-null    int64   \n",
            " 9   geometry    870 non-null    geometry\n",
            " 10  name        870 non-null    object  \n",
            " 11  objectid    870 non-null    object  \n",
            " 12  shape_area  870 non-null    object  \n",
            " 13  shape_len   870 non-null    object  \n",
            " 14  res         870 non-null    int64   \n",
            "dtypes: geometry(1), int64(3), object(11)\n",
            "memory usage: 108.8+ KB\n"
          ],
          "name": "stdout"
        }
      ]
    },
    {
      "cell_type": "code",
      "metadata": {
        "id": "i73Hz0Fbjb14",
        "colab_type": "code",
        "colab": {
          "base_uri": "https://localhost:8080/",
          "height": 490
        },
        "outputId": "4175f9c8-1528-409f-f23a-4561125b3804"
      },
      "source": [
        "ax = pop_gdf.plot(column = \"res\", vmin = 0, vmax = 5000, \n",
        "                  figsize = (6, 6), legend = True, cmap = \"coolwarm\")\n",
        "\n",
        "map_format(ax)"
      ],
      "execution_count": 68,
      "outputs": [
        {
          "output_type": "execute_result",
          "data": {
            "text/plain": [
              "<matplotlib.axes._subplots.AxesSubplot at 0x7fb39cc043c8>"
            ]
          },
          "metadata": {
            "tags": []
          },
          "execution_count": 68
        },
        {
          "output_type": "display_data",
          "data": {
            "image/png": "[encoded data removed]",
            "text/plain": [
              "<Figure size 432x432 with 2 Axes>"
            ]
          },
          "metadata": {
            "tags": [],
            "needs_background": "light"
          }
        }
      ]
    },
    {
      "cell_type": "code",
      "metadata": {
        "id": "53NuAb8rjqSQ",
        "colab_type": "code",
        "colab": {}
      },
      "source": [
        ""
      ],
      "execution_count": 0,
      "outputs": []
    }
  ]
}